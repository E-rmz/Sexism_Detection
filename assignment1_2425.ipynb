{
  "cells": [
    {
      "cell_type": "markdown",
      "metadata": {
        "id": "view-in-github",
        "colab_type": "text"
      },
      "source": [
        "<a href=\"https://colab.research.google.com/github/kazemihabib/nlp_assignment_1/blob/LSTM/assignment1_2425.ipynb\" target=\"_parent\"><img src=\"https://colab.research.google.com/assets/colab-badge.svg\" alt=\"Open In Colab\"/></a>"
      ]
    },
    {
      "cell_type": "markdown",
      "metadata": {
        "id": "qE4WC2_4wygJ"
      },
      "source": [
        "# Assignment 1\n",
        "**Credits**: Federico Ruggeri, Eleonora Mancini, Paolo Torroni\n",
        "\n",
        "**Keywords**: Sexism Detection, Multi-class Classification, RNNs, Transformers, Huggingface\n",
        "\n"
      ]
    },
    {
      "cell_type": "markdown",
      "metadata": {
        "id": "fL69zGpmx01k"
      },
      "source": [
        "# Contact\n",
        "For any doubt, question, issue or help, you can always contact us at the following email addresses:\n",
        "\n",
        "Teaching Assistants:\n",
        "\n",
        "- Federico Ruggeri -> federico.ruggeri6@unibo.it\n",
        "- Eleonora Mancini -> e.mancini@unibo.it\n",
        "\n",
        "Professor:\n",
        "- Paolo Torroni -> p.torroni@unibo.it"
      ]
    },
    {
      "cell_type": "markdown",
      "metadata": {
        "id": "55jnW-xKxi-2"
      },
      "source": [
        "# Introduction\n",
        "You are asked to address the [EXIST 2023 Task 1](https://clef2023.clef-initiative.eu/index.php?page=Pages/labs.html#EXIST) on sexism detection."
      ]
    },
    {
      "cell_type": "markdown",
      "metadata": {
        "id": "9HWp5bGwySsb"
      },
      "source": [
        "## Problem Definition\n",
        "The systems have to decide whether or not a given tweet contains or describes sexist expressions or behaviors (i.e., it is sexist itself, describes a sexist situation or criticizes a sexist behavior).\n",
        "\n",
        "### Examples:\n",
        "\n",
        "**Text**: *Can’t go a day without women womening*\n",
        "\n",
        "**Label**: Sexist\n",
        "\n",
        "**Text**: *''Society's set norms! Happy men's day though!#weareequal''*\n",
        "\n",
        "**Label**: Not sexist"
      ]
    },
    {
      "cell_type": "code",
      "source": [
        "from google.colab import drive\n",
        "import os\n",
        "drive.mount('/content/drive')"
      ],
      "metadata": {
        "id": "pXAmARtXB-fj",
        "outputId": "89efb72b-d3e2-4c8e-ce10-3d1ae8387c93",
        "colab": {
          "base_uri": "https://localhost:8080/"
        }
      },
      "execution_count": null,
      "outputs": [
        {
          "output_type": "stream",
          "name": "stdout",
          "text": [
            "Mounted at /content/drive\n"
          ]
        }
      ]
    },
    {
      "cell_type": "code",
      "source": [
        "import zipfile\n",
        "import os\n",
        "\n",
        "PATH_IN_G_DRIVE=\"/content/drive/MyDrive/Projects/NLP/1\"\n",
        "\n",
        "# If glove embeddings have not been downloaded already, download them to GDrive.\n",
        "download_path = os.path.join(PATH_IN_G_DRIVE, \"glove.6B.zip\")\n",
        "\n",
        "# Check if the file already exists\n",
        "if not os.path.exists(download_path):\n",
        "  # Download the GloVe embeddings\n",
        "  !wget https://nlp.stanford.edu/data/wordvecs/glove.6B.zip -O \"$download_path\"\n",
        "else:\n",
        "  print(\"File already exists at:\", download_path)\n",
        "\n",
        "\n",
        "# Copy the files in GDrive to my colab local\n",
        "!cp -r \"$PATH_IN_G_DRIVE\"/* /content/\n",
        "\n",
        "\n",
        "########## Unzip embeddings ###############\n",
        "\n",
        "zip_file_path = \"/content/glove.6B.zip\"\n",
        "\n",
        "extract_path = \"/content/glove.6B\"\n",
        "\n",
        "\n",
        "if os.path.exists(zip_file_path):\n",
        "    try:\n",
        "        with zipfile.ZipFile(zip_file_path, 'r') as zip_ref:\n",
        "            zip_ref.extractall(extract_path)\n",
        "        print(f\"Successfully extracted files from '{zip_file_path}' to '{extract_path}'\")\n",
        "    except zipfile.BadZipFile:\n",
        "        print(f\"Error: '{zip_file_path}' is not a valid zip file.\")\n",
        "else:\n",
        "    print(f\"Error: '{zip_file_path}' not found.\")"
      ],
      "metadata": {
        "colab": {
          "base_uri": "https://localhost:8080/"
        },
        "id": "yluuJK8wJWwN",
        "outputId": "342e44d2-7714-43f9-8410-1ac2aa361ab7"
      },
      "execution_count": null,
      "outputs": [
        {
          "output_type": "stream",
          "name": "stdout",
          "text": [
            "File already exists at: /content/drive/MyDrive/Projects/NLP/1/glove.6B.zip\n",
            "Successfully extracted files from '/content/glove.6B.zip' to '/content/glove.6B'\n"
          ]
        }
      ]
    },
    {
      "cell_type": "markdown",
      "metadata": {
        "id": "2iu1X4I98M8B"
      },
      "source": [
        "#[Task 1 - 1.0 points] Corpus\n",
        "\n",
        "We have preparared a small version of EXIST dataset in our dedicated [Github repository](https://github.com/lt-nlp-lab-unibo/nlp-course-material/tree/main/2024-2025/Assignment%201/data).\n",
        "\n",
        "Check the `A1/data` folder. It contains 3 `.json` files representing `training`, `validation` and `test` sets.\n",
        "\n",
        "The three sets are slightly unbalanced, with a bias toward the `Non-sexist` class.\n",
        "\n"
      ]
    },
    {
      "cell_type": "markdown",
      "metadata": {
        "id": "AASoMV9XN5l6"
      },
      "source": [
        "### Dataset Description\n",
        "- The dataset contains tweets in both English and Spanish.\n",
        "- There are labels for multiple tasks, but we are focusing on **Task 1**.\n",
        "- For Task 1, soft labels are assigned by six annotators.\n",
        "- The labels for Task 1 represent whether the tweet is sexist (\"YES\") or not (\"NO\").\n",
        "\n",
        "\n",
        "\n",
        "\n"
      ]
    },
    {
      "cell_type": "markdown",
      "metadata": {
        "id": "OFjwB_lCOQKj"
      },
      "source": [
        "\n",
        "### Example\n",
        "\n",
        "\n",
        "    \"203260\": {\n",
        "        \"id_EXIST\": \"203260\",\n",
        "        \"lang\": \"en\",\n",
        "        \"tweet\": \"ik when mandy says “you look like a whore” i look cute as FUCK\",\n",
        "        \"number_annotators\": 6,\n",
        "        \"annotators\": [\"Annotator_473\", \"Annotator_474\", \"Annotator_475\", \"Annotator_476\", \"Annotator_477\", \"Annotator_27\"],\n",
        "        \"gender_annotators\": [\"F\", \"F\", \"M\", \"M\", \"M\", \"F\"],\n",
        "        \"age_annotators\": [\"18-22\", \"23-45\", \"18-22\", \"23-45\", \"46+\", \"46+\"],\n",
        "        \"labels_task1\": [\"YES\", \"YES\", \"YES\", \"NO\", \"YES\", \"YES\"],\n",
        "        \"labels_task2\": [\"DIRECT\", \"DIRECT\", \"REPORTED\", \"-\", \"JUDGEMENTAL\", \"REPORTED\"],\n",
        "        \"labels_task3\": [\n",
        "          [\"STEREOTYPING-DOMINANCE\"],\n",
        "          [\"OBJECTIFICATION\"],\n",
        "          [\"SEXUAL-VIOLENCE\"],\n",
        "          [\"-\"],\n",
        "          [\"STEREOTYPING-DOMINANCE\", \"OBJECTIFICATION\"],\n",
        "          [\"OBJECTIFICATION\"]\n",
        "        ],\n",
        "        \"split\": \"TRAIN_EN\"\n",
        "      }\n",
        "    }"
      ]
    },
    {
      "cell_type": "markdown",
      "metadata": {
        "id": "BJ45bvuOOJ7I"
      },
      "source": [
        "### Instructions\n",
        "1. **Download** the `A1/data` folder.\n",
        "2. **Load** the three JSON files and encode them as pandas dataframes.\n",
        "3. **Generate hard labels** for Task 1 using majority voting and store them in a new dataframe column called `hard_label_task1`. Items without a clear majority will be removed from the dataset.\n",
        "4. **Filter the DataFrame** to keep only rows where the `lang` column is `'en'`.\n",
        "5. **Remove unwanted columns**: Keep only `id_EXIST`, `lang`, `tweet`, and `hard_label_task1`.\n",
        "6. **Encode the `hard_label_task1` column**: Use 1 to represent \"YES\" and 0 to represent \"NO\"."
      ]
    },
    {
      "cell_type": "code",
      "source": [
        "!pip install autocorrect\n",
        "!pip install optuna"
      ],
      "metadata": {
        "colab": {
          "base_uri": "https://localhost:8080/"
        },
        "id": "jD-p1ytlJpRa",
        "outputId": "eccc3bd1-3d72-45fe-a6fd-edc5a3814f91"
      },
      "execution_count": null,
      "outputs": [
        {
          "output_type": "stream",
          "name": "stdout",
          "text": [
            "Collecting autocorrect\n",
            "  Downloading autocorrect-2.6.1.tar.gz (622 kB)\n",
            "\u001b[?25l     \u001b[90m━━━━━━━━━━━━━━━━━━━━━━━━━━━━━━━━━━━━━━━━\u001b[0m \u001b[32m0.0/622.8 kB\u001b[0m \u001b[31m?\u001b[0m eta \u001b[36m-:--:--\u001b[0m\r\u001b[2K     \u001b[90m━━━━━━━━━━━━━━━━━━━━━━━━━━━━━━━━━━━━━━━━\u001b[0m \u001b[32m622.8/622.8 kB\u001b[0m \u001b[31m31.0 MB/s\u001b[0m eta \u001b[36m0:00:00\u001b[0m\n",
            "\u001b[?25h  Preparing metadata (setup.py) ... \u001b[?25l\u001b[?25hdone\n",
            "Building wheels for collected packages: autocorrect\n",
            "  Building wheel for autocorrect (setup.py) ... \u001b[?25l\u001b[?25hdone\n",
            "  Created wheel for autocorrect: filename=autocorrect-2.6.1-py3-none-any.whl size=622364 sha256=fe45c817ed391c3816564664b5e152aaadcace5e79e663d06ab94e4b9fae84d2\n",
            "  Stored in directory: /root/.cache/pip/wheels/b5/7b/6d/b76b29ce11ff8e2521c8c7dd0e5bfee4fb1789d76193124343\n",
            "Successfully built autocorrect\n",
            "Installing collected packages: autocorrect\n",
            "Successfully installed autocorrect-2.6.1\n",
            "Collecting optuna\n",
            "  Downloading optuna-4.1.0-py3-none-any.whl.metadata (16 kB)\n",
            "Collecting alembic>=1.5.0 (from optuna)\n",
            "  Downloading alembic-1.14.0-py3-none-any.whl.metadata (7.4 kB)\n",
            "Collecting colorlog (from optuna)\n",
            "  Downloading colorlog-6.9.0-py3-none-any.whl.metadata (10 kB)\n",
            "Requirement already satisfied: numpy in /usr/local/lib/python3.10/dist-packages (from optuna) (1.26.4)\n",
            "Requirement already satisfied: packaging>=20.0 in /usr/local/lib/python3.10/dist-packages (from optuna) (24.2)\n",
            "Requirement already satisfied: sqlalchemy>=1.4.2 in /usr/local/lib/python3.10/dist-packages (from optuna) (2.0.36)\n",
            "Requirement already satisfied: tqdm in /usr/local/lib/python3.10/dist-packages (from optuna) (4.66.6)\n",
            "Requirement already satisfied: PyYAML in /usr/local/lib/python3.10/dist-packages (from optuna) (6.0.2)\n",
            "Collecting Mako (from alembic>=1.5.0->optuna)\n",
            "  Downloading Mako-1.3.6-py3-none-any.whl.metadata (2.9 kB)\n",
            "Requirement already satisfied: typing-extensions>=4 in /usr/local/lib/python3.10/dist-packages (from alembic>=1.5.0->optuna) (4.12.2)\n",
            "Requirement already satisfied: greenlet!=0.4.17 in /usr/local/lib/python3.10/dist-packages (from sqlalchemy>=1.4.2->optuna) (3.1.1)\n",
            "Requirement already satisfied: MarkupSafe>=0.9.2 in /usr/local/lib/python3.10/dist-packages (from Mako->alembic>=1.5.0->optuna) (3.0.2)\n",
            "Downloading optuna-4.1.0-py3-none-any.whl (364 kB)\n",
            "\u001b[2K   \u001b[90m━━━━━━━━━━━━━━━━━━━━━━━━━━━━━━━━━━━━━━━━\u001b[0m \u001b[32m364.4/364.4 kB\u001b[0m \u001b[31m27.5 MB/s\u001b[0m eta \u001b[36m0:00:00\u001b[0m\n",
            "\u001b[?25hDownloading alembic-1.14.0-py3-none-any.whl (233 kB)\n",
            "\u001b[2K   \u001b[90m━━━━━━━━━━━━━━━━━━━━━━━━━━━━━━━━━━━━━━━━\u001b[0m \u001b[32m233.5/233.5 kB\u001b[0m \u001b[31m19.9 MB/s\u001b[0m eta \u001b[36m0:00:00\u001b[0m\n",
            "\u001b[?25hDownloading colorlog-6.9.0-py3-none-any.whl (11 kB)\n",
            "Downloading Mako-1.3.6-py3-none-any.whl (78 kB)\n",
            "\u001b[2K   \u001b[90m━━━━━━━━━━━━━━━━━━━━━━━━━━━━━━━━━━━━━━━━\u001b[0m \u001b[32m78.6/78.6 kB\u001b[0m \u001b[31m7.8 MB/s\u001b[0m eta \u001b[36m0:00:00\u001b[0m\n",
            "\u001b[?25hInstalling collected packages: Mako, colorlog, alembic, optuna\n",
            "Successfully installed Mako-1.3.6 alembic-1.14.0 colorlog-6.9.0 optuna-4.1.0\n"
          ]
        }
      ]
    },
    {
      "cell_type": "code",
      "execution_count": null,
      "metadata": {
        "id": "T-s0DWy6IKPM"
      },
      "outputs": [],
      "source": [
        "import pandas as pd\n",
        "import json\n",
        "from collections import Counter\n",
        "import string\n",
        "import re\n",
        "import numpy as np\n",
        "import spacy\n",
        "# from spellchecker import SpellChecker\n",
        "from autocorrect import Speller\n",
        "from pathlib import Path\n",
        "import os\n",
        "import optuna\n",
        "\n",
        "# Also install the following packages\n",
        "# pip install pyarrow\n",
        "# pip install torch\n",
        "# pip install scikit-learn\n",
        "\n"
      ]
    },
    {
      "cell_type": "code",
      "execution_count": null,
      "metadata": {
        "id": "tXagJiAIIKPO"
      },
      "outputs": [],
      "source": [
        "from IPython.core.magic import register_cell_magic\n",
        "\n",
        "# Custom magic command to skip the cell\n",
        "@register_cell_magic\n",
        "def skip(line, cell):\n",
        "    return\n"
      ]
    },
    {
      "cell_type": "code",
      "execution_count": null,
      "metadata": {
        "id": "Wr98JjBhIKPP"
      },
      "outputs": [],
      "source": [
        "def mojority_of_votes(votes:list):\n",
        "    \"\"\" given an array of votes, return the mode or None if there is no mode \"\"\"\n",
        "    count = Counter(votes)\n",
        "    most_common = count.most_common(2)\n",
        "    if len(most_common) > 1 and most_common[0][1] == most_common[1][1]:\n",
        "        return None\n",
        "    if most_common:\n",
        "        return most_common[0][0]"
      ]
    },
    {
      "cell_type": "code",
      "execution_count": null,
      "metadata": {
        "id": "50hW80mZIKPQ"
      },
      "outputs": [],
      "source": [
        "def preprocess(data:pd.DataFrame):\n",
        "    # method for all the preprocessing steps\n",
        "    data = data.T # make the attributes as columns and data points as rows\n",
        "    data['hard_label_task1'] = data['labels_task1'].apply(mojority_of_votes) #generate hard labels\n",
        "    data = data[data['hard_label_task1'].notna()] # drop rows without a majority label\n",
        "    data = data[data['lang'] == 'en'] # drop rows where lang is not 'en'\n",
        "    data = data[['id_EXIST', 'lang', 'tweet', 'hard_label_task1']] # keeping only necessary columns\n",
        "    data['hard_label_task1'] = data['hard_label_task1'].map({'YES': 1, 'NO': 0}) # encoding 'hard_label_task1' column\n",
        "    return data"
      ]
    },
    {
      "cell_type": "code",
      "execution_count": null,
      "metadata": {
        "colab": {
          "base_uri": "https://localhost:8080/",
          "height": 206
        },
        "id": "tPwFNkhbIKPQ",
        "outputId": "63c397ac-aed7-4c76-c0de-968612892aa3"
      },
      "outputs": [
        {
          "output_type": "execute_result",
          "data": {
            "text/plain": [
              "       id_EXIST lang                                              tweet  \\\n",
              "200002   200002   en  Writing a uni essay in my local pub with a cof...   \n",
              "200003   200003   en  @UniversalORL it is 2021 not 1921. I dont appr...   \n",
              "200006   200006   en  According to a customer I have plenty of time ...   \n",
              "200007   200007   en  So only 'blokes' drink beer? Sorry, but if you...   \n",
              "200008   200008   en  New to the shelves this week - looking forward...   \n",
              "\n",
              "        hard_label_task1  \n",
              "200002                 1  \n",
              "200003                 1  \n",
              "200006                 1  \n",
              "200007                 1  \n",
              "200008                 0  "
            ],
            "text/html": [
              "\n",
              "  <div id=\"df-3396f13c-5fae-49ad-8bca-1ccb14756f18\" class=\"colab-df-container\">\n",
              "    <div>\n",
              "<style scoped>\n",
              "    .dataframe tbody tr th:only-of-type {\n",
              "        vertical-align: middle;\n",
              "    }\n",
              "\n",
              "    .dataframe tbody tr th {\n",
              "        vertical-align: top;\n",
              "    }\n",
              "\n",
              "    .dataframe thead th {\n",
              "        text-align: right;\n",
              "    }\n",
              "</style>\n",
              "<table border=\"1\" class=\"dataframe\">\n",
              "  <thead>\n",
              "    <tr style=\"text-align: right;\">\n",
              "      <th></th>\n",
              "      <th>id_EXIST</th>\n",
              "      <th>lang</th>\n",
              "      <th>tweet</th>\n",
              "      <th>hard_label_task1</th>\n",
              "    </tr>\n",
              "  </thead>\n",
              "  <tbody>\n",
              "    <tr>\n",
              "      <th>200002</th>\n",
              "      <td>200002</td>\n",
              "      <td>en</td>\n",
              "      <td>Writing a uni essay in my local pub with a cof...</td>\n",
              "      <td>1</td>\n",
              "    </tr>\n",
              "    <tr>\n",
              "      <th>200003</th>\n",
              "      <td>200003</td>\n",
              "      <td>en</td>\n",
              "      <td>@UniversalORL it is 2021 not 1921. I dont appr...</td>\n",
              "      <td>1</td>\n",
              "    </tr>\n",
              "    <tr>\n",
              "      <th>200006</th>\n",
              "      <td>200006</td>\n",
              "      <td>en</td>\n",
              "      <td>According to a customer I have plenty of time ...</td>\n",
              "      <td>1</td>\n",
              "    </tr>\n",
              "    <tr>\n",
              "      <th>200007</th>\n",
              "      <td>200007</td>\n",
              "      <td>en</td>\n",
              "      <td>So only 'blokes' drink beer? Sorry, but if you...</td>\n",
              "      <td>1</td>\n",
              "    </tr>\n",
              "    <tr>\n",
              "      <th>200008</th>\n",
              "      <td>200008</td>\n",
              "      <td>en</td>\n",
              "      <td>New to the shelves this week - looking forward...</td>\n",
              "      <td>0</td>\n",
              "    </tr>\n",
              "  </tbody>\n",
              "</table>\n",
              "</div>\n",
              "    <div class=\"colab-df-buttons\">\n",
              "\n",
              "  <div class=\"colab-df-container\">\n",
              "    <button class=\"colab-df-convert\" onclick=\"convertToInteractive('df-3396f13c-5fae-49ad-8bca-1ccb14756f18')\"\n",
              "            title=\"Convert this dataframe to an interactive table.\"\n",
              "            style=\"display:none;\">\n",
              "\n",
              "  <svg xmlns=\"http://www.w3.org/2000/svg\" height=\"24px\" viewBox=\"0 -960 960 960\">\n",
              "    <path d=\"M120-120v-720h720v720H120Zm60-500h600v-160H180v160Zm220 220h160v-160H400v160Zm0 220h160v-160H400v160ZM180-400h160v-160H180v160Zm440 0h160v-160H620v160ZM180-180h160v-160H180v160Zm440 0h160v-160H620v160Z\"/>\n",
              "  </svg>\n",
              "    </button>\n",
              "\n",
              "  <style>\n",
              "    .colab-df-container {\n",
              "      display:flex;\n",
              "      gap: 12px;\n",
              "    }\n",
              "\n",
              "    .colab-df-convert {\n",
              "      background-color: #E8F0FE;\n",
              "      border: none;\n",
              "      border-radius: 50%;\n",
              "      cursor: pointer;\n",
              "      display: none;\n",
              "      fill: #1967D2;\n",
              "      height: 32px;\n",
              "      padding: 0 0 0 0;\n",
              "      width: 32px;\n",
              "    }\n",
              "\n",
              "    .colab-df-convert:hover {\n",
              "      background-color: #E2EBFA;\n",
              "      box-shadow: 0px 1px 2px rgba(60, 64, 67, 0.3), 0px 1px 3px 1px rgba(60, 64, 67, 0.15);\n",
              "      fill: #174EA6;\n",
              "    }\n",
              "\n",
              "    .colab-df-buttons div {\n",
              "      margin-bottom: 4px;\n",
              "    }\n",
              "\n",
              "    [theme=dark] .colab-df-convert {\n",
              "      background-color: #3B4455;\n",
              "      fill: #D2E3FC;\n",
              "    }\n",
              "\n",
              "    [theme=dark] .colab-df-convert:hover {\n",
              "      background-color: #434B5C;\n",
              "      box-shadow: 0px 1px 3px 1px rgba(0, 0, 0, 0.15);\n",
              "      filter: drop-shadow(0px 1px 2px rgba(0, 0, 0, 0.3));\n",
              "      fill: #FFFFFF;\n",
              "    }\n",
              "  </style>\n",
              "\n",
              "    <script>\n",
              "      const buttonEl =\n",
              "        document.querySelector('#df-3396f13c-5fae-49ad-8bca-1ccb14756f18 button.colab-df-convert');\n",
              "      buttonEl.style.display =\n",
              "        google.colab.kernel.accessAllowed ? 'block' : 'none';\n",
              "\n",
              "      async function convertToInteractive(key) {\n",
              "        const element = document.querySelector('#df-3396f13c-5fae-49ad-8bca-1ccb14756f18');\n",
              "        const dataTable =\n",
              "          await google.colab.kernel.invokeFunction('convertToInteractive',\n",
              "                                                    [key], {});\n",
              "        if (!dataTable) return;\n",
              "\n",
              "        const docLinkHtml = 'Like what you see? Visit the ' +\n",
              "          '<a target=\"_blank\" href=https://colab.research.google.com/notebooks/data_table.ipynb>data table notebook</a>'\n",
              "          + ' to learn more about interactive tables.';\n",
              "        element.innerHTML = '';\n",
              "        dataTable['output_type'] = 'display_data';\n",
              "        await google.colab.output.renderOutput(dataTable, element);\n",
              "        const docLink = document.createElement('div');\n",
              "        docLink.innerHTML = docLinkHtml;\n",
              "        element.appendChild(docLink);\n",
              "      }\n",
              "    </script>\n",
              "  </div>\n",
              "\n",
              "\n",
              "<div id=\"df-cd7db4c3-d8fc-4d18-bfc0-62e7cbe54d33\">\n",
              "  <button class=\"colab-df-quickchart\" onclick=\"quickchart('df-cd7db4c3-d8fc-4d18-bfc0-62e7cbe54d33')\"\n",
              "            title=\"Suggest charts\"\n",
              "            style=\"display:none;\">\n",
              "\n",
              "<svg xmlns=\"http://www.w3.org/2000/svg\" height=\"24px\"viewBox=\"0 0 24 24\"\n",
              "     width=\"24px\">\n",
              "    <g>\n",
              "        <path d=\"M19 3H5c-1.1 0-2 .9-2 2v14c0 1.1.9 2 2 2h14c1.1 0 2-.9 2-2V5c0-1.1-.9-2-2-2zM9 17H7v-7h2v7zm4 0h-2V7h2v10zm4 0h-2v-4h2v4z\"/>\n",
              "    </g>\n",
              "</svg>\n",
              "  </button>\n",
              "\n",
              "<style>\n",
              "  .colab-df-quickchart {\n",
              "      --bg-color: #E8F0FE;\n",
              "      --fill-color: #1967D2;\n",
              "      --hover-bg-color: #E2EBFA;\n",
              "      --hover-fill-color: #174EA6;\n",
              "      --disabled-fill-color: #AAA;\n",
              "      --disabled-bg-color: #DDD;\n",
              "  }\n",
              "\n",
              "  [theme=dark] .colab-df-quickchart {\n",
              "      --bg-color: #3B4455;\n",
              "      --fill-color: #D2E3FC;\n",
              "      --hover-bg-color: #434B5C;\n",
              "      --hover-fill-color: #FFFFFF;\n",
              "      --disabled-bg-color: #3B4455;\n",
              "      --disabled-fill-color: #666;\n",
              "  }\n",
              "\n",
              "  .colab-df-quickchart {\n",
              "    background-color: var(--bg-color);\n",
              "    border: none;\n",
              "    border-radius: 50%;\n",
              "    cursor: pointer;\n",
              "    display: none;\n",
              "    fill: var(--fill-color);\n",
              "    height: 32px;\n",
              "    padding: 0;\n",
              "    width: 32px;\n",
              "  }\n",
              "\n",
              "  .colab-df-quickchart:hover {\n",
              "    background-color: var(--hover-bg-color);\n",
              "    box-shadow: 0 1px 2px rgba(60, 64, 67, 0.3), 0 1px 3px 1px rgba(60, 64, 67, 0.15);\n",
              "    fill: var(--button-hover-fill-color);\n",
              "  }\n",
              "\n",
              "  .colab-df-quickchart-complete:disabled,\n",
              "  .colab-df-quickchart-complete:disabled:hover {\n",
              "    background-color: var(--disabled-bg-color);\n",
              "    fill: var(--disabled-fill-color);\n",
              "    box-shadow: none;\n",
              "  }\n",
              "\n",
              "  .colab-df-spinner {\n",
              "    border: 2px solid var(--fill-color);\n",
              "    border-color: transparent;\n",
              "    border-bottom-color: var(--fill-color);\n",
              "    animation:\n",
              "      spin 1s steps(1) infinite;\n",
              "  }\n",
              "\n",
              "  @keyframes spin {\n",
              "    0% {\n",
              "      border-color: transparent;\n",
              "      border-bottom-color: var(--fill-color);\n",
              "      border-left-color: var(--fill-color);\n",
              "    }\n",
              "    20% {\n",
              "      border-color: transparent;\n",
              "      border-left-color: var(--fill-color);\n",
              "      border-top-color: var(--fill-color);\n",
              "    }\n",
              "    30% {\n",
              "      border-color: transparent;\n",
              "      border-left-color: var(--fill-color);\n",
              "      border-top-color: var(--fill-color);\n",
              "      border-right-color: var(--fill-color);\n",
              "    }\n",
              "    40% {\n",
              "      border-color: transparent;\n",
              "      border-right-color: var(--fill-color);\n",
              "      border-top-color: var(--fill-color);\n",
              "    }\n",
              "    60% {\n",
              "      border-color: transparent;\n",
              "      border-right-color: var(--fill-color);\n",
              "    }\n",
              "    80% {\n",
              "      border-color: transparent;\n",
              "      border-right-color: var(--fill-color);\n",
              "      border-bottom-color: var(--fill-color);\n",
              "    }\n",
              "    90% {\n",
              "      border-color: transparent;\n",
              "      border-bottom-color: var(--fill-color);\n",
              "    }\n",
              "  }\n",
              "</style>\n",
              "\n",
              "  <script>\n",
              "    async function quickchart(key) {\n",
              "      const quickchartButtonEl =\n",
              "        document.querySelector('#' + key + ' button');\n",
              "      quickchartButtonEl.disabled = true;  // To prevent multiple clicks.\n",
              "      quickchartButtonEl.classList.add('colab-df-spinner');\n",
              "      try {\n",
              "        const charts = await google.colab.kernel.invokeFunction(\n",
              "            'suggestCharts', [key], {});\n",
              "      } catch (error) {\n",
              "        console.error('Error during call to suggestCharts:', error);\n",
              "      }\n",
              "      quickchartButtonEl.classList.remove('colab-df-spinner');\n",
              "      quickchartButtonEl.classList.add('colab-df-quickchart-complete');\n",
              "    }\n",
              "    (() => {\n",
              "      let quickchartButtonEl =\n",
              "        document.querySelector('#df-cd7db4c3-d8fc-4d18-bfc0-62e7cbe54d33 button');\n",
              "      quickchartButtonEl.style.display =\n",
              "        google.colab.kernel.accessAllowed ? 'block' : 'none';\n",
              "    })();\n",
              "  </script>\n",
              "</div>\n",
              "\n",
              "    </div>\n",
              "  </div>\n"
            ],
            "application/vnd.google.colaboratory.intrinsic+json": {
              "type": "dataframe",
              "variable_name": "data_training",
              "summary": "{\n  \"name\": \"data_training\",\n  \"rows\": 2870,\n  \"fields\": [\n    {\n      \"column\": \"id_EXIST\",\n      \"properties\": {\n        \"dtype\": \"string\",\n        \"num_unique_values\": 2870,\n        \"samples\": [\n          \"200504\",\n          \"202694\",\n          \"200852\"\n        ],\n        \"semantic_type\": \"\",\n        \"description\": \"\"\n      }\n    },\n    {\n      \"column\": \"lang\",\n      \"properties\": {\n        \"dtype\": \"category\",\n        \"num_unique_values\": 1,\n        \"samples\": [\n          \"en\"\n        ],\n        \"semantic_type\": \"\",\n        \"description\": \"\"\n      }\n    },\n    {\n      \"column\": \"tweet\",\n      \"properties\": {\n        \"dtype\": \"string\",\n        \"num_unique_values\": 2870,\n        \"samples\": [\n          \"Call me sexist but it just feels wrong that women are reffing the NBA like go ref the WNBA\\ud83d\\ude2c\"\n        ],\n        \"semantic_type\": \"\",\n        \"description\": \"\"\n      }\n    },\n    {\n      \"column\": \"hard_label_task1\",\n      \"properties\": {\n        \"dtype\": \"number\",\n        \"std\": 0,\n        \"min\": 0,\n        \"max\": 1,\n        \"num_unique_values\": 2,\n        \"samples\": [\n          0\n        ],\n        \"semantic_type\": \"\",\n        \"description\": \"\"\n      }\n    }\n  ]\n}"
            }
          },
          "metadata": {},
          "execution_count": 8
        }
      ],
      "source": [
        "data_training = pd.read_json(Path('data', 'training.json'))\n",
        "data_test = pd.read_json(Path('data', 'test.json'))\n",
        "data_validation = pd.read_json(Path('data', 'validation.json'))\n",
        "\n",
        "data_training = preprocess(data_training)\n",
        "data_test = preprocess(data_test)\n",
        "data_validation = preprocess(data_validation)\n",
        "\n",
        "data_training.head()\n"
      ]
    },
    {
      "cell_type": "markdown",
      "metadata": {
        "collapsed": false,
        "id": "83fxJ7Z8IKPR"
      },
      "source": [
        "# [Task2 - 0.5 points] Data Cleaning\n",
        "In the context of tweets, we have noisy and informal data that often includes unnecessary elements like emojis, hashtags, mentions, and URLs. These elements may interfere with the text analysis.\n"
      ]
    },
    {
      "cell_type": "markdown",
      "metadata": {
        "collapsed": false,
        "id": "hG3tx3HcIKPR"
      },
      "source": [
        "\n",
        "### Instructions\n",
        "- **Remove emojis** from the tweets.\n",
        "- **Remove hashtags** (e.g., `#example`).\n",
        "- **Remove mentions** such as `@user`.\n",
        "- **Remove URLs** from the tweets.\n",
        "- **Remove special characters and symbols**.\n",
        "- **Remove specific quote characters** (e.g., curly quotes).\n",
        "- **Perform lemmatization** to reduce words to their base form."
      ]
    },
    {
      "cell_type": "code",
      "execution_count": null,
      "metadata": {
        "colab": {
          "base_uri": "https://localhost:8080/"
        },
        "id": "iaF6_zgxIKPS",
        "outputId": "8ea63f58-48c7-469e-ee57-21f5fdda870f"
      },
      "outputs": [
        {
          "output_type": "stream",
          "name": "stdout",
          "text": [
            "\u001b[38;5;3m⚠ As of spaCy v3.0, shortcuts like 'en' are deprecated. Please use the\n",
            "full pipeline package name 'en_core_web_sm' instead.\u001b[0m\n",
            "Collecting en-core-web-sm==3.7.1\n",
            "  Downloading https://github.com/explosion/spacy-models/releases/download/en_core_web_sm-3.7.1/en_core_web_sm-3.7.1-py3-none-any.whl (12.8 MB)\n",
            "\u001b[2K     \u001b[90m━━━━━━━━━━━━━━━━━━━━━━━━━━━━━━━━━━━━━━━━\u001b[0m \u001b[32m12.8/12.8 MB\u001b[0m \u001b[31m70.3 MB/s\u001b[0m eta \u001b[36m0:00:00\u001b[0m\n",
            "\u001b[?25hRequirement already satisfied: spacy<3.8.0,>=3.7.2 in /usr/local/lib/python3.10/dist-packages (from en-core-web-sm==3.7.1) (3.7.5)\n",
            "Requirement already satisfied: spacy-legacy<3.1.0,>=3.0.11 in /usr/local/lib/python3.10/dist-packages (from spacy<3.8.0,>=3.7.2->en-core-web-sm==3.7.1) (3.0.12)\n",
            "Requirement already satisfied: spacy-loggers<2.0.0,>=1.0.0 in /usr/local/lib/python3.10/dist-packages (from spacy<3.8.0,>=3.7.2->en-core-web-sm==3.7.1) (1.0.5)\n",
            "Requirement already satisfied: murmurhash<1.1.0,>=0.28.0 in /usr/local/lib/python3.10/dist-packages (from spacy<3.8.0,>=3.7.2->en-core-web-sm==3.7.1) (1.0.10)\n",
            "Requirement already satisfied: cymem<2.1.0,>=2.0.2 in /usr/local/lib/python3.10/dist-packages (from spacy<3.8.0,>=3.7.2->en-core-web-sm==3.7.1) (2.0.8)\n",
            "Requirement already satisfied: preshed<3.1.0,>=3.0.2 in /usr/local/lib/python3.10/dist-packages (from spacy<3.8.0,>=3.7.2->en-core-web-sm==3.7.1) (3.0.9)\n",
            "Requirement already satisfied: thinc<8.3.0,>=8.2.2 in /usr/local/lib/python3.10/dist-packages (from spacy<3.8.0,>=3.7.2->en-core-web-sm==3.7.1) (8.2.5)\n",
            "Requirement already satisfied: wasabi<1.2.0,>=0.9.1 in /usr/local/lib/python3.10/dist-packages (from spacy<3.8.0,>=3.7.2->en-core-web-sm==3.7.1) (1.1.3)\n",
            "Requirement already satisfied: srsly<3.0.0,>=2.4.3 in /usr/local/lib/python3.10/dist-packages (from spacy<3.8.0,>=3.7.2->en-core-web-sm==3.7.1) (2.4.8)\n",
            "Requirement already satisfied: catalogue<2.1.0,>=2.0.6 in /usr/local/lib/python3.10/dist-packages (from spacy<3.8.0,>=3.7.2->en-core-web-sm==3.7.1) (2.0.10)\n",
            "Requirement already satisfied: weasel<0.5.0,>=0.1.0 in /usr/local/lib/python3.10/dist-packages (from spacy<3.8.0,>=3.7.2->en-core-web-sm==3.7.1) (0.4.1)\n",
            "Requirement already satisfied: typer<1.0.0,>=0.3.0 in /usr/local/lib/python3.10/dist-packages (from spacy<3.8.0,>=3.7.2->en-core-web-sm==3.7.1) (0.13.0)\n",
            "Requirement already satisfied: tqdm<5.0.0,>=4.38.0 in /usr/local/lib/python3.10/dist-packages (from spacy<3.8.0,>=3.7.2->en-core-web-sm==3.7.1) (4.66.6)\n",
            "Requirement already satisfied: requests<3.0.0,>=2.13.0 in /usr/local/lib/python3.10/dist-packages (from spacy<3.8.0,>=3.7.2->en-core-web-sm==3.7.1) (2.32.3)\n",
            "Requirement already satisfied: pydantic!=1.8,!=1.8.1,<3.0.0,>=1.7.4 in /usr/local/lib/python3.10/dist-packages (from spacy<3.8.0,>=3.7.2->en-core-web-sm==3.7.1) (2.9.2)\n",
            "Requirement already satisfied: jinja2 in /usr/local/lib/python3.10/dist-packages (from spacy<3.8.0,>=3.7.2->en-core-web-sm==3.7.1) (3.1.4)\n",
            "Requirement already satisfied: setuptools in /usr/local/lib/python3.10/dist-packages (from spacy<3.8.0,>=3.7.2->en-core-web-sm==3.7.1) (75.1.0)\n",
            "Requirement already satisfied: packaging>=20.0 in /usr/local/lib/python3.10/dist-packages (from spacy<3.8.0,>=3.7.2->en-core-web-sm==3.7.1) (24.2)\n",
            "Requirement already satisfied: langcodes<4.0.0,>=3.2.0 in /usr/local/lib/python3.10/dist-packages (from spacy<3.8.0,>=3.7.2->en-core-web-sm==3.7.1) (3.4.1)\n",
            "Requirement already satisfied: numpy>=1.19.0 in /usr/local/lib/python3.10/dist-packages (from spacy<3.8.0,>=3.7.2->en-core-web-sm==3.7.1) (1.26.4)\n",
            "Requirement already satisfied: language-data>=1.2 in /usr/local/lib/python3.10/dist-packages (from langcodes<4.0.0,>=3.2.0->spacy<3.8.0,>=3.7.2->en-core-web-sm==3.7.1) (1.2.0)\n",
            "Requirement already satisfied: annotated-types>=0.6.0 in /usr/local/lib/python3.10/dist-packages (from pydantic!=1.8,!=1.8.1,<3.0.0,>=1.7.4->spacy<3.8.0,>=3.7.2->en-core-web-sm==3.7.1) (0.7.0)\n",
            "Requirement already satisfied: pydantic-core==2.23.4 in /usr/local/lib/python3.10/dist-packages (from pydantic!=1.8,!=1.8.1,<3.0.0,>=1.7.4->spacy<3.8.0,>=3.7.2->en-core-web-sm==3.7.1) (2.23.4)\n",
            "Requirement already satisfied: typing-extensions>=4.6.1 in /usr/local/lib/python3.10/dist-packages (from pydantic!=1.8,!=1.8.1,<3.0.0,>=1.7.4->spacy<3.8.0,>=3.7.2->en-core-web-sm==3.7.1) (4.12.2)\n",
            "Requirement already satisfied: charset-normalizer<4,>=2 in /usr/local/lib/python3.10/dist-packages (from requests<3.0.0,>=2.13.0->spacy<3.8.0,>=3.7.2->en-core-web-sm==3.7.1) (3.4.0)\n",
            "Requirement already satisfied: idna<4,>=2.5 in /usr/local/lib/python3.10/dist-packages (from requests<3.0.0,>=2.13.0->spacy<3.8.0,>=3.7.2->en-core-web-sm==3.7.1) (3.10)\n",
            "Requirement already satisfied: urllib3<3,>=1.21.1 in /usr/local/lib/python3.10/dist-packages (from requests<3.0.0,>=2.13.0->spacy<3.8.0,>=3.7.2->en-core-web-sm==3.7.1) (2.2.3)\n",
            "Requirement already satisfied: certifi>=2017.4.17 in /usr/local/lib/python3.10/dist-packages (from requests<3.0.0,>=2.13.0->spacy<3.8.0,>=3.7.2->en-core-web-sm==3.7.1) (2024.8.30)\n",
            "Requirement already satisfied: blis<0.8.0,>=0.7.8 in /usr/local/lib/python3.10/dist-packages (from thinc<8.3.0,>=8.2.2->spacy<3.8.0,>=3.7.2->en-core-web-sm==3.7.1) (0.7.11)\n",
            "Requirement already satisfied: confection<1.0.0,>=0.0.1 in /usr/local/lib/python3.10/dist-packages (from thinc<8.3.0,>=8.2.2->spacy<3.8.0,>=3.7.2->en-core-web-sm==3.7.1) (0.1.5)\n",
            "Requirement already satisfied: click>=8.0.0 in /usr/local/lib/python3.10/dist-packages (from typer<1.0.0,>=0.3.0->spacy<3.8.0,>=3.7.2->en-core-web-sm==3.7.1) (8.1.7)\n",
            "Requirement already satisfied: shellingham>=1.3.0 in /usr/local/lib/python3.10/dist-packages (from typer<1.0.0,>=0.3.0->spacy<3.8.0,>=3.7.2->en-core-web-sm==3.7.1) (1.5.4)\n",
            "Requirement already satisfied: rich>=10.11.0 in /usr/local/lib/python3.10/dist-packages (from typer<1.0.0,>=0.3.0->spacy<3.8.0,>=3.7.2->en-core-web-sm==3.7.1) (13.9.4)\n",
            "Requirement already satisfied: cloudpathlib<1.0.0,>=0.7.0 in /usr/local/lib/python3.10/dist-packages (from weasel<0.5.0,>=0.1.0->spacy<3.8.0,>=3.7.2->en-core-web-sm==3.7.1) (0.20.0)\n",
            "Requirement already satisfied: smart-open<8.0.0,>=5.2.1 in /usr/local/lib/python3.10/dist-packages (from weasel<0.5.0,>=0.1.0->spacy<3.8.0,>=3.7.2->en-core-web-sm==3.7.1) (7.0.5)\n",
            "Requirement already satisfied: MarkupSafe>=2.0 in /usr/local/lib/python3.10/dist-packages (from jinja2->spacy<3.8.0,>=3.7.2->en-core-web-sm==3.7.1) (3.0.2)\n",
            "Requirement already satisfied: marisa-trie>=0.7.7 in /usr/local/lib/python3.10/dist-packages (from language-data>=1.2->langcodes<4.0.0,>=3.2.0->spacy<3.8.0,>=3.7.2->en-core-web-sm==3.7.1) (1.2.1)\n",
            "Requirement already satisfied: markdown-it-py>=2.2.0 in /usr/local/lib/python3.10/dist-packages (from rich>=10.11.0->typer<1.0.0,>=0.3.0->spacy<3.8.0,>=3.7.2->en-core-web-sm==3.7.1) (3.0.0)\n",
            "Requirement already satisfied: pygments<3.0.0,>=2.13.0 in /usr/local/lib/python3.10/dist-packages (from rich>=10.11.0->typer<1.0.0,>=0.3.0->spacy<3.8.0,>=3.7.2->en-core-web-sm==3.7.1) (2.18.0)\n",
            "Requirement already satisfied: wrapt in /usr/local/lib/python3.10/dist-packages (from smart-open<8.0.0,>=5.2.1->weasel<0.5.0,>=0.1.0->spacy<3.8.0,>=3.7.2->en-core-web-sm==3.7.1) (1.16.0)\n",
            "Requirement already satisfied: mdurl~=0.1 in /usr/local/lib/python3.10/dist-packages (from markdown-it-py>=2.2.0->rich>=10.11.0->typer<1.0.0,>=0.3.0->spacy<3.8.0,>=3.7.2->en-core-web-sm==3.7.1) (0.1.2)\n",
            "\u001b[38;5;2m✔ Download and installation successful\u001b[0m\n",
            "You can now load the package via spacy.load('en_core_web_sm')\n",
            "\u001b[38;5;3m⚠ Restart to reload dependencies\u001b[0m\n",
            "If you are in a Jupyter or Colab notebook, you may need to restart Python in\n",
            "order to load all the package's dependencies. You can do this by selecting the\n",
            "'Restart kernel' or 'Restart runtime' option.\n"
          ]
        }
      ],
      "source": [
        "!python -m spacy download en"
      ]
    },
    {
      "cell_type": "code",
      "execution_count": null,
      "metadata": {
        "id": "3gGVmP7uIKPS"
      },
      "outputs": [],
      "source": [
        "# spaCy English model\n",
        "nlp = spacy.load('en_core_web_sm')\n",
        "spell = Speller()"
      ]
    },
    {
      "cell_type": "code",
      "execution_count": null,
      "metadata": {
        "id": "uHWlh59IIKPS"
      },
      "outputs": [],
      "source": [
        "\n",
        "def remove_emojis(text):\n",
        "    # removing emojis with regex, including\n",
        "    emoji_pattern = re.compile(\"[\"\n",
        "                           u\"\\U0001F600-\\U0001F64F\"  # emoticons\n",
        "                           u\"\\U0001F300-\\U0001F5FF\"  # symbols & pictographs\n",
        "                           u\"\\U0001F680-\\U0001F6FF\"  # transport & map symbols\n",
        "                           u\"\\U0001F1E0-\\U0001F1FF\"  # flags (iOS)\n",
        "                           u\"\\U00002702-\\U000027B0\"\n",
        "                           u\"\\U000024C2-\\U0001F251\"\n",
        "                           u\"\\U0001F914\"  # 🤔\n",
        "                           \"]+\", flags=re.UNICODE)\n",
        "    return emoji_pattern.sub(r'', text)\n",
        "\n",
        "def remove_hashtags(text):\n",
        "    return re.sub(r'#\\w+', '', text)\n",
        "\n",
        "def remove_mentions(text):\n",
        "    return re.sub(r'@\\w+', '', text)\n",
        "\n",
        "def remove_urls(text):\n",
        "    return re.sub(r'http\\S+|www\\S+|https\\S+', '', text, flags=re.MULTILINE)\n",
        "\n",
        "def remove_special_characters(text):\n",
        "    return text.translate(str.maketrans('', '', string.punctuation))\n",
        "\n",
        "def remove_quotes(text):\n",
        "    return text.replace('“', '').replace('”', '').replace('‘', '').replace('’', '')\n",
        "\n",
        "def lemmatize_text(text):\n",
        "    # performing lemmatization using spacy\n",
        "    doc = nlp(text)\n",
        "    return ' '.join([token.lemma_ for token in doc])\n",
        "\n",
        "# =================== Additional preprocessing techniques =================================\n",
        "# important to reduce the number of unseen vobabs as Glove contains mostly lowercase tokens\n",
        "def lowercase_text(text):\n",
        "    return text.lower()  # convert all text to lowercase\n",
        "\n",
        "def correct_typos(text):\n",
        "    return spell(text)\n",
        "\n",
        "def clean_text(tweet):\n",
        "    tweet = remove_emojis(tweet)\n",
        "    tweet = remove_hashtags(tweet)\n",
        "    tweet = remove_mentions(tweet)\n",
        "    tweet = remove_urls(tweet)\n",
        "    tweet = remove_special_characters(tweet)\n",
        "    tweet = remove_quotes(tweet)\n",
        "    tweet = lowercase_text(tweet)\n",
        "    tweet = correct_typos(tweet)\n",
        "    tweet = lemmatize_text(tweet)\n",
        "    tweet = tweet.strip()\n",
        "    return tweet\n"
      ]
    },
    {
      "cell_type": "code",
      "execution_count": null,
      "metadata": {
        "colab": {
          "base_uri": "https://localhost:8080/",
          "height": 35
        },
        "id": "xNSJvWWtIKPT",
        "outputId": "10237e01-aa63-4eb3-b8af-23a40dcabe0b"
      },
      "outputs": [
        {
          "output_type": "execute_result",
          "data": {
            "text/plain": [
              "'this be awesome bro'"
            ],
            "application/vnd.google.colaboratory.intrinsic+json": {
              "type": "string"
            }
          },
          "metadata": {},
          "execution_count": 12
        }
      ],
      "source": [
        "# testing if all is fine\n",
        "sample_text = \"this is awsome bro! 😁 @johnsmith #wait www.google.com\"\n",
        "clean_text(sample_text)"
      ]
    },
    {
      "cell_type": "code",
      "execution_count": null,
      "metadata": {
        "id": "ByB1hFTsIKPT"
      },
      "outputs": [],
      "source": [
        "%%skip\n",
        "# If you want to clean the entire dataset, instead of loading the cleaned dataset,\n",
        "# comment the skip magic command and run the cell\n",
        "def clean_dataset_tweets(data:pd.DataFrame):\n",
        "    data['tweet'] = data['tweet'].apply(clean_text)\n",
        "    return data\n",
        "\n",
        "data_training_cleaned = clean_dataset_tweets(data_training)\n",
        "data_test_cleaned = clean_dataset_tweets(data_test)\n",
        "data_validation_cleaned = clean_dataset_tweets(data_validation)\n",
        "\n",
        "data_training_cleaned.head()"
      ]
    },
    {
      "cell_type": "code",
      "execution_count": null,
      "metadata": {
        "id": "IFrSvnmeIKPT"
      },
      "outputs": [],
      "source": [
        "stored_data_dir = \"stored_data\"\n",
        "\n",
        "# Define file paths\n",
        "training_path = os.path.join(stored_data_dir, 'data_training_cleaned.parquet')\n",
        "test_path = os.path.join(stored_data_dir, 'data_test_cleaned.parquet')\n",
        "validation_path = os.path.join(stored_data_dir, 'data_validation_cleaned.parquet')"
      ]
    },
    {
      "cell_type": "code",
      "execution_count": null,
      "metadata": {
        "id": "CvwFHM5bIKPU"
      },
      "outputs": [],
      "source": [
        "%%skip\n",
        "# If you want to save the cleaned dataset, comment the skip magic command\n",
        "# and run the cell\n",
        "\n",
        "if not os.path.exists(stored_data_dir):\n",
        "    os.makedirs(stored_data_dir)\n",
        "\n",
        "# Save the cleaned datasets to Parquet\n",
        "data_training_cleaned.to_parquet(training_path, index=False)\n",
        "data_test_cleaned.to_parquet(test_path, index=False)\n",
        "data_validation_cleaned.to_parquet(validation_path, index=False)"
      ]
    },
    {
      "cell_type": "code",
      "execution_count": null,
      "metadata": {
        "id": "7McOv9-VIKPU"
      },
      "outputs": [],
      "source": [
        "# Load the saved cleaned datasets from disk\n",
        "data_training_cleaned = pd.read_parquet(training_path)\n",
        "data_test_cleaned = pd.read_parquet(test_path)\n",
        "data_validation_cleaned = pd.read_parquet(validation_path)"
      ]
    },
    {
      "cell_type": "markdown",
      "metadata": {
        "id": "s3KylLHNl0bE"
      },
      "source": [
        "# [Task 3 - 0.5 points] Text Encoding\n",
        "To train a neural sexism classifier, you first need to encode text into numerical format.\n",
        "\n",
        "\n"
      ]
    },
    {
      "cell_type": "markdown",
      "metadata": {
        "id": "hr1lTHUVOXff"
      },
      "source": [
        "### Instructions\n",
        "\n",
        "* Embed words using **GloVe embeddings**.\n",
        "* You are **free** to pick any embedding dimension.\n",
        "\n",
        "\n",
        "\n"
      ]
    },
    {
      "cell_type": "markdown",
      "metadata": {
        "id": "r6NNMEjWOZQr"
      },
      "source": [
        "### Note : What about OOV tokens?\n",
        "   * All the tokens in the **training** set that are not in GloVe **must** be added to the vocabulary.\n",
        "   * For the remaining tokens (i.e., OOV in the validation and test sets), you have to assign them a **special token** (e.g., [UNK]) and a **static** embedding.\n",
        "   * You are **free** to define the static embedding using any strategy (e.g., random, neighbourhood, etc...)\n",
        "\n"
      ]
    },
    {
      "cell_type": "markdown",
      "metadata": {
        "id": "90UztlGUObXk"
      },
      "source": [
        "### More about OOV\n",
        "\n",
        "For a given token:\n",
        "\n",
        "* **If in train set**: add to vocabulary and assign an embedding (use GloVe if token in GloVe, custom embedding otherwise).\n",
        "* **If in val/test set**: assign special token if not in vocabulary and assign custom embedding.\n",
        "\n",
        "Your vocabulary **should**:\n",
        "\n",
        "* Contain all tokens in train set; or\n",
        "* Union of tokens in train set and in GloVe $\\rightarrow$ we make use of existing knowledge!"
      ]
    },
    {
      "cell_type": "markdown",
      "metadata": {
        "id": "W9wXRGhxIKPV"
      },
      "source": [
        "## Embedding Strategy\n",
        "\n",
        "For this project, this pretrained word vector is used:\n",
        "\n",
        "`Wikipedia 2014 + Gigaword 5 (6B tokens, 400K vocab, uncased, 300d vectors, 822 MB download)`\n",
        "\n",
        "which can be downlaoded from https://github.com/stanfordnlp/GloVe?tab=readme-ov-file"
      ]
    },
    {
      "cell_type": "code",
      "execution_count": null,
      "metadata": {
        "id": "SBm-xQk7IKPV"
      },
      "outputs": [],
      "source": [
        "def load_glove_embeddings(glove_file_path, embedding_dim):\n",
        "    embeddings_index = {}\n",
        "    with open(glove_file_path, 'r', encoding='utf-8') as f:\n",
        "        for line in f:\n",
        "            values = line.split()\n",
        "            word = values[0]\n",
        "            coefs = np.asarray(values[1:embedding_dim+1], dtype='float32')\n",
        "            embeddings_index[word] = coefs\n",
        "    return embeddings_index\n",
        "\n",
        "# Example usage\n",
        "glove_file_path = Path('glove.6B', 'glove.6B.50d.txt') #we choose the XYZ dim\n",
        "embedding_dim = 50  # You can choose any dimension\n",
        "\n",
        "glove_embeddings = load_glove_embeddings(glove_file_path, embedding_dim)"
      ]
    },
    {
      "cell_type": "code",
      "execution_count": null,
      "metadata": {
        "colab": {
          "base_uri": "https://localhost:8080/"
        },
        "id": "rb6t2VnwIKPV",
        "outputId": "38441c7a-5687-4319-c96a-d131ea781107"
      },
      "outputs": [
        {
          "output_type": "stream",
          "name": "stdout",
          "text": [
            "0 tokens from the training set not present in the glove embeddings.\n"
          ]
        }
      ],
      "source": [
        "UNKNOWN_TOKEN = \"[UNK]\"\n",
        "PADDING_TOKEN = \"[PAD]\"\n",
        "def create_vocabulary_and_embeddings(train_tokens, glove_embeddings, embedding_dim):\n",
        "    vocab = {} #to store the training set tokens and their indices\n",
        "    embedding_matrix = [] #to store all the embedding vectors of our vocabulary\n",
        "    new_tokens = 0 # count how many words from the training are not in the glove embedding\n",
        "    new_tokens_list = []\n",
        "\n",
        "    # Dealing with the padding token and assigning a random embedding to it\n",
        "    special_pad_embedding = np.zeros(embedding_dim)  # Zero embedding for padding\n",
        "    vocab[PADDING_TOKEN] = 0\n",
        "    embedding_matrix.append(special_pad_embedding)\n",
        "\n",
        "    # dealing with the unknown token and assigning a random embedding to it\n",
        "    special_embedding = np.random.rand(embedding_dim)\n",
        "    vocab[UNKNOWN_TOKEN] = 1\n",
        "    embedding_matrix.append(special_embedding)\n",
        "\n",
        "\n",
        "\n",
        "    for token in train_tokens:\n",
        "        if token not in vocab:\n",
        "            if token in glove_embeddings:\n",
        "                vocab[token] = len(vocab)\n",
        "                embedding_matrix.append(glove_embeddings[token])\n",
        "            else:\n",
        "                # if a token is not the glove_embedding we add it to the vocab and create a\n",
        "                # random embedding vector for it\n",
        "                vocab[token] = len(vocab)\n",
        "                custom_embedding = np.random.rand(embedding_dim)\n",
        "                embedding_matrix.append(custom_embedding)\n",
        "                new_tokens += 1\n",
        "                new_tokens_list.append(token)\n",
        "\n",
        "    embedding_matrix = np.array(embedding_matrix, dtype='float32')\n",
        "    print(f\"{new_tokens} tokens from the training set not present in the glove embeddings.\")\n",
        "\n",
        "    return vocab, embedding_matrix, new_tokens_list\n",
        "\n",
        "train_tokens = ['example', 'tokens', 'from', 'train', 'set', 'from']\n",
        "vocab, embedding_matrix, _ = create_vocabulary_and_embeddings(train_tokens, glove_embeddings, embedding_dim)"
      ]
    },
    {
      "cell_type": "code",
      "execution_count": null,
      "metadata": {
        "colab": {
          "base_uri": "https://localhost:8080/"
        },
        "id": "6ufjQTQ7IKPW",
        "outputId": "be4542d5-a677-4c99-d9fe-e8412db580e2"
      },
      "outputs": [
        {
          "output_type": "stream",
          "name": "stdout",
          "text": [
            "the tweets contain a total of 76446 words.\n",
            "First 50 words: ['write', 'a', 'uni', 'essay', 'in', 'my', 'local', 'pub', 'with', 'a', 'coffee', 'random', 'old', 'man', 'keep', 'ask', 'I', 'drunk', 'question', 'when', 'I', 'm', 'try', 'to', 'concentrate', 'amp', 'end', 'with', 'good', 'luck', 'but', 'you', 'just', 'end', 'up', 'get', 'married', 'and', 'not', 'use', 'it', 'anyway', 'be', 'alive', 'and', 'well', 'it', 'be', '2021', 'not']\n"
          ]
        }
      ],
      "source": [
        "training_tweets = data_training_cleaned['tweet'].tolist()\n",
        "training_tweets = ' '.join(training_tweets)\n",
        "words_list = training_tweets.split()\n",
        "print(f\"the tweets contain a total of {len(words_list)} words.\\nFirst 50 words: {words_list[:50]}\")"
      ]
    },
    {
      "cell_type": "code",
      "execution_count": null,
      "metadata": {
        "colab": {
          "base_uri": "https://localhost:8080/"
        },
        "id": "wfAJqCTQIKPW",
        "outputId": "30e9134a-5af8-497b-cdae-02d8dcfcfea4"
      },
      "outputs": [
        {
          "output_type": "stream",
          "name": "stdout",
          "text": [
            "1224 tokens from the training set not present in the glove embeddings.\n",
            "total vocabulary size: 8602\n",
            "embedding_matrix shape: (8602, 50)\n"
          ]
        }
      ],
      "source": [
        "vocab, embedding_matrix, unknown_words = create_vocabulary_and_embeddings(words_list, glove_embeddings, embedding_dim)\n",
        "print(f\"total vocabulary size: {len(vocab)}\\nembedding_matrix shape: {embedding_matrix.shape}\")"
      ]
    },
    {
      "cell_type": "code",
      "execution_count": null,
      "metadata": {
        "colab": {
          "base_uri": "https://localhost:8080/"
        },
        "id": "SPZqXH6bIKPW",
        "outputId": "6b5e9d26-4541-4fe6-b590-847353e2d744"
      },
      "outputs": [
        {
          "output_type": "stream",
          "name": "stdout",
          "text": [
            "some examples of unknown tokens in the tweets that are not present in the glove embedding: \n",
            "I, earlyinlife, godcolette, anywheregood, voyeuristically, comic_strip, gamergate, breadtube, releasethu, comicsgate, shitstorm, peachfuzz, futanari, 2014i, theythis, angeryou, bitchesid, downvote, 30somethe, allegationsjudge, mramgtowincel, womanhating, angriesbecause, catastrophizing, outbigg, redpill, blackpilado, ironicamente, earlierwhy, notallman, 🤣, vaginanot, notallmen, laylamoran, soulsmixed, thisthat, retweetsnintendo, switchsportsnotallmenwow, decentish, ndor, consentjust, transwoman, heathensno, family27, transphobe, violencesthey, discourseinto, weeksboth, nosetonose, allyship, harrisharb, catcall, itsnotacomplimentmelbournecom, pedophiliajust, weekshow, code5kp5qw1, societyeducation, djín, nonethelesscome, slimzosrecording, normshappy, makhulu, ahhhhhh, don´t, ¨some, marriage¨, productsinclude, internet‍‍, shivaami, onlineregister, 2022time, placewoman, nollaigh, 🧋, womensday, 2021be, allvotebluein2022, policyboth, gruevskis, alçın, wardbusuça, ortakolma, needn, mentionnah, sympathybiden, rackexclusive, selffunde, taxpayersschool, androcentrism, spip, kabikabila, 🤷, societynature, 1935the, perspectivethe, marginalian, nonbinary, undivide, mindmainexlazada, 1111supershow\n"
          ]
        }
      ],
      "source": [
        "print(\"some examples of unknown tokens in the tweets that are not present in the glove embedding: \")\n",
        "print(', '.join(unknown_words[:100]))"
      ]
    },
    {
      "cell_type": "markdown",
      "metadata": {
        "id": "NiLhOwSEIKPX"
      },
      "source": [
        "## Preprocessing Strategy for Cleaning the Text\n",
        "for the preprocessing (text cleaning) strategy with propose two additional methods to decrease the number of tweet tokens that are not present in the Glove Embedding. This means we assign less random embeddings and the token embeddings become more meaningful overal.\n",
        "\n",
        "1. `lowercase_text`: most of the Glove tokens are lowercase. So we lowercase all tokens.\n",
        "2. `correct_typos`: tweets contain many typos. By correcting the typos we can find the correct token embeddings of a faulty word. This requires more preprocessing time as we need to check all the tokens. By it pays off well in the end.\n",
        "\n",
        "![image.png](https://github.com/kazemihabib/nlp_assignment_1/blob/LSTM/preprocessing_strategies.png?raw=1)"
      ]
    },
    {
      "cell_type": "markdown",
      "metadata": {
        "id": "bNb59haaIKPX"
      },
      "source": [
        "## How to use the embedding:"
      ]
    },
    {
      "cell_type": "code",
      "execution_count": null,
      "metadata": {
        "id": "8WUP4rJcIKPX"
      },
      "outputs": [],
      "source": [
        "def get_text_embedding_matrix(text, vocab, embedding_matrix):\n",
        "    # given a text, return the matrix of its embeddings\n",
        "    tokens = text.split()\n",
        "    text_embeddings = np.zeros((len(tokens), embedding_matrix.shape[1]), dtype='float32')\n",
        "    for i, token in enumerate(tokens):\n",
        "        token_index = vocab.get(token, vocab[\"[UNK]\"]) #get index of token if present in vocab, otherwise [UNK]\n",
        "        text_embeddings[i] = embedding_matrix[token_index]\n",
        "\n",
        "    return text_embeddings"
      ]
    },
    {
      "cell_type": "code",
      "execution_count": null,
      "metadata": {
        "colab": {
          "base_uri": "https://localhost:8080/"
        },
        "id": "0Fmj1qLcIKPX",
        "outputId": "33a1f007-bc4e-4df8-f428-8e5e209e2bf5"
      },
      "outputs": [
        {
          "output_type": "stream",
          "name": "stdout",
          "text": [
            "embed matrix with a shape (4, 50)\n"
          ]
        }
      ],
      "source": [
        "example_text = \"example text to embed\"\n",
        "embedding_matrix_for_text = get_text_embedding_matrix(example_text, vocab, embedding_matrix)\n",
        "print(f\"embed matrix with a shape {embedding_matrix_for_text.shape}\")"
      ]
    },
    {
      "cell_type": "markdown",
      "metadata": {
        "id": "6JLnuLGHGAUT"
      },
      "source": [
        "# [Task 4 - 1.0 points] Model definition\n",
        "\n",
        "You are now tasked to define your sexism classifier.\n",
        "\n",
        "\n"
      ]
    },
    {
      "cell_type": "markdown",
      "metadata": {
        "id": "iQFI9J-JOfXD"
      },
      "source": [
        "### Instructions\n",
        "\n",
        "* **Baseline**: implement a Bidirectional LSTM with a Dense layer on top.\n",
        "* You are **free** to experiment with hyper-parameters to define the baseline model.\n",
        "\n",
        "* **Model 1**: add an additional LSTM layer to the Baseline model."
      ]
    },
    {
      "cell_type": "markdown",
      "metadata": {
        "id": "4jALc_qYGS2E"
      },
      "source": [
        "### Token to embedding mapping\n",
        "\n",
        "You can follow two approaches for encoding tokens in your classifier.\n",
        "\n",
        "### Work directly with embeddings\n",
        "\n",
        "- Compute the embedding of each input token\n",
        "- Feed the mini-batches of shape (batch_size, # tokens, embedding_dim) to your model\n",
        "\n",
        "### Work with Embedding layer\n",
        "\n",
        "- Encode input tokens to token ids\n",
        "- Define a Embedding layer as the first layer of your model\n",
        "- Compute the embedding matrix of all known tokens (i.e., tokens in your vocabulary)\n",
        "- Initialize the Embedding layer with the computed embedding matrix\n",
        "- You are **free** to set the Embedding layer trainable or not"
      ]
    },
    {
      "cell_type": "code",
      "execution_count": null,
      "metadata": {
        "id": "Z44PckrNGfTv"
      },
      "outputs": [],
      "source": [
        "# embedding = tf.keras.layers.Embedding(input_dim=vocab_size,\n",
        "#                                       output_dim=embedding_dimension,\n",
        "#                                       weights=[embedding_matrix],\n",
        "#                                       mask_zero=True,                   # automatically masks padding tokens\n",
        "#                                       name='encoder_embedding')"
      ]
    },
    {
      "cell_type": "markdown",
      "metadata": {
        "id": "GEQTPu6eGgGv"
      },
      "source": [
        "### Padding\n",
        "\n",
        "Pay attention to padding tokens!\n",
        "\n",
        "Your model **should not** be penalized on those tokens.\n",
        "\n",
        "#### How to?\n",
        "\n",
        "There are two main ways.\n",
        "\n",
        "However, their implementation depends on the neural library you are using.\n",
        "\n",
        "- Embedding layer\n",
        "- Custom loss to compute average cross-entropy on non-padding tokens only\n",
        "\n",
        "**Note**: This is a **recommendation**, but we **do not penalize** for missing workarounds."
      ]
    },
    {
      "cell_type": "code",
      "execution_count": null,
      "metadata": {
        "id": "X7c-jn0EIKPd"
      },
      "outputs": [],
      "source": [
        "import torch\n",
        "import torch.nn as nn\n",
        "import torch.nn.functional as F\n",
        "import torch.nn.utils.rnn as rnn_utils\n",
        "\n",
        "class BaselineModel(nn.Module):\n",
        "    \"\"\"\n",
        "    Baseline Model: A Bidirectional LSTM with a Dense layer on top.\n",
        "    \"\"\"\n",
        "    def __init__(self, vocab_size, embedding_dim, embedding_matrix, hidden_dim, output_dim, pad_idx, dropout, ):\n",
        "        super(BaselineModel, self).__init__()\n",
        "        self.embedding = nn.Embedding.from_pretrained(\n",
        "            torch.tensor(embedding_matrix, dtype=torch.float32),\n",
        "            freeze=True,  # Pre-trained embeddings, not trainable\n",
        "            padding_idx=pad_idx\n",
        "        )\n",
        "        self.lstm = nn.LSTM(\n",
        "            embedding_dim,\n",
        "            hidden_dim,\n",
        "            bidirectional=True,\n",
        "            batch_first=True\n",
        "        )\n",
        "        self.fc = nn.Linear(hidden_dim * 2, output_dim)\n",
        "        self.dropout = nn.Dropout(dropout)\n",
        "\n",
        "    def forward(self, text, lengths):\n",
        "        # Step 1: Embed the input\n",
        "        embedded = self.embedding(text)\n",
        "\n",
        "        # Step 2: Pack the embedded sequence\n",
        "        packed_embedded = rnn_utils.pack_padded_sequence(embedded, lengths, batch_first=True, enforce_sorted=False)\n",
        "\n",
        "        # Step 3: Pass the packed sequence to the LSTM\n",
        "        packed_output, (hidden, cell) = self.lstm(packed_embedded)\n",
        "\n",
        "        # Step 4: Use the last hidden state (concatenate forward and backward states)\n",
        "        hidden = torch.cat((hidden[-2, :, :], hidden[-1, :, :]), dim=1)\n",
        "\n",
        "        # Step 5: Apply dropout and the final dense layer\n",
        "        output = self.fc(self.dropout(hidden))\n",
        "        # output = self.fc(hidden)\n",
        "\n",
        "        return torch.sigmoid(output)\n"
      ]
    },
    {
      "cell_type": "code",
      "execution_count": null,
      "metadata": {
        "id": "d3WZ7ehaIKPe"
      },
      "outputs": [],
      "source": [
        "device = torch.device('cuda' if torch.cuda.is_available() else 'cpu')"
      ]
    },
    {
      "cell_type": "code",
      "execution_count": null,
      "metadata": {
        "id": "IQz3p1ItIKPe"
      },
      "outputs": [],
      "source": [
        "%%skip\n",
        "# Example parameters\n",
        "model_params = {\n",
        "    'vocab_size' : len(vocab),\n",
        "    'embedding_dim' : embedding_matrix.shape[1],\n",
        "    'hidden_dim' : 128,\n",
        "    'output_dim' : 1,\n",
        "    'pad_idx' : vocab[\"[UNK]\"],\n",
        "    'embedding_matrix' : embedding_matrix,\n",
        "    'dropout':0.5\n",
        "}\n",
        "\n",
        "# Create models\n",
        "baseline_model = BaselineModel(**model_params)\n",
        "# model_1 = Model1(**model_params)\n",
        "\n",
        "# Print model architectures\n",
        "print(baseline_model)\n",
        "print(model_1)\n"
      ]
    },
    {
      "cell_type": "code",
      "execution_count": null,
      "metadata": {
        "id": "cEyw8OkQIKPf"
      },
      "outputs": [],
      "source": [
        "def train(model, iterator, optimizer, criterion, device):\n",
        "    \"\"\"\n",
        "    Train the model for one epoch.\n",
        "\n",
        "    Args:\n",
        "        model: The PyTorch model to train.\n",
        "        iterator: DataLoader providing batches of (padded_sequences, lengths, labels).\n",
        "        optimizer: Optimizer for updating model parameters.\n",
        "        criterion: Loss function (e.g., BCELoss for binary classification).\n",
        "        device: Device to run the training on (e.g., 'cuda' or 'cpu').\n",
        "\n",
        "    Returns:\n",
        "        Average loss over the epoch.\n",
        "    \"\"\"\n",
        "    model.train()\n",
        "    epoch_loss = 0\n",
        "\n",
        "    for padded_sequences, lengths, labels in iterator:\n",
        "        # Move data to the specified device\n",
        "        padded_sequences = padded_sequences.to(device)\n",
        "        lengths = lengths\n",
        "        labels = labels.to(device)\n",
        "\n",
        "        # Reset gradients\n",
        "        optimizer.zero_grad()\n",
        "\n",
        "        # Forward pass with packed sequences\n",
        "        predictions = model(padded_sequences, lengths).squeeze(1)\n",
        "\n",
        "        # Compute loss\n",
        "        loss = criterion(predictions, labels.float())\n",
        "\n",
        "        # Backpropagation\n",
        "        loss.backward()\n",
        "        optimizer.step()\n",
        "\n",
        "        # Accumulate loss\n",
        "        epoch_loss += loss.item()\n",
        "\n",
        "    return epoch_loss / len(iterator)\n"
      ]
    },
    {
      "cell_type": "code",
      "execution_count": null,
      "metadata": {
        "id": "1WfI0UjGIKPf"
      },
      "outputs": [],
      "source": [
        "from sklearn.metrics import accuracy_score, precision_score, recall_score, f1_score\n",
        "\n",
        "\n",
        "def evaluate(model, iterator, criterion, device):\n",
        "    model.eval()\n",
        "    epoch_loss = 0\n",
        "    all_preds = []\n",
        "    all_labels = []\n",
        "\n",
        "    with torch.no_grad():\n",
        "        for padded_sequences, lengths, labels in iterator:\n",
        "            padded_sequences = padded_sequences.to(device)\n",
        "            lengths = lengths\n",
        "            labels = labels.to(device)\n",
        "\n",
        "            predictions = model(padded_sequences, lengths).squeeze(1)\n",
        "            loss = criterion(predictions, labels)\n",
        "\n",
        "            epoch_loss += loss.item()\n",
        "            preds = (predictions >= 0.5).long()\n",
        "            all_preds.extend(preds.cpu().numpy())\n",
        "            all_labels.extend(labels.cpu().numpy())\n",
        "\n",
        "    accuracy = accuracy_score(all_labels, all_preds)\n",
        "    f1 = f1_score(all_labels, all_preds, average=\"macro\", zero_division=1)  # Avoid division by zero\n",
        "    return epoch_loss / len(iterator), accuracy, f1"
      ]
    },
    {
      "cell_type": "code",
      "execution_count": null,
      "metadata": {
        "id": "Qlo0TKdOIKPg"
      },
      "outputs": [],
      "source": [
        "from torch.utils.data import DataLoader, Dataset\n",
        "from torch.nn.utils.rnn import pad_sequence\n",
        "import torch\n",
        "\n",
        "class TweetDataset(Dataset):\n",
        "    def __init__(self, texts, labels, vocab):\n",
        "        self.texts = texts\n",
        "        self.labels = labels\n",
        "        self.vocab = vocab\n",
        "\n",
        "    def __len__(self):\n",
        "        return len(self.texts)\n",
        "\n",
        "    def __getitem__(self, idx):\n",
        "        text = self.texts[idx]\n",
        "        label = self.labels[idx]\n",
        "\n",
        "        # Tokenize text into indices based on vocab\n",
        "        token_ids = [self.vocab.get(token, self.vocab[UNKNOWN_TOKEN]) for token in text.split()]\n",
        "        return torch.tensor(token_ids), torch.tensor(label, dtype=torch.float)\n",
        "\n",
        "# Collate function to pad sequences dynamically\n",
        "def collate_fn(batch):\n",
        "    texts, labels = zip(*batch)\n",
        "\n",
        "    # Pad sequences\n",
        "    padded_texts = pad_sequence(texts, batch_first=True, padding_value=vocab[PADDING_TOKEN])\n",
        "\n",
        "    # Get sequence lengths\n",
        "    lengths = torch.tensor([len(seq) for seq in texts])\n",
        "\n",
        "    # Convert labels to tensor\n",
        "    labels = torch.tensor(labels, dtype=torch.float)\n",
        "\n",
        "    return padded_texts, lengths, labels\n",
        "\n",
        "# Create dataset and DataLoader\n",
        "train_dataset = TweetDataset(\n",
        "    texts=data_training_cleaned['tweet'].tolist(),\n",
        "    labels=data_training_cleaned['hard_label_task1'].tolist(),\n",
        "    vocab=vocab\n",
        ")\n",
        "\n",
        "val_dataset = TweetDataset(\n",
        "    texts=data_validation_cleaned['tweet'].tolist(),\n",
        "    labels=data_validation_cleaned['hard_label_task1'].tolist(),\n",
        "    vocab=vocab\n",
        ")\n",
        "\n",
        "test_dataset = TweetDataset(\n",
        "    texts=data_test_cleaned['tweet'].tolist(),\n",
        "    labels=data_test_cleaned['hard_label_task1'].tolist(),\n",
        "    vocab=vocab\n",
        ")\n",
        "\n",
        "train_loader = DataLoader(\n",
        "    train_dataset,\n",
        "    batch_size=32,\n",
        "    shuffle=True,\n",
        "    collate_fn=collate_fn\n",
        ")\n",
        "\n",
        "val_loader = DataLoader(\n",
        "    val_dataset,\n",
        "    batch_size=32,\n",
        "    shuffle=False,\n",
        "    collate_fn=collate_fn\n",
        ")\n",
        "\n",
        "test_loader = DataLoader(\n",
        "    test_dataset,\n",
        "    batch_size=32,\n",
        "    shuffle=False,\n",
        "    collate_fn=collate_fn\n",
        ")\n"
      ]
    },
    {
      "cell_type": "code",
      "execution_count": null,
      "metadata": {
        "id": "ASMHomLhIKPg"
      },
      "outputs": [],
      "source": [
        "%%skip\n",
        "# Let's start with a small dataset\n",
        "import torch\n",
        "from torch.utils.data import DataLoader\n",
        "\n",
        "# Set a random seed for reproducibility\n",
        "random_seed = 42\n",
        "# Randomly sample a subset of the data\n",
        "small_data_training = data_training.sample(n=64, random_state=random_seed)\n",
        "small_data_validation = data_validation.sample(n=20, random_state=random_seed)\n",
        "\n",
        "# Assuming TweetDataset is your custom dataset class\n",
        "small_train_dataset = TweetDataset(\n",
        "    texts=small_data_training['tweet'].tolist(),\n",
        "    labels=small_data_training['hard_label_task1'].tolist(),\n",
        "    vocab=vocab\n",
        ")\n",
        "small_train_loader = DataLoader(\n",
        "    small_train_dataset,\n",
        "    batch_size=32,\n",
        "    shuffle=True,\n",
        "    collate_fn=collate_fn\n",
        ")\n",
        "\n",
        "small_val_dataset = TweetDataset(\n",
        "    texts=small_data_validation['tweet'].tolist(),\n",
        "    labels=small_data_validation['hard_label_task1'].tolist(),\n",
        "    vocab=vocab\n",
        ")\n",
        "small_val_loader = DataLoader(\n",
        "    small_val_dataset,\n",
        "    batch_size=32,\n",
        "    shuffle=False,\n",
        "    collate_fn=collate_fn\n",
        ")"
      ]
    },
    {
      "cell_type": "code",
      "execution_count": null,
      "metadata": {
        "id": "qVrpPEUPIKPg"
      },
      "outputs": [],
      "source": [
        "%%skip\n",
        "import torch.optim as optim\n",
        "# Model parameters\n",
        "vocab_size = len(vocab)\n",
        "embedding_dim = embedding_matrix.shape[1]\n",
        "hidden_dim = 128\n",
        "output_dim = 1\n",
        "pad_idx = vocab[PADDING_TOKEN]\n",
        "droput = 0.5\n",
        "\n",
        "# Initialize model\n",
        "baseline_model = BaselineModel(vocab_size, embedding_dim, embedding_matrix, hidden_dim, output_dim, pad_idx, droput)\n",
        "\n",
        "# Optimizer and loss function\n",
        "optimizer = optim.Adam(baseline_model.parameters(), lr=0.001, weight_decay=1e-4)\n",
        "criterion = nn.BCELoss()\n",
        "\n",
        "# Move model to device\n",
        "device = torch.device('cuda' if torch.cuda.is_available() else 'cpu')\n",
        "baseline_model = baseline_model.to(device)\n",
        "criterion = criterion.to(device)\n"
      ]
    },
    {
      "cell_type": "code",
      "execution_count": null,
      "metadata": {
        "id": "zon6BNSmIKPh"
      },
      "outputs": [],
      "source": [
        "%%skip\n",
        "# === TRAINING LOOP SMALL DATA ===\n",
        "num_epochs = 100\n",
        "for epoch in range(num_epochs):\n",
        "    # Train on small dataset for overfitting\n",
        "    train_loss = train(baseline_model, small_train_loader, optimizer, criterion, device)\n",
        "    val_loss, val_accuracy = evaluate(baseline_model, small_val_loader, criterion, device)\n",
        "\n",
        "    print(f\"Epoch {epoch+1}/{num_epochs}\")\n",
        "    print(f\"Train Loss: {train_loss:.4f}\")\n",
        "    print(f\"Validation Loss: {val_loss:.4f}, Validation Accuracy: {val_accuracy:.4f}\")\n"
      ]
    },
    {
      "cell_type": "code",
      "execution_count": null,
      "metadata": {
        "id": "HkX7i22tIKPh"
      },
      "outputs": [],
      "source": [
        "epochs_so_far = 0\n",
        "\n",
        "# Initialize lists to store metrics\n",
        "train_losses = []\n",
        "val_losses = []\n",
        "val_accuracies = []\n"
      ]
    },
    {
      "cell_type": "code",
      "execution_count": null,
      "metadata": {
        "id": "S3Q20D9hIKPh"
      },
      "outputs": [],
      "source": [
        "%%skip\n",
        "# === TRAINING LOOP FULL DATA ===\n",
        "num_epochs = 10\n",
        "total_epochs = epochs_so_far + num_epochs\n",
        "for epoch in range(epochs_so_far, total_epochs):\n",
        "    # Train on small dataset for overfitting\n",
        "    train_loss = train(baseline_model, train_loader, optimizer, criterion, device)\n",
        "    val_loss, val_accuracy = evaluate(baseline_model, val_loader, criterion, device)\n",
        "\n",
        "    epochs_so_far = epoch\n",
        "\n",
        "    # Append metrics to lists\n",
        "    train_losses.append(train_loss)\n",
        "    val_losses.append(val_loss)\n",
        "    val_accuracies.append(val_accuracy)\n",
        "\n",
        "    print(f\"Epoch {epoch+1}/{total_epochs}\")\n",
        "    print(f\"Train Loss: {train_loss:.4f}\")\n",
        "    print(f\"Validation Loss: {val_loss:.4f}, Validation Accuracy: {val_accuracy:.4f}\")"
      ]
    },
    {
      "cell_type": "code",
      "execution_count": null,
      "metadata": {
        "id": "D1fZcCXcIKPh"
      },
      "outputs": [],
      "source": [
        "%%skip\n",
        "# === TRAINING LOOP FULL DATA ===\n",
        "num_epochs = 20\n",
        "total_epochs = num_epochs + epochs_so_far\n",
        "for epoch in range(epochs_so_far, total_epochs):\n",
        "    # Train on small dataset for overfitting\n",
        "    train_loss = train(baseline_model, train_loader, optimizer, criterion, device)\n",
        "    val_loss, val_accuracy = evaluate(baseline_model, val_loader, criterion, device)\n",
        "    epochs_so_far = epoch\n",
        "\n",
        "    # Append metrics to lists\n",
        "    train_losses.append(train_loss)\n",
        "    val_losses.append(val_loss)\n",
        "    val_accuracies.append(val_accuracy)\n",
        "\n",
        "    print(f\"Epoch {epoch+1}/{total_epochs}\")\n",
        "    print(f\"Train Loss: {train_loss:.4f}\")\n",
        "    print(f\"Validation Loss: {val_loss:.4f}, Validation Accuracy: {val_accuracy:.4f}\")"
      ]
    },
    {
      "cell_type": "code",
      "source": [
        "import matplotlib.pyplot as plt\n",
        "\n",
        "def plot_training_validation_loss(train_losses, val_losses):\n",
        "    \"\"\"Plots the training and validation loss curves.\n",
        "\n",
        "    Args:\n",
        "        train_losses: A list of training losses for each epoch.\n",
        "        val_losses: A list of validation losses for each epoch.\n",
        "    \"\"\"\n",
        "    plt.figure(figsize=(10, 6))\n",
        "    plt.plot(range(1, len(train_losses) + 1), train_losses, label='Train Loss')\n",
        "    plt.plot(range(1, len(val_losses) + 1), val_losses, label='Validation Loss')\n",
        "    plt.xlabel('Epochs')\n",
        "    plt.ylabel('Loss')\n",
        "    plt.title('Training and Validation Loss')\n",
        "    plt.legend()\n",
        "    plt.grid(True)\n",
        "    plt.show()"
      ],
      "metadata": {
        "id": "3tr61d5LsL7J"
      },
      "execution_count": null,
      "outputs": []
    },
    {
      "cell_type": "code",
      "execution_count": null,
      "metadata": {
        "id": "lJhCUPSnIKPi"
      },
      "outputs": [],
      "source": [
        "%%skip\n",
        "import matplotlib.pyplot as plt\n",
        "\n",
        "# Plot Training and Validation Loss\n",
        "plt.figure(figsize=(10, 6))\n",
        "plt.plot(range(1, len(train_losses) + 1), train_losses, label='Train Loss')\n",
        "plt.plot(range(1, len(val_losses) + 1), val_losses, label='Validation Loss')\n",
        "plt.xlabel('Epochs')\n",
        "plt.ylabel('Loss')\n",
        "plt.title('Training and Validation Loss')\n",
        "plt.legend()\n",
        "plt.grid(True)\n",
        "plt.show()\n",
        "\n",
        "# Plot Validation Accuracy\n",
        "plt.figure(figsize=(10, 6))\n",
        "plt.plot(range(1, len(val_accuracies) + 1), val_accuracies, label='Validation Accuracy')\n",
        "plt.xlabel('Epochs')\n",
        "plt.ylabel('Accuracy')\n",
        "plt.title('Validation Accuracy')\n",
        "plt.legend()\n",
        "plt.grid(True)\n",
        "plt.show()\n"
      ]
    },
    {
      "cell_type": "code",
      "execution_count": null,
      "metadata": {
        "id": "QZOAk1OiIKPi"
      },
      "outputs": [],
      "source": [
        "%%skip\n",
        "# === TRAINING LOOP FULL DATA ===\n",
        "num_epochs = 30\n",
        "for epoch in range(epochs_so_far, epochs_so_far + num_epochs):\n",
        "    # Train on small dataset for overfitting\n",
        "    train_loss = train(baseline_model, train_loader, optimizer, criterion, device)\n",
        "    val_loss, val_accuracy = evaluate(baseline_model, val_loader, criterion, device)\n",
        "\n",
        "    print(f\"Epoch {epoch+1}/{num_epochs}\")\n",
        "    print(f\"Train Loss: {train_loss:.4f}\")\n",
        "    print(f\"Validation Loss: {val_loss:.4f}, Validation Accuracy: {val_accuracy:.4f}\")"
      ]
    },
    {
      "cell_type": "code",
      "execution_count": null,
      "metadata": {
        "colab": {
          "base_uri": "https://localhost:8080/"
        },
        "id": "8dwrSrmkIKPj",
        "outputId": "3434f804-7fc6-4135-d9f1-d25e1226218f"
      },
      "outputs": [
        {
          "output_type": "stream",
          "name": "stderr",
          "text": [
            "[I 2024-12-03 18:13:13,664] A new study created in memory with name: no-name-dcf32a52-3016-4e96-b222-3c8aa524ee70\n",
            "[I 2024-12-03 18:13:54,312] Trial 0 finished with value: 0.45713749527931213 and parameters: {'hidden_dim': 193, 'dropout': 0.3905936358025719, 'learning_rate': 0.004872388507756796, 'weight_decay': 0.003418466237302869}. Best is trial 0 with value: 0.45713749527931213.\n",
            "[I 2024-12-03 18:14:14,826] Trial 1 finished with value: 0.5191999435424804 and parameters: {'hidden_dim': 199, 'dropout': 0.5417510370174321, 'learning_rate': 0.007313040733159983, 'weight_decay': 0.001723392136672091}. Best is trial 0 with value: 0.45713749527931213.\n",
            "[I 2024-12-03 18:14:36,392] Trial 2 finished with value: 0.4700447678565979 and parameters: {'hidden_dim': 187, 'dropout': 0.6512861026020116, 'learning_rate': 0.007404500752452388, 'weight_decay': 0.0014450607060793983}. Best is trial 0 with value: 0.45713749527931213.\n",
            "[I 2024-12-03 18:14:56,183] Trial 3 finished with value: 0.536794102191925 and parameters: {'hidden_dim': 97, 'dropout': 0.28054137869454526, 'learning_rate': 0.003637197964919871, 'weight_decay': 0.00905926886110685}. Best is trial 0 with value: 0.45713749527931213.\n",
            "[I 2024-12-03 18:15:17,163] Trial 4 finished with value: 0.4933034539222717 and parameters: {'hidden_dim': 170, 'dropout': 0.5059100186577392, 'learning_rate': 0.008020763633315038, 'weight_decay': 0.006357884623848947}. Best is trial 0 with value: 0.45713749527931213.\n",
            "[I 2024-12-03 18:15:38,287] Trial 5 finished with value: 0.4704529166221619 and parameters: {'hidden_dim': 163, 'dropout': 0.4823671694603638, 'learning_rate': 0.005321067895894066, 'weight_decay': 0.004698289299155539}. Best is trial 0 with value: 0.45713749527931213.\n",
            "[I 2024-12-03 18:15:59,869] Trial 6 finished with value: 0.512878167629242 and parameters: {'hidden_dim': 217, 'dropout': 0.2434057168760057, 'learning_rate': 0.006892688607550672, 'weight_decay': 0.008253371930085972}. Best is trial 0 with value: 0.45713749527931213.\n",
            "[I 2024-12-03 18:16:21,507] Trial 7 finished with value: 0.4569747567176819 and parameters: {'hidden_dim': 249, 'dropout': 0.4056355431647982, 'learning_rate': 0.007121236220932739, 'weight_decay': 0.002453534485415305}. Best is trial 7 with value: 0.4569747567176819.\n",
            "[I 2024-12-03 18:16:48,480] Trial 8 finished with value: 0.5434301853179931 and parameters: {'hidden_dim': 133, 'dropout': 0.30004798235540475, 'learning_rate': 0.0033925634655307523, 'weight_decay': 0.005511764073243898}. Best is trial 7 with value: 0.4569747567176819.\n",
            "[I 2024-12-03 18:17:10,187] Trial 9 finished with value: 0.5501142621040345 and parameters: {'hidden_dim': 77, 'dropout': 0.6606719474166715, 'learning_rate': 0.00920287078777022, 'weight_decay': 0.007624592619161892}. Best is trial 7 with value: 0.4569747567176819.\n",
            "[I 2024-12-03 18:17:32,241] Trial 10 finished with value: 0.6038753986358643 and parameters: {'hidden_dim': 241, 'dropout': 0.3949705984878075, 'learning_rate': 0.00029203872956395146, 'weight_decay': 0.00339307481042458}. Best is trial 7 with value: 0.4569747567176819.\n",
            "[I 2024-12-03 18:17:54,112] Trial 11 finished with value: 0.8127803444862366 and parameters: {'hidden_dim': 254, 'dropout': 0.3879641929383997, 'learning_rate': 0.005041840629020515, 'weight_decay': 2.0145241390899515e-05}. Best is trial 7 with value: 0.4569747567176819.\n",
            "[I 2024-12-03 18:18:15,913] Trial 12 finished with value: 0.49381607174873354 and parameters: {'hidden_dim': 224, 'dropout': 0.3990065230720381, 'learning_rate': 0.005407560779341685, 'weight_decay': 0.0033659573388402047}. Best is trial 7 with value: 0.4569747567176819.\n",
            "[I 2024-12-03 18:18:37,556] Trial 13 finished with value: 0.525353217124939 and parameters: {'hidden_dim': 134, 'dropout': 0.35778428883599755, 'learning_rate': 0.0019211546345013005, 'weight_decay': 0.0030561061108782175}. Best is trial 7 with value: 0.4569747567176819.\n",
            "[I 2024-12-03 18:18:59,037] Trial 14 finished with value: 0.46739479899406433 and parameters: {'hidden_dim': 212, 'dropout': 0.5593346138970002, 'learning_rate': 0.006195520054497007, 'weight_decay': 0.0018122187566665493}. Best is trial 7 with value: 0.4569747567176819.\n",
            "[I 2024-12-03 18:19:19,852] Trial 15 finished with value: 0.48187705874443054 and parameters: {'hidden_dim': 232, 'dropout': 0.20158305847124117, 'learning_rate': 0.009623802505280154, 'weight_decay': 0.004318287717861052}. Best is trial 7 with value: 0.4569747567176819.\n",
            "[I 2024-12-03 18:19:41,222] Trial 16 finished with value: 0.6806672930717468 and parameters: {'hidden_dim': 184, 'dropout': 0.44392510381345685, 'learning_rate': 0.003936827499859584, 'weight_decay': 6.447610373487567e-06}. Best is trial 7 with value: 0.4569747567176819.\n",
            "[I 2024-12-03 18:20:06,675] Trial 17 finished with value: 0.43764117956161497 and parameters: {'hidden_dim': 124, 'dropout': 0.32834082200489967, 'learning_rate': 0.008427743206631776, 'weight_decay': 0.0027629082061889354}. Best is trial 17 with value: 0.43764117956161497.\n",
            "[I 2024-12-03 18:20:27,624] Trial 18 finished with value: 0.5014829337596893 and parameters: {'hidden_dim': 132, 'dropout': 0.3178691463345792, 'learning_rate': 0.008829596988299012, 'weight_decay': 0.00241797565158754}. Best is trial 17 with value: 0.43764117956161497.\n",
            "[I 2024-12-03 18:20:48,949] Trial 19 finished with value: 0.5371878385543823 and parameters: {'hidden_dim': 109, 'dropout': 0.44206119011332795, 'learning_rate': 0.008346891805164298, 'weight_decay': 0.0010275042827851827}. Best is trial 17 with value: 0.43764117956161497.\n",
            "[I 2024-12-03 18:21:10,460] Trial 20 finished with value: 0.5317059576511383 and parameters: {'hidden_dim': 69, 'dropout': 0.5769614092542953, 'learning_rate': 0.006579608161033593, 'weight_decay': 0.006050366469408621}. Best is trial 17 with value: 0.43764117956161497.\n",
            "[I 2024-12-03 18:21:32,515] Trial 21 finished with value: 0.48116588592529297 and parameters: {'hidden_dim': 147, 'dropout': 0.3393820114860896, 'learning_rate': 0.004346755081652583, 'weight_decay': 0.003932806300975654}. Best is trial 17 with value: 0.43764117956161497.\n",
            "[I 2024-12-03 18:21:54,079] Trial 22 finished with value: 0.44153338074684145 and parameters: {'hidden_dim': 108, 'dropout': 0.42792445767414017, 'learning_rate': 0.009872370166745862, 'weight_decay': 0.0024138685632589946}. Best is trial 17 with value: 0.43764117956161497.\n",
            "[I 2024-12-03 18:22:21,626] Trial 23 finished with value: 0.4554311096668243 and parameters: {'hidden_dim': 109, 'dropout': 0.4564935256229186, 'learning_rate': 0.00996354192033528, 'weight_decay': 0.0026495465449887018}. Best is trial 17 with value: 0.43764117956161497.\n",
            "[I 2024-12-03 18:22:42,731] Trial 24 finished with value: 0.48839862942695617 and parameters: {'hidden_dim': 106, 'dropout': 0.48702892596685987, 'learning_rate': 0.009656120979995788, 'weight_decay': 0.0023906338400127105}. Best is trial 17 with value: 0.43764117956161497.\n",
            "[I 2024-12-03 18:23:03,990] Trial 25 finished with value: 0.4993094801902771 and parameters: {'hidden_dim': 92, 'dropout': 0.5960993613745696, 'learning_rate': 0.009875968005355718, 'weight_decay': 0.0048703249082255}. Best is trial 17 with value: 0.43764117956161497.\n",
            "[I 2024-12-03 18:23:25,567] Trial 26 finished with value: 0.443734747171402 and parameters: {'hidden_dim': 119, 'dropout': 0.4420933898543344, 'learning_rate': 0.008445231318642093, 'weight_decay': 0.0007786175291016209}. Best is trial 17 with value: 0.43764117956161497.\n",
            "[I 2024-12-03 18:23:48,145] Trial 27 finished with value: 0.44391644895076754 and parameters: {'hidden_dim': 122, 'dropout': 0.26227839724254964, 'learning_rate': 0.008530306111145618, 'weight_decay': 0.000880996264523048}. Best is trial 17 with value: 0.43764117956161497.\n",
            "[I 2024-12-03 18:24:09,938] Trial 28 finished with value: 0.3501457840204239 and parameters: {'hidden_dim': 85, 'dropout': 0.5179426457550893, 'learning_rate': 0.007876392518863445, 'weight_decay': 0.000920528954707474}. Best is trial 28 with value: 0.3501457840204239.\n",
            "[I 2024-12-03 18:24:30,867] Trial 29 finished with value: 0.5304214596748352 and parameters: {'hidden_dim': 85, 'dropout': 0.5286585450833349, 'learning_rate': 0.007787816589157645, 'weight_decay': 0.003810582033927349}. Best is trial 28 with value: 0.3501457840204239.\n"
          ]
        },
        {
          "output_type": "stream",
          "name": "stdout",
          "text": [
            "Best hyperparameters: {'hidden_dim': 85, 'dropout': 0.5179426457550893, 'learning_rate': 0.007876392518863445, 'weight_decay': 0.000920528954707474}\n"
          ]
        }
      ],
      "source": [
        "import torch.optim as optim\n",
        "\n",
        "# === OPTUNA OBJECTIVE FUNCTION ===\n",
        "def objective(trial):\n",
        "    # Suggest hyperparameters\n",
        "    hidden_dim = trial.suggest_int(\"hidden_dim\", 64, 256)\n",
        "    dropout = trial.suggest_float(\"dropout\", 0.2, 0.7)\n",
        "    learning_rate = trial.suggest_float(\"learning_rate\", 1e-4, 1e-2)\n",
        "    weight_decay = trial.suggest_float(\"weight_decay\", 1e-6, 1e-2)\n",
        "\n",
        "\n",
        "    # Define the model\n",
        "    model = BaselineModel(\n",
        "        vocab_size=len(vocab),\n",
        "        embedding_dim=embedding_matrix.shape[1],\n",
        "        embedding_matrix=embedding_matrix,\n",
        "        hidden_dim=hidden_dim,\n",
        "        output_dim=1,\n",
        "        pad_idx=vocab[\"[PAD]\"],\n",
        "        dropout=dropout\n",
        "    ).to(device)\n",
        "\n",
        "    # Optimizer and criterion\n",
        "    optimizer = optim.Adam(model.parameters(), lr=learning_rate, weight_decay=weight_decay)\n",
        "    criterion = nn.BCELoss()\n",
        "\n",
        "    # Train and evaluate\n",
        "    num_epochs = 20  # Keep this small for fast tuning; increase for the final model\n",
        "    for epoch in range(num_epochs):\n",
        "        train_loss = train(model, train_loader, optimizer, criterion, device)\n",
        "    val_loss, val_accuracy, val_f1 = evaluate(model, val_loader, criterion, device)\n",
        "\n",
        "    # Return the metric to maximize\n",
        "    return val_loss\n",
        "\n",
        "# === HYPERPARAMETER TUNING WITH OPTUNA ===\n",
        "device = torch.device(\"cuda\" if torch.cuda.is_available() else \"cpu\")\n",
        "\n",
        "# Create an Optuna study and optimize\n",
        "study = optuna.create_study(direction=\"minimize\")\n",
        "study.optimize(objective, n_trials=30)\n",
        "\n",
        "# Print the best parameters\n",
        "print(\"Best hyperparameters:\", study.best_params)"
      ]
    },
    {
      "cell_type": "code",
      "source": [
        "# Visualize the optimization history\n",
        "optuna.visualization.plot_optimization_history(study).show()\n",
        "\n",
        "# Visualize hyperparameter importance\n",
        "optuna.visualization.plot_param_importances(study).show()\n",
        "\n",
        "# Visualize the relationship between hyperparameters and accuracy\n",
        "optuna.visualization.plot_parallel_coordinate(study).show()\n"
      ],
      "metadata": {
        "colab": {
          "base_uri": "https://localhost:8080/",
          "height": 1000
        },
        "id": "f4vBCU6B3fs5",
        "outputId": "09d6958f-5a5a-47f0-dac6-021f16dff6c6"
      },
      "execution_count": null,
      "outputs": [
        {
          "output_type": "display_data",
          "data": {
            "text/html": [
              "<html>\n",
              "<head><meta charset=\"utf-8\" /></head>\n",
              "<body>\n",
              "    <div>            <script src=\"https://cdnjs.cloudflare.com/ajax/libs/mathjax/2.7.5/MathJax.js?config=TeX-AMS-MML_SVG\"></script><script type=\"text/javascript\">if (window.MathJax && window.MathJax.Hub && window.MathJax.Hub.Config) {window.MathJax.Hub.Config({SVG: {font: \"STIX-Web\"}});}</script>                <script type=\"text/javascript\">window.PlotlyConfig = {MathJaxConfig: 'local'};</script>\n",
              "        <script charset=\"utf-8\" src=\"https://cdn.plot.ly/plotly-2.35.2.min.js\"></script>                <div id=\"23d8904b-5617-4165-89d3-9f268136a7ae\" class=\"plotly-graph-div\" style=\"height:525px; width:100%;\"></div>            <script type=\"text/javascript\">                                    window.PLOTLYENV=window.PLOTLYENV || {};                                    if (document.getElementById(\"23d8904b-5617-4165-89d3-9f268136a7ae\")) {                    Plotly.newPlot(                        \"23d8904b-5617-4165-89d3-9f268136a7ae\",                        [{\"mode\":\"markers\",\"name\":\"Objective Value\",\"x\":[0,1,2,3,4,5,6,7,8,9,10,11,12,13,14,15,16,17,18,19,20,21,22,23,24,25,26,27,28,29],\"y\":[0.45713749527931213,0.5191999435424804,0.4700447678565979,0.536794102191925,0.4933034539222717,0.4704529166221619,0.512878167629242,0.4569747567176819,0.5434301853179931,0.5501142621040345,0.6038753986358643,0.8127803444862366,0.49381607174873354,0.525353217124939,0.46739479899406433,0.48187705874443054,0.6806672930717468,0.43764117956161497,0.5014829337596893,0.5371878385543823,0.5317059576511383,0.48116588592529297,0.44153338074684145,0.4554311096668243,0.48839862942695617,0.4993094801902771,0.443734747171402,0.44391644895076754,0.3501457840204239,0.5304214596748352],\"type\":\"scatter\"},{\"mode\":\"lines\",\"name\":\"Best Value\",\"x\":[0,1,2,3,4,5,6,7,8,9,10,11,12,13,14,15,16,17,18,19,20,21,22,23,24,25,26,27,28,29],\"y\":[0.45713749527931213,0.45713749527931213,0.45713749527931213,0.45713749527931213,0.45713749527931213,0.45713749527931213,0.45713749527931213,0.4569747567176819,0.4569747567176819,0.4569747567176819,0.4569747567176819,0.4569747567176819,0.4569747567176819,0.4569747567176819,0.4569747567176819,0.4569747567176819,0.4569747567176819,0.43764117956161497,0.43764117956161497,0.43764117956161497,0.43764117956161497,0.43764117956161497,0.43764117956161497,0.43764117956161497,0.43764117956161497,0.43764117956161497,0.43764117956161497,0.43764117956161497,0.3501457840204239,0.3501457840204239],\"type\":\"scatter\"},{\"marker\":{\"color\":\"#cccccc\"},\"mode\":\"markers\",\"name\":\"Infeasible Trial\",\"showlegend\":false,\"x\":[],\"y\":[],\"type\":\"scatter\"}],                        {\"title\":{\"text\":\"Optimization History Plot\"},\"xaxis\":{\"title\":{\"text\":\"Trial\"}},\"yaxis\":{\"title\":{\"text\":\"Objective Value\"}},\"template\":{\"data\":{\"histogram2dcontour\":[{\"type\":\"histogram2dcontour\",\"colorbar\":{\"outlinewidth\":0,\"ticks\":\"\"},\"colorscale\":[[0.0,\"#0d0887\"],[0.1111111111111111,\"#46039f\"],[0.2222222222222222,\"#7201a8\"],[0.3333333333333333,\"#9c179e\"],[0.4444444444444444,\"#bd3786\"],[0.5555555555555556,\"#d8576b\"],[0.6666666666666666,\"#ed7953\"],[0.7777777777777778,\"#fb9f3a\"],[0.8888888888888888,\"#fdca26\"],[1.0,\"#f0f921\"]]}],\"choropleth\":[{\"type\":\"choropleth\",\"colorbar\":{\"outlinewidth\":0,\"ticks\":\"\"}}],\"histogram2d\":[{\"type\":\"histogram2d\",\"colorbar\":{\"outlinewidth\":0,\"ticks\":\"\"},\"colorscale\":[[0.0,\"#0d0887\"],[0.1111111111111111,\"#46039f\"],[0.2222222222222222,\"#7201a8\"],[0.3333333333333333,\"#9c179e\"],[0.4444444444444444,\"#bd3786\"],[0.5555555555555556,\"#d8576b\"],[0.6666666666666666,\"#ed7953\"],[0.7777777777777778,\"#fb9f3a\"],[0.8888888888888888,\"#fdca26\"],[1.0,\"#f0f921\"]]}],\"heatmap\":[{\"type\":\"heatmap\",\"colorbar\":{\"outlinewidth\":0,\"ticks\":\"\"},\"colorscale\":[[0.0,\"#0d0887\"],[0.1111111111111111,\"#46039f\"],[0.2222222222222222,\"#7201a8\"],[0.3333333333333333,\"#9c179e\"],[0.4444444444444444,\"#bd3786\"],[0.5555555555555556,\"#d8576b\"],[0.6666666666666666,\"#ed7953\"],[0.7777777777777778,\"#fb9f3a\"],[0.8888888888888888,\"#fdca26\"],[1.0,\"#f0f921\"]]}],\"heatmapgl\":[{\"type\":\"heatmapgl\",\"colorbar\":{\"outlinewidth\":0,\"ticks\":\"\"},\"colorscale\":[[0.0,\"#0d0887\"],[0.1111111111111111,\"#46039f\"],[0.2222222222222222,\"#7201a8\"],[0.3333333333333333,\"#9c179e\"],[0.4444444444444444,\"#bd3786\"],[0.5555555555555556,\"#d8576b\"],[0.6666666666666666,\"#ed7953\"],[0.7777777777777778,\"#fb9f3a\"],[0.8888888888888888,\"#fdca26\"],[1.0,\"#f0f921\"]]}],\"contourcarpet\":[{\"type\":\"contourcarpet\",\"colorbar\":{\"outlinewidth\":0,\"ticks\":\"\"}}],\"contour\":[{\"type\":\"contour\",\"colorbar\":{\"outlinewidth\":0,\"ticks\":\"\"},\"colorscale\":[[0.0,\"#0d0887\"],[0.1111111111111111,\"#46039f\"],[0.2222222222222222,\"#7201a8\"],[0.3333333333333333,\"#9c179e\"],[0.4444444444444444,\"#bd3786\"],[0.5555555555555556,\"#d8576b\"],[0.6666666666666666,\"#ed7953\"],[0.7777777777777778,\"#fb9f3a\"],[0.8888888888888888,\"#fdca26\"],[1.0,\"#f0f921\"]]}],\"surface\":[{\"type\":\"surface\",\"colorbar\":{\"outlinewidth\":0,\"ticks\":\"\"},\"colorscale\":[[0.0,\"#0d0887\"],[0.1111111111111111,\"#46039f\"],[0.2222222222222222,\"#7201a8\"],[0.3333333333333333,\"#9c179e\"],[0.4444444444444444,\"#bd3786\"],[0.5555555555555556,\"#d8576b\"],[0.6666666666666666,\"#ed7953\"],[0.7777777777777778,\"#fb9f3a\"],[0.8888888888888888,\"#fdca26\"],[1.0,\"#f0f921\"]]}],\"mesh3d\":[{\"type\":\"mesh3d\",\"colorbar\":{\"outlinewidth\":0,\"ticks\":\"\"}}],\"scatter\":[{\"fillpattern\":{\"fillmode\":\"overlay\",\"size\":10,\"solidity\":0.2},\"type\":\"scatter\"}],\"parcoords\":[{\"type\":\"parcoords\",\"line\":{\"colorbar\":{\"outlinewidth\":0,\"ticks\":\"\"}}}],\"scatterpolargl\":[{\"type\":\"scatterpolargl\",\"marker\":{\"colorbar\":{\"outlinewidth\":0,\"ticks\":\"\"}}}],\"bar\":[{\"error_x\":{\"color\":\"#2a3f5f\"},\"error_y\":{\"color\":\"#2a3f5f\"},\"marker\":{\"line\":{\"color\":\"#E5ECF6\",\"width\":0.5},\"pattern\":{\"fillmode\":\"overlay\",\"size\":10,\"solidity\":0.2}},\"type\":\"bar\"}],\"scattergeo\":[{\"type\":\"scattergeo\",\"marker\":{\"colorbar\":{\"outlinewidth\":0,\"ticks\":\"\"}}}],\"scatterpolar\":[{\"type\":\"scatterpolar\",\"marker\":{\"colorbar\":{\"outlinewidth\":0,\"ticks\":\"\"}}}],\"histogram\":[{\"marker\":{\"pattern\":{\"fillmode\":\"overlay\",\"size\":10,\"solidity\":0.2}},\"type\":\"histogram\"}],\"scattergl\":[{\"type\":\"scattergl\",\"marker\":{\"colorbar\":{\"outlinewidth\":0,\"ticks\":\"\"}}}],\"scatter3d\":[{\"type\":\"scatter3d\",\"line\":{\"colorbar\":{\"outlinewidth\":0,\"ticks\":\"\"}},\"marker\":{\"colorbar\":{\"outlinewidth\":0,\"ticks\":\"\"}}}],\"scattermapbox\":[{\"type\":\"scattermapbox\",\"marker\":{\"colorbar\":{\"outlinewidth\":0,\"ticks\":\"\"}}}],\"scatterternary\":[{\"type\":\"scatterternary\",\"marker\":{\"colorbar\":{\"outlinewidth\":0,\"ticks\":\"\"}}}],\"scattercarpet\":[{\"type\":\"scattercarpet\",\"marker\":{\"colorbar\":{\"outlinewidth\":0,\"ticks\":\"\"}}}],\"carpet\":[{\"aaxis\":{\"endlinecolor\":\"#2a3f5f\",\"gridcolor\":\"white\",\"linecolor\":\"white\",\"minorgridcolor\":\"white\",\"startlinecolor\":\"#2a3f5f\"},\"baxis\":{\"endlinecolor\":\"#2a3f5f\",\"gridcolor\":\"white\",\"linecolor\":\"white\",\"minorgridcolor\":\"white\",\"startlinecolor\":\"#2a3f5f\"},\"type\":\"carpet\"}],\"table\":[{\"cells\":{\"fill\":{\"color\":\"#EBF0F8\"},\"line\":{\"color\":\"white\"}},\"header\":{\"fill\":{\"color\":\"#C8D4E3\"},\"line\":{\"color\":\"white\"}},\"type\":\"table\"}],\"barpolar\":[{\"marker\":{\"line\":{\"color\":\"#E5ECF6\",\"width\":0.5},\"pattern\":{\"fillmode\":\"overlay\",\"size\":10,\"solidity\":0.2}},\"type\":\"barpolar\"}],\"pie\":[{\"automargin\":true,\"type\":\"pie\"}]},\"layout\":{\"autotypenumbers\":\"strict\",\"colorway\":[\"#636efa\",\"#EF553B\",\"#00cc96\",\"#ab63fa\",\"#FFA15A\",\"#19d3f3\",\"#FF6692\",\"#B6E880\",\"#FF97FF\",\"#FECB52\"],\"font\":{\"color\":\"#2a3f5f\"},\"hovermode\":\"closest\",\"hoverlabel\":{\"align\":\"left\"},\"paper_bgcolor\":\"white\",\"plot_bgcolor\":\"#E5ECF6\",\"polar\":{\"bgcolor\":\"#E5ECF6\",\"angularaxis\":{\"gridcolor\":\"white\",\"linecolor\":\"white\",\"ticks\":\"\"},\"radialaxis\":{\"gridcolor\":\"white\",\"linecolor\":\"white\",\"ticks\":\"\"}},\"ternary\":{\"bgcolor\":\"#E5ECF6\",\"aaxis\":{\"gridcolor\":\"white\",\"linecolor\":\"white\",\"ticks\":\"\"},\"baxis\":{\"gridcolor\":\"white\",\"linecolor\":\"white\",\"ticks\":\"\"},\"caxis\":{\"gridcolor\":\"white\",\"linecolor\":\"white\",\"ticks\":\"\"}},\"coloraxis\":{\"colorbar\":{\"outlinewidth\":0,\"ticks\":\"\"}},\"colorscale\":{\"sequential\":[[0.0,\"#0d0887\"],[0.1111111111111111,\"#46039f\"],[0.2222222222222222,\"#7201a8\"],[0.3333333333333333,\"#9c179e\"],[0.4444444444444444,\"#bd3786\"],[0.5555555555555556,\"#d8576b\"],[0.6666666666666666,\"#ed7953\"],[0.7777777777777778,\"#fb9f3a\"],[0.8888888888888888,\"#fdca26\"],[1.0,\"#f0f921\"]],\"sequentialminus\":[[0.0,\"#0d0887\"],[0.1111111111111111,\"#46039f\"],[0.2222222222222222,\"#7201a8\"],[0.3333333333333333,\"#9c179e\"],[0.4444444444444444,\"#bd3786\"],[0.5555555555555556,\"#d8576b\"],[0.6666666666666666,\"#ed7953\"],[0.7777777777777778,\"#fb9f3a\"],[0.8888888888888888,\"#fdca26\"],[1.0,\"#f0f921\"]],\"diverging\":[[0,\"#8e0152\"],[0.1,\"#c51b7d\"],[0.2,\"#de77ae\"],[0.3,\"#f1b6da\"],[0.4,\"#fde0ef\"],[0.5,\"#f7f7f7\"],[0.6,\"#e6f5d0\"],[0.7,\"#b8e186\"],[0.8,\"#7fbc41\"],[0.9,\"#4d9221\"],[1,\"#276419\"]]},\"xaxis\":{\"gridcolor\":\"white\",\"linecolor\":\"white\",\"ticks\":\"\",\"title\":{\"standoff\":15},\"zerolinecolor\":\"white\",\"automargin\":true,\"zerolinewidth\":2},\"yaxis\":{\"gridcolor\":\"white\",\"linecolor\":\"white\",\"ticks\":\"\",\"title\":{\"standoff\":15},\"zerolinecolor\":\"white\",\"automargin\":true,\"zerolinewidth\":2},\"scene\":{\"xaxis\":{\"backgroundcolor\":\"#E5ECF6\",\"gridcolor\":\"white\",\"linecolor\":\"white\",\"showbackground\":true,\"ticks\":\"\",\"zerolinecolor\":\"white\",\"gridwidth\":2},\"yaxis\":{\"backgroundcolor\":\"#E5ECF6\",\"gridcolor\":\"white\",\"linecolor\":\"white\",\"showbackground\":true,\"ticks\":\"\",\"zerolinecolor\":\"white\",\"gridwidth\":2},\"zaxis\":{\"backgroundcolor\":\"#E5ECF6\",\"gridcolor\":\"white\",\"linecolor\":\"white\",\"showbackground\":true,\"ticks\":\"\",\"zerolinecolor\":\"white\",\"gridwidth\":2}},\"shapedefaults\":{\"line\":{\"color\":\"#2a3f5f\"}},\"annotationdefaults\":{\"arrowcolor\":\"#2a3f5f\",\"arrowhead\":0,\"arrowwidth\":1},\"geo\":{\"bgcolor\":\"white\",\"landcolor\":\"#E5ECF6\",\"subunitcolor\":\"white\",\"showland\":true,\"showlakes\":true,\"lakecolor\":\"white\"},\"title\":{\"x\":0.05},\"mapbox\":{\"style\":\"light\"}}}},                        {\"responsive\": true}                    ).then(function(){\n",
              "                            \n",
              "var gd = document.getElementById('23d8904b-5617-4165-89d3-9f268136a7ae');\n",
              "var x = new MutationObserver(function (mutations, observer) {{\n",
              "        var display = window.getComputedStyle(gd).display;\n",
              "        if (!display || display === 'none') {{\n",
              "            console.log([gd, 'removed!']);\n",
              "            Plotly.purge(gd);\n",
              "            observer.disconnect();\n",
              "        }}\n",
              "}});\n",
              "\n",
              "// Listen for the removal of the full notebook cells\n",
              "var notebookContainer = gd.closest('#notebook-container');\n",
              "if (notebookContainer) {{\n",
              "    x.observe(notebookContainer, {childList: true});\n",
              "}}\n",
              "\n",
              "// Listen for the clearing of the current output cell\n",
              "var outputEl = gd.closest('.output');\n",
              "if (outputEl) {{\n",
              "    x.observe(outputEl, {childList: true});\n",
              "}}\n",
              "\n",
              "                        })                };                            </script>        </div>\n",
              "</body>\n",
              "</html>"
            ]
          },
          "metadata": {}
        },
        {
          "output_type": "display_data",
          "data": {
            "text/html": [
              "<html>\n",
              "<head><meta charset=\"utf-8\" /></head>\n",
              "<body>\n",
              "    <div>            <script src=\"https://cdnjs.cloudflare.com/ajax/libs/mathjax/2.7.5/MathJax.js?config=TeX-AMS-MML_SVG\"></script><script type=\"text/javascript\">if (window.MathJax && window.MathJax.Hub && window.MathJax.Hub.Config) {window.MathJax.Hub.Config({SVG: {font: \"STIX-Web\"}});}</script>                <script type=\"text/javascript\">window.PlotlyConfig = {MathJaxConfig: 'local'};</script>\n",
              "        <script charset=\"utf-8\" src=\"https://cdn.plot.ly/plotly-2.35.2.min.js\"></script>                <div id=\"863a1886-a688-4140-819a-c35e3a833f51\" class=\"plotly-graph-div\" style=\"height:525px; width:100%;\"></div>            <script type=\"text/javascript\">                                    window.PLOTLYENV=window.PLOTLYENV || {};                                    if (document.getElementById(\"863a1886-a688-4140-819a-c35e3a833f51\")) {                    Plotly.newPlot(                        \"863a1886-a688-4140-819a-c35e3a833f51\",                        [{\"cliponaxis\":false,\"hovertemplate\":[\"dropout (FloatDistribution): 0.019800110501326545\\u003cextra\\u003e\\u003c\\u002fextra\\u003e\",\"hidden_dim (IntDistribution): 0.15949528429856005\\u003cextra\\u003e\\u003c\\u002fextra\\u003e\",\"learning_rate (FloatDistribution): 0.2940060931003183\\u003cextra\\u003e\\u003c\\u002fextra\\u003e\",\"weight_decay (FloatDistribution): 0.5266985120997952\\u003cextra\\u003e\\u003c\\u002fextra\\u003e\"],\"name\":\"Objective Value\",\"orientation\":\"h\",\"text\":[\"0.02\",\"0.16\",\"0.29\",\"0.53\"],\"textposition\":\"outside\",\"x\":[0.019800110501326545,0.15949528429856005,0.2940060931003183,0.5266985120997952],\"y\":[\"dropout\",\"hidden_dim\",\"learning_rate\",\"weight_decay\"],\"type\":\"bar\"}],                        {\"title\":{\"text\":\"Hyperparameter Importances\"},\"xaxis\":{\"title\":{\"text\":\"Hyperparameter Importance\"}},\"yaxis\":{\"title\":{\"text\":\"Hyperparameter\"}},\"template\":{\"data\":{\"histogram2dcontour\":[{\"type\":\"histogram2dcontour\",\"colorbar\":{\"outlinewidth\":0,\"ticks\":\"\"},\"colorscale\":[[0.0,\"#0d0887\"],[0.1111111111111111,\"#46039f\"],[0.2222222222222222,\"#7201a8\"],[0.3333333333333333,\"#9c179e\"],[0.4444444444444444,\"#bd3786\"],[0.5555555555555556,\"#d8576b\"],[0.6666666666666666,\"#ed7953\"],[0.7777777777777778,\"#fb9f3a\"],[0.8888888888888888,\"#fdca26\"],[1.0,\"#f0f921\"]]}],\"choropleth\":[{\"type\":\"choropleth\",\"colorbar\":{\"outlinewidth\":0,\"ticks\":\"\"}}],\"histogram2d\":[{\"type\":\"histogram2d\",\"colorbar\":{\"outlinewidth\":0,\"ticks\":\"\"},\"colorscale\":[[0.0,\"#0d0887\"],[0.1111111111111111,\"#46039f\"],[0.2222222222222222,\"#7201a8\"],[0.3333333333333333,\"#9c179e\"],[0.4444444444444444,\"#bd3786\"],[0.5555555555555556,\"#d8576b\"],[0.6666666666666666,\"#ed7953\"],[0.7777777777777778,\"#fb9f3a\"],[0.8888888888888888,\"#fdca26\"],[1.0,\"#f0f921\"]]}],\"heatmap\":[{\"type\":\"heatmap\",\"colorbar\":{\"outlinewidth\":0,\"ticks\":\"\"},\"colorscale\":[[0.0,\"#0d0887\"],[0.1111111111111111,\"#46039f\"],[0.2222222222222222,\"#7201a8\"],[0.3333333333333333,\"#9c179e\"],[0.4444444444444444,\"#bd3786\"],[0.5555555555555556,\"#d8576b\"],[0.6666666666666666,\"#ed7953\"],[0.7777777777777778,\"#fb9f3a\"],[0.8888888888888888,\"#fdca26\"],[1.0,\"#f0f921\"]]}],\"heatmapgl\":[{\"type\":\"heatmapgl\",\"colorbar\":{\"outlinewidth\":0,\"ticks\":\"\"},\"colorscale\":[[0.0,\"#0d0887\"],[0.1111111111111111,\"#46039f\"],[0.2222222222222222,\"#7201a8\"],[0.3333333333333333,\"#9c179e\"],[0.4444444444444444,\"#bd3786\"],[0.5555555555555556,\"#d8576b\"],[0.6666666666666666,\"#ed7953\"],[0.7777777777777778,\"#fb9f3a\"],[0.8888888888888888,\"#fdca26\"],[1.0,\"#f0f921\"]]}],\"contourcarpet\":[{\"type\":\"contourcarpet\",\"colorbar\":{\"outlinewidth\":0,\"ticks\":\"\"}}],\"contour\":[{\"type\":\"contour\",\"colorbar\":{\"outlinewidth\":0,\"ticks\":\"\"},\"colorscale\":[[0.0,\"#0d0887\"],[0.1111111111111111,\"#46039f\"],[0.2222222222222222,\"#7201a8\"],[0.3333333333333333,\"#9c179e\"],[0.4444444444444444,\"#bd3786\"],[0.5555555555555556,\"#d8576b\"],[0.6666666666666666,\"#ed7953\"],[0.7777777777777778,\"#fb9f3a\"],[0.8888888888888888,\"#fdca26\"],[1.0,\"#f0f921\"]]}],\"surface\":[{\"type\":\"surface\",\"colorbar\":{\"outlinewidth\":0,\"ticks\":\"\"},\"colorscale\":[[0.0,\"#0d0887\"],[0.1111111111111111,\"#46039f\"],[0.2222222222222222,\"#7201a8\"],[0.3333333333333333,\"#9c179e\"],[0.4444444444444444,\"#bd3786\"],[0.5555555555555556,\"#d8576b\"],[0.6666666666666666,\"#ed7953\"],[0.7777777777777778,\"#fb9f3a\"],[0.8888888888888888,\"#fdca26\"],[1.0,\"#f0f921\"]]}],\"mesh3d\":[{\"type\":\"mesh3d\",\"colorbar\":{\"outlinewidth\":0,\"ticks\":\"\"}}],\"scatter\":[{\"fillpattern\":{\"fillmode\":\"overlay\",\"size\":10,\"solidity\":0.2},\"type\":\"scatter\"}],\"parcoords\":[{\"type\":\"parcoords\",\"line\":{\"colorbar\":{\"outlinewidth\":0,\"ticks\":\"\"}}}],\"scatterpolargl\":[{\"type\":\"scatterpolargl\",\"marker\":{\"colorbar\":{\"outlinewidth\":0,\"ticks\":\"\"}}}],\"bar\":[{\"error_x\":{\"color\":\"#2a3f5f\"},\"error_y\":{\"color\":\"#2a3f5f\"},\"marker\":{\"line\":{\"color\":\"#E5ECF6\",\"width\":0.5},\"pattern\":{\"fillmode\":\"overlay\",\"size\":10,\"solidity\":0.2}},\"type\":\"bar\"}],\"scattergeo\":[{\"type\":\"scattergeo\",\"marker\":{\"colorbar\":{\"outlinewidth\":0,\"ticks\":\"\"}}}],\"scatterpolar\":[{\"type\":\"scatterpolar\",\"marker\":{\"colorbar\":{\"outlinewidth\":0,\"ticks\":\"\"}}}],\"histogram\":[{\"marker\":{\"pattern\":{\"fillmode\":\"overlay\",\"size\":10,\"solidity\":0.2}},\"type\":\"histogram\"}],\"scattergl\":[{\"type\":\"scattergl\",\"marker\":{\"colorbar\":{\"outlinewidth\":0,\"ticks\":\"\"}}}],\"scatter3d\":[{\"type\":\"scatter3d\",\"line\":{\"colorbar\":{\"outlinewidth\":0,\"ticks\":\"\"}},\"marker\":{\"colorbar\":{\"outlinewidth\":0,\"ticks\":\"\"}}}],\"scattermapbox\":[{\"type\":\"scattermapbox\",\"marker\":{\"colorbar\":{\"outlinewidth\":0,\"ticks\":\"\"}}}],\"scatterternary\":[{\"type\":\"scatterternary\",\"marker\":{\"colorbar\":{\"outlinewidth\":0,\"ticks\":\"\"}}}],\"scattercarpet\":[{\"type\":\"scattercarpet\",\"marker\":{\"colorbar\":{\"outlinewidth\":0,\"ticks\":\"\"}}}],\"carpet\":[{\"aaxis\":{\"endlinecolor\":\"#2a3f5f\",\"gridcolor\":\"white\",\"linecolor\":\"white\",\"minorgridcolor\":\"white\",\"startlinecolor\":\"#2a3f5f\"},\"baxis\":{\"endlinecolor\":\"#2a3f5f\",\"gridcolor\":\"white\",\"linecolor\":\"white\",\"minorgridcolor\":\"white\",\"startlinecolor\":\"#2a3f5f\"},\"type\":\"carpet\"}],\"table\":[{\"cells\":{\"fill\":{\"color\":\"#EBF0F8\"},\"line\":{\"color\":\"white\"}},\"header\":{\"fill\":{\"color\":\"#C8D4E3\"},\"line\":{\"color\":\"white\"}},\"type\":\"table\"}],\"barpolar\":[{\"marker\":{\"line\":{\"color\":\"#E5ECF6\",\"width\":0.5},\"pattern\":{\"fillmode\":\"overlay\",\"size\":10,\"solidity\":0.2}},\"type\":\"barpolar\"}],\"pie\":[{\"automargin\":true,\"type\":\"pie\"}]},\"layout\":{\"autotypenumbers\":\"strict\",\"colorway\":[\"#636efa\",\"#EF553B\",\"#00cc96\",\"#ab63fa\",\"#FFA15A\",\"#19d3f3\",\"#FF6692\",\"#B6E880\",\"#FF97FF\",\"#FECB52\"],\"font\":{\"color\":\"#2a3f5f\"},\"hovermode\":\"closest\",\"hoverlabel\":{\"align\":\"left\"},\"paper_bgcolor\":\"white\",\"plot_bgcolor\":\"#E5ECF6\",\"polar\":{\"bgcolor\":\"#E5ECF6\",\"angularaxis\":{\"gridcolor\":\"white\",\"linecolor\":\"white\",\"ticks\":\"\"},\"radialaxis\":{\"gridcolor\":\"white\",\"linecolor\":\"white\",\"ticks\":\"\"}},\"ternary\":{\"bgcolor\":\"#E5ECF6\",\"aaxis\":{\"gridcolor\":\"white\",\"linecolor\":\"white\",\"ticks\":\"\"},\"baxis\":{\"gridcolor\":\"white\",\"linecolor\":\"white\",\"ticks\":\"\"},\"caxis\":{\"gridcolor\":\"white\",\"linecolor\":\"white\",\"ticks\":\"\"}},\"coloraxis\":{\"colorbar\":{\"outlinewidth\":0,\"ticks\":\"\"}},\"colorscale\":{\"sequential\":[[0.0,\"#0d0887\"],[0.1111111111111111,\"#46039f\"],[0.2222222222222222,\"#7201a8\"],[0.3333333333333333,\"#9c179e\"],[0.4444444444444444,\"#bd3786\"],[0.5555555555555556,\"#d8576b\"],[0.6666666666666666,\"#ed7953\"],[0.7777777777777778,\"#fb9f3a\"],[0.8888888888888888,\"#fdca26\"],[1.0,\"#f0f921\"]],\"sequentialminus\":[[0.0,\"#0d0887\"],[0.1111111111111111,\"#46039f\"],[0.2222222222222222,\"#7201a8\"],[0.3333333333333333,\"#9c179e\"],[0.4444444444444444,\"#bd3786\"],[0.5555555555555556,\"#d8576b\"],[0.6666666666666666,\"#ed7953\"],[0.7777777777777778,\"#fb9f3a\"],[0.8888888888888888,\"#fdca26\"],[1.0,\"#f0f921\"]],\"diverging\":[[0,\"#8e0152\"],[0.1,\"#c51b7d\"],[0.2,\"#de77ae\"],[0.3,\"#f1b6da\"],[0.4,\"#fde0ef\"],[0.5,\"#f7f7f7\"],[0.6,\"#e6f5d0\"],[0.7,\"#b8e186\"],[0.8,\"#7fbc41\"],[0.9,\"#4d9221\"],[1,\"#276419\"]]},\"xaxis\":{\"gridcolor\":\"white\",\"linecolor\":\"white\",\"ticks\":\"\",\"title\":{\"standoff\":15},\"zerolinecolor\":\"white\",\"automargin\":true,\"zerolinewidth\":2},\"yaxis\":{\"gridcolor\":\"white\",\"linecolor\":\"white\",\"ticks\":\"\",\"title\":{\"standoff\":15},\"zerolinecolor\":\"white\",\"automargin\":true,\"zerolinewidth\":2},\"scene\":{\"xaxis\":{\"backgroundcolor\":\"#E5ECF6\",\"gridcolor\":\"white\",\"linecolor\":\"white\",\"showbackground\":true,\"ticks\":\"\",\"zerolinecolor\":\"white\",\"gridwidth\":2},\"yaxis\":{\"backgroundcolor\":\"#E5ECF6\",\"gridcolor\":\"white\",\"linecolor\":\"white\",\"showbackground\":true,\"ticks\":\"\",\"zerolinecolor\":\"white\",\"gridwidth\":2},\"zaxis\":{\"backgroundcolor\":\"#E5ECF6\",\"gridcolor\":\"white\",\"linecolor\":\"white\",\"showbackground\":true,\"ticks\":\"\",\"zerolinecolor\":\"white\",\"gridwidth\":2}},\"shapedefaults\":{\"line\":{\"color\":\"#2a3f5f\"}},\"annotationdefaults\":{\"arrowcolor\":\"#2a3f5f\",\"arrowhead\":0,\"arrowwidth\":1},\"geo\":{\"bgcolor\":\"white\",\"landcolor\":\"#E5ECF6\",\"subunitcolor\":\"white\",\"showland\":true,\"showlakes\":true,\"lakecolor\":\"white\"},\"title\":{\"x\":0.05},\"mapbox\":{\"style\":\"light\"}}}},                        {\"responsive\": true}                    ).then(function(){\n",
              "                            \n",
              "var gd = document.getElementById('863a1886-a688-4140-819a-c35e3a833f51');\n",
              "var x = new MutationObserver(function (mutations, observer) {{\n",
              "        var display = window.getComputedStyle(gd).display;\n",
              "        if (!display || display === 'none') {{\n",
              "            console.log([gd, 'removed!']);\n",
              "            Plotly.purge(gd);\n",
              "            observer.disconnect();\n",
              "        }}\n",
              "}});\n",
              "\n",
              "// Listen for the removal of the full notebook cells\n",
              "var notebookContainer = gd.closest('#notebook-container');\n",
              "if (notebookContainer) {{\n",
              "    x.observe(notebookContainer, {childList: true});\n",
              "}}\n",
              "\n",
              "// Listen for the clearing of the current output cell\n",
              "var outputEl = gd.closest('.output');\n",
              "if (outputEl) {{\n",
              "    x.observe(outputEl, {childList: true});\n",
              "}}\n",
              "\n",
              "                        })                };                            </script>        </div>\n",
              "</body>\n",
              "</html>"
            ]
          },
          "metadata": {}
        },
        {
          "output_type": "display_data",
          "data": {
            "text/html": [
              "<html>\n",
              "<head><meta charset=\"utf-8\" /></head>\n",
              "<body>\n",
              "    <div>            <script src=\"https://cdnjs.cloudflare.com/ajax/libs/mathjax/2.7.5/MathJax.js?config=TeX-AMS-MML_SVG\"></script><script type=\"text/javascript\">if (window.MathJax && window.MathJax.Hub && window.MathJax.Hub.Config) {window.MathJax.Hub.Config({SVG: {font: \"STIX-Web\"}});}</script>                <script type=\"text/javascript\">window.PlotlyConfig = {MathJaxConfig: 'local'};</script>\n",
              "        <script charset=\"utf-8\" src=\"https://cdn.plot.ly/plotly-2.35.2.min.js\"></script>                <div id=\"b7478397-278f-48eb-8017-afb955da6ad3\" class=\"plotly-graph-div\" style=\"height:525px; width:100%;\"></div>            <script type=\"text/javascript\">                                    window.PLOTLYENV=window.PLOTLYENV || {};                                    if (document.getElementById(\"b7478397-278f-48eb-8017-afb955da6ad3\")) {                    Plotly.newPlot(                        \"b7478397-278f-48eb-8017-afb955da6ad3\",                        [{\"dimensions\":[{\"label\":\"Objective Value\",\"range\":[0.3501457840204239,0.8127803444862366],\"values\":[0.45713749527931213,0.5191999435424804,0.4700447678565979,0.536794102191925,0.4933034539222717,0.4704529166221619,0.512878167629242,0.4569747567176819,0.5434301853179931,0.5501142621040345,0.6038753986358643,0.8127803444862366,0.49381607174873354,0.525353217124939,0.46739479899406433,0.48187705874443054,0.6806672930717468,0.43764117956161497,0.5014829337596893,0.5371878385543823,0.5317059576511383,0.48116588592529297,0.44153338074684145,0.4554311096668243,0.48839862942695617,0.4993094801902771,0.443734747171402,0.44391644895076754,0.3501457840204239,0.5304214596748352]},{\"label\":\"dropout\",\"range\":[0.20158305847124117,0.6606719474166715],\"values\":[0.3905936358025719,0.5417510370174321,0.6512861026020116,0.28054137869454526,0.5059100186577392,0.4823671694603638,0.2434057168760057,0.4056355431647982,0.30004798235540475,0.6606719474166715,0.3949705984878075,0.3879641929383997,0.3990065230720381,0.35778428883599755,0.5593346138970002,0.20158305847124117,0.44392510381345685,0.32834082200489967,0.3178691463345792,0.44206119011332795,0.5769614092542953,0.3393820114860896,0.42792445767414017,0.4564935256229186,0.48702892596685987,0.5960993613745696,0.4420933898543344,0.26227839724254964,0.5179426457550893,0.5286585450833349]},{\"label\":\"hidden_dim\",\"range\":[69,254],\"values\":[193,199,187,97,170,163,217,249,133,77,241,254,224,134,212,232,184,124,132,109,69,147,108,109,106,92,119,122,85,85]},{\"label\":\"learning_rate\",\"range\":[0.00029203872956395146,0.00996354192033528],\"values\":[0.004872388507756796,0.007313040733159983,0.007404500752452388,0.003637197964919871,0.008020763633315038,0.005321067895894066,0.006892688607550672,0.007121236220932739,0.0033925634655307523,0.00920287078777022,0.00029203872956395146,0.005041840629020515,0.005407560779341685,0.0019211546345013005,0.006195520054497007,0.009623802505280154,0.003936827499859584,0.008427743206631776,0.008829596988299012,0.008346891805164298,0.006579608161033593,0.004346755081652583,0.009872370166745862,0.00996354192033528,0.009656120979995788,0.009875968005355718,0.008445231318642093,0.008530306111145618,0.007876392518863445,0.007787816589157645]},{\"label\":\"weight_decay\",\"range\":[6.447610373487567e-6,0.00905926886110685],\"values\":[0.003418466237302869,0.001723392136672091,0.0014450607060793983,0.00905926886110685,0.006357884623848947,0.004698289299155539,0.008253371930085972,0.002453534485415305,0.005511764073243898,0.007624592619161892,0.00339307481042458,0.000020145241390899515,0.0033659573388402047,0.0030561061108782175,0.0018122187566665493,0.004318287717861052,6.447610373487567e-6,0.0027629082061889354,0.00241797565158754,0.0010275042827851827,0.006050366469408621,0.003932806300975654,0.0024138685632589946,0.0026495465449887018,0.0023906338400127105,0.0048703249082255,0.0007786175291016209,0.000880996264523048,0.000920528954707474,0.003810582033927349]}],\"labelangle\":30,\"labelside\":\"bottom\",\"line\":{\"color\":[0.45713749527931213,0.5191999435424804,0.4700447678565979,0.536794102191925,0.4933034539222717,0.4704529166221619,0.512878167629242,0.4569747567176819,0.5434301853179931,0.5501142621040345,0.6038753986358643,0.8127803444862366,0.49381607174873354,0.525353217124939,0.46739479899406433,0.48187705874443054,0.6806672930717468,0.43764117956161497,0.5014829337596893,0.5371878385543823,0.5317059576511383,0.48116588592529297,0.44153338074684145,0.4554311096668243,0.48839862942695617,0.4993094801902771,0.443734747171402,0.44391644895076754,0.3501457840204239,0.5304214596748352],\"colorbar\":{\"title\":{\"text\":\"Objective Value\"}},\"colorscale\":[[0.0,\"rgb(247,251,255)\"],[0.125,\"rgb(222,235,247)\"],[0.25,\"rgb(198,219,239)\"],[0.375,\"rgb(158,202,225)\"],[0.5,\"rgb(107,174,214)\"],[0.625,\"rgb(66,146,198)\"],[0.75,\"rgb(33,113,181)\"],[0.875,\"rgb(8,81,156)\"],[1.0,\"rgb(8,48,107)\"]],\"reversescale\":true,\"showscale\":true},\"type\":\"parcoords\"}],                        {\"title\":{\"text\":\"Parallel Coordinate Plot\"},\"template\":{\"data\":{\"histogram2dcontour\":[{\"type\":\"histogram2dcontour\",\"colorbar\":{\"outlinewidth\":0,\"ticks\":\"\"},\"colorscale\":[[0.0,\"#0d0887\"],[0.1111111111111111,\"#46039f\"],[0.2222222222222222,\"#7201a8\"],[0.3333333333333333,\"#9c179e\"],[0.4444444444444444,\"#bd3786\"],[0.5555555555555556,\"#d8576b\"],[0.6666666666666666,\"#ed7953\"],[0.7777777777777778,\"#fb9f3a\"],[0.8888888888888888,\"#fdca26\"],[1.0,\"#f0f921\"]]}],\"choropleth\":[{\"type\":\"choropleth\",\"colorbar\":{\"outlinewidth\":0,\"ticks\":\"\"}}],\"histogram2d\":[{\"type\":\"histogram2d\",\"colorbar\":{\"outlinewidth\":0,\"ticks\":\"\"},\"colorscale\":[[0.0,\"#0d0887\"],[0.1111111111111111,\"#46039f\"],[0.2222222222222222,\"#7201a8\"],[0.3333333333333333,\"#9c179e\"],[0.4444444444444444,\"#bd3786\"],[0.5555555555555556,\"#d8576b\"],[0.6666666666666666,\"#ed7953\"],[0.7777777777777778,\"#fb9f3a\"],[0.8888888888888888,\"#fdca26\"],[1.0,\"#f0f921\"]]}],\"heatmap\":[{\"type\":\"heatmap\",\"colorbar\":{\"outlinewidth\":0,\"ticks\":\"\"},\"colorscale\":[[0.0,\"#0d0887\"],[0.1111111111111111,\"#46039f\"],[0.2222222222222222,\"#7201a8\"],[0.3333333333333333,\"#9c179e\"],[0.4444444444444444,\"#bd3786\"],[0.5555555555555556,\"#d8576b\"],[0.6666666666666666,\"#ed7953\"],[0.7777777777777778,\"#fb9f3a\"],[0.8888888888888888,\"#fdca26\"],[1.0,\"#f0f921\"]]}],\"heatmapgl\":[{\"type\":\"heatmapgl\",\"colorbar\":{\"outlinewidth\":0,\"ticks\":\"\"},\"colorscale\":[[0.0,\"#0d0887\"],[0.1111111111111111,\"#46039f\"],[0.2222222222222222,\"#7201a8\"],[0.3333333333333333,\"#9c179e\"],[0.4444444444444444,\"#bd3786\"],[0.5555555555555556,\"#d8576b\"],[0.6666666666666666,\"#ed7953\"],[0.7777777777777778,\"#fb9f3a\"],[0.8888888888888888,\"#fdca26\"],[1.0,\"#f0f921\"]]}],\"contourcarpet\":[{\"type\":\"contourcarpet\",\"colorbar\":{\"outlinewidth\":0,\"ticks\":\"\"}}],\"contour\":[{\"type\":\"contour\",\"colorbar\":{\"outlinewidth\":0,\"ticks\":\"\"},\"colorscale\":[[0.0,\"#0d0887\"],[0.1111111111111111,\"#46039f\"],[0.2222222222222222,\"#7201a8\"],[0.3333333333333333,\"#9c179e\"],[0.4444444444444444,\"#bd3786\"],[0.5555555555555556,\"#d8576b\"],[0.6666666666666666,\"#ed7953\"],[0.7777777777777778,\"#fb9f3a\"],[0.8888888888888888,\"#fdca26\"],[1.0,\"#f0f921\"]]}],\"surface\":[{\"type\":\"surface\",\"colorbar\":{\"outlinewidth\":0,\"ticks\":\"\"},\"colorscale\":[[0.0,\"#0d0887\"],[0.1111111111111111,\"#46039f\"],[0.2222222222222222,\"#7201a8\"],[0.3333333333333333,\"#9c179e\"],[0.4444444444444444,\"#bd3786\"],[0.5555555555555556,\"#d8576b\"],[0.6666666666666666,\"#ed7953\"],[0.7777777777777778,\"#fb9f3a\"],[0.8888888888888888,\"#fdca26\"],[1.0,\"#f0f921\"]]}],\"mesh3d\":[{\"type\":\"mesh3d\",\"colorbar\":{\"outlinewidth\":0,\"ticks\":\"\"}}],\"scatter\":[{\"fillpattern\":{\"fillmode\":\"overlay\",\"size\":10,\"solidity\":0.2},\"type\":\"scatter\"}],\"parcoords\":[{\"type\":\"parcoords\",\"line\":{\"colorbar\":{\"outlinewidth\":0,\"ticks\":\"\"}}}],\"scatterpolargl\":[{\"type\":\"scatterpolargl\",\"marker\":{\"colorbar\":{\"outlinewidth\":0,\"ticks\":\"\"}}}],\"bar\":[{\"error_x\":{\"color\":\"#2a3f5f\"},\"error_y\":{\"color\":\"#2a3f5f\"},\"marker\":{\"line\":{\"color\":\"#E5ECF6\",\"width\":0.5},\"pattern\":{\"fillmode\":\"overlay\",\"size\":10,\"solidity\":0.2}},\"type\":\"bar\"}],\"scattergeo\":[{\"type\":\"scattergeo\",\"marker\":{\"colorbar\":{\"outlinewidth\":0,\"ticks\":\"\"}}}],\"scatterpolar\":[{\"type\":\"scatterpolar\",\"marker\":{\"colorbar\":{\"outlinewidth\":0,\"ticks\":\"\"}}}],\"histogram\":[{\"marker\":{\"pattern\":{\"fillmode\":\"overlay\",\"size\":10,\"solidity\":0.2}},\"type\":\"histogram\"}],\"scattergl\":[{\"type\":\"scattergl\",\"marker\":{\"colorbar\":{\"outlinewidth\":0,\"ticks\":\"\"}}}],\"scatter3d\":[{\"type\":\"scatter3d\",\"line\":{\"colorbar\":{\"outlinewidth\":0,\"ticks\":\"\"}},\"marker\":{\"colorbar\":{\"outlinewidth\":0,\"ticks\":\"\"}}}],\"scattermapbox\":[{\"type\":\"scattermapbox\",\"marker\":{\"colorbar\":{\"outlinewidth\":0,\"ticks\":\"\"}}}],\"scatterternary\":[{\"type\":\"scatterternary\",\"marker\":{\"colorbar\":{\"outlinewidth\":0,\"ticks\":\"\"}}}],\"scattercarpet\":[{\"type\":\"scattercarpet\",\"marker\":{\"colorbar\":{\"outlinewidth\":0,\"ticks\":\"\"}}}],\"carpet\":[{\"aaxis\":{\"endlinecolor\":\"#2a3f5f\",\"gridcolor\":\"white\",\"linecolor\":\"white\",\"minorgridcolor\":\"white\",\"startlinecolor\":\"#2a3f5f\"},\"baxis\":{\"endlinecolor\":\"#2a3f5f\",\"gridcolor\":\"white\",\"linecolor\":\"white\",\"minorgridcolor\":\"white\",\"startlinecolor\":\"#2a3f5f\"},\"type\":\"carpet\"}],\"table\":[{\"cells\":{\"fill\":{\"color\":\"#EBF0F8\"},\"line\":{\"color\":\"white\"}},\"header\":{\"fill\":{\"color\":\"#C8D4E3\"},\"line\":{\"color\":\"white\"}},\"type\":\"table\"}],\"barpolar\":[{\"marker\":{\"line\":{\"color\":\"#E5ECF6\",\"width\":0.5},\"pattern\":{\"fillmode\":\"overlay\",\"size\":10,\"solidity\":0.2}},\"type\":\"barpolar\"}],\"pie\":[{\"automargin\":true,\"type\":\"pie\"}]},\"layout\":{\"autotypenumbers\":\"strict\",\"colorway\":[\"#636efa\",\"#EF553B\",\"#00cc96\",\"#ab63fa\",\"#FFA15A\",\"#19d3f3\",\"#FF6692\",\"#B6E880\",\"#FF97FF\",\"#FECB52\"],\"font\":{\"color\":\"#2a3f5f\"},\"hovermode\":\"closest\",\"hoverlabel\":{\"align\":\"left\"},\"paper_bgcolor\":\"white\",\"plot_bgcolor\":\"#E5ECF6\",\"polar\":{\"bgcolor\":\"#E5ECF6\",\"angularaxis\":{\"gridcolor\":\"white\",\"linecolor\":\"white\",\"ticks\":\"\"},\"radialaxis\":{\"gridcolor\":\"white\",\"linecolor\":\"white\",\"ticks\":\"\"}},\"ternary\":{\"bgcolor\":\"#E5ECF6\",\"aaxis\":{\"gridcolor\":\"white\",\"linecolor\":\"white\",\"ticks\":\"\"},\"baxis\":{\"gridcolor\":\"white\",\"linecolor\":\"white\",\"ticks\":\"\"},\"caxis\":{\"gridcolor\":\"white\",\"linecolor\":\"white\",\"ticks\":\"\"}},\"coloraxis\":{\"colorbar\":{\"outlinewidth\":0,\"ticks\":\"\"}},\"colorscale\":{\"sequential\":[[0.0,\"#0d0887\"],[0.1111111111111111,\"#46039f\"],[0.2222222222222222,\"#7201a8\"],[0.3333333333333333,\"#9c179e\"],[0.4444444444444444,\"#bd3786\"],[0.5555555555555556,\"#d8576b\"],[0.6666666666666666,\"#ed7953\"],[0.7777777777777778,\"#fb9f3a\"],[0.8888888888888888,\"#fdca26\"],[1.0,\"#f0f921\"]],\"sequentialminus\":[[0.0,\"#0d0887\"],[0.1111111111111111,\"#46039f\"],[0.2222222222222222,\"#7201a8\"],[0.3333333333333333,\"#9c179e\"],[0.4444444444444444,\"#bd3786\"],[0.5555555555555556,\"#d8576b\"],[0.6666666666666666,\"#ed7953\"],[0.7777777777777778,\"#fb9f3a\"],[0.8888888888888888,\"#fdca26\"],[1.0,\"#f0f921\"]],\"diverging\":[[0,\"#8e0152\"],[0.1,\"#c51b7d\"],[0.2,\"#de77ae\"],[0.3,\"#f1b6da\"],[0.4,\"#fde0ef\"],[0.5,\"#f7f7f7\"],[0.6,\"#e6f5d0\"],[0.7,\"#b8e186\"],[0.8,\"#7fbc41\"],[0.9,\"#4d9221\"],[1,\"#276419\"]]},\"xaxis\":{\"gridcolor\":\"white\",\"linecolor\":\"white\",\"ticks\":\"\",\"title\":{\"standoff\":15},\"zerolinecolor\":\"white\",\"automargin\":true,\"zerolinewidth\":2},\"yaxis\":{\"gridcolor\":\"white\",\"linecolor\":\"white\",\"ticks\":\"\",\"title\":{\"standoff\":15},\"zerolinecolor\":\"white\",\"automargin\":true,\"zerolinewidth\":2},\"scene\":{\"xaxis\":{\"backgroundcolor\":\"#E5ECF6\",\"gridcolor\":\"white\",\"linecolor\":\"white\",\"showbackground\":true,\"ticks\":\"\",\"zerolinecolor\":\"white\",\"gridwidth\":2},\"yaxis\":{\"backgroundcolor\":\"#E5ECF6\",\"gridcolor\":\"white\",\"linecolor\":\"white\",\"showbackground\":true,\"ticks\":\"\",\"zerolinecolor\":\"white\",\"gridwidth\":2},\"zaxis\":{\"backgroundcolor\":\"#E5ECF6\",\"gridcolor\":\"white\",\"linecolor\":\"white\",\"showbackground\":true,\"ticks\":\"\",\"zerolinecolor\":\"white\",\"gridwidth\":2}},\"shapedefaults\":{\"line\":{\"color\":\"#2a3f5f\"}},\"annotationdefaults\":{\"arrowcolor\":\"#2a3f5f\",\"arrowhead\":0,\"arrowwidth\":1},\"geo\":{\"bgcolor\":\"white\",\"landcolor\":\"#E5ECF6\",\"subunitcolor\":\"white\",\"showland\":true,\"showlakes\":true,\"lakecolor\":\"white\"},\"title\":{\"x\":0.05},\"mapbox\":{\"style\":\"light\"}}}},                        {\"responsive\": true}                    ).then(function(){\n",
              "                            \n",
              "var gd = document.getElementById('b7478397-278f-48eb-8017-afb955da6ad3');\n",
              "var x = new MutationObserver(function (mutations, observer) {{\n",
              "        var display = window.getComputedStyle(gd).display;\n",
              "        if (!display || display === 'none') {{\n",
              "            console.log([gd, 'removed!']);\n",
              "            Plotly.purge(gd);\n",
              "            observer.disconnect();\n",
              "        }}\n",
              "}});\n",
              "\n",
              "// Listen for the removal of the full notebook cells\n",
              "var notebookContainer = gd.closest('#notebook-container');\n",
              "if (notebookContainer) {{\n",
              "    x.observe(notebookContainer, {childList: true});\n",
              "}}\n",
              "\n",
              "// Listen for the clearing of the current output cell\n",
              "var outputEl = gd.closest('.output');\n",
              "if (outputEl) {{\n",
              "    x.observe(outputEl, {childList: true});\n",
              "}}\n",
              "\n",
              "                        })                };                            </script>        </div>\n",
              "</body>\n",
              "</html>"
            ]
          },
          "metadata": {}
        }
      ]
    },
    {
      "cell_type": "code",
      "source": [
        "baseline_train_lossess = []\n",
        "baseline_val_losses = []\n",
        "baseline_val_accuracies = []\n",
        "baseline_val_f1s = []\n",
        "\n",
        "# === FINAL TRAINING WITH BEST PARAMETERS ===\n",
        "best_params = study.best_params\n",
        "final_model = BaselineModel(\n",
        "    vocab_size=len(vocab),\n",
        "    embedding_dim=embedding_matrix.shape[1],\n",
        "    embedding_matrix=embedding_matrix,\n",
        "    hidden_dim=best_params[\"hidden_dim\"],\n",
        "    output_dim=1,\n",
        "    pad_idx=vocab[\"[PAD]\"],\n",
        "    dropout=best_params[\"dropout\"]\n",
        ").to(device)\n",
        "\n",
        "# Train the final model\n",
        "final_optimizer = optim.Adam(final_model.parameters(), lr=best_params[\"learning_rate\"], weight_decay=best_params[\"weight_decay\"])\n",
        "\n",
        "criterion = nn.BCELoss()\n",
        "num_epochs = 40\n",
        "for epoch in range(num_epochs):\n",
        "    train_loss = train(final_model, train_loader, final_optimizer, criterion, device)\n",
        "    val_loss, val_accuracy, val_f1 = evaluate(final_model, val_loader, criterion, device)\n",
        "\n",
        "    # Append metrics to lists\n",
        "    baseline_train_lossess.append(train_loss)\n",
        "    baseline_val_losses.append(val_loss)\n",
        "    baseline_val_accuracies.append(val_accuracy)\n",
        "    baseline_val_f1s.append(val_f1)\n",
        "\n",
        "    print(f\"Epoch {epoch+1}/{num_epochs}\")\n",
        "    print(f\"Train Loss: {train_loss:.4f}\")\n",
        "    print(f\"Validation Loss: {val_loss:.4f}, Validation Accuracy: {val_accuracy:.4f}, Validation F1-Score: {val_f1:.4f}\")\n",
        "\n"
      ],
      "metadata": {
        "colab": {
          "base_uri": "https://localhost:8080/"
        },
        "id": "QjyYszoM39BO",
        "outputId": "8afb3772-d809-45f0-b601-c4540c55a474"
      },
      "execution_count": null,
      "outputs": [
        {
          "output_type": "stream",
          "name": "stdout",
          "text": [
            "Epoch 1/40\n",
            "Train Loss: 0.6601\n",
            "Validation Loss: 0.6446, Validation Accuracy: 0.6203, Validation F1-Score: 0.5339\n",
            "Epoch 2/40\n",
            "Train Loss: 0.5961\n",
            "Validation Loss: 0.5515, Validation Accuracy: 0.7468, Validation F1-Score: 0.7134\n",
            "Epoch 3/40\n",
            "Train Loss: 0.5388\n",
            "Validation Loss: 0.5360, Validation Accuracy: 0.7342, Validation F1-Score: 0.6894\n",
            "Epoch 4/40\n",
            "Train Loss: 0.5122\n",
            "Validation Loss: 0.4763, Validation Accuracy: 0.7848, Validation F1-Score: 0.7788\n",
            "Epoch 5/40\n",
            "Train Loss: 0.4951\n",
            "Validation Loss: 0.4805, Validation Accuracy: 0.7658, Validation F1-Score: 0.7588\n",
            "Epoch 6/40\n",
            "Train Loss: 0.4847\n",
            "Validation Loss: 0.5022, Validation Accuracy: 0.7532, Validation F1-Score: 0.7371\n",
            "Epoch 7/40\n",
            "Train Loss: 0.4760\n",
            "Validation Loss: 0.4774, Validation Accuracy: 0.7975, Validation F1-Score: 0.7864\n",
            "Epoch 8/40\n",
            "Train Loss: 0.4684\n",
            "Validation Loss: 0.4648, Validation Accuracy: 0.8038, Validation F1-Score: 0.7979\n",
            "Epoch 9/40\n",
            "Train Loss: 0.4536\n",
            "Validation Loss: 0.4991, Validation Accuracy: 0.7658, Validation F1-Score: 0.7551\n",
            "Epoch 10/40\n",
            "Train Loss: 0.4474\n",
            "Validation Loss: 0.4960, Validation Accuracy: 0.7785, Validation F1-Score: 0.7784\n",
            "Epoch 11/40\n",
            "Train Loss: 0.4214\n",
            "Validation Loss: 0.4793, Validation Accuracy: 0.7975, Validation F1-Score: 0.7927\n",
            "Epoch 12/40\n",
            "Train Loss: 0.4227\n",
            "Validation Loss: 0.4737, Validation Accuracy: 0.7785, Validation F1-Score: 0.7656\n",
            "Epoch 13/40\n",
            "Train Loss: 0.4134\n",
            "Validation Loss: 0.4763, Validation Accuracy: 0.7658, Validation F1-Score: 0.7647\n",
            "Epoch 14/40\n",
            "Train Loss: 0.4137\n",
            "Validation Loss: 0.4850, Validation Accuracy: 0.7595, Validation F1-Score: 0.7581\n",
            "Epoch 15/40\n",
            "Train Loss: 0.3981\n",
            "Validation Loss: 0.4960, Validation Accuracy: 0.7848, Validation F1-Score: 0.7836\n",
            "Epoch 16/40\n",
            "Train Loss: 0.3874\n",
            "Validation Loss: 0.4550, Validation Accuracy: 0.8165, Validation F1-Score: 0.8125\n",
            "Epoch 17/40\n",
            "Train Loss: 0.4011\n",
            "Validation Loss: 0.4420, Validation Accuracy: 0.7975, Validation F1-Score: 0.7942\n",
            "Epoch 18/40\n",
            "Train Loss: 0.3767\n",
            "Validation Loss: 0.4737, Validation Accuracy: 0.7785, Validation F1-Score: 0.7641\n",
            "Epoch 19/40\n",
            "Train Loss: 0.3709\n",
            "Validation Loss: 0.5073, Validation Accuracy: 0.7658, Validation F1-Score: 0.7654\n",
            "Epoch 20/40\n",
            "Train Loss: 0.3620\n",
            "Validation Loss: 0.4996, Validation Accuracy: 0.7658, Validation F1-Score: 0.7624\n",
            "Epoch 21/40\n",
            "Train Loss: 0.3536\n",
            "Validation Loss: 0.5430, Validation Accuracy: 0.7658, Validation F1-Score: 0.7651\n",
            "Epoch 22/40\n",
            "Train Loss: 0.3580\n",
            "Validation Loss: 0.5044, Validation Accuracy: 0.7658, Validation F1-Score: 0.7608\n",
            "Epoch 23/40\n",
            "Train Loss: 0.3456\n",
            "Validation Loss: 0.5047, Validation Accuracy: 0.7911, Validation F1-Score: 0.7905\n",
            "Epoch 24/40\n",
            "Train Loss: 0.3423\n",
            "Validation Loss: 0.4929, Validation Accuracy: 0.7785, Validation F1-Score: 0.7770\n",
            "Epoch 25/40\n",
            "Train Loss: 0.3266\n",
            "Validation Loss: 0.5644, Validation Accuracy: 0.7405, Validation F1-Score: 0.7402\n",
            "Epoch 26/40\n",
            "Train Loss: 0.3295\n",
            "Validation Loss: 0.5428, Validation Accuracy: 0.7722, Validation F1-Score: 0.7698\n",
            "Epoch 27/40\n",
            "Train Loss: 0.3108\n",
            "Validation Loss: 0.5251, Validation Accuracy: 0.7911, Validation F1-Score: 0.7858\n",
            "Epoch 28/40\n",
            "Train Loss: 0.3156\n",
            "Validation Loss: 0.5043, Validation Accuracy: 0.8038, Validation F1-Score: 0.8015\n",
            "Epoch 29/40\n",
            "Train Loss: 0.3019\n",
            "Validation Loss: 0.5801, Validation Accuracy: 0.7785, Validation F1-Score: 0.7752\n",
            "Epoch 30/40\n",
            "Train Loss: 0.2989\n",
            "Validation Loss: 0.6788, Validation Accuracy: 0.7595, Validation F1-Score: 0.7589\n",
            "Epoch 31/40\n",
            "Train Loss: 0.2927\n",
            "Validation Loss: 0.5419, Validation Accuracy: 0.7975, Validation F1-Score: 0.7942\n",
            "Epoch 32/40\n",
            "Train Loss: 0.2907\n",
            "Validation Loss: 0.5479, Validation Accuracy: 0.7722, Validation F1-Score: 0.7692\n",
            "Epoch 33/40\n",
            "Train Loss: 0.2817\n",
            "Validation Loss: 0.6840, Validation Accuracy: 0.7025, Validation F1-Score: 0.7022\n",
            "Epoch 34/40\n",
            "Train Loss: 0.2767\n",
            "Validation Loss: 0.5198, Validation Accuracy: 0.7975, Validation F1-Score: 0.7909\n",
            "Epoch 35/40\n",
            "Train Loss: 0.2926\n",
            "Validation Loss: 0.6187, Validation Accuracy: 0.7468, Validation F1-Score: 0.7468\n",
            "Epoch 36/40\n",
            "Train Loss: 0.2695\n",
            "Validation Loss: 0.6320, Validation Accuracy: 0.7595, Validation F1-Score: 0.7585\n",
            "Epoch 37/40\n",
            "Train Loss: 0.2816\n",
            "Validation Loss: 0.6783, Validation Accuracy: 0.7025, Validation F1-Score: 0.7025\n",
            "Epoch 38/40\n",
            "Train Loss: 0.2639\n",
            "Validation Loss: 0.6534, Validation Accuracy: 0.7785, Validation F1-Score: 0.7737\n",
            "Epoch 39/40\n",
            "Train Loss: 0.2522\n",
            "Validation Loss: 0.5034, Validation Accuracy: 0.8101, Validation F1-Score: 0.8056\n",
            "Epoch 40/40\n",
            "Train Loss: 0.2470\n",
            "Validation Loss: 0.6640, Validation Accuracy: 0.7785, Validation F1-Score: 0.7656\n"
          ]
        }
      ]
    },
    {
      "cell_type": "code",
      "source": [
        "test_loss, test_accuracy, test_f1 = evaluate(final_model, test_loader, criterion, device)\n",
        "\n",
        "print(f\"Test Loss: {test_loss:.4f}, test Accuracy: {test_accuracy:.4f}, test F1-Score: {test_f1:.4f}\")"
      ],
      "metadata": {
        "colab": {
          "base_uri": "https://localhost:8080/"
        },
        "id": "AuW6swYipeQ3",
        "outputId": "1058058f-e1e1-4edd-b535-bb4e4e550c22"
      },
      "execution_count": null,
      "outputs": [
        {
          "output_type": "stream",
          "name": "stdout",
          "text": [
            "Test Loss: 0.7947, test Accuracy: 0.7238, test F1-Score: 0.7180\n"
          ]
        }
      ]
    },
    {
      "cell_type": "code",
      "source": [
        "plot_training_validation_loss(baseline_train_lossess, baseline_val_losses)"
      ],
      "metadata": {
        "colab": {
          "base_uri": "https://localhost:8080/",
          "height": 564
        },
        "id": "lKwmYo5us_C2",
        "outputId": "a77765f8-39c4-490b-bd04-a127aa456d49"
      },
      "execution_count": null,
      "outputs": [
        {
          "output_type": "display_data",
          "data": {
            "text/plain": [
              "<Figure size 1000x600 with 1 Axes>"
            ],
            "image/png": "[encoded data removed]"
          },
          "metadata": {}
        }
      ]
    },
    {
      "cell_type": "code",
      "source": [
        "class Model_1(nn.Module):\n",
        "    \"\"\"\n",
        "    Model 1: Adds an additional LSTM layer to the Baseline model.\n",
        "    \"\"\"\n",
        "    def __init__(self, vocab_size, embedding_dim, embedding_matrix, hidden_dim, output_dim, pad_idx, dropout):\n",
        "        super(Model_1, self).__init__()\n",
        "        self.embedding = nn.Embedding.from_pretrained(\n",
        "            torch.tensor(embedding_matrix, dtype=torch.float32),\n",
        "            freeze=True,  # Pre-trained embeddings, not trainable\n",
        "            padding_idx=pad_idx\n",
        "        )\n",
        "        self.lstm1 = nn.LSTM(\n",
        "            embedding_dim,\n",
        "            hidden_dim,\n",
        "            bidirectional=True,\n",
        "            batch_first=True\n",
        "        )\n",
        "        self.lstm2 = nn.LSTM(\n",
        "            hidden_dim * 2,\n",
        "            hidden_dim,\n",
        "            bidirectional=True,\n",
        "            batch_first=True\n",
        "        )\n",
        "        self.fc = nn.Linear(hidden_dim * 2, output_dim)\n",
        "        self.dropout = nn.Dropout(dropout)\n",
        "\n",
        "    def forward(self, text, lengths):\n",
        "        # Step 1: Embed the input\n",
        "        embedded = self.embedding(text)\n",
        "\n",
        "        # Step 2: Pack the embedded sequence\n",
        "        packed_embedded = rnn_utils.pack_padded_sequence(embedded, lengths, batch_first=True, enforce_sorted=False)\n",
        "\n",
        "        # Step 3: Pass the packed sequence to the first LSTM\n",
        "        packed_output, _ = self.lstm1(packed_embedded)\n",
        "\n",
        "        # Step 4: Pass the packed output directly to the second LSTM\n",
        "        packed_output, (hidden, cell) = self.lstm2(packed_output)\n",
        "\n",
        "        # Step 5: Use the last hidden state (concatenate forward and backward states)\n",
        "        hidden = torch.cat((hidden[-2, :, :], hidden[-1, :, :]), dim=1)\n",
        "\n",
        "        # Step 6: Apply dropout and the final dense layer\n",
        "        output = self.fc(self.dropout(hidden))\n",
        "        return torch.sigmoid(output)\n"
      ],
      "metadata": {
        "id": "t_MQb7VLcL09"
      },
      "execution_count": null,
      "outputs": []
    },
    {
      "cell_type": "code",
      "source": [
        "def objective_model1(trial):\n",
        "    # Suggest hyperparameters\n",
        "    hidden_dim = trial.suggest_int(\"hidden_dim\", 64, 256)\n",
        "    dropout = trial.suggest_float(\"dropout\", 0.1, 0.7)\n",
        "    learning_rate = trial.suggest_float(\"learning_rate\", 1e-4, 1e-2)\n",
        "    weight_decay = trial.suggest_float(\"weight_decay\", 1e-6, 1e-2)\n",
        "\n",
        "    # Define Model 1\n",
        "    model_1 = Model_1(\n",
        "        vocab_size=len(vocab),\n",
        "        embedding_dim=embedding_matrix.shape[1],\n",
        "        embedding_matrix=embedding_matrix,\n",
        "        hidden_dim=hidden_dim,\n",
        "        output_dim=1,\n",
        "        pad_idx=vocab[\"[PAD]\"],\n",
        "        dropout=dropout\n",
        "    ).to(device)\n",
        "\n",
        "    # Optimizer and criterion\n",
        "    optimizer = optim.Adam(model_1.parameters(), lr=learning_rate, weight_decay=weight_decay)\n",
        "    criterion = nn.BCELoss()\n",
        "\n",
        "    # Train and evaluate\n",
        "    num_epochs = 20  # Use a smaller number of epochs for hyperparameter tuning\n",
        "    for epoch in range(num_epochs):\n",
        "        train_loss = train(model_1, train_loader, optimizer, criterion, device)\n",
        "    val_loss, val_accuracy, val_f1 = evaluate(model_1, val_loader, criterion, device)\n",
        "\n",
        "    # Return the validation F1-score as the metric to maximize\n",
        "    return val_loss\n"
      ],
      "metadata": {
        "id": "HkrK0E1gdgxl"
      },
      "execution_count": null,
      "outputs": []
    },
    {
      "cell_type": "code",
      "source": [
        "study_model1 = optuna.create_study(direction=\"minimize\")  # or direction=\"maximize\" if using F1-score\n",
        "study_model1.optimize(objective_model1, n_trials=30)\n",
        "print(\"Best hyperparameters for Model 1:\", study_model1.best_params)\n"
      ],
      "metadata": {
        "colab": {
          "base_uri": "https://localhost:8080/"
        },
        "id": "C6aaOTfNdmzV",
        "outputId": "4b8bb5a0-aab3-491b-9efb-917568a78660"
      },
      "execution_count": null,
      "outputs": [
        {
          "output_type": "stream",
          "name": "stderr",
          "text": [
            "[I 2024-12-03 18:25:16,647] A new study created in memory with name: no-name-00f43176-c070-4d20-9355-14c43d6fe492\n",
            "[I 2024-12-03 18:25:51,249] Trial 0 finished with value: 0.56258704662323 and parameters: {'hidden_dim': 193, 'dropout': 0.4963074769872655, 'learning_rate': 0.004451407878722279, 'weight_decay': 0.005592880816389218}. Best is trial 0 with value: 0.56258704662323.\n",
            "[I 2024-12-03 18:26:27,658] Trial 1 finished with value: 0.4766363263130188 and parameters: {'hidden_dim': 209, 'dropout': 0.5412912242215545, 'learning_rate': 0.005687280709147396, 'weight_decay': 0.00023079087207869065}. Best is trial 1 with value: 0.4766363263130188.\n",
            "[I 2024-12-03 18:27:02,492] Trial 2 finished with value: 0.5489766716957092 and parameters: {'hidden_dim': 79, 'dropout': 0.10285477618153183, 'learning_rate': 0.0006799244379301925, 'weight_decay': 0.004585444767524785}. Best is trial 1 with value: 0.4766363263130188.\n",
            "[I 2024-12-03 18:27:45,724] Trial 3 finished with value: 0.49006786942481995 and parameters: {'hidden_dim': 137, 'dropout': 0.6559238981451023, 'learning_rate': 0.007838253347512739, 'weight_decay': 0.0016793079629578837}. Best is trial 1 with value: 0.4766363263130188.\n",
            "[I 2024-12-03 18:28:22,214] Trial 4 finished with value: 0.4802901864051819 and parameters: {'hidden_dim': 222, 'dropout': 0.11994077819826904, 'learning_rate': 0.003946313180973355, 'weight_decay': 0.0038507227567902485}. Best is trial 1 with value: 0.4766363263130188.\n",
            "[I 2024-12-03 18:28:56,873] Trial 5 finished with value: 0.40757185220718384 and parameters: {'hidden_dim': 191, 'dropout': 0.6901525585069828, 'learning_rate': 0.0083046255962336, 'weight_decay': 0.0009454775306366607}. Best is trial 5 with value: 0.40757185220718384.\n",
            "[I 2024-12-03 18:29:32,993] Trial 6 finished with value: 0.47710569500923156 and parameters: {'hidden_dim': 158, 'dropout': 0.18711412689224927, 'learning_rate': 0.0031002359920331794, 'weight_decay': 0.0027104889406409606}. Best is trial 5 with value: 0.40757185220718384.\n",
            "[I 2024-12-03 18:30:07,713] Trial 7 finished with value: 0.4760539889335632 and parameters: {'hidden_dim': 88, 'dropout': 0.22983012281197573, 'learning_rate': 0.009555210778332202, 'weight_decay': 0.003589218115411973}. Best is trial 5 with value: 0.40757185220718384.\n",
            "[I 2024-12-03 18:30:42,813] Trial 8 finished with value: 0.5019794583320618 and parameters: {'hidden_dim': 95, 'dropout': 0.47570477907410547, 'learning_rate': 0.00781661909557136, 'weight_decay': 0.0047832580835083195}. Best is trial 5 with value: 0.40757185220718384.\n",
            "[I 2024-12-03 18:31:20,313] Trial 9 finished with value: 0.6651197493076324 and parameters: {'hidden_dim': 251, 'dropout': 0.48436957532498237, 'learning_rate': 0.006962815673523484, 'weight_decay': 0.00014146690826229768}. Best is trial 5 with value: 0.40757185220718384.\n",
            "[I 2024-12-03 18:31:53,528] Trial 10 finished with value: 0.6843546032905579 and parameters: {'hidden_dim': 132, 'dropout': 0.6873332532799563, 'learning_rate': 0.009718654611946494, 'weight_decay': 0.00886082996439533}. Best is trial 5 with value: 0.40757185220718384.\n",
            "[I 2024-12-03 18:32:31,181] Trial 11 finished with value: 0.6905186414718628 and parameters: {'hidden_dim': 174, 'dropout': 0.29813779017451025, 'learning_rate': 0.009783454401342779, 'weight_decay': 0.006739818314286412}. Best is trial 5 with value: 0.40757185220718384.\n",
            "[I 2024-12-03 18:33:04,046] Trial 12 finished with value: 0.41948833465576174 and parameters: {'hidden_dim': 107, 'dropout': 0.3145641516773958, 'learning_rate': 0.008676570839642695, 'weight_decay': 0.002355702617715139}. Best is trial 5 with value: 0.40757185220718384.\n",
            "[I 2024-12-03 18:33:40,955] Trial 13 finished with value: 0.47631200551986697 and parameters: {'hidden_dim': 121, 'dropout': 0.35652421317383565, 'learning_rate': 0.006413484291681516, 'weight_decay': 0.001954892684016124}. Best is trial 5 with value: 0.40757185220718384.\n",
            "[I 2024-12-03 18:34:12,981] Trial 14 finished with value: 0.42983315587043763 and parameters: {'hidden_dim': 65, 'dropout': 0.3603774851686289, 'learning_rate': 0.008367386450508848, 'weight_decay': 0.0012842819221291287}. Best is trial 5 with value: 0.40757185220718384.\n",
            "[I 2024-12-03 18:34:50,593] Trial 15 finished with value: 0.4499541103839874 and parameters: {'hidden_dim': 171, 'dropout': 0.5948870613232107, 'learning_rate': 0.008654486196786243, 'weight_decay': 0.0029546584417282896}. Best is trial 5 with value: 0.40757185220718384.\n",
            "[I 2024-12-03 18:35:22,761] Trial 16 finished with value: 0.49232290387153627 and parameters: {'hidden_dim': 114, 'dropout': 0.41601299794416985, 'learning_rate': 0.00673076907226358, 'weight_decay': 0.0010956607185750378}. Best is trial 5 with value: 0.40757185220718384.\n",
            "[I 2024-12-03 18:36:00,205] Trial 17 finished with value: 0.5233053982257843 and parameters: {'hidden_dim': 146, 'dropout': 0.25450253213702495, 'learning_rate': 0.0020251353463496256, 'weight_decay': 0.007026344084762788}. Best is trial 5 with value: 0.40757185220718384.\n",
            "[I 2024-12-03 18:36:34,141] Trial 18 finished with value: 0.4758251249790192 and parameters: {'hidden_dim': 242, 'dropout': 0.5983538370102569, 'learning_rate': 0.005789474280040343, 'weight_decay': 0.0027089715361986893}. Best is trial 5 with value: 0.40757185220718384.\n",
            "[I 2024-12-03 18:37:10,727] Trial 19 finished with value: 0.4642643332481384 and parameters: {'hidden_dim': 196, 'dropout': 0.3861175776144483, 'learning_rate': 0.00744145845903461, 'weight_decay': 0.0007925483958201085}. Best is trial 5 with value: 0.40757185220718384.\n",
            "[I 2024-12-03 18:37:44,223] Trial 20 finished with value: 0.470151686668396 and parameters: {'hidden_dim': 102, 'dropout': 0.28293758697770244, 'learning_rate': 0.00835172593575195, 'weight_decay': 0.0023125104998936827}. Best is trial 5 with value: 0.40757185220718384.\n",
            "[I 2024-12-03 18:38:19,536] Trial 21 finished with value: 0.48963724374771117 and parameters: {'hidden_dim': 64, 'dropout': 0.32468386595256016, 'learning_rate': 0.009005286177937435, 'weight_decay': 0.001255376126980796}. Best is trial 5 with value: 0.40757185220718384.\n",
            "[I 2024-12-03 18:38:52,558] Trial 22 finished with value: 0.6367931604385376 and parameters: {'hidden_dim': 73, 'dropout': 0.4203085059786271, 'learning_rate': 0.008659067973353923, 'weight_decay': 0.0001203004212187817}. Best is trial 5 with value: 0.40757185220718384.\n",
            "[I 2024-12-03 18:39:28,198] Trial 23 finished with value: 0.4157709926366806 and parameters: {'hidden_dim': 99, 'dropout': 0.18760040012148407, 'learning_rate': 0.007763820446810862, 'weight_decay': 0.0015085900014174887}. Best is trial 5 with value: 0.40757185220718384.\n",
            "[I 2024-12-03 18:40:01,320] Trial 24 finished with value: 0.4511089980602264 and parameters: {'hidden_dim': 101, 'dropout': 0.22557066657273842, 'learning_rate': 0.005525364844790258, 'weight_decay': 0.003305154704353949}. Best is trial 5 with value: 0.40757185220718384.\n",
            "[I 2024-12-03 18:40:37,131] Trial 25 finished with value: 0.4322681427001953 and parameters: {'hidden_dim': 119, 'dropout': 0.16871397728693088, 'learning_rate': 0.0072161657034971235, 'weight_decay': 0.002113513317480141}. Best is trial 5 with value: 0.40757185220718384.\n",
            "[I 2024-12-03 18:41:10,948] Trial 26 finished with value: 0.4902091383934021 and parameters: {'hidden_dim': 155, 'dropout': 0.15706254801959668, 'learning_rate': 0.009002829728567823, 'weight_decay': 0.004150453471255525}. Best is trial 5 with value: 0.40757185220718384.\n",
            "[I 2024-12-03 18:41:46,627] Trial 27 finished with value: 0.5034011721611023 and parameters: {'hidden_dim': 189, 'dropout': 0.2109062439990876, 'learning_rate': 0.0062980849582607076, 'weight_decay': 0.005698125290083584}. Best is trial 5 with value: 0.40757185220718384.\n",
            "[I 2024-12-03 18:42:21,853] Trial 28 finished with value: 0.48025321364402773 and parameters: {'hidden_dim': 223, 'dropout': 0.27437575470115094, 'learning_rate': 0.007785722534300346, 'weight_decay': 0.0007925134463653027}. Best is trial 5 with value: 0.40757185220718384.\n",
            "[I 2024-12-03 18:42:56,709] Trial 29 finished with value: 0.6858333706855774 and parameters: {'hidden_dim': 181, 'dropout': 0.4359346052463423, 'learning_rate': 0.004039407586185808, 'weight_decay': 0.005489483463193351}. Best is trial 5 with value: 0.40757185220718384.\n"
          ]
        },
        {
          "output_type": "stream",
          "name": "stdout",
          "text": [
            "Best hyperparameters for Model 1: {'hidden_dim': 191, 'dropout': 0.6901525585069828, 'learning_rate': 0.0083046255962336, 'weight_decay': 0.0009454775306366607}\n"
          ]
        }
      ]
    },
    {
      "cell_type": "code",
      "source": [
        "optuna.visualization.plot_optimization_history(study_model1).show()\n",
        "optuna.visualization.plot_param_importances(study_model1).show()"
      ],
      "metadata": {
        "colab": {
          "base_uri": "https://localhost:8080/",
          "height": 1000
        },
        "id": "HUc-eqGGdqe0",
        "outputId": "19bbd559-0832-4391-8c9e-a64d8e54f0bc"
      },
      "execution_count": null,
      "outputs": [
        {
          "output_type": "display_data",
          "data": {
            "text/html": [
              "<html>\n",
              "<head><meta charset=\"utf-8\" /></head>\n",
              "<body>\n",
              "    <div>            <script src=\"https://cdnjs.cloudflare.com/ajax/libs/mathjax/2.7.5/MathJax.js?config=TeX-AMS-MML_SVG\"></script><script type=\"text/javascript\">if (window.MathJax && window.MathJax.Hub && window.MathJax.Hub.Config) {window.MathJax.Hub.Config({SVG: {font: \"STIX-Web\"}});}</script>                <script type=\"text/javascript\">window.PlotlyConfig = {MathJaxConfig: 'local'};</script>\n",
              "        <script charset=\"utf-8\" src=\"https://cdn.plot.ly/plotly-2.35.2.min.js\"></script>                <div id=\"644b112e-057e-4d73-9960-4f8ff815db32\" class=\"plotly-graph-div\" style=\"height:525px; width:100%;\"></div>            <script type=\"text/javascript\">                                    window.PLOTLYENV=window.PLOTLYENV || {};                                    if (document.getElementById(\"644b112e-057e-4d73-9960-4f8ff815db32\")) {                    Plotly.newPlot(                        \"644b112e-057e-4d73-9960-4f8ff815db32\",                        [{\"mode\":\"markers\",\"name\":\"Objective Value\",\"x\":[0,1,2,3,4,5,6,7,8,9,10,11,12,13,14,15,16,17,18,19,20,21,22,23,24,25,26,27,28,29],\"y\":[0.56258704662323,0.4766363263130188,0.5489766716957092,0.49006786942481995,0.4802901864051819,0.40757185220718384,0.47710569500923156,0.4760539889335632,0.5019794583320618,0.6651197493076324,0.6843546032905579,0.6905186414718628,0.41948833465576174,0.47631200551986697,0.42983315587043763,0.4499541103839874,0.49232290387153627,0.5233053982257843,0.4758251249790192,0.4642643332481384,0.470151686668396,0.48963724374771117,0.6367931604385376,0.4157709926366806,0.4511089980602264,0.4322681427001953,0.4902091383934021,0.5034011721611023,0.48025321364402773,0.6858333706855774],\"type\":\"scatter\"},{\"mode\":\"lines\",\"name\":\"Best Value\",\"x\":[0,1,2,3,4,5,6,7,8,9,10,11,12,13,14,15,16,17,18,19,20,21,22,23,24,25,26,27,28,29],\"y\":[0.56258704662323,0.4766363263130188,0.4766363263130188,0.4766363263130188,0.4766363263130188,0.40757185220718384,0.40757185220718384,0.40757185220718384,0.40757185220718384,0.40757185220718384,0.40757185220718384,0.40757185220718384,0.40757185220718384,0.40757185220718384,0.40757185220718384,0.40757185220718384,0.40757185220718384,0.40757185220718384,0.40757185220718384,0.40757185220718384,0.40757185220718384,0.40757185220718384,0.40757185220718384,0.40757185220718384,0.40757185220718384,0.40757185220718384,0.40757185220718384,0.40757185220718384,0.40757185220718384,0.40757185220718384],\"type\":\"scatter\"},{\"marker\":{\"color\":\"#cccccc\"},\"mode\":\"markers\",\"name\":\"Infeasible Trial\",\"showlegend\":false,\"x\":[],\"y\":[],\"type\":\"scatter\"}],                        {\"title\":{\"text\":\"Optimization History Plot\"},\"xaxis\":{\"title\":{\"text\":\"Trial\"}},\"yaxis\":{\"title\":{\"text\":\"Objective Value\"}},\"template\":{\"data\":{\"histogram2dcontour\":[{\"type\":\"histogram2dcontour\",\"colorbar\":{\"outlinewidth\":0,\"ticks\":\"\"},\"colorscale\":[[0.0,\"#0d0887\"],[0.1111111111111111,\"#46039f\"],[0.2222222222222222,\"#7201a8\"],[0.3333333333333333,\"#9c179e\"],[0.4444444444444444,\"#bd3786\"],[0.5555555555555556,\"#d8576b\"],[0.6666666666666666,\"#ed7953\"],[0.7777777777777778,\"#fb9f3a\"],[0.8888888888888888,\"#fdca26\"],[1.0,\"#f0f921\"]]}],\"choropleth\":[{\"type\":\"choropleth\",\"colorbar\":{\"outlinewidth\":0,\"ticks\":\"\"}}],\"histogram2d\":[{\"type\":\"histogram2d\",\"colorbar\":{\"outlinewidth\":0,\"ticks\":\"\"},\"colorscale\":[[0.0,\"#0d0887\"],[0.1111111111111111,\"#46039f\"],[0.2222222222222222,\"#7201a8\"],[0.3333333333333333,\"#9c179e\"],[0.4444444444444444,\"#bd3786\"],[0.5555555555555556,\"#d8576b\"],[0.6666666666666666,\"#ed7953\"],[0.7777777777777778,\"#fb9f3a\"],[0.8888888888888888,\"#fdca26\"],[1.0,\"#f0f921\"]]}],\"heatmap\":[{\"type\":\"heatmap\",\"colorbar\":{\"outlinewidth\":0,\"ticks\":\"\"},\"colorscale\":[[0.0,\"#0d0887\"],[0.1111111111111111,\"#46039f\"],[0.2222222222222222,\"#7201a8\"],[0.3333333333333333,\"#9c179e\"],[0.4444444444444444,\"#bd3786\"],[0.5555555555555556,\"#d8576b\"],[0.6666666666666666,\"#ed7953\"],[0.7777777777777778,\"#fb9f3a\"],[0.8888888888888888,\"#fdca26\"],[1.0,\"#f0f921\"]]}],\"heatmapgl\":[{\"type\":\"heatmapgl\",\"colorbar\":{\"outlinewidth\":0,\"ticks\":\"\"},\"colorscale\":[[0.0,\"#0d0887\"],[0.1111111111111111,\"#46039f\"],[0.2222222222222222,\"#7201a8\"],[0.3333333333333333,\"#9c179e\"],[0.4444444444444444,\"#bd3786\"],[0.5555555555555556,\"#d8576b\"],[0.6666666666666666,\"#ed7953\"],[0.7777777777777778,\"#fb9f3a\"],[0.8888888888888888,\"#fdca26\"],[1.0,\"#f0f921\"]]}],\"contourcarpet\":[{\"type\":\"contourcarpet\",\"colorbar\":{\"outlinewidth\":0,\"ticks\":\"\"}}],\"contour\":[{\"type\":\"contour\",\"colorbar\":{\"outlinewidth\":0,\"ticks\":\"\"},\"colorscale\":[[0.0,\"#0d0887\"],[0.1111111111111111,\"#46039f\"],[0.2222222222222222,\"#7201a8\"],[0.3333333333333333,\"#9c179e\"],[0.4444444444444444,\"#bd3786\"],[0.5555555555555556,\"#d8576b\"],[0.6666666666666666,\"#ed7953\"],[0.7777777777777778,\"#fb9f3a\"],[0.8888888888888888,\"#fdca26\"],[1.0,\"#f0f921\"]]}],\"surface\":[{\"type\":\"surface\",\"colorbar\":{\"outlinewidth\":0,\"ticks\":\"\"},\"colorscale\":[[0.0,\"#0d0887\"],[0.1111111111111111,\"#46039f\"],[0.2222222222222222,\"#7201a8\"],[0.3333333333333333,\"#9c179e\"],[0.4444444444444444,\"#bd3786\"],[0.5555555555555556,\"#d8576b\"],[0.6666666666666666,\"#ed7953\"],[0.7777777777777778,\"#fb9f3a\"],[0.8888888888888888,\"#fdca26\"],[1.0,\"#f0f921\"]]}],\"mesh3d\":[{\"type\":\"mesh3d\",\"colorbar\":{\"outlinewidth\":0,\"ticks\":\"\"}}],\"scatter\":[{\"fillpattern\":{\"fillmode\":\"overlay\",\"size\":10,\"solidity\":0.2},\"type\":\"scatter\"}],\"parcoords\":[{\"type\":\"parcoords\",\"line\":{\"colorbar\":{\"outlinewidth\":0,\"ticks\":\"\"}}}],\"scatterpolargl\":[{\"type\":\"scatterpolargl\",\"marker\":{\"colorbar\":{\"outlinewidth\":0,\"ticks\":\"\"}}}],\"bar\":[{\"error_x\":{\"color\":\"#2a3f5f\"},\"error_y\":{\"color\":\"#2a3f5f\"},\"marker\":{\"line\":{\"color\":\"#E5ECF6\",\"width\":0.5},\"pattern\":{\"fillmode\":\"overlay\",\"size\":10,\"solidity\":0.2}},\"type\":\"bar\"}],\"scattergeo\":[{\"type\":\"scattergeo\",\"marker\":{\"colorbar\":{\"outlinewidth\":0,\"ticks\":\"\"}}}],\"scatterpolar\":[{\"type\":\"scatterpolar\",\"marker\":{\"colorbar\":{\"outlinewidth\":0,\"ticks\":\"\"}}}],\"histogram\":[{\"marker\":{\"pattern\":{\"fillmode\":\"overlay\",\"size\":10,\"solidity\":0.2}},\"type\":\"histogram\"}],\"scattergl\":[{\"type\":\"scattergl\",\"marker\":{\"colorbar\":{\"outlinewidth\":0,\"ticks\":\"\"}}}],\"scatter3d\":[{\"type\":\"scatter3d\",\"line\":{\"colorbar\":{\"outlinewidth\":0,\"ticks\":\"\"}},\"marker\":{\"colorbar\":{\"outlinewidth\":0,\"ticks\":\"\"}}}],\"scattermapbox\":[{\"type\":\"scattermapbox\",\"marker\":{\"colorbar\":{\"outlinewidth\":0,\"ticks\":\"\"}}}],\"scatterternary\":[{\"type\":\"scatterternary\",\"marker\":{\"colorbar\":{\"outlinewidth\":0,\"ticks\":\"\"}}}],\"scattercarpet\":[{\"type\":\"scattercarpet\",\"marker\":{\"colorbar\":{\"outlinewidth\":0,\"ticks\":\"\"}}}],\"carpet\":[{\"aaxis\":{\"endlinecolor\":\"#2a3f5f\",\"gridcolor\":\"white\",\"linecolor\":\"white\",\"minorgridcolor\":\"white\",\"startlinecolor\":\"#2a3f5f\"},\"baxis\":{\"endlinecolor\":\"#2a3f5f\",\"gridcolor\":\"white\",\"linecolor\":\"white\",\"minorgridcolor\":\"white\",\"startlinecolor\":\"#2a3f5f\"},\"type\":\"carpet\"}],\"table\":[{\"cells\":{\"fill\":{\"color\":\"#EBF0F8\"},\"line\":{\"color\":\"white\"}},\"header\":{\"fill\":{\"color\":\"#C8D4E3\"},\"line\":{\"color\":\"white\"}},\"type\":\"table\"}],\"barpolar\":[{\"marker\":{\"line\":{\"color\":\"#E5ECF6\",\"width\":0.5},\"pattern\":{\"fillmode\":\"overlay\",\"size\":10,\"solidity\":0.2}},\"type\":\"barpolar\"}],\"pie\":[{\"automargin\":true,\"type\":\"pie\"}]},\"layout\":{\"autotypenumbers\":\"strict\",\"colorway\":[\"#636efa\",\"#EF553B\",\"#00cc96\",\"#ab63fa\",\"#FFA15A\",\"#19d3f3\",\"#FF6692\",\"#B6E880\",\"#FF97FF\",\"#FECB52\"],\"font\":{\"color\":\"#2a3f5f\"},\"hovermode\":\"closest\",\"hoverlabel\":{\"align\":\"left\"},\"paper_bgcolor\":\"white\",\"plot_bgcolor\":\"#E5ECF6\",\"polar\":{\"bgcolor\":\"#E5ECF6\",\"angularaxis\":{\"gridcolor\":\"white\",\"linecolor\":\"white\",\"ticks\":\"\"},\"radialaxis\":{\"gridcolor\":\"white\",\"linecolor\":\"white\",\"ticks\":\"\"}},\"ternary\":{\"bgcolor\":\"#E5ECF6\",\"aaxis\":{\"gridcolor\":\"white\",\"linecolor\":\"white\",\"ticks\":\"\"},\"baxis\":{\"gridcolor\":\"white\",\"linecolor\":\"white\",\"ticks\":\"\"},\"caxis\":{\"gridcolor\":\"white\",\"linecolor\":\"white\",\"ticks\":\"\"}},\"coloraxis\":{\"colorbar\":{\"outlinewidth\":0,\"ticks\":\"\"}},\"colorscale\":{\"sequential\":[[0.0,\"#0d0887\"],[0.1111111111111111,\"#46039f\"],[0.2222222222222222,\"#7201a8\"],[0.3333333333333333,\"#9c179e\"],[0.4444444444444444,\"#bd3786\"],[0.5555555555555556,\"#d8576b\"],[0.6666666666666666,\"#ed7953\"],[0.7777777777777778,\"#fb9f3a\"],[0.8888888888888888,\"#fdca26\"],[1.0,\"#f0f921\"]],\"sequentialminus\":[[0.0,\"#0d0887\"],[0.1111111111111111,\"#46039f\"],[0.2222222222222222,\"#7201a8\"],[0.3333333333333333,\"#9c179e\"],[0.4444444444444444,\"#bd3786\"],[0.5555555555555556,\"#d8576b\"],[0.6666666666666666,\"#ed7953\"],[0.7777777777777778,\"#fb9f3a\"],[0.8888888888888888,\"#fdca26\"],[1.0,\"#f0f921\"]],\"diverging\":[[0,\"#8e0152\"],[0.1,\"#c51b7d\"],[0.2,\"#de77ae\"],[0.3,\"#f1b6da\"],[0.4,\"#fde0ef\"],[0.5,\"#f7f7f7\"],[0.6,\"#e6f5d0\"],[0.7,\"#b8e186\"],[0.8,\"#7fbc41\"],[0.9,\"#4d9221\"],[1,\"#276419\"]]},\"xaxis\":{\"gridcolor\":\"white\",\"linecolor\":\"white\",\"ticks\":\"\",\"title\":{\"standoff\":15},\"zerolinecolor\":\"white\",\"automargin\":true,\"zerolinewidth\":2},\"yaxis\":{\"gridcolor\":\"white\",\"linecolor\":\"white\",\"ticks\":\"\",\"title\":{\"standoff\":15},\"zerolinecolor\":\"white\",\"automargin\":true,\"zerolinewidth\":2},\"scene\":{\"xaxis\":{\"backgroundcolor\":\"#E5ECF6\",\"gridcolor\":\"white\",\"linecolor\":\"white\",\"showbackground\":true,\"ticks\":\"\",\"zerolinecolor\":\"white\",\"gridwidth\":2},\"yaxis\":{\"backgroundcolor\":\"#E5ECF6\",\"gridcolor\":\"white\",\"linecolor\":\"white\",\"showbackground\":true,\"ticks\":\"\",\"zerolinecolor\":\"white\",\"gridwidth\":2},\"zaxis\":{\"backgroundcolor\":\"#E5ECF6\",\"gridcolor\":\"white\",\"linecolor\":\"white\",\"showbackground\":true,\"ticks\":\"\",\"zerolinecolor\":\"white\",\"gridwidth\":2}},\"shapedefaults\":{\"line\":{\"color\":\"#2a3f5f\"}},\"annotationdefaults\":{\"arrowcolor\":\"#2a3f5f\",\"arrowhead\":0,\"arrowwidth\":1},\"geo\":{\"bgcolor\":\"white\",\"landcolor\":\"#E5ECF6\",\"subunitcolor\":\"white\",\"showland\":true,\"showlakes\":true,\"lakecolor\":\"white\"},\"title\":{\"x\":0.05},\"mapbox\":{\"style\":\"light\"}}}},                        {\"responsive\": true}                    ).then(function(){\n",
              "                            \n",
              "var gd = document.getElementById('644b112e-057e-4d73-9960-4f8ff815db32');\n",
              "var x = new MutationObserver(function (mutations, observer) {{\n",
              "        var display = window.getComputedStyle(gd).display;\n",
              "        if (!display || display === 'none') {{\n",
              "            console.log([gd, 'removed!']);\n",
              "            Plotly.purge(gd);\n",
              "            observer.disconnect();\n",
              "        }}\n",
              "}});\n",
              "\n",
              "// Listen for the removal of the full notebook cells\n",
              "var notebookContainer = gd.closest('#notebook-container');\n",
              "if (notebookContainer) {{\n",
              "    x.observe(notebookContainer, {childList: true});\n",
              "}}\n",
              "\n",
              "// Listen for the clearing of the current output cell\n",
              "var outputEl = gd.closest('.output');\n",
              "if (outputEl) {{\n",
              "    x.observe(outputEl, {childList: true});\n",
              "}}\n",
              "\n",
              "                        })                };                            </script>        </div>\n",
              "</body>\n",
              "</html>"
            ]
          },
          "metadata": {}
        },
        {
          "output_type": "display_data",
          "data": {
            "text/html": [
              "<html>\n",
              "<head><meta charset=\"utf-8\" /></head>\n",
              "<body>\n",
              "    <div>            <script src=\"https://cdnjs.cloudflare.com/ajax/libs/mathjax/2.7.5/MathJax.js?config=TeX-AMS-MML_SVG\"></script><script type=\"text/javascript\">if (window.MathJax && window.MathJax.Hub && window.MathJax.Hub.Config) {window.MathJax.Hub.Config({SVG: {font: \"STIX-Web\"}});}</script>                <script type=\"text/javascript\">window.PlotlyConfig = {MathJaxConfig: 'local'};</script>\n",
              "        <script charset=\"utf-8\" src=\"https://cdn.plot.ly/plotly-2.35.2.min.js\"></script>                <div id=\"fe54f1f6-0e3b-4ab1-b286-bc0042977cb7\" class=\"plotly-graph-div\" style=\"height:525px; width:100%;\"></div>            <script type=\"text/javascript\">                                    window.PLOTLYENV=window.PLOTLYENV || {};                                    if (document.getElementById(\"fe54f1f6-0e3b-4ab1-b286-bc0042977cb7\")) {                    Plotly.newPlot(                        \"fe54f1f6-0e3b-4ab1-b286-bc0042977cb7\",                        [{\"cliponaxis\":false,\"hovertemplate\":[\"hidden_dim (IntDistribution): 0.0632849314488307\\u003cextra\\u003e\\u003c\\u002fextra\\u003e\",\"dropout (FloatDistribution): 0.08100156768780689\\u003cextra\\u003e\\u003c\\u002fextra\\u003e\",\"learning_rate (FloatDistribution): 0.13754221239024686\\u003cextra\\u003e\\u003c\\u002fextra\\u003e\",\"weight_decay (FloatDistribution): 0.7181712884731156\\u003cextra\\u003e\\u003c\\u002fextra\\u003e\"],\"name\":\"Objective Value\",\"orientation\":\"h\",\"text\":[\"0.06\",\"0.08\",\"0.14\",\"0.72\"],\"textposition\":\"outside\",\"x\":[0.0632849314488307,0.08100156768780689,0.13754221239024686,0.7181712884731156],\"y\":[\"hidden_dim\",\"dropout\",\"learning_rate\",\"weight_decay\"],\"type\":\"bar\"}],                        {\"title\":{\"text\":\"Hyperparameter Importances\"},\"xaxis\":{\"title\":{\"text\":\"Hyperparameter Importance\"}},\"yaxis\":{\"title\":{\"text\":\"Hyperparameter\"}},\"template\":{\"data\":{\"histogram2dcontour\":[{\"type\":\"histogram2dcontour\",\"colorbar\":{\"outlinewidth\":0,\"ticks\":\"\"},\"colorscale\":[[0.0,\"#0d0887\"],[0.1111111111111111,\"#46039f\"],[0.2222222222222222,\"#7201a8\"],[0.3333333333333333,\"#9c179e\"],[0.4444444444444444,\"#bd3786\"],[0.5555555555555556,\"#d8576b\"],[0.6666666666666666,\"#ed7953\"],[0.7777777777777778,\"#fb9f3a\"],[0.8888888888888888,\"#fdca26\"],[1.0,\"#f0f921\"]]}],\"choropleth\":[{\"type\":\"choropleth\",\"colorbar\":{\"outlinewidth\":0,\"ticks\":\"\"}}],\"histogram2d\":[{\"type\":\"histogram2d\",\"colorbar\":{\"outlinewidth\":0,\"ticks\":\"\"},\"colorscale\":[[0.0,\"#0d0887\"],[0.1111111111111111,\"#46039f\"],[0.2222222222222222,\"#7201a8\"],[0.3333333333333333,\"#9c179e\"],[0.4444444444444444,\"#bd3786\"],[0.5555555555555556,\"#d8576b\"],[0.6666666666666666,\"#ed7953\"],[0.7777777777777778,\"#fb9f3a\"],[0.8888888888888888,\"#fdca26\"],[1.0,\"#f0f921\"]]}],\"heatmap\":[{\"type\":\"heatmap\",\"colorbar\":{\"outlinewidth\":0,\"ticks\":\"\"},\"colorscale\":[[0.0,\"#0d0887\"],[0.1111111111111111,\"#46039f\"],[0.2222222222222222,\"#7201a8\"],[0.3333333333333333,\"#9c179e\"],[0.4444444444444444,\"#bd3786\"],[0.5555555555555556,\"#d8576b\"],[0.6666666666666666,\"#ed7953\"],[0.7777777777777778,\"#fb9f3a\"],[0.8888888888888888,\"#fdca26\"],[1.0,\"#f0f921\"]]}],\"heatmapgl\":[{\"type\":\"heatmapgl\",\"colorbar\":{\"outlinewidth\":0,\"ticks\":\"\"},\"colorscale\":[[0.0,\"#0d0887\"],[0.1111111111111111,\"#46039f\"],[0.2222222222222222,\"#7201a8\"],[0.3333333333333333,\"#9c179e\"],[0.4444444444444444,\"#bd3786\"],[0.5555555555555556,\"#d8576b\"],[0.6666666666666666,\"#ed7953\"],[0.7777777777777778,\"#fb9f3a\"],[0.8888888888888888,\"#fdca26\"],[1.0,\"#f0f921\"]]}],\"contourcarpet\":[{\"type\":\"contourcarpet\",\"colorbar\":{\"outlinewidth\":0,\"ticks\":\"\"}}],\"contour\":[{\"type\":\"contour\",\"colorbar\":{\"outlinewidth\":0,\"ticks\":\"\"},\"colorscale\":[[0.0,\"#0d0887\"],[0.1111111111111111,\"#46039f\"],[0.2222222222222222,\"#7201a8\"],[0.3333333333333333,\"#9c179e\"],[0.4444444444444444,\"#bd3786\"],[0.5555555555555556,\"#d8576b\"],[0.6666666666666666,\"#ed7953\"],[0.7777777777777778,\"#fb9f3a\"],[0.8888888888888888,\"#fdca26\"],[1.0,\"#f0f921\"]]}],\"surface\":[{\"type\":\"surface\",\"colorbar\":{\"outlinewidth\":0,\"ticks\":\"\"},\"colorscale\":[[0.0,\"#0d0887\"],[0.1111111111111111,\"#46039f\"],[0.2222222222222222,\"#7201a8\"],[0.3333333333333333,\"#9c179e\"],[0.4444444444444444,\"#bd3786\"],[0.5555555555555556,\"#d8576b\"],[0.6666666666666666,\"#ed7953\"],[0.7777777777777778,\"#fb9f3a\"],[0.8888888888888888,\"#fdca26\"],[1.0,\"#f0f921\"]]}],\"mesh3d\":[{\"type\":\"mesh3d\",\"colorbar\":{\"outlinewidth\":0,\"ticks\":\"\"}}],\"scatter\":[{\"fillpattern\":{\"fillmode\":\"overlay\",\"size\":10,\"solidity\":0.2},\"type\":\"scatter\"}],\"parcoords\":[{\"type\":\"parcoords\",\"line\":{\"colorbar\":{\"outlinewidth\":0,\"ticks\":\"\"}}}],\"scatterpolargl\":[{\"type\":\"scatterpolargl\",\"marker\":{\"colorbar\":{\"outlinewidth\":0,\"ticks\":\"\"}}}],\"bar\":[{\"error_x\":{\"color\":\"#2a3f5f\"},\"error_y\":{\"color\":\"#2a3f5f\"},\"marker\":{\"line\":{\"color\":\"#E5ECF6\",\"width\":0.5},\"pattern\":{\"fillmode\":\"overlay\",\"size\":10,\"solidity\":0.2}},\"type\":\"bar\"}],\"scattergeo\":[{\"type\":\"scattergeo\",\"marker\":{\"colorbar\":{\"outlinewidth\":0,\"ticks\":\"\"}}}],\"scatterpolar\":[{\"type\":\"scatterpolar\",\"marker\":{\"colorbar\":{\"outlinewidth\":0,\"ticks\":\"\"}}}],\"histogram\":[{\"marker\":{\"pattern\":{\"fillmode\":\"overlay\",\"size\":10,\"solidity\":0.2}},\"type\":\"histogram\"}],\"scattergl\":[{\"type\":\"scattergl\",\"marker\":{\"colorbar\":{\"outlinewidth\":0,\"ticks\":\"\"}}}],\"scatter3d\":[{\"type\":\"scatter3d\",\"line\":{\"colorbar\":{\"outlinewidth\":0,\"ticks\":\"\"}},\"marker\":{\"colorbar\":{\"outlinewidth\":0,\"ticks\":\"\"}}}],\"scattermapbox\":[{\"type\":\"scattermapbox\",\"marker\":{\"colorbar\":{\"outlinewidth\":0,\"ticks\":\"\"}}}],\"scatterternary\":[{\"type\":\"scatterternary\",\"marker\":{\"colorbar\":{\"outlinewidth\":0,\"ticks\":\"\"}}}],\"scattercarpet\":[{\"type\":\"scattercarpet\",\"marker\":{\"colorbar\":{\"outlinewidth\":0,\"ticks\":\"\"}}}],\"carpet\":[{\"aaxis\":{\"endlinecolor\":\"#2a3f5f\",\"gridcolor\":\"white\",\"linecolor\":\"white\",\"minorgridcolor\":\"white\",\"startlinecolor\":\"#2a3f5f\"},\"baxis\":{\"endlinecolor\":\"#2a3f5f\",\"gridcolor\":\"white\",\"linecolor\":\"white\",\"minorgridcolor\":\"white\",\"startlinecolor\":\"#2a3f5f\"},\"type\":\"carpet\"}],\"table\":[{\"cells\":{\"fill\":{\"color\":\"#EBF0F8\"},\"line\":{\"color\":\"white\"}},\"header\":{\"fill\":{\"color\":\"#C8D4E3\"},\"line\":{\"color\":\"white\"}},\"type\":\"table\"}],\"barpolar\":[{\"marker\":{\"line\":{\"color\":\"#E5ECF6\",\"width\":0.5},\"pattern\":{\"fillmode\":\"overlay\",\"size\":10,\"solidity\":0.2}},\"type\":\"barpolar\"}],\"pie\":[{\"automargin\":true,\"type\":\"pie\"}]},\"layout\":{\"autotypenumbers\":\"strict\",\"colorway\":[\"#636efa\",\"#EF553B\",\"#00cc96\",\"#ab63fa\",\"#FFA15A\",\"#19d3f3\",\"#FF6692\",\"#B6E880\",\"#FF97FF\",\"#FECB52\"],\"font\":{\"color\":\"#2a3f5f\"},\"hovermode\":\"closest\",\"hoverlabel\":{\"align\":\"left\"},\"paper_bgcolor\":\"white\",\"plot_bgcolor\":\"#E5ECF6\",\"polar\":{\"bgcolor\":\"#E5ECF6\",\"angularaxis\":{\"gridcolor\":\"white\",\"linecolor\":\"white\",\"ticks\":\"\"},\"radialaxis\":{\"gridcolor\":\"white\",\"linecolor\":\"white\",\"ticks\":\"\"}},\"ternary\":{\"bgcolor\":\"#E5ECF6\",\"aaxis\":{\"gridcolor\":\"white\",\"linecolor\":\"white\",\"ticks\":\"\"},\"baxis\":{\"gridcolor\":\"white\",\"linecolor\":\"white\",\"ticks\":\"\"},\"caxis\":{\"gridcolor\":\"white\",\"linecolor\":\"white\",\"ticks\":\"\"}},\"coloraxis\":{\"colorbar\":{\"outlinewidth\":0,\"ticks\":\"\"}},\"colorscale\":{\"sequential\":[[0.0,\"#0d0887\"],[0.1111111111111111,\"#46039f\"],[0.2222222222222222,\"#7201a8\"],[0.3333333333333333,\"#9c179e\"],[0.4444444444444444,\"#bd3786\"],[0.5555555555555556,\"#d8576b\"],[0.6666666666666666,\"#ed7953\"],[0.7777777777777778,\"#fb9f3a\"],[0.8888888888888888,\"#fdca26\"],[1.0,\"#f0f921\"]],\"sequentialminus\":[[0.0,\"#0d0887\"],[0.1111111111111111,\"#46039f\"],[0.2222222222222222,\"#7201a8\"],[0.3333333333333333,\"#9c179e\"],[0.4444444444444444,\"#bd3786\"],[0.5555555555555556,\"#d8576b\"],[0.6666666666666666,\"#ed7953\"],[0.7777777777777778,\"#fb9f3a\"],[0.8888888888888888,\"#fdca26\"],[1.0,\"#f0f921\"]],\"diverging\":[[0,\"#8e0152\"],[0.1,\"#c51b7d\"],[0.2,\"#de77ae\"],[0.3,\"#f1b6da\"],[0.4,\"#fde0ef\"],[0.5,\"#f7f7f7\"],[0.6,\"#e6f5d0\"],[0.7,\"#b8e186\"],[0.8,\"#7fbc41\"],[0.9,\"#4d9221\"],[1,\"#276419\"]]},\"xaxis\":{\"gridcolor\":\"white\",\"linecolor\":\"white\",\"ticks\":\"\",\"title\":{\"standoff\":15},\"zerolinecolor\":\"white\",\"automargin\":true,\"zerolinewidth\":2},\"yaxis\":{\"gridcolor\":\"white\",\"linecolor\":\"white\",\"ticks\":\"\",\"title\":{\"standoff\":15},\"zerolinecolor\":\"white\",\"automargin\":true,\"zerolinewidth\":2},\"scene\":{\"xaxis\":{\"backgroundcolor\":\"#E5ECF6\",\"gridcolor\":\"white\",\"linecolor\":\"white\",\"showbackground\":true,\"ticks\":\"\",\"zerolinecolor\":\"white\",\"gridwidth\":2},\"yaxis\":{\"backgroundcolor\":\"#E5ECF6\",\"gridcolor\":\"white\",\"linecolor\":\"white\",\"showbackground\":true,\"ticks\":\"\",\"zerolinecolor\":\"white\",\"gridwidth\":2},\"zaxis\":{\"backgroundcolor\":\"#E5ECF6\",\"gridcolor\":\"white\",\"linecolor\":\"white\",\"showbackground\":true,\"ticks\":\"\",\"zerolinecolor\":\"white\",\"gridwidth\":2}},\"shapedefaults\":{\"line\":{\"color\":\"#2a3f5f\"}},\"annotationdefaults\":{\"arrowcolor\":\"#2a3f5f\",\"arrowhead\":0,\"arrowwidth\":1},\"geo\":{\"bgcolor\":\"white\",\"landcolor\":\"#E5ECF6\",\"subunitcolor\":\"white\",\"showland\":true,\"showlakes\":true,\"lakecolor\":\"white\"},\"title\":{\"x\":0.05},\"mapbox\":{\"style\":\"light\"}}}},                        {\"responsive\": true}                    ).then(function(){\n",
              "                            \n",
              "var gd = document.getElementById('fe54f1f6-0e3b-4ab1-b286-bc0042977cb7');\n",
              "var x = new MutationObserver(function (mutations, observer) {{\n",
              "        var display = window.getComputedStyle(gd).display;\n",
              "        if (!display || display === 'none') {{\n",
              "            console.log([gd, 'removed!']);\n",
              "            Plotly.purge(gd);\n",
              "            observer.disconnect();\n",
              "        }}\n",
              "}});\n",
              "\n",
              "// Listen for the removal of the full notebook cells\n",
              "var notebookContainer = gd.closest('#notebook-container');\n",
              "if (notebookContainer) {{\n",
              "    x.observe(notebookContainer, {childList: true});\n",
              "}}\n",
              "\n",
              "// Listen for the clearing of the current output cell\n",
              "var outputEl = gd.closest('.output');\n",
              "if (outputEl) {{\n",
              "    x.observe(outputEl, {childList: true});\n",
              "}}\n",
              "\n",
              "                        })                };                            </script>        </div>\n",
              "</body>\n",
              "</html>"
            ]
          },
          "metadata": {}
        }
      ]
    },
    {
      "cell_type": "code",
      "source": [
        "model_1_train_losses = []\n",
        "model_1_val_losses = []\n",
        "model_1_val_accuracies = []\n",
        "model_1_val_f1s = []\n",
        "\n",
        "# === FINAL TRAINING WITH BEST PARAMETERS ===\n",
        "best_params = study_model1.best_params\n",
        "final_model_1 = Model_1(\n",
        "    vocab_size=len(vocab),\n",
        "    embedding_dim=embedding_matrix.shape[1],\n",
        "    embedding_matrix=embedding_matrix,\n",
        "    hidden_dim=best_params[\"hidden_dim\"],\n",
        "    output_dim=1,\n",
        "    pad_idx=vocab[\"[PAD]\"],\n",
        "    dropout=best_params[\"dropout\"]\n",
        ").to(device)\n",
        "\n",
        "# Train the final model\n",
        "final_optimizer_1 = optim.Adam(final_model_1.parameters(), lr=best_params[\"learning_rate\"], weight_decay=best_params[\"weight_decay\"])\n",
        "\n",
        "criterion = nn.BCELoss()\n",
        "num_epochs = 40\n",
        "for epoch in range(num_epochs):\n",
        "    train_loss = train(final_model_1, train_loader, final_optimizer_1, criterion, device)\n",
        "    val_loss, val_accuracy, val_f1 = evaluate(final_model_1, val_loader, criterion, device)\n",
        "\n",
        "    # Append metrices to lists\n",
        "    model_1_train_losses.append(train_loss)\n",
        "    model_1_val_losses.append(val_loss)\n",
        "    model_1_val_accuracies.append(val_accuracy)\n",
        "    model_1_val_f1s.append(val_f1)\n",
        "\n",
        "    print(f\"Epoch {epoch+1}/{num_epochs}\")\n",
        "    print(f\"Train Loss: {train_loss:.4f}\")\n",
        "    print(f\"Validation Loss: {val_loss:.4f}, Validation Accuracy: {val_accuracy:.4f}, Validation F1-Score: {val_f1:.4f}\")\n",
        "\n"
      ],
      "metadata": {
        "colab": {
          "base_uri": "https://localhost:8080/"
        },
        "id": "XrchggikcQuv",
        "outputId": "cfe0e22c-082c-4dc6-e371-3aec03c8d74c"
      },
      "execution_count": null,
      "outputs": [
        {
          "output_type": "stream",
          "name": "stdout",
          "text": [
            "Epoch 1/40\n",
            "Train Loss: 0.6655\n",
            "Validation Loss: 0.6548, Validation Accuracy: 0.5696, Validation F1-Score: 0.3629\n",
            "Epoch 2/40\n",
            "Train Loss: 0.6522\n",
            "Validation Loss: 0.6609, Validation Accuracy: 0.5696, Validation F1-Score: 0.3629\n",
            "Epoch 3/40\n",
            "Train Loss: 0.5809\n",
            "Validation Loss: 0.6072, Validation Accuracy: 0.7215, Validation F1-Score: 0.6815\n",
            "Epoch 4/40\n",
            "Train Loss: 0.5460\n",
            "Validation Loss: 0.5302, Validation Accuracy: 0.7405, Validation F1-Score: 0.7338\n",
            "Epoch 5/40\n",
            "Train Loss: 0.5368\n",
            "Validation Loss: 0.5011, Validation Accuracy: 0.7975, Validation F1-Score: 0.7935\n",
            "Epoch 6/40\n",
            "Train Loss: 0.5307\n",
            "Validation Loss: 0.5093, Validation Accuracy: 0.7722, Validation F1-Score: 0.7668\n",
            "Epoch 7/40\n",
            "Train Loss: 0.5030\n",
            "Validation Loss: 0.4774, Validation Accuracy: 0.7848, Validation F1-Score: 0.7806\n",
            "Epoch 8/40\n",
            "Train Loss: 0.5013\n",
            "Validation Loss: 0.4834, Validation Accuracy: 0.7975, Validation F1-Score: 0.7876\n",
            "Epoch 9/40\n",
            "Train Loss: 0.4791\n",
            "Validation Loss: 0.4913, Validation Accuracy: 0.8101, Validation F1-Score: 0.8030\n",
            "Epoch 10/40\n",
            "Train Loss: 0.4819\n",
            "Validation Loss: 0.4829, Validation Accuracy: 0.8165, Validation F1-Score: 0.8109\n",
            "Epoch 11/40\n",
            "Train Loss: 0.4632\n",
            "Validation Loss: 0.4826, Validation Accuracy: 0.8038, Validation F1-Score: 0.7988\n",
            "Epoch 12/40\n",
            "Train Loss: 0.4591\n",
            "Validation Loss: 0.4351, Validation Accuracy: 0.8228, Validation F1-Score: 0.8193\n",
            "Epoch 13/40\n",
            "Train Loss: 0.4435\n",
            "Validation Loss: 0.4718, Validation Accuracy: 0.7911, Validation F1-Score: 0.7874\n",
            "Epoch 14/40\n",
            "Train Loss: 0.5756\n",
            "Validation Loss: 0.7166, Validation Accuracy: 0.4430, Validation F1-Score: 0.3253\n",
            "Epoch 15/40\n",
            "Train Loss: 0.6120\n",
            "Validation Loss: 0.4648, Validation Accuracy: 0.7975, Validation F1-Score: 0.7963\n",
            "Epoch 16/40\n",
            "Train Loss: 0.5103\n",
            "Validation Loss: 0.5196, Validation Accuracy: 0.7975, Validation F1-Score: 0.7836\n",
            "Epoch 17/40\n",
            "Train Loss: 0.4741\n",
            "Validation Loss: 0.4453, Validation Accuracy: 0.8165, Validation F1-Score: 0.8138\n",
            "Epoch 18/40\n",
            "Train Loss: 0.4779\n",
            "Validation Loss: 0.4710, Validation Accuracy: 0.7848, Validation F1-Score: 0.7813\n",
            "Epoch 19/40\n",
            "Train Loss: 0.4555\n",
            "Validation Loss: 0.4697, Validation Accuracy: 0.7911, Validation F1-Score: 0.7907\n",
            "Epoch 20/40\n",
            "Train Loss: 0.4498\n",
            "Validation Loss: 0.4797, Validation Accuracy: 0.7975, Validation F1-Score: 0.7969\n",
            "Epoch 21/40\n",
            "Train Loss: 0.4341\n",
            "Validation Loss: 0.4757, Validation Accuracy: 0.8418, Validation F1-Score: 0.8370\n",
            "Epoch 22/40\n",
            "Train Loss: 0.4213\n",
            "Validation Loss: 0.5658, Validation Accuracy: 0.7785, Validation F1-Score: 0.7656\n",
            "Epoch 23/40\n",
            "Train Loss: 0.4166\n",
            "Validation Loss: 0.4486, Validation Accuracy: 0.8228, Validation F1-Score: 0.8186\n",
            "Epoch 24/40\n",
            "Train Loss: 0.4267\n",
            "Validation Loss: 0.5172, Validation Accuracy: 0.7975, Validation F1-Score: 0.7836\n",
            "Epoch 25/40\n",
            "Train Loss: 0.3933\n",
            "Validation Loss: 0.6001, Validation Accuracy: 0.7278, Validation F1-Score: 0.7276\n",
            "Epoch 26/40\n",
            "Train Loss: 0.3923\n",
            "Validation Loss: 0.4410, Validation Accuracy: 0.8291, Validation F1-Score: 0.8271\n",
            "Epoch 27/40\n",
            "Train Loss: 0.3821\n",
            "Validation Loss: 0.5174, Validation Accuracy: 0.7911, Validation F1-Score: 0.7776\n",
            "Epoch 28/40\n",
            "Train Loss: 0.3779\n",
            "Validation Loss: 0.4591, Validation Accuracy: 0.8038, Validation F1-Score: 0.8003\n",
            "Epoch 29/40\n",
            "Train Loss: 0.3684\n",
            "Validation Loss: 0.4638, Validation Accuracy: 0.8101, Validation F1-Score: 0.8070\n",
            "Epoch 30/40\n",
            "Train Loss: 0.3655\n",
            "Validation Loss: 0.4821, Validation Accuracy: 0.7785, Validation F1-Score: 0.7696\n",
            "Epoch 31/40\n",
            "Train Loss: 0.3772\n",
            "Validation Loss: 0.4768, Validation Accuracy: 0.7975, Validation F1-Score: 0.7959\n",
            "Epoch 32/40\n",
            "Train Loss: 0.3619\n",
            "Validation Loss: 0.4652, Validation Accuracy: 0.7911, Validation F1-Score: 0.7897\n",
            "Epoch 33/40\n",
            "Train Loss: 0.3517\n",
            "Validation Loss: 0.5084, Validation Accuracy: 0.7722, Validation F1-Score: 0.7721\n",
            "Epoch 34/40\n",
            "Train Loss: 0.3455\n",
            "Validation Loss: 0.4982, Validation Accuracy: 0.8038, Validation F1-Score: 0.8009\n",
            "Epoch 35/40\n",
            "Train Loss: 0.3521\n",
            "Validation Loss: 0.4426, Validation Accuracy: 0.8354, Validation F1-Score: 0.8322\n",
            "Epoch 36/40\n",
            "Train Loss: 0.3395\n",
            "Validation Loss: 0.4484, Validation Accuracy: 0.8165, Validation F1-Score: 0.8138\n",
            "Epoch 37/40\n",
            "Train Loss: 0.3470\n",
            "Validation Loss: 0.5159, Validation Accuracy: 0.8038, Validation F1-Score: 0.7937\n",
            "Epoch 38/40\n",
            "Train Loss: 0.3321\n",
            "Validation Loss: 0.5170, Validation Accuracy: 0.7975, Validation F1-Score: 0.7963\n",
            "Epoch 39/40\n",
            "Train Loss: 0.3307\n",
            "Validation Loss: 0.4498, Validation Accuracy: 0.8038, Validation F1-Score: 0.8009\n",
            "Epoch 40/40\n",
            "Train Loss: 0.3271\n",
            "Validation Loss: 0.4981, Validation Accuracy: 0.7911, Validation F1-Score: 0.7881\n"
          ]
        }
      ]
    },
    {
      "cell_type": "code",
      "source": [
        "plot_training_validation_loss(model_1_train_losses, model_1_val_losses)"
      ],
      "metadata": {
        "colab": {
          "base_uri": "https://localhost:8080/",
          "height": 564
        },
        "id": "ddgMUdqvs4PX",
        "outputId": "98e99e99-670e-4a17-b615-9d21973e23f3"
      },
      "execution_count": null,
      "outputs": [
        {
          "output_type": "display_data",
          "data": {
            "text/plain": [
              "<Figure size 1000x600 with 1 Axes>"
            ],
            "image/png": "[encoded data removed]"
          },
          "metadata": {}
        }
      ]
    },
    {
      "cell_type": "markdown",
      "metadata": {
        "id": "EFjBgdiRG3wD"
      },
      "source": [
        "# [Task 5 - 1.0 points] Training and Evaluation\n",
        "\n",
        "You are now tasked to train and evaluate the Baseline and Model 1.\n"
      ]
    },
    {
      "cell_type": "markdown",
      "metadata": {
        "id": "TWPK4umGOjtT"
      },
      "source": [
        "\n",
        "### Instructions\n",
        "\n",
        "* Train **all** models on the train set.\n",
        "* Evaluate **all** models on the validation set.\n",
        "* Compute metrics on the validation set.\n",
        "* Pick **at least** three seeds for robust estimation.\n",
        "* Pick the **best** performing model according to the observed validation set performance.\n",
        "* Evaluate your models using macro F1-score."
      ]
    },
    {
      "cell_type": "markdown",
      "metadata": {
        "id": "CSy9sPwYHUoD"
      },
      "source": [
        "# [Task 6 - 1.0 points] Transformers\n",
        "\n",
        "In this section, you will use a transformer model specifically trained for hate speech detection, namely [Twitter-roBERTa-base for Hate Speech Detection](https://huggingface.co/cardiffnlp/twitter-roberta-base-hate).\n",
        "\n",
        "\n"
      ]
    },
    {
      "cell_type": "markdown",
      "metadata": {
        "collapsed": false,
        "id": "h-zwKaBKIKPj"
      },
      "source": [
        "### Relevant Material\n",
        "- Tutorial 3"
      ]
    },
    {
      "cell_type": "markdown",
      "metadata": {
        "collapsed": false,
        "id": "niUtYP-SIKPk"
      },
      "source": [
        "### Instructions\n",
        "1. **Load the Tokenizer and Model**\n",
        "\n",
        "2. **Preprocess the Dataset**:\n",
        "   You will need to preprocess your dataset to prepare it for input into the model. Tokenize your text data using the appropriate tokenizer and ensure it is formatted correctly.\n",
        "\n",
        "   **Note**: You have to use the plain text of the dataset and not the version that you tokenized before, as you need to tokenize the cleaned text obtained after the initial cleaning process.\n",
        "\n",
        "3. **Train the Model**:\n",
        "   Use the `Trainer` to train the model on your training data.\n",
        "\n",
        "4. **Evaluate the Model on the Test Set** using F1-macro."
      ]
    },
    {
      "cell_type": "markdown",
      "metadata": {
        "id": "3gtiG2mAL3HM"
      },
      "source": [
        "# [Task 7 - 0.5 points] Error Analysis\n",
        "\n",
        "### Instructions\n",
        "\n",
        "After evaluating the model, perform a brief error analysis:\n",
        "\n",
        " - Review the results and identify common errors.\n",
        "\n",
        " - Summarize your findings regarding the errors and their impact on performance (e.g. but not limited to Out-of-Vocabulary (OOV) words, data imbalance, and performance differences between the custom model and the transformer...)\n",
        " - Suggest possible solutions to address the identified errors.\n",
        "\n"
      ]
    },
    {
      "cell_type": "markdown",
      "metadata": {
        "id": "P42XYjb6K3k5"
      },
      "source": [
        "# [Task 8 - 0.5 points] Report\n",
        "\n",
        "Wrap up your experiment in a short report (up to 2 pages)."
      ]
    },
    {
      "cell_type": "markdown",
      "metadata": {
        "id": "N9oXSaW1K5S7"
      },
      "source": [
        "### Instructions\n",
        "\n",
        "* Use the NLP course report template.\n",
        "* Summarize each task in the report following the provided template."
      ]
    },
    {
      "cell_type": "markdown",
      "metadata": {
        "id": "MHw2L6PlLDyE"
      },
      "source": [
        "### Recommendations\n",
        "\n",
        "The report is not a copy-paste of graphs, tables, and command outputs.\n",
        "\n",
        "* Summarize classification performance in Table format.\n",
        "* **Do not** report command outputs or screenshots.\n",
        "* Report learning curves in Figure format.\n",
        "* The error analysis section should summarize your findings.\n"
      ]
    },
    {
      "cell_type": "markdown",
      "metadata": {
        "id": "bMUqh1utLflM"
      },
      "source": [
        "# Submission\n",
        "\n",
        "* **Submit** your report in PDF format.\n",
        "* **Submit** your python notebook.\n",
        "* Make sure your notebook is **well organized**, with no temporary code, commented sections, tests, etc...\n",
        "* You can upload **model weights** in a cloud repository and report the link in the report."
      ]
    },
    {
      "cell_type": "markdown",
      "metadata": {
        "id": "ypagJed7LheY"
      },
      "source": [
        "# FAQ\n",
        "\n",
        "Please check this frequently asked questions before contacting us"
      ]
    },
    {
      "cell_type": "markdown",
      "metadata": {
        "id": "bgtFwKXMLjww"
      },
      "source": [
        "### Execution Order\n",
        "\n",
        "You are **free** to address tasks in any order (if multiple orderings are available)."
      ]
    },
    {
      "cell_type": "markdown",
      "metadata": {
        "id": "_BjMk5e_M4n7"
      },
      "source": [
        "### Trainable Embeddings\n",
        "\n",
        "You are **free** to define a trainable or non-trainable Embedding layer to load the GloVe embeddings."
      ]
    },
    {
      "cell_type": "markdown",
      "metadata": {
        "id": "e8TVgpYlM6s5"
      },
      "source": [
        "### Model architecture\n",
        "\n",
        "You **should not** change the architecture of a model (i.e., its layers).\n",
        "However, you are **free** to play with their hyper-parameters.\n"
      ]
    },
    {
      "cell_type": "markdown",
      "metadata": {
        "id": "Ia6IapI1M_A7"
      },
      "source": [
        "### Neural Libraries\n",
        "\n",
        "You are **free** to use any library of your choice to implement the networks (e.g., Keras, Tensorflow, PyTorch, JAX, etc...)"
      ]
    },
    {
      "cell_type": "markdown",
      "metadata": {
        "id": "bWDaW8DyNBu5"
      },
      "source": [
        "### Keras TimeDistributed Dense layer\n",
        "\n",
        "If you are using Keras, we recommend wrapping the final Dense layer with `TimeDistributed`."
      ]
    },
    {
      "cell_type": "markdown",
      "metadata": {
        "id": "R1WcrpemNEQm"
      },
      "source": [
        "### Robust Evaluation\n",
        "\n",
        "Each model is trained with at least 3 random seeds.\n",
        "\n",
        "Task 4 requires you to compute the average performance over the 3 seeds and its corresponding standard deviation."
      ]
    },
    {
      "cell_type": "markdown",
      "metadata": {
        "id": "_mVe5dqzNI_u"
      },
      "source": [
        "### Model Selection for Analysis\n",
        "\n",
        "To carry out the error analysis you are **free** to either\n",
        "\n",
        "* Pick examples or perform comparisons with an individual seed run model (e.g., Baseline seed 1337)\n",
        "* Perform ensembling via, for instance, majority voting to obtain a single model."
      ]
    },
    {
      "cell_type": "markdown",
      "metadata": {
        "id": "L8a4pDKSNKzI"
      },
      "source": [
        "### Error Analysis\n",
        "\n",
        "Some topics for discussion include:\n",
        "   * Precision/Recall curves.\n",
        "   * Confusion matrices.\n",
        "   * Specific misclassified samples."
      ]
    },
    {
      "cell_type": "markdown",
      "metadata": {
        "collapsed": false,
        "id": "MixlF_RPIKPn"
      },
      "source": [
        "### Bonus Points\n",
        "Bonus points are arbitrarily assigned based on significant contributions such as:\n",
        "- Outstanding error analysis\n",
        "- Masterclass code organization\n",
        "- Suitable extensions\n",
        "Note that bonus points are only assigned if all task points are attributed (i.e., 6/6).\n",
        "\n",
        "**Possible Extensions/Explorations for Bonus Points:**\n",
        "- **Try other preprocessing strategies**: e.g., but not limited to, explore techniques tailored specifically for tweets or  methods that are common in social media text.\n",
        "- **Experiment with other custom architectures or models from HuggingFace**\n",
        "- **Explore Spanish tweets**: e.g., but not limited to, leverage multilingual models to process Spanish tweets and assess their performance compared to monolingual models.\n",
        "\n"
      ]
    },
    {
      "cell_type": "markdown",
      "metadata": {
        "id": "8xmMKE7vLu-y"
      },
      "source": [
        "\n",
        "\n",
        "\n",
        "\n",
        "# The End"
      ]
    }
  ],
  "metadata": {
    "accelerator": "GPU",
    "colab": {
      "gpuType": "T4",
      "provenance": [],
      "include_colab_link": true
    },
    "kernelspec": {
      "display_name": "venv",
      "language": "python",
      "name": "python3"
    },
    "language_info": {
      "codemirror_mode": {
        "name": "ipython",
        "version": 3
      },
      "file_extension": ".py",
      "mimetype": "text/x-python",
      "name": "python",
      "nbconvert_exporter": "python",
      "pygments_lexer": "ipython3",
      "version": "3.10.12"
    }
  },
  "nbformat": 4,
  "nbformat_minor": 0
}