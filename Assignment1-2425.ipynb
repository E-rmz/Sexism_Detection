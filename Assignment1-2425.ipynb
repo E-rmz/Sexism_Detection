{
  "cells": [
    {
      "cell_type": "markdown",
      "metadata": {
        "id": "view-in-github"
      },
      "source": [
        "<a href=\"https://colab.research.google.com/github/kazemihabib/nlp_assignment_1/blob/LSTM/assignment1_2425.ipynb\" target=\"_parent\"><img src=\"https://colab.research.google.com/assets/colab-badge.svg\" alt=\"Open In Colab\"/></a>"
      ]
    },
    {
      "cell_type": "markdown",
      "metadata": {
        "id": "qE4WC2_4wygJ"
      },
      "source": [
        "# Assignment 1\n",
        "**Credits**: Federico Ruggeri, Eleonora Mancini, Paolo Torroni\n",
        "\n",
        "**Keywords**: Sexism Detection, Multi-class Classification, RNNs, Transformers, Huggingface\n",
        "\n"
      ]
    },
    {
      "cell_type": "markdown",
      "metadata": {
        "id": "fL69zGpmx01k"
      },
      "source": [
        "# Contact\n",
        "For any doubt, question, issue or help, you can always contact us at the following email addresses:\n",
        "\n",
        "Teaching Assistants:\n",
        "\n",
        "- Federico Ruggeri -> federico.ruggeri6@unibo.it\n",
        "- Eleonora Mancini -> e.mancini@unibo.it\n",
        "\n",
        "Professor:\n",
        "- Paolo Torroni -> p.torroni@unibo.it"
      ]
    },
    {
      "cell_type": "markdown",
      "metadata": {
        "id": "55jnW-xKxi-2"
      },
      "source": [
        "# Introduction\n",
        "You are asked to address the [EXIST 2023 Task 1](https://clef2023.clef-initiative.eu/index.php?page=Pages/labs.html#EXIST) on sexism detection."
      ]
    },
    {
      "cell_type": "markdown",
      "metadata": {
        "id": "9HWp5bGwySsb"
      },
      "source": [
        "## Problem Definition\n",
        "The systems have to decide whether or not a given tweet contains or describes sexist expressions or behaviors (i.e., it is sexist itself, describes a sexist situation or criticizes a sexist behavior).\n",
        "\n",
        "### Examples:\n",
        "\n",
        "**Text**: *Can’t go a day without women womening*\n",
        "\n",
        "**Label**: Sexist\n",
        "\n",
        "**Text**: *''Society's set norms! Happy men's day though!#weareequal''*\n",
        "\n",
        "**Label**: Not sexist"
      ]
    },
    {
      "cell_type": "code",
      "execution_count": 41,
      "metadata": {
        "colab": {
          "base_uri": "https://localhost:8080/"
        },
        "id": "pXAmARtXB-fj",
        "outputId": "83db5c2f-3ee1-4224-aceb-f3af28643142"
      },
      "outputs": [
        {
          "name": "stdout",
          "output_type": "stream",
          "text": [
            "Drive already mounted at /content/drive; to attempt to forcibly remount, call drive.mount(\"/content/drive\", force_remount=True).\n"
          ]
        }
      ],
      "source": [
        "from google.colab import drive\n",
        "import os\n",
        "drive.mount('/content/drive')"
      ]
    },
    {
      "cell_type": "code",
      "execution_count": 42,
      "metadata": {
        "colab": {
          "base_uri": "https://localhost:8080/"
        },
        "id": "yluuJK8wJWwN",
        "outputId": "f5d66cf4-6ffd-4dce-a79d-99f02152f305"
      },
      "outputs": [
        {
          "name": "stdout",
          "output_type": "stream",
          "text": [
            "File already exists at: /content/drive/MyDrive/Projects/NLP/1/glove.6B.zip\n",
            "Successfully extracted files from '/content/glove.6B.zip' to '/content/glove.6B'\n"
          ]
        }
      ],
      "source": [
        "import zipfile\n",
        "import os\n",
        "\n",
        "PATH_IN_G_DRIVE=\"/content/drive/MyDrive/Projects/NLP/1\"\n",
        "\n",
        "# If glove embeddings have not been downloaded already, download them to GDrive.\n",
        "download_path = os.path.join(PATH_IN_G_DRIVE, \"glove.6B.zip\")\n",
        "\n",
        "# Check if the file already exists\n",
        "if not os.path.exists(download_path):\n",
        "  # Download the GloVe embeddings\n",
        "  !wget https://nlp.stanford.edu/data/wordvecs/glove.6B.zip -O \"$download_path\"\n",
        "else:\n",
        "  print(\"File already exists at:\", download_path)\n",
        "\n",
        "\n",
        "# Copy the files in GDrive to my colab local\n",
        "!cp -r \"$PATH_IN_G_DRIVE\"/* /content/\n",
        "\n",
        "\n",
        "########## Unzip embeddings ###############\n",
        "\n",
        "zip_file_path = \"/content/glove.6B.zip\"\n",
        "\n",
        "extract_path = \"/content/glove.6B\"\n",
        "\n",
        "\n",
        "if os.path.exists(zip_file_path):\n",
        "    try:\n",
        "        with zipfile.ZipFile(zip_file_path, 'r') as zip_ref:\n",
        "            zip_ref.extractall(extract_path)\n",
        "        print(f\"Successfully extracted files from '{zip_file_path}' to '{extract_path}'\")\n",
        "    except zipfile.BadZipFile:\n",
        "        print(f\"Error: '{zip_file_path}' is not a valid zip file.\")\n",
        "else:\n",
        "    print(f\"Error: '{zip_file_path}' not found.\")"
      ]
    },
    {
      "cell_type": "markdown",
      "metadata": {
        "id": "2iu1X4I98M8B"
      },
      "source": [
        "#[Task 1 - 1.0 points] Corpus\n",
        "\n",
        "We have preparared a small version of EXIST dataset in our dedicated [Github repository](https://github.com/lt-nlp-lab-unibo/nlp-course-material/tree/main/2024-2025/Assignment%201/data).\n",
        "\n",
        "Check the `A1/data` folder. It contains 3 `.json` files representing `training`, `validation` and `test` sets.\n",
        "\n",
        "The three sets are slightly unbalanced, with a bias toward the `Non-sexist` class.\n",
        "\n"
      ]
    },
    {
      "cell_type": "markdown",
      "metadata": {
        "id": "AASoMV9XN5l6"
      },
      "source": [
        "### Dataset Description\n",
        "- The dataset contains tweets in both English and Spanish.\n",
        "- There are labels for multiple tasks, but we are focusing on **Task 1**.\n",
        "- For Task 1, soft labels are assigned by six annotators.\n",
        "- The labels for Task 1 represent whether the tweet is sexist (\"YES\") or not (\"NO\").\n",
        "\n",
        "\n",
        "\n",
        "\n"
      ]
    },
    {
      "cell_type": "markdown",
      "metadata": {
        "id": "OFjwB_lCOQKj"
      },
      "source": [
        "\n",
        "### Example\n",
        "\n",
        "\n",
        "    \"203260\": {\n",
        "        \"id_EXIST\": \"203260\",\n",
        "        \"lang\": \"en\",\n",
        "        \"tweet\": \"ik when mandy says “you look like a whore” i look cute as FUCK\",\n",
        "        \"number_annotators\": 6,\n",
        "        \"annotators\": [\"Annotator_473\", \"Annotator_474\", \"Annotator_475\", \"Annotator_476\", \"Annotator_477\", \"Annotator_27\"],\n",
        "        \"gender_annotators\": [\"F\", \"F\", \"M\", \"M\", \"M\", \"F\"],\n",
        "        \"age_annotators\": [\"18-22\", \"23-45\", \"18-22\", \"23-45\", \"46+\", \"46+\"],\n",
        "        \"labels_task1\": [\"YES\", \"YES\", \"YES\", \"NO\", \"YES\", \"YES\"],\n",
        "        \"labels_task2\": [\"DIRECT\", \"DIRECT\", \"REPORTED\", \"-\", \"JUDGEMENTAL\", \"REPORTED\"],\n",
        "        \"labels_task3\": [\n",
        "          [\"STEREOTYPING-DOMINANCE\"],\n",
        "          [\"OBJECTIFICATION\"],\n",
        "          [\"SEXUAL-VIOLENCE\"],\n",
        "          [\"-\"],\n",
        "          [\"STEREOTYPING-DOMINANCE\", \"OBJECTIFICATION\"],\n",
        "          [\"OBJECTIFICATION\"]\n",
        "        ],\n",
        "        \"split\": \"TRAIN_EN\"\n",
        "      }\n",
        "    }"
      ]
    },
    {
      "cell_type": "markdown",
      "metadata": {
        "id": "BJ45bvuOOJ7I"
      },
      "source": [
        "### Instructions\n",
        "1. **Download** the `A1/data` folder.\n",
        "2. **Load** the three JSON files and encode them as pandas dataframes.\n",
        "3. **Generate hard labels** for Task 1 using majority voting and store them in a new dataframe column called `hard_label_task1`. Items without a clear majority will be removed from the dataset.\n",
        "4. **Filter the DataFrame** to keep only rows where the `lang` column is `'en'`.\n",
        "5. **Remove unwanted columns**: Keep only `id_EXIST`, `lang`, `tweet`, and `hard_label_task1`.\n",
        "6. **Encode the `hard_label_task1` column**: Use 1 to represent \"YES\" and 0 to represent \"NO\"."
      ]
    },
    {
      "cell_type": "code",
      "execution_count": 43,
      "metadata": {
        "colab": {
          "base_uri": "https://localhost:8080/"
        },
        "id": "jD-p1ytlJpRa",
        "outputId": "6b25d489-f7fd-4a99-ef51-556530c328e4"
      },
      "outputs": [
        {
          "name": "stdout",
          "output_type": "stream",
          "text": [
            "Requirement already satisfied: autocorrect in /usr/local/lib/python3.10/dist-packages (2.6.1)\n",
            "Requirement already satisfied: optuna in /usr/local/lib/python3.10/dist-packages (4.1.0)\n",
            "Requirement already satisfied: alembic>=1.5.0 in /usr/local/lib/python3.10/dist-packages (from optuna) (1.14.0)\n",
            "Requirement already satisfied: colorlog in /usr/local/lib/python3.10/dist-packages (from optuna) (6.9.0)\n",
            "Requirement already satisfied: numpy in /usr/local/lib/python3.10/dist-packages (from optuna) (1.26.4)\n",
            "Requirement already satisfied: packaging>=20.0 in /usr/local/lib/python3.10/dist-packages (from optuna) (24.2)\n",
            "Requirement already satisfied: sqlalchemy>=1.4.2 in /usr/local/lib/python3.10/dist-packages (from optuna) (2.0.36)\n",
            "Requirement already satisfied: tqdm in /usr/local/lib/python3.10/dist-packages (from optuna) (4.67.1)\n",
            "Requirement already satisfied: PyYAML in /usr/local/lib/python3.10/dist-packages (from optuna) (6.0.2)\n",
            "Requirement already satisfied: Mako in /usr/local/lib/python3.10/dist-packages (from alembic>=1.5.0->optuna) (1.3.8)\n",
            "Requirement already satisfied: typing-extensions>=4 in /usr/local/lib/python3.10/dist-packages (from alembic>=1.5.0->optuna) (4.12.2)\n",
            "Requirement already satisfied: greenlet!=0.4.17 in /usr/local/lib/python3.10/dist-packages (from sqlalchemy>=1.4.2->optuna) (3.1.1)\n",
            "Requirement already satisfied: MarkupSafe>=0.9.2 in /usr/local/lib/python3.10/dist-packages (from Mako->alembic>=1.5.0->optuna) (3.0.2)\n"
          ]
        }
      ],
      "source": [
        "!pip install autocorrect\n",
        "!pip install optuna"
      ]
    },
    {
      "cell_type": "code",
      "execution_count": 1,
      "metadata": {
        "id": "T-s0DWy6IKPM"
      },
      "outputs": [
        {
          "name": "stderr",
          "output_type": "stream",
          "text": [
            "/Users/ehsan/Desktop/NLP_assignment/nlp_assignment_1/.venv/lib/python3.11/site-packages/tqdm/auto.py:21: TqdmWarning: IProgress not found. Please update jupyter and ipywidgets. See https://ipywidgets.readthedocs.io/en/stable/user_install.html\n",
            "  from .autonotebook import tqdm as notebook_tqdm\n"
          ]
        }
      ],
      "source": [
        "import pandas as pd\n",
        "import json\n",
        "from collections import Counter\n",
        "import string\n",
        "import re\n",
        "import numpy as np\n",
        "import spacy\n",
        "# from spellchecker import SpellChecker\n",
        "from autocorrect import Speller\n",
        "from pathlib import Path\n",
        "import os\n",
        "import optuna\n",
        "from torch.utils.tensorboard import SummaryWriter\n",
        "\n",
        "# Also install the following packages\n",
        "# pip install pyarrow\n",
        "# pip install torch\n",
        "# pip install scikit-learn\n",
        "\n"
      ]
    },
    {
      "cell_type": "code",
      "execution_count": 2,
      "metadata": {
        "id": "tXagJiAIIKPO"
      },
      "outputs": [],
      "source": [
        "from IPython.core.magic import register_cell_magic\n",
        "\n",
        "# Custom magic command to skip the cell\n",
        "@register_cell_magic\n",
        "def skip(line, cell):\n",
        "    return\n"
      ]
    },
    {
      "cell_type": "code",
      "execution_count": 3,
      "metadata": {
        "id": "Wr98JjBhIKPP"
      },
      "outputs": [],
      "source": [
        "def mojority_of_votes(votes:list):\n",
        "    \"\"\" given an array of votes, return the mode or None if there is no mode \"\"\"\n",
        "    count = Counter(votes)\n",
        "    most_common = count.most_common(2)\n",
        "    if len(most_common) > 1 and most_common[0][1] == most_common[1][1]:\n",
        "        return None\n",
        "    if most_common:\n",
        "        return most_common[0][0]"
      ]
    },
    {
      "cell_type": "code",
      "execution_count": 4,
      "metadata": {
        "id": "50hW80mZIKPQ"
      },
      "outputs": [],
      "source": [
        "def preprocess(data:pd.DataFrame):\n",
        "    # method for all the preprocessing steps\n",
        "    data = data.T # make the attributes as columns and data points as rows\n",
        "    data['hard_label_task1'] = data['labels_task1'].apply(mojority_of_votes) #generate hard labels\n",
        "    data = data[data['hard_label_task1'].notna()] # drop rows without a majority label\n",
        "    data = data[data['lang'] == 'en'] # drop rows where lang is not 'en'\n",
        "    data = data[['id_EXIST', 'lang', 'tweet', 'hard_label_task1']] # keeping only necessary columns\n",
        "    data['hard_label_task1'] = data['hard_label_task1'].map({'YES': 1, 'NO': 0}) # encoding 'hard_label_task1' column\n",
        "    return data"
      ]
    },
    {
      "cell_type": "code",
      "execution_count": 5,
      "metadata": {
        "colab": {
          "base_uri": "https://localhost:8080/",
          "height": 206
        },
        "id": "tPwFNkhbIKPQ",
        "outputId": "a851abf6-53fc-4b81-85e6-3572273ec7d2"
      },
      "outputs": [
        {
          "data": {
            "text/html": [
              "<div>\n",
              "<style scoped>\n",
              "    .dataframe tbody tr th:only-of-type {\n",
              "        vertical-align: middle;\n",
              "    }\n",
              "\n",
              "    .dataframe tbody tr th {\n",
              "        vertical-align: top;\n",
              "    }\n",
              "\n",
              "    .dataframe thead th {\n",
              "        text-align: right;\n",
              "    }\n",
              "</style>\n",
              "<table border=\"1\" class=\"dataframe\">\n",
              "  <thead>\n",
              "    <tr style=\"text-align: right;\">\n",
              "      <th></th>\n",
              "      <th>id_EXIST</th>\n",
              "      <th>lang</th>\n",
              "      <th>tweet</th>\n",
              "      <th>hard_label_task1</th>\n",
              "    </tr>\n",
              "  </thead>\n",
              "  <tbody>\n",
              "    <tr>\n",
              "      <th>200002</th>\n",
              "      <td>200002</td>\n",
              "      <td>en</td>\n",
              "      <td>Writing a uni essay in my local pub with a cof...</td>\n",
              "      <td>1</td>\n",
              "    </tr>\n",
              "    <tr>\n",
              "      <th>200003</th>\n",
              "      <td>200003</td>\n",
              "      <td>en</td>\n",
              "      <td>@UniversalORL it is 2021 not 1921. I dont appr...</td>\n",
              "      <td>1</td>\n",
              "    </tr>\n",
              "    <tr>\n",
              "      <th>200006</th>\n",
              "      <td>200006</td>\n",
              "      <td>en</td>\n",
              "      <td>According to a customer I have plenty of time ...</td>\n",
              "      <td>1</td>\n",
              "    </tr>\n",
              "    <tr>\n",
              "      <th>200007</th>\n",
              "      <td>200007</td>\n",
              "      <td>en</td>\n",
              "      <td>So only 'blokes' drink beer? Sorry, but if you...</td>\n",
              "      <td>1</td>\n",
              "    </tr>\n",
              "    <tr>\n",
              "      <th>200008</th>\n",
              "      <td>200008</td>\n",
              "      <td>en</td>\n",
              "      <td>New to the shelves this week - looking forward...</td>\n",
              "      <td>0</td>\n",
              "    </tr>\n",
              "  </tbody>\n",
              "</table>\n",
              "</div>"
            ],
            "text/plain": [
              "       id_EXIST lang                                              tweet  \\\n",
              "200002   200002   en  Writing a uni essay in my local pub with a cof...   \n",
              "200003   200003   en  @UniversalORL it is 2021 not 1921. I dont appr...   \n",
              "200006   200006   en  According to a customer I have plenty of time ...   \n",
              "200007   200007   en  So only 'blokes' drink beer? Sorry, but if you...   \n",
              "200008   200008   en  New to the shelves this week - looking forward...   \n",
              "\n",
              "        hard_label_task1  \n",
              "200002                 1  \n",
              "200003                 1  \n",
              "200006                 1  \n",
              "200007                 1  \n",
              "200008                 0  "
            ]
          },
          "execution_count": 5,
          "metadata": {},
          "output_type": "execute_result"
        }
      ],
      "source": [
        "data_training = pd.read_json(Path('data', 'training.json'))\n",
        "data_test = pd.read_json(Path('data', 'test.json'))\n",
        "data_validation = pd.read_json(Path('data', 'validation.json'))\n",
        "\n",
        "data_training = preprocess(data_training)\n",
        "data_test = preprocess(data_test)\n",
        "data_validation = preprocess(data_validation)\n",
        "\n",
        "data_training.head()\n"
      ]
    },
    {
      "cell_type": "markdown",
      "metadata": {
        "collapsed": false,
        "id": "83fxJ7Z8IKPR"
      },
      "source": [
        "# [Task2 - 0.5 points] Data Cleaning\n",
        "In the context of tweets, we have noisy and informal data that often includes unnecessary elements like emojis, hashtags, mentions, and URLs. These elements may interfere with the text analysis.\n"
      ]
    },
    {
      "cell_type": "markdown",
      "metadata": {
        "collapsed": false,
        "id": "hG3tx3HcIKPR"
      },
      "source": [
        "\n",
        "### Instructions\n",
        "- **Remove emojis** from the tweets.\n",
        "- **Remove hashtags** (e.g., `#example`).\n",
        "- **Remove mentions** such as `@user`.\n",
        "- **Remove URLs** from the tweets.\n",
        "- **Remove special characters and symbols**.\n",
        "- **Remove specific quote characters** (e.g., curly quotes).\n",
        "- **Perform lemmatization** to reduce words to their base form."
      ]
    },
    {
      "cell_type": "code",
      "execution_count": 7,
      "metadata": {
        "colab": {
          "base_uri": "https://localhost:8080/"
        },
        "id": "iaF6_zgxIKPS",
        "outputId": "3ee1af1f-b0b5-4074-ebcc-9959c3c88a13"
      },
      "outputs": [
        {
          "name": "stdout",
          "output_type": "stream",
          "text": [
            "\u001b[38;5;3m⚠ As of spaCy v3.0, shortcuts like 'en' are deprecated. Please use the\n",
            "full pipeline package name 'en_core_web_sm' instead.\u001b[0m\n",
            "Collecting en-core-web-sm==3.8.0\n",
            "  Downloading https://github.com/explosion/spacy-models/releases/download/en_core_web_sm-3.8.0/en_core_web_sm-3.8.0-py3-none-any.whl (12.8 MB)\n",
            "\u001b[2K     \u001b[90m━━━━━━━━━━━━━━━━━━━━━━━━━━━━━━━━━━━━━━━━\u001b[0m \u001b[32m12.8/12.8 MB\u001b[0m \u001b[31m2.5 MB/s\u001b[0m eta \u001b[36m0:00:00\u001b[0m00:01\u001b[0m00:01\u001b[0m\n",
            "\u001b[?25h\u001b[38;5;2m✔ Download and installation successful\u001b[0m\n",
            "You can now load the package via spacy.load('en_core_web_sm')\n"
          ]
        }
      ],
      "source": [
        "!python -m spacy download en"
      ]
    },
    {
      "cell_type": "code",
      "execution_count": 8,
      "metadata": {
        "colab": {
          "base_uri": "https://localhost:8080/"
        },
        "id": "3gGVmP7uIKPS",
        "outputId": "d2ee45c4-8981-4ca6-b125-9d04c7c6e09a"
      },
      "outputs": [],
      "source": [
        "# spaCy English model\n",
        "nlp = spacy.load('en_core_web_sm')\n",
        "spell = Speller()"
      ]
    },
    {
      "cell_type": "code",
      "execution_count": 10,
      "metadata": {
        "id": "uHWlh59IIKPS"
      },
      "outputs": [],
      "source": [
        "\n",
        "def remove_emojis(text):\n",
        "    # removing emojis with regex, including\n",
        "    emoji_pattern = re.compile(\"[\"\n",
        "                           u\"\\U0001F600-\\U0001F64F\"  # emoticons\n",
        "                           u\"\\U0001F300-\\U0001F5FF\"  # symbols & pictographs\n",
        "                           u\"\\U0001F680-\\U0001F6FF\"  # transport & map symbols\n",
        "                           u\"\\U0001F1E0-\\U0001F1FF\"  # flags (iOS)\n",
        "                           u\"\\U00002702-\\U000027B0\"\n",
        "                           u\"\\U000024C2-\\U0001F251\"\n",
        "                           u\"\\U0001F914\"  # 🤔\n",
        "                           \"]+\", flags=re.UNICODE)\n",
        "    return emoji_pattern.sub(r'', text)\n",
        "\n",
        "def remove_hashtags(text):\n",
        "    return re.sub(r'#\\w+', '', text)\n",
        "\n",
        "def remove_mentions(text):\n",
        "    return re.sub(r'@\\w+', '', text)\n",
        "\n",
        "def remove_urls(text):\n",
        "    return re.sub(r'http\\S+|www\\S+|https\\S+', '', text, flags=re.MULTILINE)\n",
        "\n",
        "def remove_special_characters(text):\n",
        "    return text.translate(str.maketrans('', '', string.punctuation))\n",
        "\n",
        "def remove_quotes(text):\n",
        "    return text.replace('“', '').replace('”', '').replace('‘', '').replace('’', '')\n",
        "\n",
        "def lemmatize_text(text):\n",
        "    # performing lemmatization using spacy\n",
        "    doc = nlp(text)\n",
        "    return ' '.join([token.lemma_ for token in doc])\n",
        "\n",
        "# =================== Additional preprocessing techniques =================================\n",
        "# important to reduce the number of unseen vobabs as Glove contains mostly lowercase tokens\n",
        "def lowercase_text(text):\n",
        "    return text.lower()  # convert all text to lowercase\n",
        "\n",
        "def correct_typos(text):\n",
        "    return spell(text)\n",
        "\n",
        "def clean_text(tweet):\n",
        "    tweet = remove_emojis(tweet)\n",
        "    tweet = remove_hashtags(tweet)\n",
        "    tweet = remove_mentions(tweet)\n",
        "    tweet = remove_urls(tweet)\n",
        "    tweet = remove_special_characters(tweet)\n",
        "    tweet = remove_quotes(tweet)\n",
        "    tweet = lowercase_text(tweet)\n",
        "    tweet = correct_typos(tweet)\n",
        "    tweet = lemmatize_text(tweet)\n",
        "    tweet = tweet.strip()\n",
        "    return tweet\n"
      ]
    },
    {
      "cell_type": "code",
      "execution_count": 11,
      "metadata": {
        "colab": {
          "base_uri": "https://localhost:8080/",
          "height": 35
        },
        "id": "xNSJvWWtIKPT",
        "outputId": "e4525297-adcb-4113-bab1-b13142b4289a"
      },
      "outputs": [
        {
          "data": {
            "text/plain": [
              "'this be awesome bro'"
            ]
          },
          "execution_count": 11,
          "metadata": {},
          "output_type": "execute_result"
        }
      ],
      "source": [
        "# testing if all is fine\n",
        "sample_text = \"this is awsome bro! 😁 @johnsmith #wait www.google.com\"\n",
        "clean_text(sample_text)"
      ]
    },
    {
      "cell_type": "code",
      "execution_count": 12,
      "metadata": {
        "id": "ByB1hFTsIKPT"
      },
      "outputs": [],
      "source": [
        "%%skip\n",
        "# If you want to clean the entire dataset, instead of loading the cleaned dataset,\n",
        "# comment the skip magic command and run the cell\n",
        "def clean_dataset_tweets(data:pd.DataFrame):\n",
        "    data['tweet'] = data['tweet'].apply(clean_text)\n",
        "    return data\n",
        "\n",
        "data_training_cleaned = clean_dataset_tweets(data_training)\n",
        "data_test_cleaned = clean_dataset_tweets(data_test)\n",
        "data_validation_cleaned = clean_dataset_tweets(data_validation)\n",
        "\n",
        "data_training_cleaned.head()"
      ]
    },
    {
      "cell_type": "code",
      "execution_count": 6,
      "metadata": {
        "id": "IFrSvnmeIKPT"
      },
      "outputs": [],
      "source": [
        "stored_data_dir = \"stored_data\"\n",
        "\n",
        "# Define file paths\n",
        "training_path = os.path.join(stored_data_dir, 'data_training_cleaned.parquet')\n",
        "test_path = os.path.join(stored_data_dir, 'data_test_cleaned.parquet')\n",
        "validation_path = os.path.join(stored_data_dir, 'data_validation_cleaned.parquet')"
      ]
    },
    {
      "cell_type": "code",
      "execution_count": 55,
      "metadata": {
        "id": "CvwFHM5bIKPU"
      },
      "outputs": [],
      "source": [
        "%%skip\n",
        "# If you want to save the cleaned dataset, comment the skip magic command\n",
        "# and run the cell\n",
        "\n",
        "if not os.path.exists(stored_data_dir):\n",
        "    os.makedirs(stored_data_dir)\n",
        "\n",
        "# Save the cleaned datasets to Parquet\n",
        "data_training_cleaned.to_parquet(training_path, index=False)\n",
        "data_test_cleaned.to_parquet(test_path, index=False)\n",
        "data_validation_cleaned.to_parquet(validation_path, index=False)"
      ]
    },
    {
      "cell_type": "code",
      "execution_count": 7,
      "metadata": {
        "id": "7McOv9-VIKPU"
      },
      "outputs": [],
      "source": [
        "# Load the saved cleaned datasets from disk\n",
        "data_training_cleaned = pd.read_parquet(training_path)\n",
        "data_test_cleaned = pd.read_parquet(test_path)\n",
        "data_validation_cleaned = pd.read_parquet(validation_path)"
      ]
    },
    {
      "cell_type": "markdown",
      "metadata": {
        "id": "s3KylLHNl0bE"
      },
      "source": [
        "# [Task 3 - 0.5 points] Text Encoding\n",
        "To train a neural sexism classifier, you first need to encode text into numerical format.\n",
        "\n",
        "\n"
      ]
    },
    {
      "cell_type": "markdown",
      "metadata": {
        "id": "hr1lTHUVOXff"
      },
      "source": [
        "### Instructions\n",
        "\n",
        "* Embed words using **GloVe embeddings**.\n",
        "* You are **free** to pick any embedding dimension.\n",
        "\n",
        "\n",
        "\n"
      ]
    },
    {
      "cell_type": "markdown",
      "metadata": {
        "id": "r6NNMEjWOZQr"
      },
      "source": [
        "### Note : What about OOV tokens?\n",
        "   * All the tokens in the **training** set that are not in GloVe **must** be added to the vocabulary.\n",
        "   * For the remaining tokens (i.e., OOV in the validation and test sets), you have to assign them a **special token** (e.g., [UNK]) and a **static** embedding.\n",
        "   * You are **free** to define the static embedding using any strategy (e.g., random, neighbourhood, etc...)\n",
        "\n"
      ]
    },
    {
      "cell_type": "markdown",
      "metadata": {
        "id": "90UztlGUObXk"
      },
      "source": [
        "### More about OOV\n",
        "\n",
        "For a given token:\n",
        "\n",
        "* **If in train set**: add to vocabulary and assign an embedding (use GloVe if token in GloVe, custom embedding otherwise).\n",
        "* **If in val/test set**: assign special token if not in vocabulary and assign custom embedding.\n",
        "\n",
        "Your vocabulary **should**:\n",
        "\n",
        "* Contain all tokens in train set; or\n",
        "* Union of tokens in train set and in GloVe $\\rightarrow$ we make use of existing knowledge!"
      ]
    },
    {
      "cell_type": "markdown",
      "metadata": {
        "id": "W9wXRGhxIKPV"
      },
      "source": [
        "## Embedding Strategy\n",
        "\n",
        "For this project, this pretrained word vector is used:\n",
        "\n",
        "`Wikipedia 2014 + Gigaword 5 (6B tokens, 400K vocab, uncased, 300d vectors, 822 MB download)`\n",
        "\n",
        "which can be downlaoded from https://github.com/stanfordnlp/GloVe?tab=readme-ov-file"
      ]
    },
    {
      "cell_type": "code",
      "execution_count": 57,
      "metadata": {
        "id": "SBm-xQk7IKPV"
      },
      "outputs": [],
      "source": [
        "def load_glove_embeddings(glove_file_path, embedding_dim):\n",
        "    embeddings_index = {}\n",
        "    with open(glove_file_path, 'r', encoding='utf-8') as f:\n",
        "        for line in f:\n",
        "            values = line.split()\n",
        "            word = values[0]\n",
        "            coefs = np.asarray(values[1:embedding_dim+1], dtype='float32')\n",
        "            embeddings_index[word] = coefs\n",
        "    return embeddings_index\n",
        "\n",
        "# Example usage\n",
        "glove_file_path = Path('glove.6B', 'glove.6B.50d.txt') #we choose the XYZ dim\n",
        "embedding_dim = 50  # You can choose any dimension\n",
        "\n",
        "glove_embeddings = load_glove_embeddings(glove_file_path, embedding_dim)"
      ]
    },
    {
      "cell_type": "code",
      "execution_count": 58,
      "metadata": {
        "colab": {
          "base_uri": "https://localhost:8080/"
        },
        "id": "rb6t2VnwIKPV",
        "outputId": "98c7deca-648f-4a0e-e74a-ccf76ba41600"
      },
      "outputs": [
        {
          "name": "stdout",
          "output_type": "stream",
          "text": [
            "0 tokens from the training set not present in the glove embeddings.\n"
          ]
        }
      ],
      "source": [
        "UNKNOWN_TOKEN = \"[UNK]\"\n",
        "PADDING_TOKEN = \"[PAD]\"\n",
        "def create_vocabulary_and_embeddings(train_tokens, glove_embeddings, embedding_dim):\n",
        "    vocab = {} #to store the training set tokens and their indices\n",
        "    embedding_matrix = [] #to store all the embedding vectors of our vocabulary\n",
        "    new_tokens = 0 # count how many words from the training are not in the glove embedding\n",
        "    new_tokens_list = []\n",
        "\n",
        "    # Dealing with the padding token and assigning zero embedding to it\n",
        "    special_pad_embedding = np.zeros(embedding_dim)  # Zero embedding for padding\n",
        "    vocab[PADDING_TOKEN] = 0\n",
        "    embedding_matrix.append(special_pad_embedding)\n",
        "\n",
        "    # dealing with the unknown token and assigning a random embedding to it\n",
        "    special_embedding = np.random.rand(embedding_dim)\n",
        "    vocab[UNKNOWN_TOKEN] = 1\n",
        "    embedding_matrix.append(special_embedding)\n",
        "\n",
        "\n",
        "\n",
        "    for token in train_tokens:\n",
        "        if token not in vocab:\n",
        "            if token in glove_embeddings:\n",
        "                vocab[token] = len(vocab)\n",
        "                embedding_matrix.append(glove_embeddings[token])\n",
        "            else:\n",
        "                # if a token is not the glove_embedding we add it to the vocab and create a\n",
        "                # random embedding vector for it\n",
        "                vocab[token] = len(vocab)\n",
        "                custom_embedding = np.random.rand(embedding_dim)\n",
        "                embedding_matrix.append(custom_embedding)\n",
        "                new_tokens += 1\n",
        "                new_tokens_list.append(token)\n",
        "\n",
        "    embedding_matrix = np.array(embedding_matrix, dtype='float32')\n",
        "    print(f\"{new_tokens} tokens from the training set not present in the glove embeddings.\")\n",
        "\n",
        "    return vocab, embedding_matrix, new_tokens_list\n",
        "\n",
        "train_tokens = ['example', 'tokens', 'from', 'train', 'set', 'from']\n",
        "vocab, embedding_matrix, _ = create_vocabulary_and_embeddings(train_tokens, glove_embeddings, embedding_dim)"
      ]
    },
    {
      "cell_type": "code",
      "execution_count": 59,
      "metadata": {
        "colab": {
          "base_uri": "https://localhost:8080/"
        },
        "id": "6ufjQTQ7IKPW",
        "outputId": "7e19aae7-249f-4420-df70-88f5a0e54299"
      },
      "outputs": [
        {
          "name": "stdout",
          "output_type": "stream",
          "text": [
            "the tweets contain a total of 76446 words.\n",
            "First 50 words: ['write', 'a', 'uni', 'essay', 'in', 'my', 'local', 'pub', 'with', 'a', 'coffee', 'random', 'old', 'man', 'keep', 'ask', 'I', 'drunk', 'question', 'when', 'I', 'm', 'try', 'to', 'concentrate', 'amp', 'end', 'with', 'good', 'luck', 'but', 'you', 'just', 'end', 'up', 'get', 'married', 'and', 'not', 'use', 'it', 'anyway', 'be', 'alive', 'and', 'well', 'it', 'be', '2021', 'not']\n"
          ]
        }
      ],
      "source": [
        "training_tweets = data_training_cleaned['tweet'].tolist()\n",
        "training_tweets = ' '.join(training_tweets)\n",
        "words_list = training_tweets.split()\n",
        "print(f\"the tweets contain a total of {len(words_list)} words.\\nFirst 50 words: {words_list[:50]}\")"
      ]
    },
    {
      "cell_type": "code",
      "execution_count": 60,
      "metadata": {
        "colab": {
          "base_uri": "https://localhost:8080/"
        },
        "id": "wfAJqCTQIKPW",
        "outputId": "f5ad7e2b-bf1d-45da-f916-36a5ec78745d"
      },
      "outputs": [
        {
          "name": "stdout",
          "output_type": "stream",
          "text": [
            "1224 tokens from the training set not present in the glove embeddings.\n",
            "total vocabulary size: 8602\n",
            "embedding_matrix shape: (8602, 50)\n"
          ]
        }
      ],
      "source": [
        "vocab, embedding_matrix, unknown_words = create_vocabulary_and_embeddings(words_list, glove_embeddings, embedding_dim)\n",
        "print(f\"total vocabulary size: {len(vocab)}\\nembedding_matrix shape: {embedding_matrix.shape}\")"
      ]
    },
    {
      "cell_type": "code",
      "execution_count": 61,
      "metadata": {
        "colab": {
          "base_uri": "https://localhost:8080/"
        },
        "id": "SPZqXH6bIKPW",
        "outputId": "e9832d8e-aa72-44e0-c7bb-fa619456f316"
      },
      "outputs": [
        {
          "name": "stdout",
          "output_type": "stream",
          "text": [
            "some examples of unknown tokens in the tweets that are not present in the glove embedding: \n",
            "I, earlyinlife, godcolette, anywheregood, voyeuristically, comic_strip, gamergate, breadtube, releasethu, comicsgate, shitstorm, peachfuzz, futanari, 2014i, theythis, angeryou, bitchesid, downvote, 30somethe, allegationsjudge, mramgtowincel, womanhating, angriesbecause, catastrophizing, outbigg, redpill, blackpilado, ironicamente, earlierwhy, notallman, 🤣, vaginanot, notallmen, laylamoran, soulsmixed, thisthat, retweetsnintendo, switchsportsnotallmenwow, decentish, ndor, consentjust, transwoman, heathensno, family27, transphobe, violencesthey, discourseinto, weeksboth, nosetonose, allyship, harrisharb, catcall, itsnotacomplimentmelbournecom, pedophiliajust, weekshow, code5kp5qw1, societyeducation, djín, nonethelesscome, slimzosrecording, normshappy, makhulu, ahhhhhh, don´t, ¨some, marriage¨, productsinclude, internet‍‍, shivaami, onlineregister, 2022time, placewoman, nollaigh, 🧋, womensday, 2021be, allvotebluein2022, policyboth, gruevskis, alçın, wardbusuça, ortakolma, needn, mentionnah, sympathybiden, rackexclusive, selffunde, taxpayersschool, androcentrism, spip, kabikabila, 🤷, societynature, 1935the, perspectivethe, marginalian, nonbinary, undivide, mindmainexlazada, 1111supershow\n"
          ]
        }
      ],
      "source": [
        "print(\"some examples of unknown tokens in the tweets that are not present in the glove embedding: \")\n",
        "print(', '.join(unknown_words[:100]))"
      ]
    },
    {
      "cell_type": "markdown",
      "metadata": {
        "id": "NiLhOwSEIKPX"
      },
      "source": [
        "## Preprocessing Strategy for Cleaning the Text\n",
        "for the preprocessing (text cleaning) strategy with propose two additional methods to decrease the number of tweet tokens that are not present in the Glove Embedding. This means we assign less random embeddings and the token embeddings become more meaningful overal.\n",
        "\n",
        "1. `lowercase_text`: most of the Glove tokens are lowercase. So we lowercase all tokens.\n",
        "2. `correct_typos`: tweets contain many typos. By correcting the typos we can find the correct token embeddings of a faulty word. This requires more preprocessing time as we need to check all the tokens. By it pays off well in the end.\n",
        "\n",
        "![image.png](https://github.com/kazemihabib/nlp_assignment_1/blob/LSTM/preprocessing_strategies.png?raw=1)"
      ]
    },
    {
      "cell_type": "markdown",
      "metadata": {
        "id": "bNb59haaIKPX"
      },
      "source": [
        "## How to use the embedding:"
      ]
    },
    {
      "cell_type": "code",
      "execution_count": 62,
      "metadata": {
        "id": "8WUP4rJcIKPX"
      },
      "outputs": [],
      "source": [
        "def get_text_embedding_matrix(text, vocab, embedding_matrix):\n",
        "    # given a text, return the matrix of its embeddings\n",
        "    tokens = text.split()\n",
        "    text_embeddings = np.zeros((len(tokens), embedding_matrix.shape[1]), dtype='float32')\n",
        "    for i, token in enumerate(tokens):\n",
        "        token_index = vocab.get(token, vocab[\"[UNK]\"]) #get index of token if present in vocab, otherwise [UNK]\n",
        "        text_embeddings[i] = embedding_matrix[token_index]\n",
        "\n",
        "    return text_embeddings"
      ]
    },
    {
      "cell_type": "code",
      "execution_count": 63,
      "metadata": {
        "colab": {
          "base_uri": "https://localhost:8080/"
        },
        "id": "0Fmj1qLcIKPX",
        "outputId": "2ef38fb9-2d8d-4246-84aa-e04f262d240b"
      },
      "outputs": [
        {
          "name": "stdout",
          "output_type": "stream",
          "text": [
            "embed matrix with a shape (4, 50)\n"
          ]
        }
      ],
      "source": [
        "example_text = \"example text to embed\"\n",
        "embedding_matrix_for_text = get_text_embedding_matrix(example_text, vocab, embedding_matrix)\n",
        "print(f\"embed matrix with a shape {embedding_matrix_for_text.shape}\")"
      ]
    },
    {
      "cell_type": "markdown",
      "metadata": {
        "id": "6JLnuLGHGAUT"
      },
      "source": [
        "# [Task 4 - 1.0 points] Model definition\n",
        "\n",
        "You are now tasked to define your sexism classifier.\n",
        "\n",
        "\n"
      ]
    },
    {
      "cell_type": "markdown",
      "metadata": {
        "id": "iQFI9J-JOfXD"
      },
      "source": [
        "### Instructions\n",
        "\n",
        "* **Baseline**: implement a Bidirectional LSTM with a Dense layer on top.\n",
        "* You are **free** to experiment with hyper-parameters to define the baseline model.\n",
        "\n",
        "* **Model 1**: add an additional LSTM layer to the Baseline model."
      ]
    },
    {
      "cell_type": "markdown",
      "metadata": {
        "id": "4jALc_qYGS2E"
      },
      "source": [
        "### Token to embedding mapping\n",
        "\n",
        "You can follow two approaches for encoding tokens in your classifier.\n",
        "\n",
        "### Work directly with embeddings\n",
        "\n",
        "- Compute the embedding of each input token\n",
        "- Feed the mini-batches of shape (batch_size, # tokens, embedding_dim) to your model\n",
        "\n",
        "### Work with Embedding layer\n",
        "\n",
        "- Encode input tokens to token ids\n",
        "- Define a Embedding layer as the first layer of your model\n",
        "- Compute the embedding matrix of all known tokens (i.e., tokens in your vocabulary)\n",
        "- Initialize the Embedding layer with the computed embedding matrix\n",
        "- You are **free** to set the Embedding layer trainable or not"
      ]
    },
    {
      "cell_type": "markdown",
      "metadata": {
        "id": "GEQTPu6eGgGv"
      },
      "source": [
        "### Padding\n",
        "\n",
        "Pay attention to padding tokens!\n",
        "\n",
        "Your model **should not** be penalized on those tokens.\n",
        "\n",
        "#### How to?\n",
        "\n",
        "There are two main ways.\n",
        "\n",
        "However, their implementation depends on the neural library you are using.\n",
        "\n",
        "- Embedding layer\n",
        "- Custom loss to compute average cross-entropy on non-padding tokens only\n",
        "\n",
        "**Note**: This is a **recommendation**, but we **do not penalize** for missing workarounds."
      ]
    },
    {
      "cell_type": "code",
      "execution_count": 64,
      "metadata": {
        "id": "3tr61d5LsL7J"
      },
      "outputs": [],
      "source": [
        "import matplotlib.pyplot as plt\n",
        "\n",
        "def plot_training_validation_loss(train_losses, val_losses):\n",
        "    plt.figure(figsize=(10, 6))\n",
        "    plt.plot(range(1, len(train_losses) + 1), train_losses, label='Train Loss')\n",
        "    plt.plot(range(1, len(val_losses) + 1), val_losses, label='Validation Loss')\n",
        "    plt.xlabel('Epochs')\n",
        "    plt.ylabel('Loss')\n",
        "    plt.title('Training and Validation Loss')\n",
        "    plt.legend()\n",
        "    plt.grid(True)\n",
        "    plt.show()\n",
        "\n",
        "def plot_training_validation_f1(train_f1s, val_f1s):\n",
        "    plt.figure(figsize=(10, 6))\n",
        "    plt.plot(range(1, len(train_f1s) + 1), train_f1s, label='Train F1')\n",
        "    plt.plot(range(1, len(val_f1s) + 1), val_f1s, label='Validation F1')\n",
        "    plt.xlabel('Epochs')\n",
        "    plt.ylabel('F1 Score')\n",
        "    plt.title('Training and Validation F1 Score')\n",
        "    plt.legend()\n",
        "    plt.grid(True)\n",
        "    plt.show()"
      ]
    },
    {
      "cell_type": "code",
      "execution_count": 65,
      "metadata": {
        "id": "X7c-jn0EIKPd"
      },
      "outputs": [],
      "source": [
        "import torch\n",
        "import torch.nn as nn\n",
        "import torch.nn.functional as F\n",
        "import torch.nn.utils.rnn as rnn_utils\n",
        "\n",
        "class BaselineModel(nn.Module):\n",
        "    \"\"\"\n",
        "    Baseline Model: A Bidirectional LSTM with a Dense layer on top.\n",
        "    \"\"\"\n",
        "    def __init__(self, vocab_size, embedding_dim, embedding_matrix, hidden_dim, output_dim, pad_idx, dropout, ):\n",
        "        super(BaselineModel, self).__init__()\n",
        "        self.embedding = nn.Embedding.from_pretrained(\n",
        "            torch.tensor(embedding_matrix, dtype=torch.float32),\n",
        "            freeze=True,  # Pre-trained embeddings, not trainable\n",
        "            padding_idx=pad_idx\n",
        "        )\n",
        "        self.lstm = nn.LSTM(\n",
        "            embedding_dim,\n",
        "            hidden_dim,\n",
        "            bidirectional=True,\n",
        "            batch_first=True\n",
        "        )\n",
        "        self.fc = nn.Linear(hidden_dim * 2, output_dim)\n",
        "        self.dropout = nn.Dropout(dropout)\n",
        "\n",
        "    def forward(self, text, lengths):\n",
        "        embedded = self.embedding(text)\n",
        "        packed_embedded = rnn_utils.pack_padded_sequence(embedded, lengths, batch_first=True, enforce_sorted=False)\n",
        "        packed_output, (hidden, cell) = self.lstm(packed_embedded)\n",
        "        hidden = torch.cat((hidden[-2, :, :], hidden[-1, :, :]), dim=1)\n",
        "        output = self.fc(self.dropout(hidden))\n",
        "        return torch.sigmoid(output)\n"
      ]
    },
    {
      "cell_type": "code",
      "execution_count": 66,
      "metadata": {
        "id": "t_MQb7VLcL09"
      },
      "outputs": [],
      "source": [
        "class Model_1(nn.Module):\n",
        "    \"\"\"\n",
        "    Model 1: Manually Add an additional LSTM layer to the Baseline model.\n",
        "    \"\"\"\n",
        "    def __init__(self, vocab_size, embedding_dim, embedding_matrix, hidden_dim_1,\n",
        "                 hidden_dim_2, output_dim, pad_idx, dropout_rate_1):\n",
        "        super(Model_1, self).__init__()\n",
        "        self.embedding = nn.Embedding.from_pretrained(\n",
        "            torch.tensor(embedding_matrix, dtype=torch.float32),\n",
        "            freeze=True,  # Pre-trained embeddings, not trainable\n",
        "            padding_idx=pad_idx\n",
        "        )\n",
        "        self.lstm1 = nn.LSTM(\n",
        "            embedding_dim,\n",
        "            hidden_dim_1,\n",
        "            bidirectional=True,\n",
        "            batch_first=True\n",
        "        )\n",
        "\n",
        "        self.lstm_dropout = nn.Dropout(dropout_rate_1)\n",
        "\n",
        "        self.lstm2 = nn.LSTM(\n",
        "            hidden_dim_1 * 2,\n",
        "            hidden_dim_2,\n",
        "            bidirectional=True,\n",
        "            batch_first=True\n",
        "        )\n",
        "        self.fc = nn.Linear(hidden_dim_2 * 2, output_dim)\n",
        "\n",
        "    def forward(self, text, lengths):\n",
        "        embedded = self.embedding(text)\n",
        "        packed_embedded = rnn_utils.pack_padded_sequence(embedded, lengths, batch_first=True, enforce_sorted=False)\n",
        "        packed_output, _ = self.lstm1(packed_embedded)\n",
        "        unpacked_output, lengths = rnn_utils.pad_packed_sequence(packed_output, batch_first=True)\n",
        "        unpacked_output = self.lstm_dropout(unpacked_output)\n",
        "        packed_output = rnn_utils.pack_padded_sequence(unpacked_output, lengths, batch_first=True, enforce_sorted=False)\n",
        "        packed_output, (hidden, cell) = self.lstm2(packed_output)\n",
        "        unpacked_output, lengths = rnn_utils.pad_packed_sequence(packed_output, batch_first=True)\n",
        "        hidden = torch.cat((hidden[-2, :, :], hidden[-1, :, :]), dim=1)\n",
        "        output = self.fc(hidden)\n",
        "\n",
        "        return torch.sigmoid(output)\n"
      ]
    },
    {
      "cell_type": "code",
      "execution_count": 67,
      "metadata": {
        "id": "psHkQM8MDZU1"
      },
      "outputs": [],
      "source": [
        "import torch\n",
        "import torch.nn as nn\n",
        "import torch.nn.utils.rnn as rnn_utils\n",
        "\n",
        "class M2(nn.Module):\n",
        "    \"\"\"\n",
        "    Model 2: Adds an additional LSTM layer to the Baseline model. Instead of implementing manually,\n",
        "    num_layer=2 been used and the hidden dim of two LSTM layers are same.\n",
        "    \"\"\"\n",
        "    def __init__(self, vocab_size, embedding_dim, embedding_matrix, hidden_dim, output_dim, pad_idx, dropout):\n",
        "        super(M2, self).__init__()\n",
        "        self.embedding = nn.Embedding.from_pretrained(\n",
        "            torch.tensor(embedding_matrix, dtype=torch.float32),\n",
        "            freeze=True,  # Pre-trained embeddings, not trainable\n",
        "            padding_idx=pad_idx\n",
        "        )\n",
        "        self.lstm = nn.LSTM(\n",
        "            embedding_dim,\n",
        "            hidden_dim,\n",
        "            num_layers=2,  # 2 LSTM layers\n",
        "            bidirectional=True,\n",
        "            batch_first=True,\n",
        "            dropout=dropout  # Add dropout between LSTM layers\n",
        "        )\n",
        "        self.fc = nn.Linear(hidden_dim * 2, output_dim)\n",
        "        self.dropout = nn.Dropout(dropout)\n",
        "\n",
        "    def forward(self, text, lengths):\n",
        "        embedded = self.embedding(text)\n",
        "        packed_embedded = rnn_utils.pack_padded_sequence(embedded, lengths, batch_first=True, enforce_sorted=False)\n",
        "        packed_output, (hidden, cell) = self.lstm(packed_embedded)\n",
        "        # Extract the last hidden state from both layers (forward and backward)\n",
        "        # Concatenate the last forward and backward hidden states of the top LSTM layer\n",
        "        hidden = torch.cat((hidden[-2, :, :], hidden[-1, :, :]), dim=1)\n",
        "        output = self.fc(hidden)\n",
        "\n",
        "        return torch.sigmoid(output)\n"
      ]
    },
    {
      "cell_type": "code",
      "execution_count": 68,
      "metadata": {
        "id": "cEyw8OkQIKPf"
      },
      "outputs": [],
      "source": [
        "from sklearn.metrics import accuracy_score, precision_score, recall_score, f1_score\n",
        "def train(model, iterator, optimizer, criterion, device, epoch):\n",
        "    \"\"\"\n",
        "    Train the model for one epoch\n",
        "    \"\"\"\n",
        "\n",
        "    model.train()\n",
        "    epoch_loss = 0\n",
        "    all_preds = []\n",
        "    all_labels = []\n",
        "\n",
        "    for batch_idx, (padded_sequences, lengths, labels) in enumerate(iterator):\n",
        "\n",
        "        padded_sequences = padded_sequences.to(device)\n",
        "        lengths = lengths\n",
        "        labels = labels.to(device)\n",
        "        optimizer.zero_grad()\n",
        "        predictions = model(padded_sequences, lengths).squeeze(1)\n",
        "\n",
        "        loss = criterion(predictions, labels.float())\n",
        "        loss.backward()\n",
        "        optimizer.step()\n",
        "        epoch_loss += loss.item()\n",
        "\n",
        "        preds = (predictions >= 0.5).long()  # Predictions for this batch\n",
        "        all_preds.extend(preds.cpu().numpy())\n",
        "        all_labels.extend(labels.cpu().numpy())\n",
        "\n",
        "    # Calculate accuracy and F1 for the epoch\n",
        "    train_accuracy = accuracy_score(all_labels, all_preds)\n",
        "    train_f1 = f1_score(all_labels, all_preds, average=\"macro\", zero_division=1.0)\n",
        "\n",
        "    return epoch_loss / len(iterator), train_accuracy, train_f1"
      ]
    },
    {
      "cell_type": "code",
      "execution_count": 69,
      "metadata": {
        "id": "1WfI0UjGIKPf"
      },
      "outputs": [],
      "source": [
        "from sklearn.metrics import accuracy_score, precision_score, recall_score, f1_score\n",
        "\n",
        "\n",
        "def evaluate(model, iterator, criterion, device):\n",
        "    \"\"\"\n",
        "    Evaluate the model on the given validation set\n",
        "    \"\"\"\n",
        "    model.eval()\n",
        "    epoch_loss = 0\n",
        "    prediction_scores = []\n",
        "    binary_predictions = []\n",
        "    true_labels = []\n",
        "\n",
        "    with torch.no_grad():\n",
        "        for padded_sequences, lengths, labels in iterator:\n",
        "            padded_sequences = padded_sequences.to(device)\n",
        "            lengths = lengths\n",
        "            labels = labels.to(device)\n",
        "\n",
        "            predictions = model(padded_sequences, lengths).squeeze(1)\n",
        "            loss = criterion(predictions, labels)\n",
        "\n",
        "            epoch_loss += loss.item()\n",
        "            preds = (predictions >= 0.5).long()\n",
        "            prediction_scores.extend(predictions.cpu().numpy())\n",
        "            binary_predictions.extend(preds.cpu().numpy())\n",
        "            true_labels.extend(labels.cpu().numpy())\n",
        "\n",
        "    accuracy = accuracy_score(true_labels, binary_predictions)\n",
        "    f1 = f1_score(true_labels, binary_predictions, average=\"macro\", zero_division=1.0)\n",
        "\n",
        "    return epoch_loss / len(iterator), accuracy, f1, prediction_scores"
      ]
    },
    {
      "cell_type": "code",
      "execution_count": 70,
      "metadata": {
        "id": "o-CPi5OLnd6Q"
      },
      "outputs": [],
      "source": [
        "import torch.optim.lr_scheduler as lr_scheduler\n",
        "import torch.optim as optim\n",
        "\n",
        "def train_and_evaluate(model, model_name, train_loader, val_loader, vocab, embedding_matrix,\n",
        "                         device, num_epochs, lr, weight_decay,\n",
        "                         early_stopping_patience, save_model_path):\n",
        "  \"\"\"\n",
        "  Train the model for the specified number of epochs, utilizing early stopping to save the best-performing model. Evaluate the best model on the validation set and return the corresponding validation metrics.\n",
        "  \"\"\"\n",
        "  model_metrics = {\n",
        "    'val_loss': [],\n",
        "    'val_accuracy': [],\n",
        "    'val_f1': [],\n",
        "    'val_prediction_scores': [],\n",
        "  }\n",
        "\n",
        "\n",
        "  optimizer = optim.Adam(model.parameters(), lr=lr, weight_decay=weight_decay)\n",
        "  criterion = nn.BCELoss()\n",
        "\n",
        "  best_val_f1 = float(0)\n",
        "  early_stopping_counter = 0\n",
        "  model_metrics_indx = 0\n",
        "  for epoch in range(num_epochs):\n",
        "      train_loss, train_accuracy, train_f1 = train(model, train_loader, optimizer, criterion, device, epoch)\n",
        "\n",
        "      val_loss, val_accuracy, val_f1, val_prediction_scores = evaluate(model, val_loader, criterion, device)\n",
        "\n",
        "      print(f\"{model_name}: Epoch {epoch+1}/{num_epochs}\")\n",
        "      print(f\"{model_name}: Train Loss: {train_loss:.4f}, Train Accuracy: {train_accuracy:.4f}, train_f1: {train_f1:.4f}\")\n",
        "      print(f\"{model_name}: Validation Loss: {val_loss:.4f}, Validation Accuracy: {val_accuracy:.4f}, Validation F1-Score: {val_f1:.4f}\")\n",
        "\n",
        "      if val_f1 > best_val_f1:\n",
        "          best_val_f1 = val_f1\n",
        "          model_metrics_indx = epoch\n",
        "          early_stopping_counter = 0\n",
        "          torch.save(model.state_dict(), save_model_path)\n",
        "\n",
        "          model_metrics['val_loss'] = val_loss\n",
        "          model_metrics['val_accuracy'] = val_accuracy\n",
        "          model_metrics['val_f1'] = val_f1\n",
        "          model_metrics['val_prediction_scores'] = val_prediction_scores\n",
        "      else:\n",
        "          early_stopping_counter += 1\n",
        "          print(f\"{model_name}: No improvement for {early_stopping_counter} epoch(s).\")\n",
        "\n",
        "      if early_stopping_counter >= early_stopping_patience:\n",
        "          print(f\"{model_name}: Early stopping triggered. Training stopped.\")\n",
        "          break\n",
        "\n",
        "\n",
        "  model.load_state_dict(torch.load(save_model_path, weights_only=True))  # Load the saved state dictionary\n",
        "\n",
        "  return model, model_metrics"
      ]
    },
    {
      "cell_type": "code",
      "execution_count": 71,
      "metadata": {
        "id": "Qlo0TKdOIKPg"
      },
      "outputs": [],
      "source": [
        "from torch.utils.data import DataLoader, Dataset\n",
        "from torch.nn.utils.rnn import pad_sequence\n",
        "import torch\n",
        "\n",
        "class TweetDataset(Dataset):\n",
        "    def __init__(self, texts, labels, vocab):\n",
        "        self.texts = texts\n",
        "        self.labels = labels\n",
        "        self.vocab = vocab\n",
        "\n",
        "    def __len__(self):\n",
        "        return len(self.texts)\n",
        "\n",
        "    def __getitem__(self, idx):\n",
        "        text = self.texts[idx]\n",
        "        label = self.labels[idx]\n",
        "\n",
        "        # Tokenize text into indices based on vocab\n",
        "        token_ids = [self.vocab.get(token, self.vocab[UNKNOWN_TOKEN]) for token in text.split()]\n",
        "        return torch.tensor(token_ids), torch.tensor(label, dtype=torch.float)\n",
        "\n",
        "# Collate function to pad sequences dynamically\n",
        "def collate_fn(batch):\n",
        "    texts, labels = zip(*batch)\n",
        "    padded_texts = pad_sequence(texts, batch_first=True, padding_value=vocab[PADDING_TOKEN])\n",
        "    lengths = torch.tensor([len(seq) for seq in texts])\n",
        "    labels = torch.tensor(labels, dtype=torch.float)\n",
        "\n",
        "    return padded_texts, lengths, labels\n",
        "\n",
        "train_dataset = TweetDataset(\n",
        "    texts=data_training_cleaned['tweet'].tolist(),\n",
        "    labels=data_training_cleaned['hard_label_task1'].tolist(),\n",
        "    vocab=vocab\n",
        ")\n",
        "\n",
        "val_dataset = TweetDataset(\n",
        "    texts=data_validation_cleaned['tweet'].tolist(),\n",
        "    labels=data_validation_cleaned['hard_label_task1'].tolist(),\n",
        "    vocab=vocab\n",
        ")\n",
        "\n",
        "test_dataset = TweetDataset(\n",
        "    texts=data_test_cleaned['tweet'].tolist(),\n",
        "    labels=data_test_cleaned['hard_label_task1'].tolist(),\n",
        "    vocab=vocab\n",
        ")\n"
      ]
    },
    {
      "cell_type": "markdown",
      "metadata": {
        "id": "glonP3teGD7v"
      },
      "source": [
        "# Hyperparameter optimization\n",
        "We utilized the Optuna library to systematically search for the optimal hyperparameter configuration for our models. This process yielded the following parameters:"
      ]
    },
    {
      "cell_type": "code",
      "execution_count": 72,
      "metadata": {
        "id": "VXABYcvgZ3Vn"
      },
      "outputs": [],
      "source": [
        "\n",
        "bl_best_params = {\"hidden_dim\": 87, \"dropout\": 0.23805379126106954, \"learning_rate\": 0.009113727618687178, \"weight_decay\": 0.0019464188645384136}\n"
      ]
    },
    {
      "cell_type": "markdown",
      "metadata": {
        "id": "h_ZX9vLA_mgD"
      },
      "source": []
    },
    {
      "cell_type": "code",
      "execution_count": 73,
      "metadata": {
        "id": "s-wPMpwlRaeJ"
      },
      "outputs": [],
      "source": [
        "m1_best_params = {'hidden_dim_1': 77, 'hidden_dim_2': 159, 'dropout_rate_1': 0.2671372067937484, 'learning_rate': 0.0058643763991166565, 'weight_decay': 0.002899357808030349}"
      ]
    },
    {
      "cell_type": "code",
      "execution_count": 74,
      "metadata": {
        "id": "hcr5gxIFw2fz"
      },
      "outputs": [],
      "source": [
        "m2_best_params = {'hidden_dim': 86, 'dropout': 0.5118279706204433, 'learning_rate': 0.005014704657881483, 'weight_decay': 0.002717923092381837}"
      ]
    },
    {
      "cell_type": "markdown",
      "metadata": {
        "id": "EFjBgdiRG3wD"
      },
      "source": [
        "\\# [Task 5 - 1.0 points] Training and Evaluation\n",
        "\n",
        "You are now tasked to train and evaluate the Baseline and Model 1.\n"
      ]
    },
    {
      "cell_type": "markdown",
      "metadata": {
        "id": "TWPK4umGOjtT"
      },
      "source": [
        "\n",
        "### Instructions\n",
        "\n",
        "* Train **all** models on the train set.\n",
        "* Evaluate **all** models on the validation set.\n",
        "* Compute metrics on the validation set.\n",
        "* Pick **at least** three seeds for robust estimation.\n",
        "* Pick the **best** performing model according to the observed validation set performance.\n",
        "* Evaluate your models using macro F1-score."
      ]
    },
    {
      "cell_type": "code",
      "execution_count": 75,
      "metadata": {
        "id": "xp-PJZgebuhZ"
      },
      "outputs": [],
      "source": [
        "import matplotlib.pyplot as plt\n",
        "from sklearn.metrics import precision_recall_curve, confusion_matrix, ConfusionMatrixDisplay\n",
        "import pandas as pd\n",
        "\n",
        "def plot_precision_recall_curve(model_name, true_labels, predictions):\n",
        "    precision, recall, thresholds = precision_recall_curve(true_labels, predictions)\n",
        "\n",
        "    plt.figure(figsize=(8, 6))\n",
        "    plt.plot(recall, precision, marker='.', label='Precision-Recall Curve')\n",
        "    plt.xlabel('Recall')\n",
        "    plt.ylabel('Precision')\n",
        "    plt.title(f'{model_name} Precision-Recall Curve')\n",
        "    plt.legend()\n",
        "    plt.grid(True)\n",
        "    plt.show()\n",
        "\n",
        "def plot_confusion_matrix(model_name, true_labels, predictions):\n",
        "    preds = (predictions >= 0.5).astype(int)\n",
        "    cm = confusion_matrix(true_labels, preds)\n",
        "    disp = ConfusionMatrixDisplay(confusion_matrix=cm, display_labels=['Not Sexist', 'Sexist'])\n",
        "\n",
        "    disp.plot(cmap='Blues')\n",
        "    plt.title(f'{model_name} Confusion Matrix')\n",
        "    plt.show()\n",
        "\n",
        "def display_misclassified_samples(model_name, data, true_labels, predictions):\n",
        "    preds = (predictions >= 0.5).astype(int)\n",
        "    data['True Label'] = true_labels\n",
        "    data['Predicted Label'] = preds\n",
        "    data['Correct'] = data['True Label'] == data['Predicted Label']\n",
        "\n",
        "    misclassified = data[~data['Correct']]\n",
        "\n",
        "    print(f\"{model_name} Misclassified Samples:\")\n",
        "    for index, row in misclassified[['tweet', 'True Label', 'Predicted Label']].head(5).iterrows():\n",
        "        print(f\"Tweet: {row['tweet']}\")\n",
        "        print(f\"True Label: {row['True Label']}\")\n",
        "        print(f\"Predicted Label: {row['Predicted Label']}\")\n",
        "        print(\"-\" * 20)  # Separator between samples\n",
        "\n",
        "def perform_error_analysis(model_name, data, true_labels, predictions):\n",
        "    print('\\n')\n",
        "    plot_precision_recall_curve(model_name, true_labels, predictions)\n",
        "    print('\\n')\n",
        "    plot_confusion_matrix(model_name, true_labels, predictions)\n",
        "    print('\\n')\n",
        "    display_misclassified_samples(model_name, data, true_labels, predictions)\n",
        "\n"
      ]
    },
    {
      "cell_type": "code",
      "execution_count": 76,
      "metadata": {
        "id": "-yeL-WSsy4Gu"
      },
      "outputs": [],
      "source": [
        "def generate_name(name, seed):\n",
        "    return f\"{name}_{seed}\""
      ]
    },
    {
      "cell_type": "code",
      "execution_count": 77,
      "metadata": {
        "colab": {
          "base_uri": "https://localhost:8080/"
        },
        "id": "qEkrWTWoxJtl",
        "outputId": "e60658bf-26f7-468c-8dd7-236469f59c11"
      },
      "outputs": [
        {
          "name": "stdout",
          "output_type": "stream",
          "text": [
            "BaselineModel_42: Epoch 1/60\n",
            "BaselineModel_42: Train Loss: 0.6548, Train Accuracy: 0.6115, train_f1: 0.5310\n",
            "BaselineModel_42: Validation Loss: 0.6607, Validation Accuracy: 0.6013, Validation F1-Score: 0.6005\n",
            "BaselineModel_42: Epoch 2/60\n",
            "BaselineModel_42: Train Loss: 0.6119, Train Accuracy: 0.6672, train_f1: 0.6370\n",
            "BaselineModel_42: Validation Loss: 0.5651, Validation Accuracy: 0.7342, Validation F1-Score: 0.7179\n",
            "BaselineModel_42: Epoch 3/60\n",
            "BaselineModel_42: Train Loss: 0.5639, Train Accuracy: 0.7066, train_f1: 0.6844\n",
            "BaselineModel_42: Validation Loss: 0.5206, Validation Accuracy: 0.7658, Validation F1-Score: 0.7616\n",
            "BaselineModel_42: Epoch 4/60\n",
            "BaselineModel_42: Train Loss: 0.5282, Train Accuracy: 0.7467, train_f1: 0.7300\n",
            "BaselineModel_42: Validation Loss: 0.5076, Validation Accuracy: 0.7532, Validation F1-Score: 0.7292\n",
            "BaselineModel_42: No improvement for 1 epoch(s).\n",
            "BaselineModel_42: Epoch 5/60\n",
            "BaselineModel_42: Train Loss: 0.5006, Train Accuracy: 0.7582, train_f1: 0.7447\n",
            "BaselineModel_42: Validation Loss: 0.4926, Validation Accuracy: 0.7722, Validation F1-Score: 0.7565\n",
            "BaselineModel_42: No improvement for 2 epoch(s).\n",
            "BaselineModel_42: Epoch 6/60\n",
            "BaselineModel_42: Train Loss: 0.4878, Train Accuracy: 0.7693, train_f1: 0.7555\n",
            "BaselineModel_42: Validation Loss: 0.4613, Validation Accuracy: 0.7975, Validation F1-Score: 0.7836\n",
            "BaselineModel_42: Epoch 7/60\n",
            "BaselineModel_42: Train Loss: 0.4841, Train Accuracy: 0.7791, train_f1: 0.7663\n",
            "BaselineModel_42: Validation Loss: 0.5200, Validation Accuracy: 0.7532, Validation F1-Score: 0.7269\n",
            "BaselineModel_42: No improvement for 1 epoch(s).\n",
            "BaselineModel_42: Epoch 8/60\n",
            "BaselineModel_42: Train Loss: 0.4762, Train Accuracy: 0.7777, train_f1: 0.7647\n",
            "BaselineModel_42: Validation Loss: 0.4670, Validation Accuracy: 0.7785, Validation F1-Score: 0.7589\n",
            "BaselineModel_42: No improvement for 2 epoch(s).\n",
            "BaselineModel_42: Epoch 9/60\n",
            "BaselineModel_42: Train Loss: 0.4640, Train Accuracy: 0.7850, train_f1: 0.7734\n",
            "BaselineModel_42: Validation Loss: 0.4594, Validation Accuracy: 0.8228, Validation F1-Score: 0.8142\n",
            "BaselineModel_42: Epoch 10/60\n",
            "BaselineModel_42: Train Loss: 0.4713, Train Accuracy: 0.7829, train_f1: 0.7712\n",
            "BaselineModel_42: Validation Loss: 0.4496, Validation Accuracy: 0.7785, Validation F1-Score: 0.7684\n",
            "BaselineModel_42: No improvement for 1 epoch(s).\n",
            "BaselineModel_42: Epoch 11/60\n",
            "BaselineModel_42: Train Loss: 0.4646, Train Accuracy: 0.7843, train_f1: 0.7719\n",
            "BaselineModel_42: Validation Loss: 0.4496, Validation Accuracy: 0.7848, Validation F1-Score: 0.7768\n",
            "BaselineModel_42: No improvement for 2 epoch(s).\n",
            "BaselineModel_42: Epoch 12/60\n",
            "BaselineModel_42: Train Loss: 0.4546, Train Accuracy: 0.7934, train_f1: 0.7816\n",
            "BaselineModel_42: Validation Loss: 0.4280, Validation Accuracy: 0.7848, Validation F1-Score: 0.7797\n",
            "BaselineModel_42: No improvement for 3 epoch(s).\n",
            "BaselineModel_42: Epoch 13/60\n",
            "BaselineModel_42: Train Loss: 0.4492, Train Accuracy: 0.8045, train_f1: 0.7937\n",
            "BaselineModel_42: Validation Loss: 0.4341, Validation Accuracy: 0.8101, Validation F1-Score: 0.8030\n",
            "BaselineModel_42: No improvement for 4 epoch(s).\n",
            "BaselineModel_42: Epoch 14/60\n",
            "BaselineModel_42: Train Loss: 0.4470, Train Accuracy: 0.8007, train_f1: 0.7894\n",
            "BaselineModel_42: Validation Loss: 0.4492, Validation Accuracy: 0.7785, Validation F1-Score: 0.7656\n",
            "BaselineModel_42: No improvement for 5 epoch(s).\n",
            "BaselineModel_42: Epoch 15/60\n",
            "BaselineModel_42: Train Loss: 0.4430, Train Accuracy: 0.7990, train_f1: 0.7877\n",
            "BaselineModel_42: Validation Loss: 0.4308, Validation Accuracy: 0.7975, Validation F1-Score: 0.7954\n",
            "BaselineModel_42: No improvement for 6 epoch(s).\n",
            "BaselineModel_42: Epoch 16/60\n",
            "BaselineModel_42: Train Loss: 0.4434, Train Accuracy: 0.7979, train_f1: 0.7877\n",
            "BaselineModel_42: Validation Loss: 0.4720, Validation Accuracy: 0.7595, Validation F1-Score: 0.7412\n",
            "BaselineModel_42: No improvement for 7 epoch(s).\n",
            "BaselineModel_42: Epoch 17/60\n",
            "BaselineModel_42: Train Loss: 0.4353, Train Accuracy: 0.8091, train_f1: 0.7990\n",
            "BaselineModel_42: Validation Loss: 0.4754, Validation Accuracy: 0.7658, Validation F1-Score: 0.7431\n",
            "BaselineModel_42: No improvement for 8 epoch(s).\n",
            "BaselineModel_42: Epoch 18/60\n",
            "BaselineModel_42: Train Loss: 0.4267, Train Accuracy: 0.8087, train_f1: 0.7985\n",
            "BaselineModel_42: Validation Loss: 0.4955, Validation Accuracy: 0.7468, Validation F1-Score: 0.7134\n",
            "BaselineModel_42: No improvement for 9 epoch(s).\n",
            "BaselineModel_42: Epoch 19/60\n",
            "BaselineModel_42: Train Loss: 0.4256, Train Accuracy: 0.8108, train_f1: 0.8004\n",
            "BaselineModel_42: Validation Loss: 0.4315, Validation Accuracy: 0.7785, Validation F1-Score: 0.7671\n",
            "BaselineModel_42: No improvement for 10 epoch(s).\n",
            "BaselineModel_42: Epoch 20/60\n",
            "BaselineModel_42: Train Loss: 0.4186, Train Accuracy: 0.8125, train_f1: 0.8027\n",
            "BaselineModel_42: Validation Loss: 0.4632, Validation Accuracy: 0.7785, Validation F1-Score: 0.7608\n",
            "BaselineModel_42: No improvement for 11 epoch(s).\n",
            "BaselineModel_42: Epoch 21/60\n",
            "BaselineModel_42: Train Loss: 0.4200, Train Accuracy: 0.8132, train_f1: 0.8033\n",
            "BaselineModel_42: Validation Loss: 0.4319, Validation Accuracy: 0.7848, Validation F1-Score: 0.7684\n",
            "BaselineModel_42: No improvement for 12 epoch(s).\n",
            "BaselineModel_42: Epoch 22/60\n",
            "BaselineModel_42: Train Loss: 0.4131, Train Accuracy: 0.8136, train_f1: 0.8029\n",
            "BaselineModel_42: Validation Loss: 0.4515, Validation Accuracy: 0.7848, Validation F1-Score: 0.7730\n",
            "BaselineModel_42: No improvement for 13 epoch(s).\n",
            "BaselineModel_42: Epoch 23/60\n",
            "BaselineModel_42: Train Loss: 0.4054, Train Accuracy: 0.8206, train_f1: 0.8109\n",
            "BaselineModel_42: Validation Loss: 0.4629, Validation Accuracy: 0.7975, Validation F1-Score: 0.7804\n",
            "BaselineModel_42: No improvement for 14 epoch(s).\n",
            "BaselineModel_42: Epoch 24/60\n",
            "BaselineModel_42: Train Loss: 0.4062, Train Accuracy: 0.8213, train_f1: 0.8119\n",
            "BaselineModel_42: Validation Loss: 0.4596, Validation Accuracy: 0.7658, Validation F1-Score: 0.7471\n",
            "BaselineModel_42: No improvement for 15 epoch(s).\n",
            "BaselineModel_42: Epoch 25/60\n",
            "BaselineModel_42: Train Loss: 0.4145, Train Accuracy: 0.8087, train_f1: 0.7985\n",
            "BaselineModel_42: Validation Loss: 0.5067, Validation Accuracy: 0.7405, Validation F1-Score: 0.6985\n",
            "BaselineModel_42: No improvement for 16 epoch(s).\n",
            "BaselineModel_42: Epoch 26/60\n",
            "BaselineModel_42: Train Loss: 0.4123, Train Accuracy: 0.8202, train_f1: 0.8102\n",
            "BaselineModel_42: Validation Loss: 0.4363, Validation Accuracy: 0.8101, Validation F1-Score: 0.8086\n",
            "BaselineModel_42: No improvement for 17 epoch(s).\n",
            "BaselineModel_42: Epoch 27/60\n",
            "BaselineModel_42: Train Loss: 0.3978, Train Accuracy: 0.8258, train_f1: 0.8159\n",
            "BaselineModel_42: Validation Loss: 0.4755, Validation Accuracy: 0.7658, Validation F1-Score: 0.7471\n",
            "BaselineModel_42: No improvement for 18 epoch(s).\n",
            "BaselineModel_42: Epoch 28/60\n",
            "BaselineModel_42: Train Loss: 0.3960, Train Accuracy: 0.8181, train_f1: 0.8080\n",
            "BaselineModel_42: Validation Loss: 0.4789, Validation Accuracy: 0.7595, Validation F1-Score: 0.7528\n",
            "BaselineModel_42: No improvement for 19 epoch(s).\n",
            "BaselineModel_42: Epoch 29/60\n",
            "BaselineModel_42: Train Loss: 0.3968, Train Accuracy: 0.8251, train_f1: 0.8162\n",
            "BaselineModel_42: Validation Loss: 0.4526, Validation Accuracy: 0.7595, Validation F1-Score: 0.7393\n",
            "BaselineModel_42: No improvement for 20 epoch(s).\n",
            "BaselineModel_42: Early stopping triggered. Training stopped.\n",
            "Model_1_42: Epoch 1/60\n",
            "Model_1_42: Train Loss: 0.6776, Train Accuracy: 0.6132, train_f1: 0.4767\n",
            "Model_1_42: Validation Loss: 0.6490, Validation Accuracy: 0.6392, Validation F1-Score: 0.5895\n",
            "Model_1_42: Epoch 2/60\n",
            "Model_1_42: Train Loss: 0.6275, Train Accuracy: 0.6512, train_f1: 0.6110\n",
            "Model_1_42: Validation Loss: 0.6011, Validation Accuracy: 0.7025, Validation F1-Score: 0.6737\n",
            "Model_1_42: Epoch 3/60\n",
            "Model_1_42: Train Loss: 0.5813, Train Accuracy: 0.6990, train_f1: 0.6812\n",
            "Model_1_42: Validation Loss: 0.6150, Validation Accuracy: 0.5696, Validation F1-Score: 0.3629\n",
            "Model_1_42: No improvement for 1 epoch(s).\n",
            "Model_1_42: Epoch 4/60\n",
            "Model_1_42: Train Loss: 0.5530, Train Accuracy: 0.7247, train_f1: 0.7102\n",
            "Model_1_42: Validation Loss: 0.5878, Validation Accuracy: 0.7278, Validation F1-Score: 0.6764\n",
            "Model_1_42: Epoch 5/60\n",
            "Model_1_42: Train Loss: 0.5380, Train Accuracy: 0.7429, train_f1: 0.7293\n",
            "Model_1_42: Validation Loss: 0.5445, Validation Accuracy: 0.7342, Validation F1-Score: 0.7071\n",
            "Model_1_42: Epoch 6/60\n",
            "Model_1_42: Train Loss: 0.5297, Train Accuracy: 0.7495, train_f1: 0.7354\n",
            "Model_1_42: Validation Loss: 0.5123, Validation Accuracy: 0.7785, Validation F1-Score: 0.7625\n",
            "Model_1_42: Epoch 7/60\n",
            "Model_1_42: Train Loss: 0.5128, Train Accuracy: 0.7659, train_f1: 0.7534\n",
            "Model_1_42: Validation Loss: 0.5310, Validation Accuracy: 0.7405, Validation F1-Score: 0.7103\n",
            "Model_1_42: No improvement for 1 epoch(s).\n",
            "Model_1_42: Epoch 8/60\n",
            "Model_1_42: Train Loss: 0.5074, Train Accuracy: 0.7679, train_f1: 0.7559\n",
            "Model_1_42: Validation Loss: 0.5130, Validation Accuracy: 0.7595, Validation F1-Score: 0.7430\n",
            "Model_1_42: No improvement for 2 epoch(s).\n",
            "Model_1_42: Epoch 9/60\n",
            "Model_1_42: Train Loss: 0.4910, Train Accuracy: 0.7693, train_f1: 0.7575\n",
            "Model_1_42: Validation Loss: 0.5237, Validation Accuracy: 0.7405, Validation F1-Score: 0.7047\n",
            "Model_1_42: No improvement for 3 epoch(s).\n",
            "Model_1_42: Epoch 10/60\n",
            "Model_1_42: Train Loss: 0.4912, Train Accuracy: 0.7774, train_f1: 0.7658\n",
            "Model_1_42: Validation Loss: 0.4828, Validation Accuracy: 0.8101, Validation F1-Score: 0.8040\n",
            "Model_1_42: Epoch 11/60\n",
            "Model_1_42: Train Loss: 0.4683, Train Accuracy: 0.7923, train_f1: 0.7822\n",
            "Model_1_42: Validation Loss: 0.4603, Validation Accuracy: 0.8101, Validation F1-Score: 0.8030\n",
            "Model_1_42: No improvement for 1 epoch(s).\n",
            "Model_1_42: Epoch 12/60\n",
            "Model_1_42: Train Loss: 0.4634, Train Accuracy: 0.7972, train_f1: 0.7870\n",
            "Model_1_42: Validation Loss: 0.4625, Validation Accuracy: 0.8165, Validation F1-Score: 0.8117\n",
            "Model_1_42: Epoch 13/60\n",
            "Model_1_42: Train Loss: 0.4633, Train Accuracy: 0.7916, train_f1: 0.7816\n",
            "Model_1_42: Validation Loss: 0.4673, Validation Accuracy: 0.7911, Validation F1-Score: 0.7858\n",
            "Model_1_42: No improvement for 1 epoch(s).\n",
            "Model_1_42: Epoch 14/60\n",
            "Model_1_42: Train Loss: 0.4545, Train Accuracy: 0.8003, train_f1: 0.7910\n",
            "Model_1_42: Validation Loss: 0.4684, Validation Accuracy: 0.7848, Validation F1-Score: 0.7806\n",
            "Model_1_42: No improvement for 2 epoch(s).\n",
            "Model_1_42: Epoch 15/60\n",
            "Model_1_42: Train Loss: 0.4518, Train Accuracy: 0.8028, train_f1: 0.7949\n",
            "Model_1_42: Validation Loss: 0.4568, Validation Accuracy: 0.7975, Validation F1-Score: 0.7888\n",
            "Model_1_42: No improvement for 3 epoch(s).\n",
            "Model_1_42: Epoch 16/60\n",
            "Model_1_42: Train Loss: 0.4428, Train Accuracy: 0.8056, train_f1: 0.7962\n",
            "Model_1_42: Validation Loss: 0.5019, Validation Accuracy: 0.7532, Validation F1-Score: 0.7269\n",
            "Model_1_42: No improvement for 4 epoch(s).\n",
            "Model_1_42: Epoch 17/60\n",
            "Model_1_42: Train Loss: 0.4446, Train Accuracy: 0.8118, train_f1: 0.8026\n",
            "Model_1_42: Validation Loss: 0.4781, Validation Accuracy: 0.7785, Validation F1-Score: 0.7696\n",
            "Model_1_42: No improvement for 5 epoch(s).\n",
            "Model_1_42: Epoch 18/60\n",
            "Model_1_42: Train Loss: 0.4413, Train Accuracy: 0.8031, train_f1: 0.7942\n",
            "Model_1_42: Validation Loss: 0.4523, Validation Accuracy: 0.8165, Validation F1-Score: 0.8091\n",
            "Model_1_42: No improvement for 6 epoch(s).\n",
            "Model_1_42: Epoch 19/60\n",
            "Model_1_42: Train Loss: 0.4342, Train Accuracy: 0.8101, train_f1: 0.8012\n",
            "Model_1_42: Validation Loss: 0.4326, Validation Accuracy: 0.8291, Validation F1-Score: 0.8232\n",
            "Model_1_42: Epoch 20/60\n",
            "Model_1_42: Train Loss: 0.4296, Train Accuracy: 0.8115, train_f1: 0.8027\n",
            "Model_1_42: Validation Loss: 0.4289, Validation Accuracy: 0.8291, Validation F1-Score: 0.8254\n",
            "Model_1_42: Epoch 21/60\n",
            "Model_1_42: Train Loss: 0.4309, Train Accuracy: 0.8143, train_f1: 0.8058\n",
            "Model_1_42: Validation Loss: 0.4403, Validation Accuracy: 0.8101, Validation F1-Score: 0.8030\n",
            "Model_1_42: No improvement for 1 epoch(s).\n",
            "Model_1_42: Epoch 22/60\n",
            "Model_1_42: Train Loss: 0.4225, Train Accuracy: 0.8181, train_f1: 0.8106\n",
            "Model_1_42: Validation Loss: 0.5679, Validation Accuracy: 0.7025, Validation F1-Score: 0.6419\n",
            "Model_1_42: No improvement for 2 epoch(s).\n",
            "Model_1_42: Epoch 23/60\n",
            "Model_1_42: Train Loss: 0.4314, Train Accuracy: 0.8045, train_f1: 0.7956\n",
            "Model_1_42: Validation Loss: 0.4402, Validation Accuracy: 0.8291, Validation F1-Score: 0.8180\n",
            "Model_1_42: No improvement for 3 epoch(s).\n",
            "Model_1_42: Epoch 24/60\n",
            "Model_1_42: Train Loss: 0.4146, Train Accuracy: 0.8150, train_f1: 0.8072\n",
            "Model_1_42: Validation Loss: 0.4494, Validation Accuracy: 0.8165, Validation F1-Score: 0.8101\n",
            "Model_1_42: No improvement for 4 epoch(s).\n",
            "Model_1_42: Epoch 25/60\n",
            "Model_1_42: Train Loss: 0.4160, Train Accuracy: 0.8216, train_f1: 0.8134\n",
            "Model_1_42: Validation Loss: 0.4698, Validation Accuracy: 0.7911, Validation F1-Score: 0.7816\n",
            "Model_1_42: No improvement for 5 epoch(s).\n",
            "Model_1_42: Epoch 26/60\n",
            "Model_1_42: Train Loss: 0.4202, Train Accuracy: 0.8143, train_f1: 0.8057\n",
            "Model_1_42: Validation Loss: 0.4761, Validation Accuracy: 0.8101, Validation F1-Score: 0.7985\n",
            "Model_1_42: No improvement for 6 epoch(s).\n",
            "Model_1_42: Epoch 27/60\n",
            "Model_1_42: Train Loss: 0.4119, Train Accuracy: 0.8199, train_f1: 0.8125\n",
            "Model_1_42: Validation Loss: 0.4326, Validation Accuracy: 0.8291, Validation F1-Score: 0.8168\n",
            "Model_1_42: No improvement for 7 epoch(s).\n",
            "Model_1_42: Epoch 28/60\n",
            "Model_1_42: Train Loss: 0.4105, Train Accuracy: 0.8258, train_f1: 0.8186\n",
            "Model_1_42: Validation Loss: 0.4639, Validation Accuracy: 0.8038, Validation F1-Score: 0.7848\n",
            "Model_1_42: No improvement for 8 epoch(s).\n",
            "Model_1_42: Epoch 29/60\n",
            "Model_1_42: Train Loss: 0.4089, Train Accuracy: 0.8261, train_f1: 0.8184\n",
            "Model_1_42: Validation Loss: 0.4308, Validation Accuracy: 0.8228, Validation F1-Score: 0.8199\n",
            "Model_1_42: No improvement for 9 epoch(s).\n",
            "Model_1_42: Epoch 30/60\n",
            "Model_1_42: Train Loss: 0.4036, Train Accuracy: 0.8265, train_f1: 0.8191\n",
            "Model_1_42: Validation Loss: 0.4366, Validation Accuracy: 0.8101, Validation F1-Score: 0.8030\n",
            "Model_1_42: No improvement for 10 epoch(s).\n",
            "Model_1_42: Epoch 31/60\n",
            "Model_1_42: Train Loss: 0.4050, Train Accuracy: 0.8240, train_f1: 0.8173\n",
            "Model_1_42: Validation Loss: 0.4297, Validation Accuracy: 0.8544, Validation F1-Score: 0.8469\n",
            "Model_1_42: Epoch 32/60\n",
            "Model_1_42: Train Loss: 0.4042, Train Accuracy: 0.8300, train_f1: 0.8229\n",
            "Model_1_42: Validation Loss: 0.4278, Validation Accuracy: 0.8291, Validation F1-Score: 0.8232\n",
            "Model_1_42: No improvement for 1 epoch(s).\n",
            "Model_1_42: Epoch 33/60\n",
            "Model_1_42: Train Loss: 0.3971, Train Accuracy: 0.8366, train_f1: 0.8297\n",
            "Model_1_42: Validation Loss: 0.4368, Validation Accuracy: 0.8291, Validation F1-Score: 0.8260\n",
            "Model_1_42: No improvement for 2 epoch(s).\n",
            "Model_1_42: Epoch 34/60\n",
            "Model_1_42: Train Loss: 0.3893, Train Accuracy: 0.8334, train_f1: 0.8257\n",
            "Model_1_42: Validation Loss: 0.4247, Validation Accuracy: 0.8544, Validation F1-Score: 0.8486\n",
            "Model_1_42: Epoch 35/60\n",
            "Model_1_42: Train Loss: 0.3868, Train Accuracy: 0.8376, train_f1: 0.8313\n",
            "Model_1_42: Validation Loss: 0.4489, Validation Accuracy: 0.8038, Validation F1-Score: 0.7865\n",
            "Model_1_42: No improvement for 1 epoch(s).\n",
            "Model_1_42: Epoch 36/60\n",
            "Model_1_42: Train Loss: 0.3839, Train Accuracy: 0.8436, train_f1: 0.8367\n",
            "Model_1_42: Validation Loss: 0.4405, Validation Accuracy: 0.8165, Validation F1-Score: 0.8070\n",
            "Model_1_42: No improvement for 2 epoch(s).\n",
            "Model_1_42: Epoch 37/60\n",
            "Model_1_42: Train Loss: 0.3880, Train Accuracy: 0.8397, train_f1: 0.8334\n",
            "Model_1_42: Validation Loss: 0.4636, Validation Accuracy: 0.7848, Validation F1-Score: 0.7778\n",
            "Model_1_42: No improvement for 3 epoch(s).\n",
            "Model_1_42: Epoch 38/60\n",
            "Model_1_42: Train Loss: 0.3872, Train Accuracy: 0.8303, train_f1: 0.8234\n",
            "Model_1_42: Validation Loss: 0.4335, Validation Accuracy: 0.8038, Validation F1-Score: 0.8009\n",
            "Model_1_42: No improvement for 4 epoch(s).\n",
            "Model_1_42: Epoch 39/60\n",
            "Model_1_42: Train Loss: 0.4020, Train Accuracy: 0.8293, train_f1: 0.8225\n",
            "Model_1_42: Validation Loss: 0.5324, Validation Accuracy: 0.7785, Validation F1-Score: 0.7570\n",
            "Model_1_42: No improvement for 5 epoch(s).\n",
            "Model_1_42: Epoch 40/60\n",
            "Model_1_42: Train Loss: 0.3882, Train Accuracy: 0.8369, train_f1: 0.8298\n",
            "Model_1_42: Validation Loss: 0.4324, Validation Accuracy: 0.8228, Validation F1-Score: 0.8186\n",
            "Model_1_42: No improvement for 6 epoch(s).\n",
            "Model_1_42: Epoch 41/60\n",
            "Model_1_42: Train Loss: 0.3777, Train Accuracy: 0.8373, train_f1: 0.8304\n",
            "Model_1_42: Validation Loss: 0.4359, Validation Accuracy: 0.8165, Validation F1-Score: 0.8091\n",
            "Model_1_42: No improvement for 7 epoch(s).\n",
            "Model_1_42: Epoch 42/60\n",
            "Model_1_42: Train Loss: 0.3895, Train Accuracy: 0.8254, train_f1: 0.8189\n",
            "Model_1_42: Validation Loss: 0.4544, Validation Accuracy: 0.7848, Validation F1-Score: 0.7813\n",
            "Model_1_42: No improvement for 8 epoch(s).\n",
            "Model_1_42: Epoch 43/60\n",
            "Model_1_42: Train Loss: 0.3893, Train Accuracy: 0.8362, train_f1: 0.8298\n",
            "Model_1_42: Validation Loss: 0.4575, Validation Accuracy: 0.8228, Validation F1-Score: 0.8162\n",
            "Model_1_42: No improvement for 9 epoch(s).\n",
            "Model_1_42: Epoch 44/60\n",
            "Model_1_42: Train Loss: 0.3971, Train Accuracy: 0.8401, train_f1: 0.8338\n",
            "Model_1_42: Validation Loss: 0.4538, Validation Accuracy: 0.8354, Validation F1-Score: 0.8284\n",
            "Model_1_42: No improvement for 10 epoch(s).\n",
            "Model_1_42: Epoch 45/60\n",
            "Model_1_42: Train Loss: 0.3799, Train Accuracy: 0.8443, train_f1: 0.8376\n",
            "Model_1_42: Validation Loss: 0.4640, Validation Accuracy: 0.7911, Validation F1-Score: 0.7881\n",
            "Model_1_42: No improvement for 11 epoch(s).\n",
            "Model_1_42: Epoch 46/60\n",
            "Model_1_42: Train Loss: 0.3740, Train Accuracy: 0.8429, train_f1: 0.8370\n",
            "Model_1_42: Validation Loss: 0.4549, Validation Accuracy: 0.8038, Validation F1-Score: 0.7896\n",
            "Model_1_42: No improvement for 12 epoch(s).\n",
            "Model_1_42: Epoch 47/60\n",
            "Model_1_42: Train Loss: 0.3754, Train Accuracy: 0.8474, train_f1: 0.8411\n",
            "Model_1_42: Validation Loss: 0.4326, Validation Accuracy: 0.8544, Validation F1-Score: 0.8501\n",
            "Model_1_42: Epoch 48/60\n",
            "Model_1_42: Train Loss: 0.3786, Train Accuracy: 0.8460, train_f1: 0.8396\n",
            "Model_1_42: Validation Loss: 0.4503, Validation Accuracy: 0.8228, Validation F1-Score: 0.8079\n",
            "Model_1_42: No improvement for 1 epoch(s).\n",
            "Model_1_42: Epoch 49/60\n",
            "Model_1_42: Train Loss: 0.3749, Train Accuracy: 0.8516, train_f1: 0.8452\n",
            "Model_1_42: Validation Loss: 0.4911, Validation Accuracy: 0.7911, Validation F1-Score: 0.7776\n",
            "Model_1_42: No improvement for 2 epoch(s).\n",
            "Model_1_42: Epoch 50/60\n",
            "Model_1_42: Train Loss: 0.3808, Train Accuracy: 0.8401, train_f1: 0.8338\n",
            "Model_1_42: Validation Loss: 0.4599, Validation Accuracy: 0.8038, Validation F1-Score: 0.7979\n",
            "Model_1_42: No improvement for 3 epoch(s).\n",
            "Model_1_42: Epoch 51/60\n",
            "Model_1_42: Train Loss: 0.3767, Train Accuracy: 0.8429, train_f1: 0.8366\n",
            "Model_1_42: Validation Loss: 0.4201, Validation Accuracy: 0.8418, Validation F1-Score: 0.8336\n",
            "Model_1_42: No improvement for 4 epoch(s).\n",
            "Model_1_42: Epoch 52/60\n",
            "Model_1_42: Train Loss: 0.3728, Train Accuracy: 0.8519, train_f1: 0.8459\n",
            "Model_1_42: Validation Loss: 0.4512, Validation Accuracy: 0.8165, Validation F1-Score: 0.8125\n",
            "Model_1_42: No improvement for 5 epoch(s).\n",
            "Model_1_42: Epoch 53/60\n",
            "Model_1_42: Train Loss: 0.3809, Train Accuracy: 0.8484, train_f1: 0.8425\n",
            "Model_1_42: Validation Loss: 0.4568, Validation Accuracy: 0.8038, Validation F1-Score: 0.7896\n",
            "Model_1_42: No improvement for 6 epoch(s).\n",
            "Model_1_42: Epoch 54/60\n",
            "Model_1_42: Train Loss: 0.3811, Train Accuracy: 0.8470, train_f1: 0.8404\n",
            "Model_1_42: Validation Loss: 0.4683, Validation Accuracy: 0.7848, Validation F1-Score: 0.7826\n",
            "Model_1_42: No improvement for 7 epoch(s).\n",
            "Model_1_42: Epoch 55/60\n",
            "Model_1_42: Train Loss: 0.3746, Train Accuracy: 0.8387, train_f1: 0.8324\n",
            "Model_1_42: Validation Loss: 0.4593, Validation Accuracy: 0.8165, Validation F1-Score: 0.8070\n",
            "Model_1_42: No improvement for 8 epoch(s).\n",
            "Model_1_42: Epoch 56/60\n",
            "Model_1_42: Train Loss: 0.3760, Train Accuracy: 0.8495, train_f1: 0.8430\n",
            "Model_1_42: Validation Loss: 0.4644, Validation Accuracy: 0.7911, Validation F1-Score: 0.7790\n",
            "Model_1_42: No improvement for 9 epoch(s).\n",
            "Model_1_42: Epoch 57/60\n",
            "Model_1_42: Train Loss: 0.3729, Train Accuracy: 0.8470, train_f1: 0.8403\n",
            "Model_1_42: Validation Loss: 0.5030, Validation Accuracy: 0.7848, Validation F1-Score: 0.7831\n",
            "Model_1_42: No improvement for 10 epoch(s).\n",
            "Model_1_42: Epoch 58/60\n",
            "Model_1_42: Train Loss: 0.3783, Train Accuracy: 0.8449, train_f1: 0.8391\n",
            "Model_1_42: Validation Loss: 0.4709, Validation Accuracy: 0.7911, Validation F1-Score: 0.7761\n",
            "Model_1_42: No improvement for 11 epoch(s).\n",
            "Model_1_42: Epoch 59/60\n",
            "Model_1_42: Train Loss: 0.3662, Train Accuracy: 0.8547, train_f1: 0.8489\n",
            "Model_1_42: Validation Loss: 0.5008, Validation Accuracy: 0.7722, Validation F1-Score: 0.7624\n",
            "Model_1_42: No improvement for 12 epoch(s).\n",
            "Model_1_42: Epoch 60/60\n",
            "Model_1_42: Train Loss: 0.3715, Train Accuracy: 0.8443, train_f1: 0.8378\n",
            "Model_1_42: Validation Loss: 0.4533, Validation Accuracy: 0.8038, Validation F1-Score: 0.8015\n",
            "Model_1_42: No improvement for 13 epoch(s).\n",
            "M2_42: Epoch 1/60\n",
            "M2_42: Train Loss: 0.6634, Train Accuracy: 0.6021, train_f1: 0.4611\n",
            "M2_42: Validation Loss: 0.7430, Validation Accuracy: 0.6203, Validation F1-Score: 0.4893\n",
            "M2_42: Epoch 2/60\n",
            "M2_42: Train Loss: 0.6563, Train Accuracy: 0.6226, train_f1: 0.5396\n",
            "M2_42: Validation Loss: 0.6286, Validation Accuracy: 0.6392, Validation F1-Score: 0.5542\n",
            "M2_42: Epoch 3/60\n",
            "M2_42: Train Loss: 0.5981, Train Accuracy: 0.6941, train_f1: 0.6722\n",
            "M2_42: Validation Loss: 0.5735, Validation Accuracy: 0.7215, Validation F1-Score: 0.7179\n",
            "M2_42: Epoch 4/60\n",
            "M2_42: Train Loss: 0.5620, Train Accuracy: 0.7195, train_f1: 0.7048\n",
            "M2_42: Validation Loss: 0.5208, Validation Accuracy: 0.7468, Validation F1-Score: 0.7330\n",
            "M2_42: Epoch 5/60\n",
            "M2_42: Train Loss: 0.5245, Train Accuracy: 0.7467, train_f1: 0.7328\n",
            "M2_42: Validation Loss: 0.5370, Validation Accuracy: 0.7342, Validation F1-Score: 0.7046\n",
            "M2_42: No improvement for 1 epoch(s).\n",
            "M2_42: Epoch 6/60\n",
            "M2_42: Train Loss: 0.5204, Train Accuracy: 0.7449, train_f1: 0.7305\n",
            "M2_42: Validation Loss: 0.5193, Validation Accuracy: 0.7342, Validation F1-Score: 0.7140\n",
            "M2_42: No improvement for 2 epoch(s).\n",
            "M2_42: Epoch 7/60\n",
            "M2_42: Train Loss: 0.5032, Train Accuracy: 0.7666, train_f1: 0.7556\n",
            "M2_42: Validation Loss: 0.5282, Validation Accuracy: 0.7532, Validation F1-Score: 0.7433\n",
            "M2_42: Epoch 8/60\n",
            "M2_42: Train Loss: 0.5065, Train Accuracy: 0.7564, train_f1: 0.7454\n",
            "M2_42: Validation Loss: 0.5499, Validation Accuracy: 0.7342, Validation F1-Score: 0.7096\n",
            "M2_42: No improvement for 1 epoch(s).\n",
            "M2_42: Epoch 9/60\n",
            "M2_42: Train Loss: 0.4990, Train Accuracy: 0.7672, train_f1: 0.7555\n",
            "M2_42: Validation Loss: 0.5242, Validation Accuracy: 0.7595, Validation F1-Score: 0.7528\n",
            "M2_42: Epoch 10/60\n",
            "M2_42: Train Loss: 0.4872, Train Accuracy: 0.7760, train_f1: 0.7652\n",
            "M2_42: Validation Loss: 0.5115, Validation Accuracy: 0.7595, Validation F1-Score: 0.7492\n",
            "M2_42: No improvement for 1 epoch(s).\n",
            "M2_42: Epoch 11/60\n",
            "M2_42: Train Loss: 0.4886, Train Accuracy: 0.7798, train_f1: 0.7693\n",
            "M2_42: Validation Loss: 0.5541, Validation Accuracy: 0.7405, Validation F1-Score: 0.7237\n",
            "M2_42: No improvement for 2 epoch(s).\n",
            "M2_42: Epoch 12/60\n",
            "M2_42: Train Loss: 0.4772, Train Accuracy: 0.7836, train_f1: 0.7738\n",
            "M2_42: Validation Loss: 0.5444, Validation Accuracy: 0.7468, Validation F1-Score: 0.7256\n",
            "M2_42: No improvement for 3 epoch(s).\n",
            "M2_42: Epoch 13/60\n",
            "M2_42: Train Loss: 0.4698, Train Accuracy: 0.7854, train_f1: 0.7741\n",
            "M2_42: Validation Loss: 0.4976, Validation Accuracy: 0.7722, Validation F1-Score: 0.7624\n",
            "M2_42: Epoch 14/60\n",
            "M2_42: Train Loss: 0.4608, Train Accuracy: 0.7997, train_f1: 0.7886\n",
            "M2_42: Validation Loss: 0.4779, Validation Accuracy: 0.7975, Validation F1-Score: 0.7909\n",
            "M2_42: Epoch 15/60\n",
            "M2_42: Train Loss: 0.4587, Train Accuracy: 0.8014, train_f1: 0.7927\n",
            "M2_42: Validation Loss: 0.4992, Validation Accuracy: 0.7722, Validation F1-Score: 0.7611\n",
            "M2_42: No improvement for 1 epoch(s).\n",
            "M2_42: Epoch 16/60\n",
            "M2_42: Train Loss: 0.4653, Train Accuracy: 0.7906, train_f1: 0.7814\n",
            "M2_42: Validation Loss: 0.4871, Validation Accuracy: 0.7911, Validation F1-Score: 0.7887\n",
            "M2_42: No improvement for 2 epoch(s).\n",
            "M2_42: Epoch 17/60\n",
            "M2_42: Train Loss: 0.4473, Train Accuracy: 0.8021, train_f1: 0.7933\n",
            "M2_42: Validation Loss: 0.5216, Validation Accuracy: 0.7152, Validation F1-Score: 0.6849\n",
            "M2_42: No improvement for 3 epoch(s).\n",
            "M2_42: Epoch 18/60\n",
            "M2_42: Train Loss: 0.4507, Train Accuracy: 0.8035, train_f1: 0.7937\n",
            "M2_42: Validation Loss: 0.4726, Validation Accuracy: 0.8101, Validation F1-Score: 0.8048\n",
            "M2_42: Epoch 19/60\n",
            "M2_42: Train Loss: 0.4450, Train Accuracy: 0.8024, train_f1: 0.7934\n",
            "M2_42: Validation Loss: 0.4505, Validation Accuracy: 0.8101, Validation F1-Score: 0.8048\n",
            "M2_42: No improvement for 1 epoch(s).\n",
            "M2_42: Epoch 20/60\n",
            "M2_42: Train Loss: 0.4458, Train Accuracy: 0.8080, train_f1: 0.7997\n",
            "M2_42: Validation Loss: 0.4820, Validation Accuracy: 0.7911, Validation F1-Score: 0.7790\n",
            "M2_42: No improvement for 2 epoch(s).\n",
            "M2_42: Epoch 21/60\n",
            "M2_42: Train Loss: 0.4430, Train Accuracy: 0.8017, train_f1: 0.7921\n",
            "M2_42: Validation Loss: 0.4619, Validation Accuracy: 0.7975, Validation F1-Score: 0.7927\n",
            "M2_42: No improvement for 3 epoch(s).\n",
            "M2_42: Epoch 22/60\n",
            "M2_42: Train Loss: 0.4344, Train Accuracy: 0.8118, train_f1: 0.8037\n",
            "M2_42: Validation Loss: 0.4598, Validation Accuracy: 0.7975, Validation F1-Score: 0.7864\n",
            "M2_42: No improvement for 4 epoch(s).\n",
            "M2_42: Epoch 23/60\n",
            "M2_42: Train Loss: 0.4373, Train Accuracy: 0.8073, train_f1: 0.7987\n",
            "M2_42: Validation Loss: 0.5334, Validation Accuracy: 0.7595, Validation F1-Score: 0.7372\n",
            "M2_42: No improvement for 5 epoch(s).\n",
            "M2_42: Epoch 24/60\n",
            "M2_42: Train Loss: 0.4377, Train Accuracy: 0.8108, train_f1: 0.8025\n",
            "M2_42: Validation Loss: 0.4418, Validation Accuracy: 0.8038, Validation F1-Score: 0.7979\n",
            "M2_42: No improvement for 6 epoch(s).\n",
            "M2_42: Epoch 25/60\n",
            "M2_42: Train Loss: 0.4306, Train Accuracy: 0.8181, train_f1: 0.8100\n",
            "M2_42: Validation Loss: 0.5473, Validation Accuracy: 0.7595, Validation F1-Score: 0.7430\n",
            "M2_42: No improvement for 7 epoch(s).\n",
            "M2_42: Epoch 26/60\n",
            "M2_42: Train Loss: 0.4319, Train Accuracy: 0.8160, train_f1: 0.8080\n",
            "M2_42: Validation Loss: 0.5114, Validation Accuracy: 0.7658, Validation F1-Score: 0.7452\n",
            "M2_42: No improvement for 8 epoch(s).\n",
            "M2_42: Epoch 27/60\n",
            "M2_42: Train Loss: 0.4244, Train Accuracy: 0.8226, train_f1: 0.8148\n",
            "M2_42: Validation Loss: 0.4919, Validation Accuracy: 0.7532, Validation F1-Score: 0.7433\n",
            "M2_42: No improvement for 9 epoch(s).\n",
            "M2_42: Epoch 28/60\n",
            "M2_42: Train Loss: 0.4347, Train Accuracy: 0.8115, train_f1: 0.8033\n",
            "M2_42: Validation Loss: 0.4826, Validation Accuracy: 0.7911, Validation F1-Score: 0.7881\n",
            "M2_42: No improvement for 10 epoch(s).\n",
            "M2_42: Epoch 29/60\n",
            "M2_42: Train Loss: 0.4216, Train Accuracy: 0.8181, train_f1: 0.8103\n",
            "M2_42: Validation Loss: 0.4718, Validation Accuracy: 0.7911, Validation F1-Score: 0.7881\n",
            "M2_42: No improvement for 11 epoch(s).\n",
            "M2_42: Epoch 30/60\n",
            "M2_42: Train Loss: 0.4242, Train Accuracy: 0.8167, train_f1: 0.8094\n",
            "M2_42: Validation Loss: 0.4646, Validation Accuracy: 0.8038, Validation F1-Score: 0.7979\n",
            "M2_42: No improvement for 12 epoch(s).\n",
            "M2_42: Epoch 31/60\n",
            "M2_42: Train Loss: 0.4214, Train Accuracy: 0.8230, train_f1: 0.8160\n",
            "M2_42: Validation Loss: 0.5683, Validation Accuracy: 0.7215, Validation F1-Score: 0.6847\n",
            "M2_42: No improvement for 13 epoch(s).\n",
            "M2_42: Epoch 32/60\n",
            "M2_42: Train Loss: 0.4200, Train Accuracy: 0.8251, train_f1: 0.8174\n",
            "M2_42: Validation Loss: 0.4595, Validation Accuracy: 0.8038, Validation F1-Score: 0.7924\n",
            "M2_42: No improvement for 14 epoch(s).\n",
            "M2_42: Epoch 33/60\n",
            "M2_42: Train Loss: 0.4112, Train Accuracy: 0.8258, train_f1: 0.8186\n",
            "M2_42: Validation Loss: 0.4441, Validation Accuracy: 0.8101, Validation F1-Score: 0.8040\n",
            "M2_42: No improvement for 15 epoch(s).\n",
            "M2_42: Epoch 34/60\n",
            "M2_42: Train Loss: 0.4252, Train Accuracy: 0.8223, train_f1: 0.8143\n",
            "M2_42: Validation Loss: 0.4729, Validation Accuracy: 0.7911, Validation F1-Score: 0.7816\n",
            "M2_42: No improvement for 16 epoch(s).\n",
            "M2_42: Epoch 35/60\n",
            "M2_42: Train Loss: 0.4125, Train Accuracy: 0.8237, train_f1: 0.8163\n",
            "M2_42: Validation Loss: 0.4964, Validation Accuracy: 0.7722, Validation F1-Score: 0.7548\n",
            "M2_42: No improvement for 17 epoch(s).\n",
            "M2_42: Epoch 36/60\n",
            "M2_42: Train Loss: 0.4184, Train Accuracy: 0.8220, train_f1: 0.8142\n",
            "M2_42: Validation Loss: 0.4501, Validation Accuracy: 0.7785, Validation F1-Score: 0.7737\n",
            "M2_42: No improvement for 18 epoch(s).\n",
            "M2_42: Epoch 37/60\n",
            "M2_42: Train Loss: 0.4175, Train Accuracy: 0.8272, train_f1: 0.8197\n",
            "M2_42: Validation Loss: 0.4572, Validation Accuracy: 0.7911, Validation F1-Score: 0.7761\n",
            "M2_42: No improvement for 19 epoch(s).\n",
            "M2_42: Epoch 38/60\n",
            "M2_42: Train Loss: 0.4011, Train Accuracy: 0.8265, train_f1: 0.8188\n",
            "M2_42: Validation Loss: 0.4351, Validation Accuracy: 0.7975, Validation F1-Score: 0.7935\n",
            "M2_42: No improvement for 20 epoch(s).\n",
            "M2_42: Early stopping triggered. Training stopped.\n",
            "BaselineModel_457: Epoch 1/60\n",
            "BaselineModel_457: Train Loss: 0.6606, Train Accuracy: 0.6038, train_f1: 0.5187\n",
            "BaselineModel_457: Validation Loss: 0.6624, Validation Accuracy: 0.5823, Validation F1-Score: 0.5707\n",
            "BaselineModel_457: Epoch 2/60\n",
            "BaselineModel_457: Train Loss: 0.6248, Train Accuracy: 0.6551, train_f1: 0.6155\n",
            "BaselineModel_457: Validation Loss: 0.6189, Validation Accuracy: 0.7025, Validation F1-Score: 0.6832\n",
            "BaselineModel_457: Epoch 3/60\n",
            "BaselineModel_457: Train Loss: 0.5751, Train Accuracy: 0.7017, train_f1: 0.6832\n",
            "BaselineModel_457: Validation Loss: 0.5231, Validation Accuracy: 0.7468, Validation F1-Score: 0.7360\n",
            "BaselineModel_457: Epoch 4/60\n",
            "BaselineModel_457: Train Loss: 0.5359, Train Accuracy: 0.7422, train_f1: 0.7276\n",
            "BaselineModel_457: Validation Loss: 0.5595, Validation Accuracy: 0.7215, Validation F1-Score: 0.6847\n",
            "BaselineModel_457: No improvement for 1 epoch(s).\n",
            "BaselineModel_457: Epoch 5/60\n",
            "BaselineModel_457: Train Loss: 0.5139, Train Accuracy: 0.7596, train_f1: 0.7472\n",
            "BaselineModel_457: Validation Loss: 0.4854, Validation Accuracy: 0.7722, Validation F1-Score: 0.7636\n",
            "BaselineModel_457: Epoch 6/60\n",
            "BaselineModel_457: Train Loss: 0.4962, Train Accuracy: 0.7721, train_f1: 0.7607\n",
            "BaselineModel_457: Validation Loss: 0.4937, Validation Accuracy: 0.7911, Validation F1-Score: 0.7866\n",
            "BaselineModel_457: Epoch 7/60\n",
            "BaselineModel_457: Train Loss: 0.4924, Train Accuracy: 0.7791, train_f1: 0.7667\n",
            "BaselineModel_457: Validation Loss: 0.4630, Validation Accuracy: 0.7785, Validation F1-Score: 0.7684\n",
            "BaselineModel_457: No improvement for 1 epoch(s).\n",
            "BaselineModel_457: Epoch 8/60\n",
            "BaselineModel_457: Train Loss: 0.4727, Train Accuracy: 0.7871, train_f1: 0.7751\n",
            "BaselineModel_457: Validation Loss: 0.4409, Validation Accuracy: 0.8101, Validation F1-Score: 0.8030\n",
            "BaselineModel_457: Epoch 9/60\n",
            "BaselineModel_457: Train Loss: 0.4670, Train Accuracy: 0.7899, train_f1: 0.7785\n",
            "BaselineModel_457: Validation Loss: 0.4523, Validation Accuracy: 0.7848, Validation F1-Score: 0.7730\n",
            "BaselineModel_457: No improvement for 1 epoch(s).\n",
            "BaselineModel_457: Epoch 10/60\n",
            "BaselineModel_457: Train Loss: 0.4623, Train Accuracy: 0.7934, train_f1: 0.7819\n",
            "BaselineModel_457: Validation Loss: 0.4451, Validation Accuracy: 0.7785, Validation F1-Score: 0.7656\n",
            "BaselineModel_457: No improvement for 2 epoch(s).\n",
            "BaselineModel_457: Epoch 11/60\n",
            "BaselineModel_457: Train Loss: 0.4703, Train Accuracy: 0.7951, train_f1: 0.7841\n",
            "BaselineModel_457: Validation Loss: 0.4768, Validation Accuracy: 0.7975, Validation F1-Score: 0.7836\n",
            "BaselineModel_457: No improvement for 3 epoch(s).\n",
            "BaselineModel_457: Epoch 12/60\n",
            "BaselineModel_457: Train Loss: 0.4529, Train Accuracy: 0.7976, train_f1: 0.7861\n",
            "BaselineModel_457: Validation Loss: 0.4756, Validation Accuracy: 0.7722, Validation F1-Score: 0.7708\n",
            "BaselineModel_457: No improvement for 4 epoch(s).\n",
            "BaselineModel_457: Epoch 13/60\n",
            "BaselineModel_457: Train Loss: 0.4398, Train Accuracy: 0.8118, train_f1: 0.8022\n",
            "BaselineModel_457: Validation Loss: 0.5189, Validation Accuracy: 0.7278, Validation F1-Score: 0.7278\n",
            "BaselineModel_457: No improvement for 5 epoch(s).\n",
            "BaselineModel_457: Epoch 14/60\n",
            "BaselineModel_457: Train Loss: 0.4383, Train Accuracy: 0.8105, train_f1: 0.8000\n",
            "BaselineModel_457: Validation Loss: 0.4685, Validation Accuracy: 0.7595, Validation F1-Score: 0.7556\n",
            "BaselineModel_457: No improvement for 6 epoch(s).\n",
            "BaselineModel_457: Epoch 15/60\n",
            "BaselineModel_457: Train Loss: 0.4356, Train Accuracy: 0.8174, train_f1: 0.8081\n",
            "BaselineModel_457: Validation Loss: 0.4315, Validation Accuracy: 0.8228, Validation F1-Score: 0.8142\n",
            "BaselineModel_457: Epoch 16/60\n",
            "BaselineModel_457: Train Loss: 0.4394, Train Accuracy: 0.8045, train_f1: 0.7951\n",
            "BaselineModel_457: Validation Loss: 0.4387, Validation Accuracy: 0.8101, Validation F1-Score: 0.8056\n",
            "BaselineModel_457: No improvement for 1 epoch(s).\n",
            "BaselineModel_457: Epoch 17/60\n",
            "BaselineModel_457: Train Loss: 0.4238, Train Accuracy: 0.8226, train_f1: 0.8132\n",
            "BaselineModel_457: Validation Loss: 0.5002, Validation Accuracy: 0.7722, Validation F1-Score: 0.7718\n",
            "BaselineModel_457: No improvement for 2 epoch(s).\n",
            "BaselineModel_457: Epoch 18/60\n",
            "BaselineModel_457: Train Loss: 0.4254, Train Accuracy: 0.8136, train_f1: 0.8040\n",
            "BaselineModel_457: Validation Loss: 0.4480, Validation Accuracy: 0.8038, Validation F1-Score: 0.7979\n",
            "BaselineModel_457: No improvement for 3 epoch(s).\n",
            "BaselineModel_457: Epoch 19/60\n",
            "BaselineModel_457: Train Loss: 0.4258, Train Accuracy: 0.8167, train_f1: 0.8069\n",
            "BaselineModel_457: Validation Loss: 0.4219, Validation Accuracy: 0.8101, Validation F1-Score: 0.8020\n",
            "BaselineModel_457: No improvement for 4 epoch(s).\n",
            "BaselineModel_457: Epoch 20/60\n",
            "BaselineModel_457: Train Loss: 0.4140, Train Accuracy: 0.8153, train_f1: 0.8050\n",
            "BaselineModel_457: Validation Loss: 0.4769, Validation Accuracy: 0.7848, Validation F1-Score: 0.7836\n",
            "BaselineModel_457: No improvement for 5 epoch(s).\n",
            "BaselineModel_457: Epoch 21/60\n",
            "BaselineModel_457: Train Loss: 0.4159, Train Accuracy: 0.8213, train_f1: 0.8122\n",
            "BaselineModel_457: Validation Loss: 0.4566, Validation Accuracy: 0.7658, Validation F1-Score: 0.7537\n",
            "BaselineModel_457: No improvement for 6 epoch(s).\n",
            "BaselineModel_457: Epoch 22/60\n",
            "BaselineModel_457: Train Loss: 0.4080, Train Accuracy: 0.8303, train_f1: 0.8213\n",
            "BaselineModel_457: Validation Loss: 0.4618, Validation Accuracy: 0.7722, Validation F1-Score: 0.7597\n",
            "BaselineModel_457: No improvement for 7 epoch(s).\n",
            "BaselineModel_457: Epoch 23/60\n",
            "BaselineModel_457: Train Loss: 0.4008, Train Accuracy: 0.8348, train_f1: 0.8258\n",
            "BaselineModel_457: Validation Loss: 0.4919, Validation Accuracy: 0.7911, Validation F1-Score: 0.7892\n",
            "BaselineModel_457: No improvement for 8 epoch(s).\n",
            "BaselineModel_457: Epoch 24/60\n",
            "BaselineModel_457: Train Loss: 0.3959, Train Accuracy: 0.8348, train_f1: 0.8263\n",
            "BaselineModel_457: Validation Loss: 0.4500, Validation Accuracy: 0.7595, Validation F1-Score: 0.7478\n",
            "BaselineModel_457: No improvement for 9 epoch(s).\n",
            "BaselineModel_457: Epoch 25/60\n",
            "BaselineModel_457: Train Loss: 0.4012, Train Accuracy: 0.8286, train_f1: 0.8195\n",
            "BaselineModel_457: Validation Loss: 0.4357, Validation Accuracy: 0.7911, Validation F1-Score: 0.7858\n",
            "BaselineModel_457: No improvement for 10 epoch(s).\n",
            "BaselineModel_457: Epoch 26/60\n",
            "BaselineModel_457: Train Loss: 0.3883, Train Accuracy: 0.8397, train_f1: 0.8318\n",
            "BaselineModel_457: Validation Loss: 0.4731, Validation Accuracy: 0.7785, Validation F1-Score: 0.7696\n",
            "BaselineModel_457: No improvement for 11 epoch(s).\n",
            "BaselineModel_457: Epoch 27/60\n",
            "BaselineModel_457: Train Loss: 0.3911, Train Accuracy: 0.8376, train_f1: 0.8293\n",
            "BaselineModel_457: Validation Loss: 0.4662, Validation Accuracy: 0.7722, Validation F1-Score: 0.7611\n",
            "BaselineModel_457: No improvement for 12 epoch(s).\n",
            "BaselineModel_457: Epoch 28/60\n",
            "BaselineModel_457: Train Loss: 0.3785, Train Accuracy: 0.8390, train_f1: 0.8304\n",
            "BaselineModel_457: Validation Loss: 0.4913, Validation Accuracy: 0.7595, Validation F1-Score: 0.7581\n",
            "BaselineModel_457: No improvement for 13 epoch(s).\n",
            "BaselineModel_457: Epoch 29/60\n",
            "BaselineModel_457: Train Loss: 0.3727, Train Accuracy: 0.8425, train_f1: 0.8336\n",
            "BaselineModel_457: Validation Loss: 0.4638, Validation Accuracy: 0.7722, Validation F1-Score: 0.7692\n",
            "BaselineModel_457: No improvement for 14 epoch(s).\n",
            "BaselineModel_457: Epoch 30/60\n",
            "BaselineModel_457: Train Loss: 0.3882, Train Accuracy: 0.8362, train_f1: 0.8279\n",
            "BaselineModel_457: Validation Loss: 0.5125, Validation Accuracy: 0.7468, Validation F1-Score: 0.7462\n",
            "BaselineModel_457: No improvement for 15 epoch(s).\n",
            "BaselineModel_457: Epoch 31/60\n",
            "BaselineModel_457: Train Loss: 0.3696, Train Accuracy: 0.8488, train_f1: 0.8411\n",
            "BaselineModel_457: Validation Loss: 0.4507, Validation Accuracy: 0.7722, Validation F1-Score: 0.7636\n",
            "BaselineModel_457: No improvement for 16 epoch(s).\n",
            "BaselineModel_457: Epoch 32/60\n",
            "BaselineModel_457: Train Loss: 0.3690, Train Accuracy: 0.8411, train_f1: 0.8329\n",
            "BaselineModel_457: Validation Loss: 0.5273, Validation Accuracy: 0.7278, Validation F1-Score: 0.7278\n",
            "BaselineModel_457: No improvement for 17 epoch(s).\n",
            "BaselineModel_457: Epoch 33/60\n",
            "BaselineModel_457: Train Loss: 0.3753, Train Accuracy: 0.8390, train_f1: 0.8300\n",
            "BaselineModel_457: Validation Loss: 0.6177, Validation Accuracy: 0.6772, Validation F1-Score: 0.6762\n",
            "BaselineModel_457: No improvement for 18 epoch(s).\n",
            "BaselineModel_457: Epoch 34/60\n",
            "BaselineModel_457: Train Loss: 0.3694, Train Accuracy: 0.8418, train_f1: 0.8341\n",
            "BaselineModel_457: Validation Loss: 0.4799, Validation Accuracy: 0.7658, Validation F1-Score: 0.7616\n",
            "BaselineModel_457: No improvement for 19 epoch(s).\n",
            "BaselineModel_457: Epoch 35/60\n",
            "BaselineModel_457: Train Loss: 0.3588, Train Accuracy: 0.8446, train_f1: 0.8370\n",
            "BaselineModel_457: Validation Loss: 0.5172, Validation Accuracy: 0.7722, Validation F1-Score: 0.7716\n",
            "BaselineModel_457: No improvement for 20 epoch(s).\n",
            "BaselineModel_457: Early stopping triggered. Training stopped.\n",
            "Model_1_457: Epoch 1/60\n",
            "Model_1_457: Train Loss: 0.6570, Train Accuracy: 0.6098, train_f1: 0.5034\n",
            "Model_1_457: Validation Loss: 0.6669, Validation Accuracy: 0.6013, Validation F1-Score: 0.4493\n",
            "Model_1_457: Epoch 2/60\n",
            "Model_1_457: Train Loss: 0.6165, Train Accuracy: 0.6620, train_f1: 0.6184\n",
            "Model_1_457: Validation Loss: 0.5689, Validation Accuracy: 0.7722, Validation F1-Score: 0.7648\n",
            "Model_1_457: Epoch 3/60\n",
            "Model_1_457: Train Loss: 0.5677, Train Accuracy: 0.7185, train_f1: 0.7030\n",
            "Model_1_457: Validation Loss: 0.5884, Validation Accuracy: 0.7342, Validation F1-Score: 0.7314\n",
            "Model_1_457: No improvement for 1 epoch(s).\n",
            "Model_1_457: Epoch 4/60\n",
            "Model_1_457: Train Loss: 0.5513, Train Accuracy: 0.7209, train_f1: 0.7045\n",
            "Model_1_457: Validation Loss: 0.4975, Validation Accuracy: 0.7848, Validation F1-Score: 0.7701\n",
            "Model_1_457: Epoch 5/60\n",
            "Model_1_457: Train Loss: 0.5299, Train Accuracy: 0.7470, train_f1: 0.7343\n",
            "Model_1_457: Validation Loss: 0.5109, Validation Accuracy: 0.7722, Validation F1-Score: 0.7511\n",
            "Model_1_457: No improvement for 1 epoch(s).\n",
            "Model_1_457: Epoch 6/60\n",
            "Model_1_457: Train Loss: 0.4992, Train Accuracy: 0.7711, train_f1: 0.7583\n",
            "Model_1_457: Validation Loss: 0.4936, Validation Accuracy: 0.7658, Validation F1-Score: 0.7431\n",
            "Model_1_457: No improvement for 2 epoch(s).\n",
            "Model_1_457: Epoch 7/60\n",
            "Model_1_457: Train Loss: 0.5075, Train Accuracy: 0.7659, train_f1: 0.7560\n",
            "Model_1_457: Validation Loss: 0.4776, Validation Accuracy: 0.7722, Validation F1-Score: 0.7636\n",
            "Model_1_457: No improvement for 3 epoch(s).\n",
            "Model_1_457: Epoch 8/60\n",
            "Model_1_457: Train Loss: 0.4853, Train Accuracy: 0.7819, train_f1: 0.7702\n",
            "Model_1_457: Validation Loss: 0.5303, Validation Accuracy: 0.7342, Validation F1-Score: 0.7338\n",
            "Model_1_457: No improvement for 4 epoch(s).\n",
            "Model_1_457: Epoch 9/60\n",
            "Model_1_457: Train Loss: 0.4963, Train Accuracy: 0.7704, train_f1: 0.7612\n",
            "Model_1_457: Validation Loss: 0.5276, Validation Accuracy: 0.7658, Validation F1-Score: 0.7431\n",
            "Model_1_457: No improvement for 5 epoch(s).\n",
            "Model_1_457: Epoch 10/60\n",
            "Model_1_457: Train Loss: 0.4803, Train Accuracy: 0.7770, train_f1: 0.7670\n",
            "Model_1_457: Validation Loss: 0.4842, Validation Accuracy: 0.7848, Validation F1-Score: 0.7768\n",
            "Model_1_457: Epoch 11/60\n",
            "Model_1_457: Train Loss: 0.4746, Train Accuracy: 0.7930, train_f1: 0.7840\n",
            "Model_1_457: Validation Loss: 0.4579, Validation Accuracy: 0.8038, Validation F1-Score: 0.7988\n",
            "Model_1_457: Epoch 12/60\n",
            "Model_1_457: Train Loss: 0.4750, Train Accuracy: 0.7854, train_f1: 0.7761\n",
            "Model_1_457: Validation Loss: 0.4831, Validation Accuracy: 0.7911, Validation F1-Score: 0.7804\n",
            "Model_1_457: No improvement for 1 epoch(s).\n",
            "Model_1_457: Epoch 13/60\n",
            "Model_1_457: Train Loss: 0.4659, Train Accuracy: 0.7962, train_f1: 0.7871\n",
            "Model_1_457: Validation Loss: 0.4862, Validation Accuracy: 0.8101, Validation F1-Score: 0.7957\n",
            "Model_1_457: No improvement for 2 epoch(s).\n",
            "Model_1_457: Epoch 14/60\n",
            "Model_1_457: Train Loss: 0.4607, Train Accuracy: 0.8010, train_f1: 0.7924\n",
            "Model_1_457: Validation Loss: 0.4788, Validation Accuracy: 0.7975, Validation F1-Score: 0.7888\n",
            "Model_1_457: No improvement for 3 epoch(s).\n",
            "Model_1_457: Epoch 15/60\n",
            "Model_1_457: Train Loss: 0.4592, Train Accuracy: 0.7937, train_f1: 0.7846\n",
            "Model_1_457: Validation Loss: 0.4513, Validation Accuracy: 0.8038, Validation F1-Score: 0.7959\n",
            "Model_1_457: No improvement for 4 epoch(s).\n",
            "Model_1_457: Epoch 16/60\n",
            "Model_1_457: Train Loss: 0.4581, Train Accuracy: 0.7986, train_f1: 0.7905\n",
            "Model_1_457: Validation Loss: 0.4896, Validation Accuracy: 0.7975, Validation F1-Score: 0.7876\n",
            "Model_1_457: No improvement for 5 epoch(s).\n",
            "Model_1_457: Epoch 17/60\n",
            "Model_1_457: Train Loss: 0.4579, Train Accuracy: 0.8010, train_f1: 0.7925\n",
            "Model_1_457: Validation Loss: 0.4794, Validation Accuracy: 0.7722, Validation F1-Score: 0.7703\n",
            "Model_1_457: No improvement for 6 epoch(s).\n",
            "Model_1_457: Epoch 18/60\n",
            "Model_1_457: Train Loss: 0.4555, Train Accuracy: 0.7986, train_f1: 0.7898\n",
            "Model_1_457: Validation Loss: 0.4596, Validation Accuracy: 0.8165, Validation F1-Score: 0.8058\n",
            "Model_1_457: Epoch 19/60\n",
            "Model_1_457: Train Loss: 0.4537, Train Accuracy: 0.7983, train_f1: 0.7895\n",
            "Model_1_457: Validation Loss: 0.4607, Validation Accuracy: 0.8165, Validation F1-Score: 0.8058\n",
            "Model_1_457: No improvement for 1 epoch(s).\n",
            "Model_1_457: Epoch 20/60\n",
            "Model_1_457: Train Loss: 0.4525, Train Accuracy: 0.8007, train_f1: 0.7921\n",
            "Model_1_457: Validation Loss: 0.4649, Validation Accuracy: 0.7975, Validation F1-Score: 0.7850\n",
            "Model_1_457: No improvement for 2 epoch(s).\n",
            "Model_1_457: Epoch 21/60\n",
            "Model_1_457: Train Loss: 0.4378, Train Accuracy: 0.8056, train_f1: 0.7980\n",
            "Model_1_457: Validation Loss: 0.4527, Validation Accuracy: 0.8228, Validation F1-Score: 0.8131\n",
            "Model_1_457: Epoch 22/60\n",
            "Model_1_457: Train Loss: 0.4391, Train Accuracy: 0.8098, train_f1: 0.8024\n",
            "Model_1_457: Validation Loss: 0.4896, Validation Accuracy: 0.7911, Validation F1-Score: 0.7874\n",
            "Model_1_457: No improvement for 1 epoch(s).\n",
            "Model_1_457: Epoch 23/60\n",
            "Model_1_457: Train Loss: 0.4455, Train Accuracy: 0.8017, train_f1: 0.7940\n",
            "Model_1_457: Validation Loss: 0.4590, Validation Accuracy: 0.8165, Validation F1-Score: 0.8101\n",
            "Model_1_457: No improvement for 2 epoch(s).\n",
            "Model_1_457: Epoch 24/60\n",
            "Model_1_457: Train Loss: 0.4384, Train Accuracy: 0.8084, train_f1: 0.8008\n",
            "Model_1_457: Validation Loss: 0.4737, Validation Accuracy: 0.8038, Validation F1-Score: 0.7988\n",
            "Model_1_457: No improvement for 3 epoch(s).\n",
            "Model_1_457: Epoch 25/60\n",
            "Model_1_457: Train Loss: 0.4381, Train Accuracy: 0.8115, train_f1: 0.8039\n",
            "Model_1_457: Validation Loss: 0.4669, Validation Accuracy: 0.8101, Validation F1-Score: 0.8048\n",
            "Model_1_457: No improvement for 4 epoch(s).\n",
            "Model_1_457: Epoch 26/60\n",
            "Model_1_457: Train Loss: 0.4340, Train Accuracy: 0.8049, train_f1: 0.7970\n",
            "Model_1_457: Validation Loss: 0.4628, Validation Accuracy: 0.7911, Validation F1-Score: 0.7887\n",
            "Model_1_457: No improvement for 5 epoch(s).\n",
            "Model_1_457: Epoch 27/60\n",
            "Model_1_457: Train Loss: 0.4300, Train Accuracy: 0.8164, train_f1: 0.8092\n",
            "Model_1_457: Validation Loss: 0.4479, Validation Accuracy: 0.8228, Validation F1-Score: 0.8152\n",
            "Model_1_457: Epoch 28/60\n",
            "Model_1_457: Train Loss: 0.4258, Train Accuracy: 0.8153, train_f1: 0.8082\n",
            "Model_1_457: Validation Loss: 0.4785, Validation Accuracy: 0.7975, Validation F1-Score: 0.7942\n",
            "Model_1_457: No improvement for 1 epoch(s).\n",
            "Model_1_457: Epoch 29/60\n",
            "Model_1_457: Train Loss: 0.4293, Train Accuracy: 0.8139, train_f1: 0.8068\n",
            "Model_1_457: Validation Loss: 0.4556, Validation Accuracy: 0.8165, Validation F1-Score: 0.8132\n",
            "Model_1_457: No improvement for 2 epoch(s).\n",
            "Model_1_457: Epoch 30/60\n",
            "Model_1_457: Train Loss: 0.4235, Train Accuracy: 0.8171, train_f1: 0.8104\n",
            "Model_1_457: Validation Loss: 0.4562, Validation Accuracy: 0.8418, Validation F1-Score: 0.8354\n",
            "Model_1_457: Epoch 31/60\n",
            "Model_1_457: Train Loss: 0.4368, Train Accuracy: 0.8153, train_f1: 0.8081\n",
            "Model_1_457: Validation Loss: 0.4676, Validation Accuracy: 0.8101, Validation F1-Score: 0.8040\n",
            "Model_1_457: No improvement for 1 epoch(s).\n",
            "Model_1_457: Epoch 32/60\n",
            "Model_1_457: Train Loss: 0.4375, Train Accuracy: 0.8087, train_f1: 0.8008\n",
            "Model_1_457: Validation Loss: 0.4554, Validation Accuracy: 0.8101, Validation F1-Score: 0.8064\n",
            "Model_1_457: No improvement for 2 epoch(s).\n",
            "Model_1_457: Epoch 33/60\n",
            "Model_1_457: Train Loss: 0.4310, Train Accuracy: 0.8108, train_f1: 0.8035\n",
            "Model_1_457: Validation Loss: 0.5135, Validation Accuracy: 0.7722, Validation F1-Score: 0.7530\n",
            "Model_1_457: No improvement for 3 epoch(s).\n",
            "Model_1_457: Epoch 34/60\n",
            "Model_1_457: Train Loss: 0.4123, Train Accuracy: 0.8261, train_f1: 0.8194\n",
            "Model_1_457: Validation Loss: 0.5292, Validation Accuracy: 0.7342, Validation F1-Score: 0.7340\n",
            "Model_1_457: No improvement for 4 epoch(s).\n",
            "Model_1_457: Epoch 35/60\n",
            "Model_1_457: Train Loss: 0.4184, Train Accuracy: 0.8206, train_f1: 0.8141\n",
            "Model_1_457: Validation Loss: 0.4772, Validation Accuracy: 0.7975, Validation F1-Score: 0.7864\n",
            "Model_1_457: No improvement for 5 epoch(s).\n",
            "Model_1_457: Epoch 36/60\n",
            "Model_1_457: Train Loss: 0.4233, Train Accuracy: 0.8178, train_f1: 0.8107\n",
            "Model_1_457: Validation Loss: 0.4503, Validation Accuracy: 0.8038, Validation F1-Score: 0.7988\n",
            "Model_1_457: No improvement for 6 epoch(s).\n",
            "Model_1_457: Epoch 37/60\n",
            "Model_1_457: Train Loss: 0.4290, Train Accuracy: 0.8125, train_f1: 0.8052\n",
            "Model_1_457: Validation Loss: 0.4657, Validation Accuracy: 0.7911, Validation F1-Score: 0.7874\n",
            "Model_1_457: No improvement for 7 epoch(s).\n",
            "Model_1_457: Epoch 38/60\n",
            "Model_1_457: Train Loss: 0.4144, Train Accuracy: 0.8233, train_f1: 0.8162\n",
            "Model_1_457: Validation Loss: 0.4506, Validation Accuracy: 0.8101, Validation F1-Score: 0.8009\n",
            "Model_1_457: No improvement for 8 epoch(s).\n",
            "Model_1_457: Epoch 39/60\n",
            "Model_1_457: Train Loss: 0.4115, Train Accuracy: 0.8244, train_f1: 0.8177\n",
            "Model_1_457: Validation Loss: 0.4653, Validation Accuracy: 0.8291, Validation F1-Score: 0.8203\n",
            "Model_1_457: No improvement for 9 epoch(s).\n",
            "Model_1_457: Epoch 40/60\n",
            "Model_1_457: Train Loss: 0.4156, Train Accuracy: 0.8223, train_f1: 0.8151\n",
            "Model_1_457: Validation Loss: 0.4352, Validation Accuracy: 0.8038, Validation F1-Score: 0.7948\n",
            "Model_1_457: No improvement for 10 epoch(s).\n",
            "Model_1_457: Epoch 41/60\n",
            "Model_1_457: Train Loss: 0.3996, Train Accuracy: 0.8328, train_f1: 0.8264\n",
            "Model_1_457: Validation Loss: 0.4424, Validation Accuracy: 0.8354, Validation F1-Score: 0.8301\n",
            "Model_1_457: No improvement for 11 epoch(s).\n",
            "Model_1_457: Epoch 42/60\n",
            "Model_1_457: Train Loss: 0.4099, Train Accuracy: 0.8247, train_f1: 0.8181\n",
            "Model_1_457: Validation Loss: 0.4761, Validation Accuracy: 0.8165, Validation F1-Score: 0.8045\n",
            "Model_1_457: No improvement for 12 epoch(s).\n",
            "Model_1_457: Epoch 43/60\n",
            "Model_1_457: Train Loss: 0.4099, Train Accuracy: 0.8272, train_f1: 0.8205\n",
            "Model_1_457: Validation Loss: 0.5504, Validation Accuracy: 0.7025, Validation F1-Score: 0.7025\n",
            "Model_1_457: No improvement for 13 epoch(s).\n",
            "Model_1_457: Epoch 44/60\n",
            "Model_1_457: Train Loss: 0.4035, Train Accuracy: 0.8268, train_f1: 0.8204\n",
            "Model_1_457: Validation Loss: 0.4375, Validation Accuracy: 0.8291, Validation F1-Score: 0.8223\n",
            "Model_1_457: No improvement for 14 epoch(s).\n",
            "Model_1_457: Epoch 45/60\n",
            "Model_1_457: Train Loss: 0.4067, Train Accuracy: 0.8307, train_f1: 0.8239\n",
            "Model_1_457: Validation Loss: 0.4610, Validation Accuracy: 0.8038, Validation F1-Score: 0.7896\n",
            "Model_1_457: No improvement for 15 epoch(s).\n",
            "Model_1_457: Epoch 46/60\n",
            "Model_1_457: Train Loss: 0.4116, Train Accuracy: 0.8237, train_f1: 0.8170\n",
            "Model_1_457: Validation Loss: 0.4549, Validation Accuracy: 0.8165, Validation F1-Score: 0.8125\n",
            "Model_1_457: No improvement for 16 epoch(s).\n",
            "Model_1_457: Epoch 47/60\n",
            "Model_1_457: Train Loss: 0.3989, Train Accuracy: 0.8341, train_f1: 0.8272\n",
            "Model_1_457: Validation Loss: 0.4990, Validation Accuracy: 0.7785, Validation F1-Score: 0.7745\n",
            "Model_1_457: No improvement for 17 epoch(s).\n",
            "Model_1_457: Epoch 48/60\n",
            "Model_1_457: Train Loss: 0.4026, Train Accuracy: 0.8261, train_f1: 0.8196\n",
            "Model_1_457: Validation Loss: 0.4742, Validation Accuracy: 0.8038, Validation F1-Score: 0.8020\n",
            "Model_1_457: No improvement for 18 epoch(s).\n",
            "Model_1_457: Epoch 49/60\n",
            "Model_1_457: Train Loss: 0.4067, Train Accuracy: 0.8213, train_f1: 0.8150\n",
            "Model_1_457: Validation Loss: 0.5063, Validation Accuracy: 0.7785, Validation F1-Score: 0.7656\n",
            "Model_1_457: No improvement for 19 epoch(s).\n",
            "Model_1_457: Epoch 50/60\n",
            "Model_1_457: Train Loss: 0.4069, Train Accuracy: 0.8286, train_f1: 0.8221\n",
            "Model_1_457: Validation Loss: 0.4508, Validation Accuracy: 0.8354, Validation F1-Score: 0.8293\n",
            "Model_1_457: No improvement for 20 epoch(s).\n",
            "Model_1_457: Early stopping triggered. Training stopped.\n",
            "M2_457: Epoch 1/60\n",
            "M2_457: Train Loss: 0.6699, Train Accuracy: 0.5979, train_f1: 0.4400\n",
            "M2_457: Validation Loss: 0.6701, Validation Accuracy: 0.5696, Validation F1-Score: 0.3629\n",
            "M2_457: Epoch 2/60\n",
            "M2_457: Train Loss: 0.6369, Train Accuracy: 0.6261, train_f1: 0.5727\n",
            "M2_457: Validation Loss: 0.6210, Validation Accuracy: 0.6709, Validation F1-Score: 0.6063\n",
            "M2_457: Epoch 3/60\n",
            "M2_457: Train Loss: 0.5941, Train Accuracy: 0.6882, train_f1: 0.6646\n",
            "M2_457: Validation Loss: 0.5696, Validation Accuracy: 0.7342, Validation F1-Score: 0.7096\n",
            "M2_457: Epoch 4/60\n",
            "M2_457: Train Loss: 0.5426, Train Accuracy: 0.7359, train_f1: 0.7208\n",
            "M2_457: Validation Loss: 0.5190, Validation Accuracy: 0.7532, Validation F1-Score: 0.7292\n",
            "M2_457: Epoch 5/60\n",
            "M2_457: Train Loss: 0.5262, Train Accuracy: 0.7491, train_f1: 0.7361\n",
            "M2_457: Validation Loss: 0.5417, Validation Accuracy: 0.7595, Validation F1-Score: 0.7350\n",
            "M2_457: Epoch 6/60\n",
            "M2_457: Train Loss: 0.5191, Train Accuracy: 0.7603, train_f1: 0.7474\n",
            "M2_457: Validation Loss: 0.5175, Validation Accuracy: 0.7468, Validation F1-Score: 0.7418\n",
            "M2_457: Epoch 7/60\n",
            "M2_457: Train Loss: 0.5099, Train Accuracy: 0.7641, train_f1: 0.7536\n",
            "M2_457: Validation Loss: 0.6324, Validation Accuracy: 0.6962, Validation F1-Score: 0.6366\n",
            "M2_457: No improvement for 1 epoch(s).\n",
            "M2_457: Epoch 8/60\n",
            "M2_457: Train Loss: 0.5066, Train Accuracy: 0.7638, train_f1: 0.7514\n",
            "M2_457: Validation Loss: 0.4913, Validation Accuracy: 0.7658, Validation F1-Score: 0.7598\n",
            "M2_457: Epoch 9/60\n",
            "M2_457: Train Loss: 0.4991, Train Accuracy: 0.7728, train_f1: 0.7623\n",
            "M2_457: Validation Loss: 0.4823, Validation Accuracy: 0.7848, Validation F1-Score: 0.7806\n",
            "M2_457: Epoch 10/60\n",
            "M2_457: Train Loss: 0.4920, Train Accuracy: 0.7753, train_f1: 0.7654\n",
            "M2_457: Validation Loss: 0.4748, Validation Accuracy: 0.8038, Validation F1-Score: 0.8020\n",
            "M2_457: Epoch 11/60\n",
            "M2_457: Train Loss: 0.4853, Train Accuracy: 0.7787, train_f1: 0.7692\n",
            "M2_457: Validation Loss: 0.4829, Validation Accuracy: 0.7595, Validation F1-Score: 0.7505\n",
            "M2_457: No improvement for 1 epoch(s).\n",
            "M2_457: Epoch 12/60\n",
            "M2_457: Train Loss: 0.4772, Train Accuracy: 0.7746, train_f1: 0.7653\n",
            "M2_457: Validation Loss: 0.4920, Validation Accuracy: 0.7722, Validation F1-Score: 0.7511\n",
            "M2_457: No improvement for 2 epoch(s).\n",
            "M2_457: Epoch 13/60\n",
            "M2_457: Train Loss: 0.4688, Train Accuracy: 0.7878, train_f1: 0.7780\n",
            "M2_457: Validation Loss: 0.4865, Validation Accuracy: 0.7658, Validation F1-Score: 0.7642\n",
            "M2_457: No improvement for 3 epoch(s).\n",
            "M2_457: Epoch 14/60\n",
            "M2_457: Train Loss: 0.4739, Train Accuracy: 0.7854, train_f1: 0.7759\n",
            "M2_457: Validation Loss: 0.5117, Validation Accuracy: 0.7785, Validation F1-Score: 0.7570\n",
            "M2_457: No improvement for 4 epoch(s).\n",
            "M2_457: Epoch 15/60\n",
            "M2_457: Train Loss: 0.4686, Train Accuracy: 0.7902, train_f1: 0.7815\n",
            "M2_457: Validation Loss: 0.4417, Validation Accuracy: 0.8228, Validation F1-Score: 0.8142\n",
            "M2_457: Epoch 16/60\n",
            "M2_457: Train Loss: 0.4512, Train Accuracy: 0.8014, train_f1: 0.7931\n",
            "M2_457: Validation Loss: 0.4417, Validation Accuracy: 0.8165, Validation F1-Score: 0.8109\n",
            "M2_457: No improvement for 1 epoch(s).\n",
            "M2_457: Epoch 17/60\n",
            "M2_457: Train Loss: 0.4462, Train Accuracy: 0.8042, train_f1: 0.7969\n",
            "M2_457: Validation Loss: 0.4402, Validation Accuracy: 0.8291, Validation F1-Score: 0.8223\n",
            "M2_457: Epoch 18/60\n",
            "M2_457: Train Loss: 0.4520, Train Accuracy: 0.7962, train_f1: 0.7868\n",
            "M2_457: Validation Loss: 0.4508, Validation Accuracy: 0.8165, Validation F1-Score: 0.8032\n",
            "M2_457: No improvement for 1 epoch(s).\n",
            "M2_457: Epoch 19/60\n",
            "M2_457: Train Loss: 0.4494, Train Accuracy: 0.8094, train_f1: 0.8010\n",
            "M2_457: Validation Loss: 0.4597, Validation Accuracy: 0.8101, Validation F1-Score: 0.8030\n",
            "M2_457: No improvement for 2 epoch(s).\n",
            "M2_457: Epoch 20/60\n",
            "M2_457: Train Loss: 0.4417, Train Accuracy: 0.8077, train_f1: 0.7992\n",
            "M2_457: Validation Loss: 0.4608, Validation Accuracy: 0.7975, Validation F1-Score: 0.7942\n",
            "M2_457: No improvement for 3 epoch(s).\n",
            "M2_457: Epoch 21/60\n",
            "M2_457: Train Loss: 0.4388, Train Accuracy: 0.8150, train_f1: 0.8070\n",
            "M2_457: Validation Loss: 0.4248, Validation Accuracy: 0.8228, Validation F1-Score: 0.8179\n",
            "M2_457: No improvement for 4 epoch(s).\n",
            "M2_457: Epoch 22/60\n",
            "M2_457: Train Loss: 0.4331, Train Accuracy: 0.8122, train_f1: 0.8042\n",
            "M2_457: Validation Loss: 0.4333, Validation Accuracy: 0.8101, Validation F1-Score: 0.8056\n",
            "M2_457: No improvement for 5 epoch(s).\n",
            "M2_457: Epoch 23/60\n",
            "M2_457: Train Loss: 0.4300, Train Accuracy: 0.8164, train_f1: 0.8085\n",
            "M2_457: Validation Loss: 0.4565, Validation Accuracy: 0.7911, Validation F1-Score: 0.7709\n",
            "M2_457: No improvement for 6 epoch(s).\n",
            "M2_457: Epoch 24/60\n",
            "M2_457: Train Loss: 0.4264, Train Accuracy: 0.8164, train_f1: 0.8080\n",
            "M2_457: Validation Loss: 0.4712, Validation Accuracy: 0.7785, Validation F1-Score: 0.7549\n",
            "M2_457: No improvement for 7 epoch(s).\n",
            "M2_457: Epoch 25/60\n",
            "M2_457: Train Loss: 0.4309, Train Accuracy: 0.8157, train_f1: 0.8090\n",
            "M2_457: Validation Loss: 0.4193, Validation Accuracy: 0.8291, Validation F1-Score: 0.8247\n",
            "M2_457: Epoch 26/60\n",
            "M2_457: Train Loss: 0.4307, Train Accuracy: 0.8146, train_f1: 0.8071\n",
            "M2_457: Validation Loss: 0.4035, Validation Accuracy: 0.8544, Validation F1-Score: 0.8494\n",
            "M2_457: Epoch 27/60\n",
            "M2_457: Train Loss: 0.4211, Train Accuracy: 0.8251, train_f1: 0.8177\n",
            "M2_457: Validation Loss: 0.4183, Validation Accuracy: 0.8165, Validation F1-Score: 0.8081\n",
            "M2_457: No improvement for 1 epoch(s).\n",
            "M2_457: Epoch 28/60\n",
            "M2_457: Train Loss: 0.4207, Train Accuracy: 0.8220, train_f1: 0.8151\n",
            "M2_457: Validation Loss: 0.4197, Validation Accuracy: 0.8418, Validation F1-Score: 0.8354\n",
            "M2_457: No improvement for 2 epoch(s).\n",
            "M2_457: Epoch 29/60\n",
            "M2_457: Train Loss: 0.4270, Train Accuracy: 0.8108, train_f1: 0.8037\n",
            "M2_457: Validation Loss: 0.4210, Validation Accuracy: 0.8038, Validation F1-Score: 0.7959\n",
            "M2_457: No improvement for 3 epoch(s).\n",
            "M2_457: Epoch 30/60\n",
            "M2_457: Train Loss: 0.4179, Train Accuracy: 0.8244, train_f1: 0.8164\n",
            "M2_457: Validation Loss: 0.4196, Validation Accuracy: 0.8481, Validation F1-Score: 0.8416\n",
            "M2_457: No improvement for 4 epoch(s).\n",
            "M2_457: Epoch 31/60\n",
            "M2_457: Train Loss: 0.4137, Train Accuracy: 0.8282, train_f1: 0.8211\n",
            "M2_457: Validation Loss: 0.4625, Validation Accuracy: 0.7848, Validation F1-Score: 0.7667\n",
            "M2_457: No improvement for 5 epoch(s).\n",
            "M2_457: Epoch 32/60\n",
            "M2_457: Train Loss: 0.4091, Train Accuracy: 0.8268, train_f1: 0.8196\n",
            "M2_457: Validation Loss: 0.4361, Validation Accuracy: 0.8228, Validation F1-Score: 0.8162\n",
            "M2_457: No improvement for 6 epoch(s).\n",
            "M2_457: Epoch 33/60\n",
            "M2_457: Train Loss: 0.4188, Train Accuracy: 0.8136, train_f1: 0.8056\n",
            "M2_457: Validation Loss: 0.4948, Validation Accuracy: 0.7785, Validation F1-Score: 0.7780\n",
            "M2_457: No improvement for 7 epoch(s).\n",
            "M2_457: Epoch 34/60\n",
            "M2_457: Train Loss: 0.4147, Train Accuracy: 0.8279, train_f1: 0.8205\n",
            "M2_457: Validation Loss: 0.4246, Validation Accuracy: 0.8291, Validation F1-Score: 0.8203\n",
            "M2_457: No improvement for 8 epoch(s).\n",
            "M2_457: Epoch 35/60\n",
            "M2_457: Train Loss: 0.4118, Train Accuracy: 0.8286, train_f1: 0.8214\n",
            "M2_457: Validation Loss: 0.4055, Validation Accuracy: 0.8354, Validation F1-Score: 0.8322\n",
            "M2_457: No improvement for 9 epoch(s).\n",
            "M2_457: Epoch 36/60\n",
            "M2_457: Train Loss: 0.4185, Train Accuracy: 0.8209, train_f1: 0.8137\n",
            "M2_457: Validation Loss: 0.3961, Validation Accuracy: 0.8228, Validation F1-Score: 0.8131\n",
            "M2_457: No improvement for 10 epoch(s).\n",
            "M2_457: Epoch 37/60\n",
            "M2_457: Train Loss: 0.4028, Train Accuracy: 0.8310, train_f1: 0.8241\n",
            "M2_457: Validation Loss: 0.4257, Validation Accuracy: 0.8228, Validation F1-Score: 0.8142\n",
            "M2_457: No improvement for 11 epoch(s).\n",
            "M2_457: Epoch 38/60\n",
            "M2_457: Train Loss: 0.4035, Train Accuracy: 0.8282, train_f1: 0.8210\n",
            "M2_457: Validation Loss: 0.4343, Validation Accuracy: 0.8291, Validation F1-Score: 0.8203\n",
            "M2_457: No improvement for 12 epoch(s).\n",
            "M2_457: Epoch 39/60\n",
            "M2_457: Train Loss: 0.4147, Train Accuracy: 0.8220, train_f1: 0.8146\n",
            "M2_457: Validation Loss: 0.4328, Validation Accuracy: 0.8101, Validation F1-Score: 0.7971\n",
            "M2_457: No improvement for 13 epoch(s).\n",
            "M2_457: Epoch 40/60\n",
            "M2_457: Train Loss: 0.3958, Train Accuracy: 0.8293, train_f1: 0.8226\n",
            "M2_457: Validation Loss: 0.4887, Validation Accuracy: 0.8101, Validation F1-Score: 0.7925\n",
            "M2_457: No improvement for 14 epoch(s).\n",
            "M2_457: Epoch 41/60\n",
            "M2_457: Train Loss: 0.3997, Train Accuracy: 0.8289, train_f1: 0.8225\n",
            "M2_457: Validation Loss: 0.4182, Validation Accuracy: 0.8481, Validation F1-Score: 0.8407\n",
            "M2_457: No improvement for 15 epoch(s).\n",
            "M2_457: Epoch 42/60\n",
            "M2_457: Train Loss: 0.3916, Train Accuracy: 0.8404, train_f1: 0.8337\n",
            "M2_457: Validation Loss: 0.4267, Validation Accuracy: 0.8228, Validation F1-Score: 0.8186\n",
            "M2_457: No improvement for 16 epoch(s).\n",
            "M2_457: Epoch 43/60\n",
            "M2_457: Train Loss: 0.3958, Train Accuracy: 0.8366, train_f1: 0.8305\n",
            "M2_457: Validation Loss: 0.4118, Validation Accuracy: 0.8228, Validation F1-Score: 0.8179\n",
            "M2_457: No improvement for 17 epoch(s).\n",
            "M2_457: Epoch 44/60\n",
            "M2_457: Train Loss: 0.3861, Train Accuracy: 0.8355, train_f1: 0.8294\n",
            "M2_457: Validation Loss: 0.4460, Validation Accuracy: 0.8101, Validation F1-Score: 0.8056\n",
            "M2_457: No improvement for 18 epoch(s).\n",
            "M2_457: Epoch 45/60\n",
            "M2_457: Train Loss: 0.3916, Train Accuracy: 0.8411, train_f1: 0.8348\n",
            "M2_457: Validation Loss: 0.4764, Validation Accuracy: 0.8101, Validation F1-Score: 0.8009\n",
            "M2_457: No improvement for 19 epoch(s).\n",
            "M2_457: Epoch 46/60\n",
            "M2_457: Train Loss: 0.3936, Train Accuracy: 0.8408, train_f1: 0.8349\n",
            "M2_457: Validation Loss: 0.5283, Validation Accuracy: 0.7911, Validation F1-Score: 0.7727\n",
            "M2_457: No improvement for 20 epoch(s).\n",
            "M2_457: Early stopping triggered. Training stopped.\n",
            "BaselineModel_999: Epoch 1/60\n",
            "BaselineModel_999: Train Loss: 0.6499, Train Accuracy: 0.6118, train_f1: 0.5269\n",
            "BaselineModel_999: Validation Loss: 0.6268, Validation Accuracy: 0.6582, Validation F1-Score: 0.6006\n",
            "BaselineModel_999: Epoch 2/60\n",
            "BaselineModel_999: Train Loss: 0.5846, Train Accuracy: 0.6962, train_f1: 0.6731\n",
            "BaselineModel_999: Validation Loss: 0.5491, Validation Accuracy: 0.7405, Validation F1-Score: 0.7176\n",
            "BaselineModel_999: Epoch 3/60\n",
            "BaselineModel_999: Train Loss: 0.5446, Train Accuracy: 0.7293, train_f1: 0.7116\n",
            "BaselineModel_999: Validation Loss: 0.5223, Validation Accuracy: 0.7532, Validation F1-Score: 0.7419\n",
            "BaselineModel_999: Epoch 4/60\n",
            "BaselineModel_999: Train Loss: 0.5221, Train Accuracy: 0.7561, train_f1: 0.7425\n",
            "BaselineModel_999: Validation Loss: 0.5221, Validation Accuracy: 0.7468, Validation F1-Score: 0.7134\n",
            "BaselineModel_999: No improvement for 1 epoch(s).\n",
            "BaselineModel_999: Epoch 5/60\n",
            "BaselineModel_999: Train Loss: 0.5149, Train Accuracy: 0.7620, train_f1: 0.7476\n",
            "BaselineModel_999: Validation Loss: 0.5118, Validation Accuracy: 0.7722, Validation F1-Score: 0.7648\n",
            "BaselineModel_999: Epoch 6/60\n",
            "BaselineModel_999: Train Loss: 0.5013, Train Accuracy: 0.7721, train_f1: 0.7583\n",
            "BaselineModel_999: Validation Loss: 0.5158, Validation Accuracy: 0.7405, Validation F1-Score: 0.7237\n",
            "BaselineModel_999: No improvement for 1 epoch(s).\n",
            "BaselineModel_999: Epoch 7/60\n",
            "BaselineModel_999: Train Loss: 0.4851, Train Accuracy: 0.7725, train_f1: 0.7606\n",
            "BaselineModel_999: Validation Loss: 0.4957, Validation Accuracy: 0.7785, Validation F1-Score: 0.7684\n",
            "BaselineModel_999: Epoch 8/60\n",
            "BaselineModel_999: Train Loss: 0.4809, Train Accuracy: 0.7836, train_f1: 0.7710\n",
            "BaselineModel_999: Validation Loss: 0.5009, Validation Accuracy: 0.7595, Validation F1-Score: 0.7372\n",
            "BaselineModel_999: No improvement for 1 epoch(s).\n",
            "BaselineModel_999: Epoch 9/60\n",
            "BaselineModel_999: Train Loss: 0.4764, Train Accuracy: 0.7826, train_f1: 0.7698\n",
            "BaselineModel_999: Validation Loss: 0.5370, Validation Accuracy: 0.7152, Validation F1-Score: 0.6900\n",
            "BaselineModel_999: No improvement for 2 epoch(s).\n",
            "BaselineModel_999: Epoch 10/60\n",
            "BaselineModel_999: Train Loss: 0.4669, Train Accuracy: 0.7864, train_f1: 0.7756\n",
            "BaselineModel_999: Validation Loss: 0.4735, Validation Accuracy: 0.8038, Validation F1-Score: 0.7911\n",
            "BaselineModel_999: Epoch 11/60\n",
            "BaselineModel_999: Train Loss: 0.4516, Train Accuracy: 0.7983, train_f1: 0.7877\n",
            "BaselineModel_999: Validation Loss: 0.5165, Validation Accuracy: 0.7595, Validation F1-Score: 0.7277\n",
            "BaselineModel_999: No improvement for 1 epoch(s).\n",
            "BaselineModel_999: Epoch 12/60\n",
            "BaselineModel_999: Train Loss: 0.4517, Train Accuracy: 0.7962, train_f1: 0.7856\n",
            "BaselineModel_999: Validation Loss: 0.4400, Validation Accuracy: 0.8228, Validation F1-Score: 0.8186\n",
            "BaselineModel_999: Epoch 13/60\n",
            "BaselineModel_999: Train Loss: 0.4465, Train Accuracy: 0.8010, train_f1: 0.7900\n",
            "BaselineModel_999: Validation Loss: 0.4514, Validation Accuracy: 0.7722, Validation F1-Score: 0.7611\n",
            "BaselineModel_999: No improvement for 1 epoch(s).\n",
            "BaselineModel_999: Epoch 14/60\n",
            "BaselineModel_999: Train Loss: 0.4308, Train Accuracy: 0.8080, train_f1: 0.7977\n",
            "BaselineModel_999: Validation Loss: 0.4722, Validation Accuracy: 0.7722, Validation F1-Score: 0.7565\n",
            "BaselineModel_999: No improvement for 2 epoch(s).\n",
            "BaselineModel_999: Epoch 15/60\n",
            "BaselineModel_999: Train Loss: 0.4341, Train Accuracy: 0.8139, train_f1: 0.8043\n",
            "BaselineModel_999: Validation Loss: 0.4619, Validation Accuracy: 0.8038, Validation F1-Score: 0.7948\n",
            "BaselineModel_999: No improvement for 3 epoch(s).\n",
            "BaselineModel_999: Epoch 16/60\n",
            "BaselineModel_999: Train Loss: 0.4238, Train Accuracy: 0.8171, train_f1: 0.8077\n",
            "BaselineModel_999: Validation Loss: 0.4616, Validation Accuracy: 0.7785, Validation F1-Score: 0.7708\n",
            "BaselineModel_999: No improvement for 4 epoch(s).\n",
            "BaselineModel_999: Epoch 17/60\n",
            "BaselineModel_999: Train Loss: 0.4142, Train Accuracy: 0.8230, train_f1: 0.8137\n",
            "BaselineModel_999: Validation Loss: 0.4423, Validation Accuracy: 0.7911, Validation F1-Score: 0.7849\n",
            "BaselineModel_999: No improvement for 5 epoch(s).\n",
            "BaselineModel_999: Epoch 18/60\n",
            "BaselineModel_999: Train Loss: 0.4222, Train Accuracy: 0.8150, train_f1: 0.8052\n",
            "BaselineModel_999: Validation Loss: 0.4735, Validation Accuracy: 0.7722, Validation F1-Score: 0.7720\n",
            "BaselineModel_999: No improvement for 6 epoch(s).\n",
            "BaselineModel_999: Epoch 19/60\n",
            "BaselineModel_999: Train Loss: 0.4182, Train Accuracy: 0.8223, train_f1: 0.8128\n",
            "BaselineModel_999: Validation Loss: 0.4749, Validation Accuracy: 0.7785, Validation F1-Score: 0.7656\n",
            "BaselineModel_999: No improvement for 7 epoch(s).\n",
            "BaselineModel_999: Epoch 20/60\n",
            "BaselineModel_999: Train Loss: 0.4146, Train Accuracy: 0.8153, train_f1: 0.8057\n",
            "BaselineModel_999: Validation Loss: 0.4566, Validation Accuracy: 0.7975, Validation F1-Score: 0.7909\n",
            "BaselineModel_999: No improvement for 8 epoch(s).\n",
            "BaselineModel_999: Epoch 21/60\n",
            "BaselineModel_999: Train Loss: 0.4120, Train Accuracy: 0.8233, train_f1: 0.8142\n",
            "BaselineModel_999: Validation Loss: 0.5313, Validation Accuracy: 0.7785, Validation F1-Score: 0.7625\n",
            "BaselineModel_999: No improvement for 9 epoch(s).\n",
            "BaselineModel_999: Epoch 22/60\n",
            "BaselineModel_999: Train Loss: 0.4137, Train Accuracy: 0.8213, train_f1: 0.8121\n",
            "BaselineModel_999: Validation Loss: 0.4516, Validation Accuracy: 0.8165, Validation F1-Score: 0.8125\n",
            "BaselineModel_999: No improvement for 10 epoch(s).\n",
            "BaselineModel_999: Epoch 23/60\n",
            "BaselineModel_999: Train Loss: 0.4088, Train Accuracy: 0.8192, train_f1: 0.8095\n",
            "BaselineModel_999: Validation Loss: 0.4739, Validation Accuracy: 0.7785, Validation F1-Score: 0.7759\n",
            "BaselineModel_999: No improvement for 11 epoch(s).\n",
            "BaselineModel_999: Epoch 24/60\n",
            "BaselineModel_999: Train Loss: 0.4116, Train Accuracy: 0.8237, train_f1: 0.8150\n",
            "BaselineModel_999: Validation Loss: 0.4563, Validation Accuracy: 0.7848, Validation F1-Score: 0.7778\n",
            "BaselineModel_999: No improvement for 12 epoch(s).\n",
            "BaselineModel_999: Epoch 25/60\n",
            "BaselineModel_999: Train Loss: 0.3922, Train Accuracy: 0.8373, train_f1: 0.8293\n",
            "BaselineModel_999: Validation Loss: 0.4304, Validation Accuracy: 0.8165, Validation F1-Score: 0.8091\n",
            "BaselineModel_999: No improvement for 13 epoch(s).\n",
            "BaselineModel_999: Epoch 26/60\n",
            "BaselineModel_999: Train Loss: 0.4004, Train Accuracy: 0.8286, train_f1: 0.8201\n",
            "BaselineModel_999: Validation Loss: 0.4476, Validation Accuracy: 0.8228, Validation F1-Score: 0.8205\n",
            "BaselineModel_999: Epoch 27/60\n",
            "BaselineModel_999: Train Loss: 0.3983, Train Accuracy: 0.8303, train_f1: 0.8215\n",
            "BaselineModel_999: Validation Loss: 0.4633, Validation Accuracy: 0.7911, Validation F1-Score: 0.7905\n",
            "BaselineModel_999: No improvement for 1 epoch(s).\n",
            "BaselineModel_999: Epoch 28/60\n",
            "BaselineModel_999: Train Loss: 0.3928, Train Accuracy: 0.8380, train_f1: 0.8302\n",
            "BaselineModel_999: Validation Loss: 0.4589, Validation Accuracy: 0.7975, Validation F1-Score: 0.7836\n",
            "BaselineModel_999: No improvement for 2 epoch(s).\n",
            "BaselineModel_999: Epoch 29/60\n",
            "BaselineModel_999: Train Loss: 0.3920, Train Accuracy: 0.8341, train_f1: 0.8249\n",
            "BaselineModel_999: Validation Loss: 0.4188, Validation Accuracy: 0.8228, Validation F1-Score: 0.8162\n",
            "BaselineModel_999: No improvement for 3 epoch(s).\n",
            "BaselineModel_999: Epoch 30/60\n",
            "BaselineModel_999: Train Loss: 0.3827, Train Accuracy: 0.8397, train_f1: 0.8322\n",
            "BaselineModel_999: Validation Loss: 0.4267, Validation Accuracy: 0.8165, Validation F1-Score: 0.8132\n",
            "BaselineModel_999: No improvement for 4 epoch(s).\n",
            "BaselineModel_999: Epoch 31/60\n",
            "BaselineModel_999: Train Loss: 0.3989, Train Accuracy: 0.8251, train_f1: 0.8159\n",
            "BaselineModel_999: Validation Loss: 0.4611, Validation Accuracy: 0.8038, Validation F1-Score: 0.7979\n",
            "BaselineModel_999: No improvement for 5 epoch(s).\n",
            "BaselineModel_999: Epoch 32/60\n",
            "BaselineModel_999: Train Loss: 0.3900, Train Accuracy: 0.8380, train_f1: 0.8295\n",
            "BaselineModel_999: Validation Loss: 0.4421, Validation Accuracy: 0.8165, Validation F1-Score: 0.8132\n",
            "BaselineModel_999: No improvement for 6 epoch(s).\n",
            "BaselineModel_999: Epoch 33/60\n",
            "BaselineModel_999: Train Loss: 0.3855, Train Accuracy: 0.8338, train_f1: 0.8256\n",
            "BaselineModel_999: Validation Loss: 0.4859, Validation Accuracy: 0.7658, Validation F1-Score: 0.7452\n",
            "BaselineModel_999: No improvement for 7 epoch(s).\n",
            "BaselineModel_999: Epoch 34/60\n",
            "BaselineModel_999: Train Loss: 0.3863, Train Accuracy: 0.8310, train_f1: 0.8217\n",
            "BaselineModel_999: Validation Loss: 0.4595, Validation Accuracy: 0.7848, Validation F1-Score: 0.7756\n",
            "BaselineModel_999: No improvement for 8 epoch(s).\n",
            "BaselineModel_999: Epoch 35/60\n",
            "BaselineModel_999: Train Loss: 0.3825, Train Accuracy: 0.8366, train_f1: 0.8279\n",
            "BaselineModel_999: Validation Loss: 0.4742, Validation Accuracy: 0.7911, Validation F1-Score: 0.7776\n",
            "BaselineModel_999: No improvement for 9 epoch(s).\n",
            "BaselineModel_999: Epoch 36/60\n",
            "BaselineModel_999: Train Loss: 0.3716, Train Accuracy: 0.8456, train_f1: 0.8378\n",
            "BaselineModel_999: Validation Loss: 0.4202, Validation Accuracy: 0.8101, Validation F1-Score: 0.8056\n",
            "BaselineModel_999: No improvement for 10 epoch(s).\n",
            "BaselineModel_999: Epoch 37/60\n",
            "BaselineModel_999: Train Loss: 0.3697, Train Accuracy: 0.8477, train_f1: 0.8405\n",
            "BaselineModel_999: Validation Loss: 0.4309, Validation Accuracy: 0.8101, Validation F1-Score: 0.7997\n",
            "BaselineModel_999: No improvement for 11 epoch(s).\n",
            "BaselineModel_999: Epoch 38/60\n",
            "BaselineModel_999: Train Loss: 0.3676, Train Accuracy: 0.8453, train_f1: 0.8374\n",
            "BaselineModel_999: Validation Loss: 0.4114, Validation Accuracy: 0.8291, Validation F1-Score: 0.8254\n",
            "BaselineModel_999: Epoch 39/60\n",
            "BaselineModel_999: Train Loss: 0.3710, Train Accuracy: 0.8488, train_f1: 0.8417\n",
            "BaselineModel_999: Validation Loss: 0.4764, Validation Accuracy: 0.8101, Validation F1-Score: 0.7971\n",
            "BaselineModel_999: No improvement for 1 epoch(s).\n",
            "BaselineModel_999: Epoch 40/60\n",
            "BaselineModel_999: Train Loss: 0.3753, Train Accuracy: 0.8429, train_f1: 0.8348\n",
            "BaselineModel_999: Validation Loss: 0.4352, Validation Accuracy: 0.8038, Validation F1-Score: 0.7979\n",
            "BaselineModel_999: No improvement for 2 epoch(s).\n",
            "BaselineModel_999: Epoch 41/60\n",
            "BaselineModel_999: Train Loss: 0.3759, Train Accuracy: 0.8449, train_f1: 0.8373\n",
            "BaselineModel_999: Validation Loss: 0.4493, Validation Accuracy: 0.7975, Validation F1-Score: 0.7959\n",
            "BaselineModel_999: No improvement for 3 epoch(s).\n",
            "BaselineModel_999: Epoch 42/60\n",
            "BaselineModel_999: Train Loss: 0.3612, Train Accuracy: 0.8516, train_f1: 0.8441\n",
            "BaselineModel_999: Validation Loss: 0.4427, Validation Accuracy: 0.8101, Validation F1-Score: 0.8064\n",
            "BaselineModel_999: No improvement for 4 epoch(s).\n",
            "BaselineModel_999: Epoch 43/60\n",
            "BaselineModel_999: Train Loss: 0.3762, Train Accuracy: 0.8383, train_f1: 0.8303\n",
            "BaselineModel_999: Validation Loss: 0.4522, Validation Accuracy: 0.7911, Validation F1-Score: 0.7874\n",
            "BaselineModel_999: No improvement for 5 epoch(s).\n",
            "BaselineModel_999: Epoch 44/60\n",
            "BaselineModel_999: Train Loss: 0.3604, Train Accuracy: 0.8540, train_f1: 0.8465\n",
            "BaselineModel_999: Validation Loss: 0.4244, Validation Accuracy: 0.8165, Validation F1-Score: 0.8125\n",
            "BaselineModel_999: No improvement for 6 epoch(s).\n",
            "BaselineModel_999: Epoch 45/60\n",
            "BaselineModel_999: Train Loss: 0.3601, Train Accuracy: 0.8491, train_f1: 0.8415\n",
            "BaselineModel_999: Validation Loss: 0.4703, Validation Accuracy: 0.8165, Validation F1-Score: 0.8101\n",
            "BaselineModel_999: No improvement for 7 epoch(s).\n",
            "BaselineModel_999: Epoch 46/60\n",
            "BaselineModel_999: Train Loss: 0.3574, Train Accuracy: 0.8596, train_f1: 0.8525\n",
            "BaselineModel_999: Validation Loss: 0.4441, Validation Accuracy: 0.8165, Validation F1-Score: 0.8101\n",
            "BaselineModel_999: No improvement for 8 epoch(s).\n",
            "BaselineModel_999: Epoch 47/60\n",
            "BaselineModel_999: Train Loss: 0.3602, Train Accuracy: 0.8533, train_f1: 0.8463\n",
            "BaselineModel_999: Validation Loss: 0.4396, Validation Accuracy: 0.7975, Validation F1-Score: 0.7864\n",
            "BaselineModel_999: No improvement for 9 epoch(s).\n",
            "BaselineModel_999: Epoch 48/60\n",
            "BaselineModel_999: Train Loss: 0.3635, Train Accuracy: 0.8446, train_f1: 0.8370\n",
            "BaselineModel_999: Validation Loss: 0.4674, Validation Accuracy: 0.7911, Validation F1-Score: 0.7776\n",
            "BaselineModel_999: No improvement for 10 epoch(s).\n",
            "BaselineModel_999: Epoch 49/60\n",
            "BaselineModel_999: Train Loss: 0.3542, Train Accuracy: 0.8585, train_f1: 0.8512\n",
            "BaselineModel_999: Validation Loss: 0.4453, Validation Accuracy: 0.8165, Validation F1-Score: 0.8058\n",
            "BaselineModel_999: No improvement for 11 epoch(s).\n",
            "BaselineModel_999: Epoch 50/60\n",
            "BaselineModel_999: Train Loss: 0.3578, Train Accuracy: 0.8554, train_f1: 0.8483\n",
            "BaselineModel_999: Validation Loss: 0.4742, Validation Accuracy: 0.8038, Validation F1-Score: 0.7924\n",
            "BaselineModel_999: No improvement for 12 epoch(s).\n",
            "BaselineModel_999: Epoch 51/60\n",
            "BaselineModel_999: Train Loss: 0.3446, Train Accuracy: 0.8589, train_f1: 0.8514\n",
            "BaselineModel_999: Validation Loss: 0.4724, Validation Accuracy: 0.8101, Validation F1-Score: 0.8090\n",
            "BaselineModel_999: No improvement for 13 epoch(s).\n",
            "BaselineModel_999: Epoch 52/60\n",
            "BaselineModel_999: Train Loss: 0.3524, Train Accuracy: 0.8620, train_f1: 0.8552\n",
            "BaselineModel_999: Validation Loss: 0.5134, Validation Accuracy: 0.7975, Validation F1-Score: 0.7963\n",
            "BaselineModel_999: No improvement for 14 epoch(s).\n",
            "BaselineModel_999: Epoch 53/60\n",
            "BaselineModel_999: Train Loss: 0.3572, Train Accuracy: 0.8578, train_f1: 0.8509\n",
            "BaselineModel_999: Validation Loss: 0.5048, Validation Accuracy: 0.7595, Validation F1-Score: 0.7393\n",
            "BaselineModel_999: No improvement for 15 epoch(s).\n",
            "BaselineModel_999: Epoch 54/60\n",
            "BaselineModel_999: Train Loss: 0.3548, Train Accuracy: 0.8516, train_f1: 0.8444\n",
            "BaselineModel_999: Validation Loss: 0.4633, Validation Accuracy: 0.8165, Validation F1-Score: 0.8081\n",
            "BaselineModel_999: No improvement for 16 epoch(s).\n",
            "BaselineModel_999: Epoch 55/60\n",
            "BaselineModel_999: Train Loss: 0.3427, Train Accuracy: 0.8620, train_f1: 0.8551\n",
            "BaselineModel_999: Validation Loss: 0.5068, Validation Accuracy: 0.7911, Validation F1-Score: 0.7839\n",
            "BaselineModel_999: No improvement for 17 epoch(s).\n",
            "BaselineModel_999: Epoch 56/60\n",
            "BaselineModel_999: Train Loss: 0.3534, Train Accuracy: 0.8592, train_f1: 0.8527\n",
            "BaselineModel_999: Validation Loss: 0.4730, Validation Accuracy: 0.8165, Validation F1-Score: 0.8101\n",
            "BaselineModel_999: No improvement for 18 epoch(s).\n",
            "BaselineModel_999: Epoch 57/60\n",
            "BaselineModel_999: Train Loss: 0.3463, Train Accuracy: 0.8585, train_f1: 0.8514\n",
            "BaselineModel_999: Validation Loss: 0.4643, Validation Accuracy: 0.7911, Validation F1-Score: 0.7849\n",
            "BaselineModel_999: No improvement for 19 epoch(s).\n",
            "BaselineModel_999: Epoch 58/60\n",
            "BaselineModel_999: Train Loss: 0.3468, Train Accuracy: 0.8530, train_f1: 0.8459\n",
            "BaselineModel_999: Validation Loss: 0.4665, Validation Accuracy: 0.8228, Validation F1-Score: 0.8170\n",
            "BaselineModel_999: No improvement for 20 epoch(s).\n",
            "BaselineModel_999: Early stopping triggered. Training stopped.\n",
            "Model_1_999: Epoch 1/60\n",
            "Model_1_999: Train Loss: 0.6686, Train Accuracy: 0.6017, train_f1: 0.4905\n",
            "Model_1_999: Validation Loss: 0.6434, Validation Accuracy: 0.6076, Validation F1-Score: 0.5184\n",
            "Model_1_999: Epoch 2/60\n",
            "Model_1_999: Train Loss: 0.6438, Train Accuracy: 0.6328, train_f1: 0.5709\n",
            "Model_1_999: Validation Loss: 0.6757, Validation Accuracy: 0.6329, Validation F1-Score: 0.5757\n",
            "Model_1_999: Epoch 3/60\n",
            "Model_1_999: Train Loss: 0.6176, Train Accuracy: 0.6725, train_f1: 0.6362\n",
            "Model_1_999: Validation Loss: 0.5594, Validation Accuracy: 0.7342, Validation F1-Score: 0.7298\n",
            "Model_1_999: Epoch 4/60\n",
            "Model_1_999: Train Loss: 0.5770, Train Accuracy: 0.7080, train_f1: 0.6872\n",
            "Model_1_999: Validation Loss: 0.5429, Validation Accuracy: 0.7405, Validation F1-Score: 0.7218\n",
            "Model_1_999: No improvement for 1 epoch(s).\n",
            "Model_1_999: Epoch 5/60\n",
            "Model_1_999: Train Loss: 0.5466, Train Accuracy: 0.7328, train_f1: 0.7186\n",
            "Model_1_999: Validation Loss: 0.5465, Validation Accuracy: 0.7278, Validation F1-Score: 0.7265\n",
            "Model_1_999: No improvement for 2 epoch(s).\n",
            "Model_1_999: Epoch 6/60\n",
            "Model_1_999: Train Loss: 0.5281, Train Accuracy: 0.7537, train_f1: 0.7418\n",
            "Model_1_999: Validation Loss: 0.5696, Validation Accuracy: 0.7089, Validation F1-Score: 0.6735\n",
            "Model_1_999: No improvement for 3 epoch(s).\n",
            "Model_1_999: Epoch 7/60\n",
            "Model_1_999: Train Loss: 0.5153, Train Accuracy: 0.7599, train_f1: 0.7459\n",
            "Model_1_999: Validation Loss: 0.5450, Validation Accuracy: 0.7278, Validation F1-Score: 0.7038\n",
            "Model_1_999: No improvement for 4 epoch(s).\n",
            "Model_1_999: Epoch 8/60\n",
            "Model_1_999: Train Loss: 0.5078, Train Accuracy: 0.7669, train_f1: 0.7543\n",
            "Model_1_999: Validation Loss: 0.5005, Validation Accuracy: 0.7911, Validation F1-Score: 0.7816\n",
            "Model_1_999: Epoch 9/60\n",
            "Model_1_999: Train Loss: 0.5117, Train Accuracy: 0.7707, train_f1: 0.7577\n",
            "Model_1_999: Validation Loss: 0.5035, Validation Accuracy: 0.7848, Validation F1-Score: 0.7609\n",
            "Model_1_999: No improvement for 1 epoch(s).\n",
            "Model_1_999: Epoch 10/60\n",
            "Model_1_999: Train Loss: 0.4928, Train Accuracy: 0.7721, train_f1: 0.7591\n",
            "Model_1_999: Validation Loss: 0.4898, Validation Accuracy: 0.7785, Validation F1-Score: 0.7684\n",
            "Model_1_999: No improvement for 2 epoch(s).\n",
            "Model_1_999: Epoch 11/60\n",
            "Model_1_999: Train Loss: 0.4835, Train Accuracy: 0.7847, train_f1: 0.7732\n",
            "Model_1_999: Validation Loss: 0.4916, Validation Accuracy: 0.7595, Validation F1-Score: 0.7517\n",
            "Model_1_999: No improvement for 3 epoch(s).\n",
            "Model_1_999: Epoch 12/60\n",
            "Model_1_999: Train Loss: 0.4762, Train Accuracy: 0.7864, train_f1: 0.7748\n",
            "Model_1_999: Validation Loss: 0.4883, Validation Accuracy: 0.7532, Validation F1-Score: 0.7371\n",
            "Model_1_999: No improvement for 4 epoch(s).\n",
            "Model_1_999: Epoch 13/60\n",
            "Model_1_999: Train Loss: 0.4712, Train Accuracy: 0.7815, train_f1: 0.7704\n",
            "Model_1_999: Validation Loss: 0.4915, Validation Accuracy: 0.7848, Validation F1-Score: 0.7806\n",
            "Model_1_999: No improvement for 5 epoch(s).\n",
            "Model_1_999: Epoch 14/60\n",
            "Model_1_999: Train Loss: 0.4685, Train Accuracy: 0.7902, train_f1: 0.7796\n",
            "Model_1_999: Validation Loss: 0.5071, Validation Accuracy: 0.7658, Validation F1-Score: 0.7409\n",
            "Model_1_999: No improvement for 6 epoch(s).\n",
            "Model_1_999: Epoch 15/60\n",
            "Model_1_999: Train Loss: 0.4580, Train Accuracy: 0.7986, train_f1: 0.7886\n",
            "Model_1_999: Validation Loss: 0.5014, Validation Accuracy: 0.7722, Validation F1-Score: 0.7511\n",
            "Model_1_999: No improvement for 7 epoch(s).\n",
            "Model_1_999: Epoch 16/60\n",
            "Model_1_999: Train Loss: 0.4511, Train Accuracy: 0.8007, train_f1: 0.7905\n",
            "Model_1_999: Validation Loss: 0.4914, Validation Accuracy: 0.7785, Validation F1-Score: 0.7745\n",
            "Model_1_999: No improvement for 8 epoch(s).\n",
            "Model_1_999: Epoch 17/60\n",
            "Model_1_999: Train Loss: 0.4555, Train Accuracy: 0.8010, train_f1: 0.7912\n",
            "Model_1_999: Validation Loss: 0.4465, Validation Accuracy: 0.8038, Validation F1-Score: 0.7948\n",
            "Model_1_999: Epoch 18/60\n",
            "Model_1_999: Train Loss: 0.4519, Train Accuracy: 0.8010, train_f1: 0.7921\n",
            "Model_1_999: Validation Loss: 0.4657, Validation Accuracy: 0.7975, Validation F1-Score: 0.7899\n",
            "Model_1_999: No improvement for 1 epoch(s).\n",
            "Model_1_999: Epoch 19/60\n",
            "Model_1_999: Train Loss: 0.4420, Train Accuracy: 0.8094, train_f1: 0.7998\n",
            "Model_1_999: Validation Loss: 0.4463, Validation Accuracy: 0.7911, Validation F1-Score: 0.7858\n",
            "Model_1_999: No improvement for 2 epoch(s).\n",
            "Model_1_999: Epoch 20/60\n",
            "Model_1_999: Train Loss: 0.4362, Train Accuracy: 0.8094, train_f1: 0.8004\n",
            "Model_1_999: Validation Loss: 0.4915, Validation Accuracy: 0.7722, Validation F1-Score: 0.7718\n",
            "Model_1_999: No improvement for 3 epoch(s).\n",
            "Model_1_999: Epoch 21/60\n",
            "Model_1_999: Train Loss: 0.4394, Train Accuracy: 0.8031, train_f1: 0.7938\n",
            "Model_1_999: Validation Loss: 0.4541, Validation Accuracy: 0.7911, Validation F1-Score: 0.7849\n",
            "Model_1_999: No improvement for 4 epoch(s).\n",
            "Model_1_999: Epoch 22/60\n",
            "Model_1_999: Train Loss: 0.4301, Train Accuracy: 0.8181, train_f1: 0.8100\n",
            "Model_1_999: Validation Loss: 0.4375, Validation Accuracy: 0.8038, Validation F1-Score: 0.7970\n",
            "Model_1_999: Epoch 23/60\n",
            "Model_1_999: Train Loss: 0.4305, Train Accuracy: 0.8111, train_f1: 0.8020\n",
            "Model_1_999: Validation Loss: 0.4480, Validation Accuracy: 0.8101, Validation F1-Score: 0.8056\n",
            "Model_1_999: Epoch 24/60\n",
            "Model_1_999: Train Loss: 0.4267, Train Accuracy: 0.8160, train_f1: 0.8077\n",
            "Model_1_999: Validation Loss: 0.4285, Validation Accuracy: 0.8165, Validation F1-Score: 0.8125\n",
            "Model_1_999: Epoch 25/60\n",
            "Model_1_999: Train Loss: 0.4314, Train Accuracy: 0.8167, train_f1: 0.8075\n",
            "Model_1_999: Validation Loss: 0.4410, Validation Accuracy: 0.8165, Validation F1-Score: 0.8125\n",
            "Model_1_999: No improvement for 1 epoch(s).\n",
            "Model_1_999: Epoch 26/60\n",
            "Model_1_999: Train Loss: 0.4279, Train Accuracy: 0.8220, train_f1: 0.8133\n",
            "Model_1_999: Validation Loss: 0.4795, Validation Accuracy: 0.7722, Validation F1-Score: 0.7490\n",
            "Model_1_999: No improvement for 2 epoch(s).\n",
            "Model_1_999: Epoch 27/60\n",
            "Model_1_999: Train Loss: 0.4213, Train Accuracy: 0.8139, train_f1: 0.8048\n",
            "Model_1_999: Validation Loss: 0.4838, Validation Accuracy: 0.7911, Validation F1-Score: 0.7866\n",
            "Model_1_999: No improvement for 3 epoch(s).\n",
            "Model_1_999: Epoch 28/60\n",
            "Model_1_999: Train Loss: 0.4198, Train Accuracy: 0.8233, train_f1: 0.8147\n",
            "Model_1_999: Validation Loss: 0.4524, Validation Accuracy: 0.7975, Validation F1-Score: 0.7888\n",
            "Model_1_999: No improvement for 4 epoch(s).\n",
            "Model_1_999: Epoch 29/60\n",
            "Model_1_999: Train Loss: 0.4185, Train Accuracy: 0.8220, train_f1: 0.8137\n",
            "Model_1_999: Validation Loss: 0.4830, Validation Accuracy: 0.7848, Validation F1-Score: 0.7684\n",
            "Model_1_999: No improvement for 5 epoch(s).\n",
            "Model_1_999: Epoch 30/60\n",
            "Model_1_999: Train Loss: 0.4193, Train Accuracy: 0.8247, train_f1: 0.8163\n",
            "Model_1_999: Validation Loss: 0.4317, Validation Accuracy: 0.8228, Validation F1-Score: 0.8152\n",
            "Model_1_999: Epoch 31/60\n",
            "Model_1_999: Train Loss: 0.4143, Train Accuracy: 0.8261, train_f1: 0.8182\n",
            "Model_1_999: Validation Loss: 0.4525, Validation Accuracy: 0.7975, Validation F1-Score: 0.7954\n",
            "Model_1_999: No improvement for 1 epoch(s).\n",
            "Model_1_999: Epoch 32/60\n",
            "Model_1_999: Train Loss: 0.4184, Train Accuracy: 0.8213, train_f1: 0.8129\n",
            "Model_1_999: Validation Loss: 0.4785, Validation Accuracy: 0.7785, Validation F1-Score: 0.7589\n",
            "Model_1_999: No improvement for 2 epoch(s).\n",
            "Model_1_999: Epoch 33/60\n",
            "Model_1_999: Train Loss: 0.4155, Train Accuracy: 0.8230, train_f1: 0.8143\n",
            "Model_1_999: Validation Loss: 0.4613, Validation Accuracy: 0.7975, Validation F1-Score: 0.7804\n",
            "Model_1_999: No improvement for 3 epoch(s).\n",
            "Model_1_999: Epoch 34/60\n",
            "Model_1_999: Train Loss: 0.4050, Train Accuracy: 0.8282, train_f1: 0.8192\n",
            "Model_1_999: Validation Loss: 0.4279, Validation Accuracy: 0.7975, Validation F1-Score: 0.7899\n",
            "Model_1_999: No improvement for 4 epoch(s).\n",
            "Model_1_999: Epoch 35/60\n",
            "Model_1_999: Train Loss: 0.4020, Train Accuracy: 0.8321, train_f1: 0.8246\n",
            "Model_1_999: Validation Loss: 0.4390, Validation Accuracy: 0.7975, Validation F1-Score: 0.7942\n",
            "Model_1_999: No improvement for 5 epoch(s).\n",
            "Model_1_999: Epoch 36/60\n",
            "Model_1_999: Train Loss: 0.4008, Train Accuracy: 0.8334, train_f1: 0.8255\n",
            "Model_1_999: Validation Loss: 0.4311, Validation Accuracy: 0.8165, Validation F1-Score: 0.8070\n",
            "Model_1_999: No improvement for 6 epoch(s).\n",
            "Model_1_999: Epoch 37/60\n",
            "Model_1_999: Train Loss: 0.4026, Train Accuracy: 0.8279, train_f1: 0.8193\n",
            "Model_1_999: Validation Loss: 0.4367, Validation Accuracy: 0.8165, Validation F1-Score: 0.8070\n",
            "Model_1_999: No improvement for 7 epoch(s).\n",
            "Model_1_999: Epoch 38/60\n",
            "Model_1_999: Train Loss: 0.3967, Train Accuracy: 0.8338, train_f1: 0.8259\n",
            "Model_1_999: Validation Loss: 0.4213, Validation Accuracy: 0.8291, Validation F1-Score: 0.8271\n",
            "Model_1_999: Epoch 39/60\n",
            "Model_1_999: Train Loss: 0.3972, Train Accuracy: 0.8300, train_f1: 0.8220\n",
            "Model_1_999: Validation Loss: 0.4284, Validation Accuracy: 0.8038, Validation F1-Score: 0.7979\n",
            "Model_1_999: No improvement for 1 epoch(s).\n",
            "Model_1_999: Epoch 40/60\n",
            "Model_1_999: Train Loss: 0.3990, Train Accuracy: 0.8317, train_f1: 0.8239\n",
            "Model_1_999: Validation Loss: 0.4342, Validation Accuracy: 0.8101, Validation F1-Score: 0.8009\n",
            "Model_1_999: No improvement for 2 epoch(s).\n",
            "Model_1_999: Epoch 41/60\n",
            "Model_1_999: Train Loss: 0.3917, Train Accuracy: 0.8380, train_f1: 0.8307\n",
            "Model_1_999: Validation Loss: 0.4500, Validation Accuracy: 0.7975, Validation F1-Score: 0.7927\n",
            "Model_1_999: No improvement for 3 epoch(s).\n",
            "Model_1_999: Epoch 42/60\n",
            "Model_1_999: Train Loss: 0.3918, Train Accuracy: 0.8348, train_f1: 0.8264\n",
            "Model_1_999: Validation Loss: 0.4893, Validation Accuracy: 0.7911, Validation F1-Score: 0.7709\n",
            "Model_1_999: No improvement for 4 epoch(s).\n",
            "Model_1_999: Epoch 43/60\n",
            "Model_1_999: Train Loss: 0.3893, Train Accuracy: 0.8369, train_f1: 0.8291\n",
            "Model_1_999: Validation Loss: 0.4377, Validation Accuracy: 0.8165, Validation F1-Score: 0.8070\n",
            "Model_1_999: No improvement for 5 epoch(s).\n",
            "Model_1_999: Epoch 44/60\n",
            "Model_1_999: Train Loss: 0.3942, Train Accuracy: 0.8355, train_f1: 0.8275\n",
            "Model_1_999: Validation Loss: 0.4459, Validation Accuracy: 0.8165, Validation F1-Score: 0.8070\n",
            "Model_1_999: No improvement for 6 epoch(s).\n",
            "Model_1_999: Epoch 45/60\n",
            "Model_1_999: Train Loss: 0.3858, Train Accuracy: 0.8394, train_f1: 0.8314\n",
            "Model_1_999: Validation Loss: 0.4291, Validation Accuracy: 0.8101, Validation F1-Score: 0.8020\n",
            "Model_1_999: No improvement for 7 epoch(s).\n",
            "Model_1_999: Epoch 46/60\n",
            "Model_1_999: Train Loss: 0.3933, Train Accuracy: 0.8373, train_f1: 0.8297\n",
            "Model_1_999: Validation Loss: 0.4354, Validation Accuracy: 0.8291, Validation F1-Score: 0.8240\n",
            "Model_1_999: No improvement for 8 epoch(s).\n",
            "Model_1_999: Epoch 47/60\n",
            "Model_1_999: Train Loss: 0.3949, Train Accuracy: 0.8449, train_f1: 0.8377\n",
            "Model_1_999: Validation Loss: 0.4451, Validation Accuracy: 0.8101, Validation F1-Score: 0.7985\n",
            "Model_1_999: No improvement for 9 epoch(s).\n",
            "Model_1_999: Epoch 48/60\n",
            "Model_1_999: Train Loss: 0.3886, Train Accuracy: 0.8422, train_f1: 0.8342\n",
            "Model_1_999: Validation Loss: 0.4533, Validation Accuracy: 0.8101, Validation F1-Score: 0.8030\n",
            "Model_1_999: No improvement for 10 epoch(s).\n",
            "Model_1_999: Epoch 49/60\n",
            "Model_1_999: Train Loss: 0.3888, Train Accuracy: 0.8422, train_f1: 0.8349\n",
            "Model_1_999: Validation Loss: 0.5365, Validation Accuracy: 0.7785, Validation F1-Score: 0.7570\n",
            "Model_1_999: No improvement for 11 epoch(s).\n",
            "Model_1_999: Epoch 50/60\n",
            "Model_1_999: Train Loss: 0.3857, Train Accuracy: 0.8390, train_f1: 0.8313\n",
            "Model_1_999: Validation Loss: 0.5668, Validation Accuracy: 0.7595, Validation F1-Score: 0.7220\n",
            "Model_1_999: No improvement for 12 epoch(s).\n",
            "Model_1_999: Epoch 51/60\n",
            "Model_1_999: Train Loss: 0.3899, Train Accuracy: 0.8373, train_f1: 0.8295\n",
            "Model_1_999: Validation Loss: 0.4542, Validation Accuracy: 0.8038, Validation F1-Score: 0.7924\n",
            "Model_1_999: No improvement for 13 epoch(s).\n",
            "Model_1_999: Epoch 52/60\n",
            "Model_1_999: Train Loss: 0.3912, Train Accuracy: 0.8411, train_f1: 0.8329\n",
            "Model_1_999: Validation Loss: 0.4539, Validation Accuracy: 0.8038, Validation F1-Score: 0.7848\n",
            "Model_1_999: No improvement for 14 epoch(s).\n",
            "Model_1_999: Epoch 53/60\n",
            "Model_1_999: Train Loss: 0.3858, Train Accuracy: 0.8446, train_f1: 0.8371\n",
            "Model_1_999: Validation Loss: 0.4552, Validation Accuracy: 0.7911, Validation F1-Score: 0.7761\n",
            "Model_1_999: No improvement for 15 epoch(s).\n",
            "Model_1_999: Epoch 54/60\n",
            "Model_1_999: Train Loss: 0.3806, Train Accuracy: 0.8415, train_f1: 0.8341\n",
            "Model_1_999: Validation Loss: 0.4285, Validation Accuracy: 0.8101, Validation F1-Score: 0.7997\n",
            "Model_1_999: No improvement for 16 epoch(s).\n",
            "Model_1_999: Epoch 55/60\n",
            "Model_1_999: Train Loss: 0.3851, Train Accuracy: 0.8477, train_f1: 0.8412\n",
            "Model_1_999: Validation Loss: 0.4545, Validation Accuracy: 0.8038, Validation F1-Score: 0.7865\n",
            "Model_1_999: No improvement for 17 epoch(s).\n",
            "Model_1_999: Epoch 56/60\n",
            "Model_1_999: Train Loss: 0.3823, Train Accuracy: 0.8474, train_f1: 0.8395\n",
            "Model_1_999: Validation Loss: 0.4265, Validation Accuracy: 0.8101, Validation F1-Score: 0.8009\n",
            "Model_1_999: No improvement for 18 epoch(s).\n",
            "Model_1_999: Epoch 57/60\n",
            "Model_1_999: Train Loss: 0.3791, Train Accuracy: 0.8463, train_f1: 0.8384\n",
            "Model_1_999: Validation Loss: 0.4669, Validation Accuracy: 0.7911, Validation F1-Score: 0.7744\n",
            "Model_1_999: No improvement for 19 epoch(s).\n",
            "Model_1_999: Epoch 58/60\n",
            "Model_1_999: Train Loss: 0.3888, Train Accuracy: 0.8352, train_f1: 0.8274\n",
            "Model_1_999: Validation Loss: 0.4933, Validation Accuracy: 0.7785, Validation F1-Score: 0.7549\n",
            "Model_1_999: No improvement for 20 epoch(s).\n",
            "Model_1_999: Early stopping triggered. Training stopped.\n",
            "M2_999: Epoch 1/60\n",
            "M2_999: Train Loss: 0.6575, Train Accuracy: 0.6181, train_f1: 0.4993\n",
            "M2_999: Validation Loss: 0.6039, Validation Accuracy: 0.6835, Validation F1-Score: 0.6733\n",
            "M2_999: Epoch 2/60\n",
            "M2_999: Train Loss: 0.6319, Train Accuracy: 0.6436, train_f1: 0.6053\n",
            "M2_999: Validation Loss: 0.6818, Validation Accuracy: 0.5696, Validation F1-Score: 0.3629\n",
            "M2_999: No improvement for 1 epoch(s).\n",
            "M2_999: Epoch 3/60\n",
            "M2_999: Train Loss: 0.6572, Train Accuracy: 0.6209, train_f1: 0.4915\n",
            "M2_999: Validation Loss: 0.6653, Validation Accuracy: 0.5633, Validation F1-Score: 0.5502\n",
            "M2_999: No improvement for 2 epoch(s).\n",
            "M2_999: Epoch 4/60\n",
            "M2_999: Train Loss: 0.6050, Train Accuracy: 0.6648, train_f1: 0.6324\n",
            "M2_999: Validation Loss: 0.5490, Validation Accuracy: 0.7468, Validation F1-Score: 0.7276\n",
            "M2_999: Epoch 5/60\n",
            "M2_999: Train Loss: 0.5496, Train Accuracy: 0.7220, train_f1: 0.7055\n",
            "M2_999: Validation Loss: 0.5142, Validation Accuracy: 0.7595, Validation F1-Score: 0.7528\n",
            "M2_999: Epoch 6/60\n",
            "M2_999: Train Loss: 0.5373, Train Accuracy: 0.7355, train_f1: 0.7198\n",
            "M2_999: Validation Loss: 0.5244, Validation Accuracy: 0.7278, Validation F1-Score: 0.7014\n",
            "M2_999: No improvement for 1 epoch(s).\n",
            "M2_999: Epoch 7/60\n",
            "M2_999: Train Loss: 0.5110, Train Accuracy: 0.7631, train_f1: 0.7520\n",
            "M2_999: Validation Loss: 0.5448, Validation Accuracy: 0.7532, Validation F1-Score: 0.7353\n",
            "M2_999: No improvement for 2 epoch(s).\n",
            "M2_999: Epoch 8/60\n",
            "M2_999: Train Loss: 0.5094, Train Accuracy: 0.7676, train_f1: 0.7563\n",
            "M2_999: Validation Loss: 0.5346, Validation Accuracy: 0.7278, Validation F1-Score: 0.7038\n",
            "M2_999: No improvement for 3 epoch(s).\n",
            "M2_999: Epoch 9/60\n",
            "M2_999: Train Loss: 0.5058, Train Accuracy: 0.7617, train_f1: 0.7497\n",
            "M2_999: Validation Loss: 0.5241, Validation Accuracy: 0.7468, Validation F1-Score: 0.7276\n",
            "M2_999: No improvement for 4 epoch(s).\n",
            "M2_999: Epoch 10/60\n",
            "M2_999: Train Loss: 0.4934, Train Accuracy: 0.7700, train_f1: 0.7593\n",
            "M2_999: Validation Loss: 0.5168, Validation Accuracy: 0.7595, Validation F1-Score: 0.7412\n",
            "M2_999: No improvement for 5 epoch(s).\n",
            "M2_999: Epoch 11/60\n",
            "M2_999: Train Loss: 0.4806, Train Accuracy: 0.7805, train_f1: 0.7707\n",
            "M2_999: Validation Loss: 0.4930, Validation Accuracy: 0.7911, Validation F1-Score: 0.7849\n",
            "M2_999: Epoch 12/60\n",
            "M2_999: Train Loss: 0.4692, Train Accuracy: 0.7913, train_f1: 0.7814\n",
            "M2_999: Validation Loss: 0.5241, Validation Accuracy: 0.7342, Validation F1-Score: 0.7140\n",
            "M2_999: No improvement for 1 epoch(s).\n",
            "M2_999: Epoch 13/60\n",
            "M2_999: Train Loss: 0.4640, Train Accuracy: 0.7850, train_f1: 0.7755\n",
            "M2_999: Validation Loss: 0.4898, Validation Accuracy: 0.7722, Validation F1-Score: 0.7611\n",
            "M2_999: No improvement for 2 epoch(s).\n",
            "M2_999: Epoch 14/60\n",
            "M2_999: Train Loss: 0.4728, Train Accuracy: 0.7829, train_f1: 0.7728\n",
            "M2_999: Validation Loss: 0.4715, Validation Accuracy: 0.7975, Validation F1-Score: 0.7909\n",
            "M2_999: Epoch 15/60\n",
            "M2_999: Train Loss: 0.4665, Train Accuracy: 0.7902, train_f1: 0.7813\n",
            "M2_999: Validation Loss: 0.4785, Validation Accuracy: 0.7722, Validation F1-Score: 0.7658\n",
            "M2_999: No improvement for 1 epoch(s).\n",
            "M2_999: Epoch 16/60\n",
            "M2_999: Train Loss: 0.4601, Train Accuracy: 0.7892, train_f1: 0.7790\n",
            "M2_999: Validation Loss: 0.4468, Validation Accuracy: 0.7911, Validation F1-Score: 0.7849\n",
            "M2_999: No improvement for 2 epoch(s).\n",
            "M2_999: Epoch 17/60\n",
            "M2_999: Train Loss: 0.4606, Train Accuracy: 0.7941, train_f1: 0.7850\n",
            "M2_999: Validation Loss: 0.4622, Validation Accuracy: 0.8101, Validation F1-Score: 0.8030\n",
            "M2_999: Epoch 18/60\n",
            "M2_999: Train Loss: 0.4526, Train Accuracy: 0.7955, train_f1: 0.7867\n",
            "M2_999: Validation Loss: 0.4596, Validation Accuracy: 0.7975, Validation F1-Score: 0.7850\n",
            "M2_999: No improvement for 1 epoch(s).\n",
            "M2_999: Epoch 19/60\n",
            "M2_999: Train Loss: 0.4505, Train Accuracy: 0.8049, train_f1: 0.7956\n",
            "M2_999: Validation Loss: 0.4828, Validation Accuracy: 0.7975, Validation F1-Score: 0.7876\n",
            "M2_999: No improvement for 2 epoch(s).\n",
            "M2_999: Epoch 20/60\n",
            "M2_999: Train Loss: 0.4585, Train Accuracy: 0.7913, train_f1: 0.7821\n",
            "M2_999: Validation Loss: 0.5349, Validation Accuracy: 0.7532, Validation F1-Score: 0.7292\n",
            "M2_999: No improvement for 3 epoch(s).\n",
            "M2_999: Epoch 21/60\n",
            "M2_999: Train Loss: 0.4513, Train Accuracy: 0.7986, train_f1: 0.7901\n",
            "M2_999: Validation Loss: 0.4600, Validation Accuracy: 0.7848, Validation F1-Score: 0.7778\n",
            "M2_999: No improvement for 4 epoch(s).\n",
            "M2_999: Epoch 22/60\n",
            "M2_999: Train Loss: 0.4375, Train Accuracy: 0.8091, train_f1: 0.8009\n",
            "M2_999: Validation Loss: 0.4669, Validation Accuracy: 0.7848, Validation F1-Score: 0.7756\n",
            "M2_999: No improvement for 5 epoch(s).\n",
            "M2_999: Epoch 23/60\n",
            "M2_999: Train Loss: 0.4320, Train Accuracy: 0.8139, train_f1: 0.8061\n",
            "M2_999: Validation Loss: 0.4471, Validation Accuracy: 0.7975, Validation F1-Score: 0.7876\n",
            "M2_999: No improvement for 6 epoch(s).\n",
            "M2_999: Epoch 24/60\n",
            "M2_999: Train Loss: 0.4333, Train Accuracy: 0.8080, train_f1: 0.7991\n",
            "M2_999: Validation Loss: 0.4588, Validation Accuracy: 0.7848, Validation F1-Score: 0.7797\n",
            "M2_999: No improvement for 7 epoch(s).\n",
            "M2_999: Epoch 25/60\n",
            "M2_999: Train Loss: 0.4227, Train Accuracy: 0.8181, train_f1: 0.8102\n",
            "M2_999: Validation Loss: 0.4542, Validation Accuracy: 0.7911, Validation F1-Score: 0.7816\n",
            "M2_999: No improvement for 8 epoch(s).\n",
            "M2_999: Epoch 26/60\n",
            "M2_999: Train Loss: 0.4251, Train Accuracy: 0.8167, train_f1: 0.8083\n",
            "M2_999: Validation Loss: 0.4672, Validation Accuracy: 0.7722, Validation F1-Score: 0.7698\n",
            "M2_999: No improvement for 9 epoch(s).\n",
            "M2_999: Epoch 27/60\n",
            "M2_999: Train Loss: 0.4264, Train Accuracy: 0.8181, train_f1: 0.8110\n",
            "M2_999: Validation Loss: 0.4513, Validation Accuracy: 0.8038, Validation F1-Score: 0.8034\n",
            "M2_999: Epoch 28/60\n",
            "M2_999: Train Loss: 0.4192, Train Accuracy: 0.8230, train_f1: 0.8159\n",
            "M2_999: Validation Loss: 0.4463, Validation Accuracy: 0.7911, Validation F1-Score: 0.7849\n",
            "M2_999: No improvement for 1 epoch(s).\n",
            "M2_999: Epoch 29/60\n",
            "M2_999: Train Loss: 0.4260, Train Accuracy: 0.8199, train_f1: 0.8130\n",
            "M2_999: Validation Loss: 0.4816, Validation Accuracy: 0.7532, Validation F1-Score: 0.7353\n",
            "M2_999: No improvement for 2 epoch(s).\n",
            "M2_999: Epoch 30/60\n",
            "M2_999: Train Loss: 0.4175, Train Accuracy: 0.8209, train_f1: 0.8133\n",
            "M2_999: Validation Loss: 0.4617, Validation Accuracy: 0.7785, Validation F1-Score: 0.7774\n",
            "M2_999: No improvement for 3 epoch(s).\n",
            "M2_999: Epoch 31/60\n",
            "M2_999: Train Loss: 0.4222, Train Accuracy: 0.8171, train_f1: 0.8100\n",
            "M2_999: Validation Loss: 0.4541, Validation Accuracy: 0.7722, Validation F1-Score: 0.7684\n",
            "M2_999: No improvement for 4 epoch(s).\n",
            "M2_999: Epoch 32/60\n",
            "M2_999: Train Loss: 0.4004, Train Accuracy: 0.8282, train_f1: 0.8214\n",
            "M2_999: Validation Loss: 0.4536, Validation Accuracy: 0.7595, Validation F1-Score: 0.7350\n",
            "M2_999: No improvement for 5 epoch(s).\n",
            "M2_999: Epoch 33/60\n",
            "M2_999: Train Loss: 0.4149, Train Accuracy: 0.8195, train_f1: 0.8118\n",
            "M2_999: Validation Loss: 0.4808, Validation Accuracy: 0.7595, Validation F1-Score: 0.7430\n",
            "M2_999: No improvement for 6 epoch(s).\n",
            "M2_999: Epoch 34/60\n",
            "M2_999: Train Loss: 0.4034, Train Accuracy: 0.8324, train_f1: 0.8254\n",
            "M2_999: Validation Loss: 0.4575, Validation Accuracy: 0.7722, Validation F1-Score: 0.7712\n",
            "M2_999: No improvement for 7 epoch(s).\n",
            "M2_999: Epoch 35/60\n",
            "M2_999: Train Loss: 0.4061, Train Accuracy: 0.8261, train_f1: 0.8188\n",
            "M2_999: Validation Loss: 0.4205, Validation Accuracy: 0.7975, Validation F1-Score: 0.7935\n",
            "M2_999: No improvement for 8 epoch(s).\n",
            "M2_999: Epoch 36/60\n",
            "M2_999: Train Loss: 0.4135, Train Accuracy: 0.8261, train_f1: 0.8193\n",
            "M2_999: Validation Loss: 0.4647, Validation Accuracy: 0.7848, Validation F1-Score: 0.7797\n",
            "M2_999: No improvement for 9 epoch(s).\n",
            "M2_999: Epoch 37/60\n",
            "M2_999: Train Loss: 0.3964, Train Accuracy: 0.8345, train_f1: 0.8280\n",
            "M2_999: Validation Loss: 0.4381, Validation Accuracy: 0.7848, Validation F1-Score: 0.7820\n",
            "M2_999: No improvement for 10 epoch(s).\n",
            "M2_999: Epoch 38/60\n",
            "M2_999: Train Loss: 0.4016, Train Accuracy: 0.8317, train_f1: 0.8249\n",
            "M2_999: Validation Loss: 0.4202, Validation Accuracy: 0.7911, Validation F1-Score: 0.7839\n",
            "M2_999: No improvement for 11 epoch(s).\n",
            "M2_999: Epoch 39/60\n",
            "M2_999: Train Loss: 0.3924, Train Accuracy: 0.8404, train_f1: 0.8338\n",
            "M2_999: Validation Loss: 0.4640, Validation Accuracy: 0.7848, Validation F1-Score: 0.7847\n",
            "M2_999: No improvement for 12 epoch(s).\n",
            "M2_999: Epoch 40/60\n",
            "M2_999: Train Loss: 0.4143, Train Accuracy: 0.8244, train_f1: 0.8175\n",
            "M2_999: Validation Loss: 0.5009, Validation Accuracy: 0.7785, Validation F1-Score: 0.7608\n",
            "M2_999: No improvement for 13 epoch(s).\n",
            "M2_999: Epoch 41/60\n",
            "M2_999: Train Loss: 0.3917, Train Accuracy: 0.8348, train_f1: 0.8286\n",
            "M2_999: Validation Loss: 0.4528, Validation Accuracy: 0.7848, Validation F1-Score: 0.7826\n",
            "M2_999: No improvement for 14 epoch(s).\n",
            "M2_999: Epoch 42/60\n",
            "M2_999: Train Loss: 0.3883, Train Accuracy: 0.8401, train_f1: 0.8336\n",
            "M2_999: Validation Loss: 0.4546, Validation Accuracy: 0.8038, Validation F1-Score: 0.7959\n",
            "M2_999: No improvement for 15 epoch(s).\n",
            "M2_999: Epoch 43/60\n",
            "M2_999: Train Loss: 0.3844, Train Accuracy: 0.8397, train_f1: 0.8330\n",
            "M2_999: Validation Loss: 0.4728, Validation Accuracy: 0.7785, Validation F1-Score: 0.7728\n",
            "M2_999: No improvement for 16 epoch(s).\n",
            "M2_999: Epoch 44/60\n",
            "M2_999: Train Loss: 0.3857, Train Accuracy: 0.8415, train_f1: 0.8354\n",
            "M2_999: Validation Loss: 0.4829, Validation Accuracy: 0.7848, Validation F1-Score: 0.7839\n",
            "M2_999: No improvement for 17 epoch(s).\n",
            "M2_999: Epoch 45/60\n",
            "M2_999: Train Loss: 0.3868, Train Accuracy: 0.8373, train_f1: 0.8301\n",
            "M2_999: Validation Loss: 0.4458, Validation Accuracy: 0.7848, Validation F1-Score: 0.7826\n",
            "M2_999: No improvement for 18 epoch(s).\n",
            "M2_999: Epoch 46/60\n",
            "M2_999: Train Loss: 0.4000, Train Accuracy: 0.8321, train_f1: 0.8255\n",
            "M2_999: Validation Loss: 0.4606, Validation Accuracy: 0.8038, Validation F1-Score: 0.7896\n",
            "M2_999: No improvement for 19 epoch(s).\n",
            "M2_999: Epoch 47/60\n",
            "M2_999: Train Loss: 0.3931, Train Accuracy: 0.8383, train_f1: 0.8316\n",
            "M2_999: Validation Loss: 0.4939, Validation Accuracy: 0.7975, Validation F1-Score: 0.7804\n",
            "M2_999: No improvement for 20 epoch(s).\n",
            "M2_999: Early stopping triggered. Training stopped.\n"
          ]
        }
      ],
      "source": [
        "import random\n",
        "\n",
        "def set_seed(seed):\n",
        "    random.seed(seed)\n",
        "    np.random.seed(seed)\n",
        "    torch.manual_seed(seed)\n",
        "    if torch.cuda.is_available():\n",
        "        torch.cuda.manual_seed_all(seed)\n",
        "\n",
        "\n",
        "seeds = [42, 457, 999]\n",
        "\n",
        "metrics_summary = {\n",
        "    BaselineModel.__name__ : {},\n",
        "    Model_1.__name__: {},\n",
        "    M2.__name__ : {}\n",
        "}\n",
        "\n",
        "device = torch.device('cuda' if torch.cuda.is_available() else 'cpu')\n",
        "\n",
        "\n",
        "for seed in seeds:\n",
        "    set_seed(seed)\n",
        "\n",
        "    train_loader = DataLoader(\n",
        "        train_dataset,\n",
        "        batch_size=32,\n",
        "        shuffle=True,\n",
        "        collate_fn=collate_fn\n",
        "    )\n",
        "\n",
        "    val_loader = DataLoader(\n",
        "        val_dataset,\n",
        "        batch_size=32,\n",
        "        shuffle=False,\n",
        "        collate_fn=collate_fn\n",
        "    )\n",
        "\n",
        "    # Train and evaluate Baseline Model\n",
        "    bl_model = BaselineModel(\n",
        "        vocab_size=len(vocab),\n",
        "        embedding_dim=embedding_matrix.shape[1],\n",
        "        embedding_matrix=embedding_matrix,\n",
        "        hidden_dim=bl_best_params[\"hidden_dim\"],\n",
        "        output_dim=1,\n",
        "        pad_idx=vocab[PADDING_TOKEN],\n",
        "        dropout=bl_best_params[\"dropout\"]\n",
        "    ).to(device)\n",
        "\n",
        "    trained_bl_model, bl_metrics = train_and_evaluate(\n",
        "        model=bl_model,\n",
        "        model_name = generate_name(BaselineModel.__name__ , seed),\n",
        "        train_loader=train_loader,\n",
        "        val_loader=val_loader,\n",
        "        vocab=vocab,\n",
        "        embedding_matrix=embedding_matrix,\n",
        "        device=device,\n",
        "        num_epochs=60,\n",
        "        lr=bl_best_params[\"learning_rate\"],\n",
        "        weight_decay=bl_best_params[\"weight_decay\"],\n",
        "        save_model_path=f\"{generate_name(BaselineModel.__name__, seed) }.pt\",\n",
        "        early_stopping_patience=20\n",
        "    )\n",
        "    metrics_summary[BaselineModel.__name__ ][seed] = bl_metrics\n",
        "\n",
        "\n",
        "    # Train and evaluate Model 1\n",
        "    model_1 = Model_1(\n",
        "        vocab_size=len(vocab),\n",
        "        embedding_dim=embedding_matrix.shape[1],\n",
        "        embedding_matrix=embedding_matrix,\n",
        "        hidden_dim_1=m1_best_params[\"hidden_dim_1\"],\n",
        "        hidden_dim_2=m1_best_params[\"hidden_dim_2\"],\n",
        "        output_dim=1,\n",
        "        pad_idx=vocab[PADDING_TOKEN],\n",
        "        dropout_rate_1=m1_best_params[\"dropout_rate_1\"]\n",
        "    ).to(device)\n",
        "\n",
        "    trained_model_1, m1_metrics = train_and_evaluate(\n",
        "        model=model_1,\n",
        "        model_name = generate_name(Model_1.__name__ , seed),\n",
        "        train_loader=train_loader,\n",
        "        val_loader=val_loader,\n",
        "        vocab=vocab,\n",
        "        embedding_matrix=embedding_matrix,\n",
        "        device=device,\n",
        "        num_epochs=60,\n",
        "        lr=m1_best_params[\"learning_rate\"],\n",
        "        weight_decay=m1_best_params[\"weight_decay\"],\n",
        "        early_stopping_patience=20,\n",
        "        save_model_path=f\"{generate_name(Model_1.__name__, seed)}.pt\"\n",
        "    )\n",
        "\n",
        "    metrics_summary[Model_1.__name__ ][seed] = m1_metrics\n",
        "\n",
        "    # Train and evaluate Model 2\n",
        "    model_2 = M2(\n",
        "        vocab_size=len(vocab),\n",
        "        embedding_dim=embedding_matrix.shape[1],\n",
        "        embedding_matrix=embedding_matrix,\n",
        "        hidden_dim=m2_best_params[\"hidden_dim\"],\n",
        "        output_dim=1,\n",
        "        pad_idx=vocab[PADDING_TOKEN],\n",
        "        dropout=m2_best_params[\"dropout\"]\n",
        "    ).to(device)\n",
        "\n",
        "    trained_model_2, m2_metrics = train_and_evaluate(\n",
        "        model=model_2,\n",
        "        model_name=generate_name(M2.__name__, seed),\n",
        "        train_loader=train_loader,\n",
        "        val_loader=val_loader,\n",
        "        vocab=vocab,\n",
        "        embedding_matrix=embedding_matrix,\n",
        "        device=device,\n",
        "        num_epochs=60,\n",
        "        lr=m2_best_params[\"learning_rate\"],\n",
        "        weight_decay=m2_best_params[\"weight_decay\"],\n",
        "        early_stopping_patience=20,\n",
        "        save_model_path=f\"{generate_name(M2.__name__, seed)}.pt\"\n",
        "    )\n",
        "\n",
        "    metrics_summary[M2.__name__][seed] = m2_metrics\n",
        "\n"
      ]
    },
    {
      "cell_type": "code",
      "execution_count": 78,
      "metadata": {
        "colab": {
          "base_uri": "https://localhost:8080/"
        },
        "id": "VE4iUyMV6lUn",
        "outputId": "018f6b32-bc9e-42aa-88b3-c9b64df75765"
      },
      "outputs": [
        {
          "name": "stdout",
          "output_type": "stream",
          "text": [
            "F1 results of models for all seeds:\n",
            "{'BaselineModel': [0.8141801075268817, 0.8141801075268817, 0.825414364640884], 'Model_1': [0.8500515782958531, 0.8354372370120402, 0.827112462006079], 'M2': [0.8048418972332017, 0.8493553869750861, 0.8034115994380895]}\n"
          ]
        }
      ],
      "source": [
        "f1_results = {}\n",
        "for model in metrics_summary:\n",
        "  f1_results[model] = []\n",
        "  for seed in metrics_summary[model]:\n",
        "    metrics = metrics_summary[model][seed]\n",
        "    f1_results[model].append(metrics[\"val_f1\"])\n",
        "\n",
        "print(\"F1 results of models for all seeds:\")\n",
        "print(f1_results)\n"
      ]
    },
    {
      "cell_type": "code",
      "execution_count": 79,
      "metadata": {
        "colab": {
          "base_uri": "https://localhost:8080/"
        },
        "id": "l-tQX6Yk8HSC",
        "outputId": "0da07323-1ce8-48c4-8e1c-4bfddfaa7855"
      },
      "outputs": [
        {
          "name": "stdout",
          "output_type": "stream",
          "text": [
            "Model: BaselineModel\n",
            "Mean F1-macro: 0.8179\n",
            "Standard Deviation of F1-macro: 0.0053\n",
            "--------------------\n",
            "Model: Model_1\n",
            "Mean F1-macro: 0.8375\n",
            "Standard Deviation of F1-macro: 0.0095\n",
            "--------------------\n",
            "Model: M2\n",
            "Mean F1-macro: 0.8192\n",
            "Standard Deviation of F1-macro: 0.0213\n",
            "--------------------\n"
          ]
        }
      ],
      "source": [
        "import numpy as np\n",
        "\n",
        "for model, f1_scores in f1_results.items():\n",
        "    mean_f1 = np.mean(f1_scores)\n",
        "    std_f1 = np.std(f1_scores)\n",
        "    print(f\"Model: {model}\")\n",
        "    print(f\"Mean F1-macro: {mean_f1:.4f}\")\n",
        "    print(f\"Standard Deviation of F1-macro: {std_f1:.4f}\")\n",
        "    print(\"-\" * 20)"
      ]
    },
    {
      "cell_type": "markdown",
      "metadata": {
        "id": "LUAT5bCY8kgs"
      },
      "source": [
        "According to the above results, Model_1 has the highest Mean F1-macro and it's standard deviation is almost as same as BaselineModel. So we can find the Model_1 as the best model.\n"
      ]
    },
    {
      "cell_type": "code",
      "execution_count": 80,
      "metadata": {
        "colab": {
          "base_uri": "https://localhost:8080/",
          "height": 1000
        },
        "id": "Dh11RTpcH2Fr",
        "outputId": "d3051ab5-387b-423e-f04b-5419922b28e8"
      },
      "outputs": [
        {
          "name": "stdout",
          "output_type": "stream",
          "text": [
            "\n",
            "\n"
          ]
        },
        {
          "data": {
            "image/png": "[encoded data removed]",
            "text/plain": [
              "<Figure size 800x600 with 1 Axes>"
            ]
          },
          "metadata": {},
          "output_type": "display_data"
        },
        {
          "name": "stdout",
          "output_type": "stream",
          "text": [
            "\n",
            "\n"
          ]
        },
        {
          "data": {
            "image/png": "[encoded data removed]",
            "text/plain": [
              "<Figure size 640x480 with 2 Axes>"
            ]
          },
          "metadata": {},
          "output_type": "display_data"
        },
        {
          "name": "stdout",
          "output_type": "stream",
          "text": [
            "\n",
            "\n",
            "BaselineModel_42 Misclassified Samples:\n",
            "Tweet: get twitter harass for pro choice\n",
            "True Label: 1\n",
            "Predicted Label: 0\n",
            "--------------------\n",
            "Tweet: I sincerely wish the we be this progressive on women right\n",
            "True Label: 1\n",
            "Predicted Label: 0\n",
            "--------------------\n",
            "Tweet: be you look for the perfect gift to show your mom or wife how much you love and appreciate she this mother day   mention our purerelief ™ deluxe foot warm for optimal comfort holiness and relaxation click the link to learn more\n",
            "True Label: 0\n",
            "Predicted Label: 1\n",
            "--------------------\n",
            "Tweet: raise taxis and control\n",
            "True Label: 1\n",
            "Predicted Label: 0\n",
            "--------------------\n",
            "Tweet: freedom convoy toronto wave provide flagtheyre live in the wrong decade\n",
            "True Label: 1\n",
            "Predicted Label: 0\n",
            "--------------------\n",
            "\n",
            "\n"
          ]
        },
        {
          "data": {
            "image/png": "[encoded data removed]",
            "text/plain": [
              "<Figure size 800x600 with 1 Axes>"
            ]
          },
          "metadata": {},
          "output_type": "display_data"
        },
        {
          "name": "stdout",
          "output_type": "stream",
          "text": [
            "\n",
            "\n"
          ]
        },
        {
          "data": {
            "image/png": "[encoded data removed]",
            "text/plain": [
              "<Figure size 640x480 with 2 Axes>"
            ]
          },
          "metadata": {},
          "output_type": "display_data"
        },
        {
          "name": "stdout",
          "output_type": "stream",
          "text": [
            "\n",
            "\n",
            "BaselineModel_457 Misclassified Samples:\n",
            "Tweet: get twitter harass for pro choice\n",
            "True Label: 1\n",
            "Predicted Label: 0\n",
            "--------------------\n",
            "Tweet: I sincerely wish the we be this progressive on women right\n",
            "True Label: 1\n",
            "Predicted Label: 0\n",
            "--------------------\n",
            "Tweet: collar between weareequal x    you already know it 🫵join our discord on how to join our exclusive giveaway\n",
            "True Label: 0\n",
            "Predicted Label: 1\n",
            "--------------------\n",
            "Tweet: be you look for the perfect gift to show your mom or wife how much you love and appreciate she this mother day   mention our purerelief ™ deluxe foot warm for optimal comfort holiness and relaxation click the link to learn more\n",
            "True Label: 0\n",
            "Predicted Label: 1\n",
            "--------------------\n",
            "Tweet: raise taxis and control\n",
            "True Label: 1\n",
            "Predicted Label: 0\n",
            "--------------------\n",
            "\n",
            "\n"
          ]
        },
        {
          "data": {
            "image/png": "[encoded data removed]",
            "text/plain": [
              "<Figure size 800x600 with 1 Axes>"
            ]
          },
          "metadata": {},
          "output_type": "display_data"
        },
        {
          "name": "stdout",
          "output_type": "stream",
          "text": [
            "\n",
            "\n"
          ]
        },
        {
          "data": {
            "image/png": "[encoded data removed]",
            "text/plain": [
              "<Figure size 640x480 with 2 Axes>"
            ]
          },
          "metadata": {},
          "output_type": "display_data"
        },
        {
          "name": "stdout",
          "output_type": "stream",
          "text": [
            "\n",
            "\n",
            "BaselineModel_999 Misclassified Samples:\n",
            "Tweet: get twitter harass for pro choice\n",
            "True Label: 1\n",
            "Predicted Label: 0\n",
            "--------------------\n",
            "Tweet: I sincerely wish the we be this progressive on women right\n",
            "True Label: 1\n",
            "Predicted Label: 0\n",
            "--------------------\n",
            "Tweet: be you look for the perfect gift to show your mom or wife how much you love and appreciate she this mother day   mention our purerelief ™ deluxe foot warm for optimal comfort holiness and relaxation click the link to learn more\n",
            "True Label: 0\n",
            "Predicted Label: 1\n",
            "--------------------\n",
            "Tweet: raise taxis and control\n",
            "True Label: 1\n",
            "Predicted Label: 0\n",
            "--------------------\n",
            "Tweet: freedom convoy toronto wave provide flagtheyre live in the wrong decade\n",
            "True Label: 1\n",
            "Predicted Label: 0\n",
            "--------------------\n",
            "\n",
            "\n"
          ]
        },
        {
          "data": {
            "image/png": "[encoded data removed]",
            "text/plain": [
              "<Figure size 800x600 with 1 Axes>"
            ]
          },
          "metadata": {},
          "output_type": "display_data"
        },
        {
          "name": "stdout",
          "output_type": "stream",
          "text": [
            "\n",
            "\n"
          ]
        },
        {
          "data": {
            "image/png": "[encoded data removed]",
            "text/plain": [
              "<Figure size 640x480 with 2 Axes>"
            ]
          },
          "metadata": {},
          "output_type": "display_data"
        },
        {
          "name": "stdout",
          "output_type": "stream",
          "text": [
            "\n",
            "\n",
            "Model_1_42 Misclassified Samples:\n",
            "Tweet: you should smile more love just pretend you re a tory open a food bank be only live through the bad   in live memory so its all a bit of a single cheer up darling it might never happen\n",
            "True Label: 0\n",
            "Predicted Label: 1\n",
            "--------------------\n",
            "Tweet: get twitter harass for pro choice\n",
            "True Label: 1\n",
            "Predicted Label: 0\n",
            "--------------------\n",
            "Tweet: I sincerely wish the we be this progressive on women right\n",
            "True Label: 1\n",
            "Predicted Label: 0\n",
            "--------------------\n",
            "Tweet: raise taxis and control\n",
            "True Label: 1\n",
            "Predicted Label: 0\n",
            "--------------------\n",
            "Tweet: freedom convoy toronto wave provide flagtheyre live in the wrong decade\n",
            "True Label: 1\n",
            "Predicted Label: 0\n",
            "--------------------\n",
            "\n",
            "\n"
          ]
        },
        {
          "data": {
            "image/png": "[encoded data removed]",
            "text/plain": [
              "<Figure size 800x600 with 1 Axes>"
            ]
          },
          "metadata": {},
          "output_type": "display_data"
        },
        {
          "name": "stdout",
          "output_type": "stream",
          "text": [
            "\n",
            "\n"
          ]
        },
        {
          "data": {
            "image/png": "[encoded data removed]",
            "text/plain": [
              "<Figure size 640x480 with 2 Axes>"
            ]
          },
          "metadata": {},
          "output_type": "display_data"
        },
        {
          "name": "stdout",
          "output_type": "stream",
          "text": [
            "\n",
            "\n",
            "Model_1_457 Misclassified Samples:\n",
            "Tweet: get twitter harass for pro choice\n",
            "True Label: 1\n",
            "Predicted Label: 0\n",
            "--------------------\n",
            "Tweet: I sincerely wish the we be this progressive on women right\n",
            "True Label: 1\n",
            "Predicted Label: 0\n",
            "--------------------\n",
            "Tweet: be you look for the perfect gift to show your mom or wife how much you love and appreciate she this mother day   mention our purerelief ™ deluxe foot warm for optimal comfort holiness and relaxation click the link to learn more\n",
            "True Label: 0\n",
            "Predicted Label: 1\n",
            "--------------------\n",
            "Tweet: raise taxis and control\n",
            "True Label: 1\n",
            "Predicted Label: 0\n",
            "--------------------\n",
            "Tweet: freedom convoy toronto wave provide flagtheyre live in the wrong decade\n",
            "True Label: 1\n",
            "Predicted Label: 0\n",
            "--------------------\n",
            "\n",
            "\n"
          ]
        },
        {
          "data": {
            "image/png": "[encoded data removed]",
            "text/plain": [
              "<Figure size 800x600 with 1 Axes>"
            ]
          },
          "metadata": {},
          "output_type": "display_data"
        },
        {
          "name": "stdout",
          "output_type": "stream",
          "text": [
            "\n",
            "\n"
          ]
        },
        {
          "data": {
            "image/png": "[encoded data removed]",
            "text/plain": [
              "<Figure size 640x480 with 2 Axes>"
            ]
          },
          "metadata": {},
          "output_type": "display_data"
        },
        {
          "name": "stdout",
          "output_type": "stream",
          "text": [
            "\n",
            "\n",
            "Model_1_999 Misclassified Samples:\n",
            "Tweet: get twitter harass for pro choice\n",
            "True Label: 1\n",
            "Predicted Label: 0\n",
            "--------------------\n",
            "Tweet: I sincerely wish the we be this progressive on women right\n",
            "True Label: 1\n",
            "Predicted Label: 0\n",
            "--------------------\n",
            "Tweet: collar between weareequal x    you already know it 🫵join our discord on how to join our exclusive giveaway\n",
            "True Label: 0\n",
            "Predicted Label: 1\n",
            "--------------------\n",
            "Tweet: be you look for the perfect gift to show your mom or wife how much you love and appreciate she this mother day   mention our purerelief ™ deluxe foot warm for optimal comfort holiness and relaxation click the link to learn more\n",
            "True Label: 0\n",
            "Predicted Label: 1\n",
            "--------------------\n",
            "Tweet: wish all of you a very happy women day\n",
            "True Label: 0\n",
            "Predicted Label: 1\n",
            "--------------------\n",
            "\n",
            "\n"
          ]
        },
        {
          "data": {
            "image/png": "[encoded data removed]",
            "text/plain": [
              "<Figure size 800x600 with 1 Axes>"
            ]
          },
          "metadata": {},
          "output_type": "display_data"
        },
        {
          "name": "stdout",
          "output_type": "stream",
          "text": [
            "\n",
            "\n"
          ]
        },
        {
          "data": {
            "image/png": "[encoded data removed]",
            "text/plain": [
              "<Figure size 640x480 with 2 Axes>"
            ]
          },
          "metadata": {},
          "output_type": "display_data"
        },
        {
          "name": "stdout",
          "output_type": "stream",
          "text": [
            "\n",
            "\n",
            "M2_42 Misclassified Samples:\n",
            "Tweet: get twitter harass for pro choice\n",
            "True Label: 1\n",
            "Predicted Label: 0\n",
            "--------------------\n",
            "Tweet: I sincerely wish the we be this progressive on women right\n",
            "True Label: 1\n",
            "Predicted Label: 0\n",
            "--------------------\n",
            "Tweet: be you look for the perfect gift to show your mom or wife how much you love and appreciate she this mother day   mention our purerelief ™ deluxe foot warm for optimal comfort holiness and relaxation click the link to learn more\n",
            "True Label: 0\n",
            "Predicted Label: 1\n",
            "--------------------\n",
            "Tweet: raise taxis and control\n",
            "True Label: 1\n",
            "Predicted Label: 0\n",
            "--------------------\n",
            "Tweet: freedom convoy toronto wave provide flagtheyre live in the wrong decade\n",
            "True Label: 1\n",
            "Predicted Label: 0\n",
            "--------------------\n",
            "\n",
            "\n"
          ]
        },
        {
          "data": {
            "image/png": "[encoded data removed]",
            "text/plain": [
              "<Figure size 800x600 with 1 Axes>"
            ]
          },
          "metadata": {},
          "output_type": "display_data"
        },
        {
          "name": "stdout",
          "output_type": "stream",
          "text": [
            "\n",
            "\n"
          ]
        },
        {
          "data": {
            "image/png": "[encoded data removed]",
            "text/plain": [
              "<Figure size 640x480 with 2 Axes>"
            ]
          },
          "metadata": {},
          "output_type": "display_data"
        },
        {
          "name": "stdout",
          "output_type": "stream",
          "text": [
            "\n",
            "\n",
            "M2_457 Misclassified Samples:\n",
            "Tweet: get twitter harass for pro choice\n",
            "True Label: 1\n",
            "Predicted Label: 0\n",
            "--------------------\n",
            "Tweet: I sincerely wish the we be this progressive on women right\n",
            "True Label: 1\n",
            "Predicted Label: 0\n",
            "--------------------\n",
            "Tweet: raise taxis and control\n",
            "True Label: 1\n",
            "Predicted Label: 0\n",
            "--------------------\n",
            "Tweet: freedom convoy toronto wave provide flagtheyre live in the wrong decade\n",
            "True Label: 1\n",
            "Predicted Label: 0\n",
            "--------------------\n",
            "Tweet: nearly 10 of student will encounter sexual misconduct at school to5b9hs39w\n",
            "True Label: 1\n",
            "Predicted Label: 0\n",
            "--------------------\n",
            "\n",
            "\n"
          ]
        },
        {
          "data": {
            "image/png": "[encoded data removed]",
            "text/plain": [
              "<Figure size 800x600 with 1 Axes>"
            ]
          },
          "metadata": {},
          "output_type": "display_data"
        },
        {
          "name": "stdout",
          "output_type": "stream",
          "text": [
            "\n",
            "\n"
          ]
        },
        {
          "data": {
            "image/png": "[encoded data removed]",
            "text/plain": [
              "<Figure size 640x480 with 2 Axes>"
            ]
          },
          "metadata": {},
          "output_type": "display_data"
        },
        {
          "name": "stdout",
          "output_type": "stream",
          "text": [
            "\n",
            "\n",
            "M2_999 Misclassified Samples:\n",
            "Tweet: get twitter harass for pro choice\n",
            "True Label: 1\n",
            "Predicted Label: 0\n",
            "--------------------\n",
            "Tweet: I be hide in cat twitter mental health be really bad see a psychologist on friday I go to suicidal thought after be bully and harass by someone who be now no long a friend of mine or hobby\n",
            "True Label: 0\n",
            "Predicted Label: 1\n",
            "--------------------\n",
            "Tweet: I sincerely wish the we be this progressive on women right\n",
            "True Label: 1\n",
            "Predicted Label: 0\n",
            "--------------------\n",
            "Tweet: collar between weareequal x    you already know it 🫵join our discord on how to join our exclusive giveaway\n",
            "True Label: 0\n",
            "Predicted Label: 1\n",
            "--------------------\n",
            "Tweet: some courage jake daniels    hopefully you will open this su jet up to other footballer\n",
            "True Label: 0\n",
            "Predicted Label: 1\n",
            "--------------------\n"
          ]
        }
      ],
      "source": [
        "validation_data = pd.DataFrame({'tweet': data_validation_cleaned['tweet'].tolist()})\n",
        "true_labels = data_validation_cleaned['hard_label_task1'].tolist()\n",
        "\n",
        "for m in metrics_summary:\n",
        "  for seed in metrics_summary[m]:\n",
        "    metrics = metrics_summary[m][seed]\n",
        "    prediction_scores = metrics['val_prediction_scores']\n",
        "    perform_error_analysis(generate_name(m, seed), data_validation_cleaned, true_labels= true_labels, predictions=np.array(prediction_scores))"
      ]
    },
    {
      "cell_type": "markdown",
      "metadata": {
        "id": "CSy9sPwYHUoD"
      },
      "source": [
        "# [Task 6 - 1.0 points] Transformers\n",
        "\n",
        "In this section, you will use a transformer model specifically trained for hate speech detection, namely [Twitter-roBERTa-base for Hate Speech Detection](https://huggingface.co/cardiffnlp/twitter-roberta-base-hate).\n",
        "\n",
        "\n"
      ]
    },
    {
      "cell_type": "markdown",
      "metadata": {
        "collapsed": false,
        "id": "qAeAycmYLl2A"
      },
      "source": [
        "### Relevant Material\n",
        "- Tutorial 3"
      ]
    },
    {
      "cell_type": "markdown",
      "metadata": {
        "collapsed": false,
        "id": "oO0XTG7zLl2A"
      },
      "source": [
        "### Instructions\n",
        "1. **Load the Tokenizer and Model**\n",
        "\n",
        "2. **Preprocess the Dataset**:\n",
        "   You will need to preprocess your dataset to prepare it for input into the model. Tokenize your text data using the appropriate tokenizer and ensure it is formatted correctly.\n",
        "\n",
        "   **Note**: You have to use the plain text of the dataset and not the version that you tokenized before, as you need to tokenize the cleaned text obtained after the initial cleaning process.\n",
        "\n",
        "3. **Train the Model**:\n",
        "   Use the `Trainer` to train the model on your training data.\n",
        "\n",
        "4. **Evaluate the Model on the Test Set** using F1-macro."
      ]
    },
    {
      "cell_type": "code",
      "execution_count": 8,
      "metadata": {
        "id": "wa9nSBJzLl2A",
        "outputId": "c670a459-e3de-4481-b14b-e1a04beb38d0"
      },
      "outputs": [
        {
          "name": "stdout",
          "output_type": "stream",
          "text": [
            "Requirement already satisfied: datasets in ./.venv/lib/python3.11/site-packages (3.2.0)\n",
            "Requirement already satisfied: filelock in ./.venv/lib/python3.11/site-packages (from datasets) (3.16.1)\n",
            "Requirement already satisfied: numpy>=1.17 in ./.venv/lib/python3.11/site-packages (from datasets) (2.2.1)\n",
            "Requirement already satisfied: pyarrow>=15.0.0 in ./.venv/lib/python3.11/site-packages (from datasets) (18.1.0)\n",
            "Requirement already satisfied: dill<0.3.9,>=0.3.0 in ./.venv/lib/python3.11/site-packages (from datasets) (0.3.8)\n",
            "Requirement already satisfied: pandas in ./.venv/lib/python3.11/site-packages (from datasets) (2.2.3)\n",
            "Requirement already satisfied: requests>=2.32.2 in ./.venv/lib/python3.11/site-packages (from datasets) (2.32.3)\n",
            "Requirement already satisfied: tqdm>=4.66.3 in ./.venv/lib/python3.11/site-packages (from datasets) (4.67.1)\n",
            "Requirement already satisfied: xxhash in ./.venv/lib/python3.11/site-packages (from datasets) (3.5.0)\n",
            "Requirement already satisfied: multiprocess<0.70.17 in ./.venv/lib/python3.11/site-packages (from datasets) (0.70.16)\n",
            "Requirement already satisfied: fsspec<=2024.9.0,>=2023.1.0 in ./.venv/lib/python3.11/site-packages (from fsspec[http]<=2024.9.0,>=2023.1.0->datasets) (2024.9.0)\n",
            "Requirement already satisfied: aiohttp in ./.venv/lib/python3.11/site-packages (from datasets) (3.11.11)\n",
            "Requirement already satisfied: huggingface-hub>=0.23.0 in ./.venv/lib/python3.11/site-packages (from datasets) (0.27.0)\n",
            "Requirement already satisfied: packaging in ./.venv/lib/python3.11/site-packages (from datasets) (24.2)\n",
            "Requirement already satisfied: pyyaml>=5.1 in ./.venv/lib/python3.11/site-packages (from datasets) (6.0.2)\n",
            "Requirement already satisfied: aiohappyeyeballs>=2.3.0 in ./.venv/lib/python3.11/site-packages (from aiohttp->datasets) (2.4.4)\n",
            "Requirement already satisfied: aiosignal>=1.1.2 in ./.venv/lib/python3.11/site-packages (from aiohttp->datasets) (1.3.2)\n",
            "Requirement already satisfied: attrs>=17.3.0 in ./.venv/lib/python3.11/site-packages (from aiohttp->datasets) (24.3.0)\n",
            "Requirement already satisfied: frozenlist>=1.1.1 in ./.venv/lib/python3.11/site-packages (from aiohttp->datasets) (1.5.0)\n",
            "Requirement already satisfied: multidict<7.0,>=4.5 in ./.venv/lib/python3.11/site-packages (from aiohttp->datasets) (6.1.0)\n",
            "Requirement already satisfied: propcache>=0.2.0 in ./.venv/lib/python3.11/site-packages (from aiohttp->datasets) (0.2.1)\n",
            "Requirement already satisfied: yarl<2.0,>=1.17.0 in ./.venv/lib/python3.11/site-packages (from aiohttp->datasets) (1.18.3)\n",
            "Requirement already satisfied: typing-extensions>=3.7.4.3 in ./.venv/lib/python3.11/site-packages (from huggingface-hub>=0.23.0->datasets) (4.12.2)\n",
            "Requirement already satisfied: charset-normalizer<4,>=2 in ./.venv/lib/python3.11/site-packages (from requests>=2.32.2->datasets) (3.4.1)\n",
            "Requirement already satisfied: idna<4,>=2.5 in ./.venv/lib/python3.11/site-packages (from requests>=2.32.2->datasets) (3.10)\n",
            "Requirement already satisfied: urllib3<3,>=1.21.1 in ./.venv/lib/python3.11/site-packages (from requests>=2.32.2->datasets) (2.3.0)\n",
            "Requirement already satisfied: certifi>=2017.4.17 in ./.venv/lib/python3.11/site-packages (from requests>=2.32.2->datasets) (2024.12.14)\n",
            "Requirement already satisfied: python-dateutil>=2.8.2 in ./.venv/lib/python3.11/site-packages (from pandas->datasets) (2.9.0.post0)\n",
            "Requirement already satisfied: pytz>=2020.1 in ./.venv/lib/python3.11/site-packages (from pandas->datasets) (2024.2)\n",
            "Requirement already satisfied: tzdata>=2022.7 in ./.venv/lib/python3.11/site-packages (from pandas->datasets) (2024.2)\n",
            "Requirement already satisfied: six>=1.5 in ./.venv/lib/python3.11/site-packages (from python-dateutil>=2.8.2->pandas->datasets) (1.17.0)\n",
            "Requirement already satisfied: transformers in ./.venv/lib/python3.11/site-packages (4.47.1)\n",
            "Requirement already satisfied: filelock in ./.venv/lib/python3.11/site-packages (from transformers) (3.16.1)\n",
            "Requirement already satisfied: huggingface-hub<1.0,>=0.24.0 in ./.venv/lib/python3.11/site-packages (from transformers) (0.27.0)\n",
            "Requirement already satisfied: numpy>=1.17 in ./.venv/lib/python3.11/site-packages (from transformers) (2.2.1)\n",
            "Requirement already satisfied: packaging>=20.0 in ./.venv/lib/python3.11/site-packages (from transformers) (24.2)\n",
            "Requirement already satisfied: pyyaml>=5.1 in ./.venv/lib/python3.11/site-packages (from transformers) (6.0.2)\n",
            "Requirement already satisfied: regex!=2019.12.17 in ./.venv/lib/python3.11/site-packages (from transformers) (2024.11.6)\n",
            "Requirement already satisfied: requests in ./.venv/lib/python3.11/site-packages (from transformers) (2.32.3)\n",
            "Requirement already satisfied: tokenizers<0.22,>=0.21 in ./.venv/lib/python3.11/site-packages (from transformers) (0.21.0)\n",
            "Requirement already satisfied: safetensors>=0.4.1 in ./.venv/lib/python3.11/site-packages (from transformers) (0.5.0)\n",
            "Requirement already satisfied: tqdm>=4.27 in ./.venv/lib/python3.11/site-packages (from transformers) (4.67.1)\n",
            "Requirement already satisfied: fsspec>=2023.5.0 in ./.venv/lib/python3.11/site-packages (from huggingface-hub<1.0,>=0.24.0->transformers) (2024.9.0)\n",
            "Requirement already satisfied: typing-extensions>=3.7.4.3 in ./.venv/lib/python3.11/site-packages (from huggingface-hub<1.0,>=0.24.0->transformers) (4.12.2)\n",
            "Requirement already satisfied: charset-normalizer<4,>=2 in ./.venv/lib/python3.11/site-packages (from requests->transformers) (3.4.1)\n",
            "Requirement already satisfied: idna<4,>=2.5 in ./.venv/lib/python3.11/site-packages (from requests->transformers) (3.10)\n",
            "Requirement already satisfied: urllib3<3,>=1.21.1 in ./.venv/lib/python3.11/site-packages (from requests->transformers) (2.3.0)\n",
            "Requirement already satisfied: certifi>=2017.4.17 in ./.venv/lib/python3.11/site-packages (from requests->transformers) (2024.12.14)\n"
          ]
        }
      ],
      "source": [
        "!pip install datasets\n",
        "!pip install transformers"
      ]
    },
    {
      "cell_type": "code",
      "execution_count": 9,
      "metadata": {},
      "outputs": [
        {
          "name": "stdout",
          "output_type": "stream",
          "text": [
            "Requirement already satisfied: huggingface_hub[cli] in ./.venv/lib/python3.11/site-packages (0.27.0)\n",
            "Requirement already satisfied: filelock in ./.venv/lib/python3.11/site-packages (from huggingface_hub[cli]) (3.16.1)\n",
            "Requirement already satisfied: fsspec>=2023.5.0 in ./.venv/lib/python3.11/site-packages (from huggingface_hub[cli]) (2024.9.0)\n",
            "Requirement already satisfied: packaging>=20.9 in ./.venv/lib/python3.11/site-packages (from huggingface_hub[cli]) (24.2)\n",
            "Requirement already satisfied: pyyaml>=5.1 in ./.venv/lib/python3.11/site-packages (from huggingface_hub[cli]) (6.0.2)\n",
            "Requirement already satisfied: requests in ./.venv/lib/python3.11/site-packages (from huggingface_hub[cli]) (2.32.3)\n",
            "Requirement already satisfied: tqdm>=4.42.1 in ./.venv/lib/python3.11/site-packages (from huggingface_hub[cli]) (4.67.1)\n",
            "Requirement already satisfied: typing-extensions>=3.7.4.3 in ./.venv/lib/python3.11/site-packages (from huggingface_hub[cli]) (4.12.2)\n",
            "Requirement already satisfied: InquirerPy==0.3.4 in ./.venv/lib/python3.11/site-packages (from huggingface_hub[cli]) (0.3.4)\n",
            "Requirement already satisfied: pfzy<0.4.0,>=0.3.1 in ./.venv/lib/python3.11/site-packages (from InquirerPy==0.3.4->huggingface_hub[cli]) (0.3.4)\n",
            "Requirement already satisfied: prompt-toolkit<4.0.0,>=3.0.1 in ./.venv/lib/python3.11/site-packages (from InquirerPy==0.3.4->huggingface_hub[cli]) (3.0.48)\n",
            "Requirement already satisfied: charset-normalizer<4,>=2 in ./.venv/lib/python3.11/site-packages (from requests->huggingface_hub[cli]) (3.4.1)\n",
            "Requirement already satisfied: idna<4,>=2.5 in ./.venv/lib/python3.11/site-packages (from requests->huggingface_hub[cli]) (3.10)\n",
            "Requirement already satisfied: urllib3<3,>=1.21.1 in ./.venv/lib/python3.11/site-packages (from requests->huggingface_hub[cli]) (2.3.0)\n",
            "Requirement already satisfied: certifi>=2017.4.17 in ./.venv/lib/python3.11/site-packages (from requests->huggingface_hub[cli]) (2024.12.14)\n",
            "Requirement already satisfied: wcwidth in ./.venv/lib/python3.11/site-packages (from prompt-toolkit<4.0.0,>=3.0.1->InquirerPy==0.3.4->huggingface_hub[cli]) (0.2.13)\n"
          ]
        }
      ],
      "source": [
        "!pip install -U \"huggingface_hub[cli]\"\n"
      ]
    },
    {
      "cell_type": "code",
      "execution_count": 38,
      "metadata": {
        "id": "KnLujrDSLl2B"
      },
      "outputs": [],
      "source": [
        "import numpy as np\n",
        "import pandas as pd\n",
        "from datasets import Dataset\n",
        "from transformers import DataCollatorWithPadding\n",
        "from transformers import AutoModelForSequenceClassification, TrainingArguments, Trainer, EarlyStoppingCallback, AutoTokenizer\n",
        "from sklearn.metrics import f1_score, accuracy_score\n",
        "import os"
      ]
    },
    {
      "cell_type": "code",
      "execution_count": 39,
      "metadata": {
        "id": "0j45lqEVLl2B"
      },
      "outputs": [],
      "source": [
        "train_data = Dataset.from_pandas(data_training_cleaned)\n",
        "validation_data = Dataset.from_pandas(data_validation_cleaned)\n",
        "test_data = Dataset.from_pandas(data_test_cleaned)"
      ]
    },
    {
      "cell_type": "code",
      "execution_count": 40,
      "metadata": {
        "id": "GmsP5d3hLl2B",
        "outputId": "96ed75ad-f249-4bc1-e9e8-eb4c37ef7291"
      },
      "outputs": [],
      "source": [
        "train_data = train_data.rename_column('hard_label_task1', 'label')\n",
        "validation_data = validation_data.rename_column('hard_label_task1', 'label')\n",
        "test_data = test_data.rename_column('hard_label_task1', 'label')"
      ]
    },
    {
      "cell_type": "code",
      "execution_count": 41,
      "metadata": {
        "id": "hz8fn_92Ll2C"
      },
      "outputs": [],
      "source": [
        "def compute_metrics(eval_pred):\n",
        "    logits, labels = eval_pred\n",
        "    predictions = np.argmax(logits, axis=-1)\n",
        "    f1 = f1_score(labels, predictions, average='macro')\n",
        "    acc = accuracy_score(labels, predictions)\n",
        "    return {\"f1\": f1, \"accuracy\": acc}\n"
      ]
    },
    {
      "cell_type": "code",
      "execution_count": 69,
      "metadata": {
        "id": "qCn4vfBuLl2C"
      },
      "outputs": [],
      "source": [
        "pretrained_models = {\n",
        "    \"cardiffnlp/twitter-roberta-base-hate\": \"cardiffnlp/twitter-roberta-base-hate\",  \n",
        "}\n",
        "seeds = [144, 256, 42]"
      ]
    },
    {
      "cell_type": "code",
      "execution_count": 88,
      "metadata": {},
      "outputs": [
        {
          "name": "stdout",
          "output_type": "stream",
          "text": [
            "\n",
            "==================================================\n",
            "Starting training for cardiffnlp/twitter-roberta-base-hate with seed 144\n",
            "==================================================\n",
            "\n",
            "1. Loading tokenizer...\n",
            "2. Preparing datasets...\n"
          ]
        },
        {
          "name": "stderr",
          "output_type": "stream",
          "text": [
            "Map: 100%|██████████| 2870/2870 [00:00<00:00, 25053.96 examples/s]\n",
            "Map: 100%|██████████| 158/158 [00:00<00:00, 21777.85 examples/s]\n",
            "Map: 100%|██████████| 286/286 [00:00<00:00, 27794.22 examples/s]"
          ]
        },
        {
          "name": "stdout",
          "output_type": "stream",
          "text": [
            "3. Loading model...\n"
          ]
        },
        {
          "name": "stderr",
          "output_type": "stream",
          "text": [
            "\n"
          ]
        },
        {
          "name": "stdout",
          "output_type": "stream",
          "text": [
            "4. Setting up training arguments...\n"
          ]
        },
        {
          "name": "stderr",
          "output_type": "stream",
          "text": [
            "/Users/ehsan/Desktop/NLP_assignment/nlp_assignment_1/.venv/lib/python3.11/site-packages/transformers/training_args.py:1575: FutureWarning: `evaluation_strategy` is deprecated and will be removed in version 4.46 of 🤗 Transformers. Use `eval_strategy` instead\n",
            "  warnings.warn(\n",
            "/var/folders/x6/t819xn051hvgc3lldbwgshrr0000gn/T/ipykernel_94472/3224683835.py:58: FutureWarning: `tokenizer` is deprecated and will be removed in version 5.0.0 for `Trainer.__init__`. Use `processing_class` instead.\n",
            "  trainer = Trainer(\n",
            "huggingface/tokenizers: The current process just got forked, after parallelism has already been used. Disabling parallelism to avoid deadlocks...\n",
            "To disable this warning, you can either:\n",
            "\t- Avoid using `tokenizers` before the fork if possible\n",
            "\t- Explicitly set the environment variable TOKENIZERS_PARALLELISM=(true | false)\n"
          ]
        },
        {
          "name": "stdout",
          "output_type": "stream",
          "text": [
            "6. Starting training...\n"
          ]
        },
        {
          "name": "stderr",
          "output_type": "stream",
          "text": [
            "  0%|          | 1/1440 [00:00<10:14,  2.34it/s]"
          ]
        },
        {
          "name": "stdout",
          "output_type": "stream",
          "text": [
            "{'loss': 0.6752, 'grad_norm': 12.345504760742188, 'learning_rate': 1.3888888888888888e-07, 'epoch': 0.01}\n"
          ]
        },
        {
          "name": "stderr",
          "output_type": "stream",
          "text": [
            "  7%|▋         | 100/1440 [00:43<09:42,  2.30it/s]"
          ]
        },
        {
          "name": "stdout",
          "output_type": "stream",
          "text": [
            "{'loss': 0.4714, 'grad_norm': 10.97596263885498, 'learning_rate': 1.388888888888889e-05, 'epoch': 0.56}\n"
          ]
        },
        {
          "name": "stderr",
          "output_type": "stream",
          "text": [
            " 12%|█▎        | 180/1440 [01:17<07:41,  2.73it/s]\n",
            " 12%|█▎        | 180/1440 [01:18<07:41,  2.73it/s]"
          ]
        },
        {
          "name": "stdout",
          "output_type": "stream",
          "text": [
            "{'eval_loss': 0.3447039723396301, 'eval_f1': 0.8642111724984654, 'eval_accuracy': 0.8670886075949367, 'eval_runtime': 1.2255, 'eval_samples_per_second': 128.923, 'eval_steps_per_second': 8.16, 'epoch': 1.0}\n"
          ]
        },
        {
          "name": "stderr",
          "output_type": "stream",
          "text": [
            " 14%|█▍        | 200/1440 [01:28<08:43,  2.37it/s]"
          ]
        },
        {
          "name": "stdout",
          "output_type": "stream",
          "text": [
            "{'loss': 0.425, 'grad_norm': 16.31563377380371, 'learning_rate': 1.9135802469135804e-05, 'epoch': 1.11}\n"
          ]
        },
        {
          "name": "stderr",
          "output_type": "stream",
          "text": [
            " 21%|██        | 300/1440 [02:11<07:58,  2.38it/s]"
          ]
        },
        {
          "name": "stdout",
          "output_type": "stream",
          "text": [
            "{'loss': 0.3409, 'grad_norm': 18.828065872192383, 'learning_rate': 1.7592592592592595e-05, 'epoch': 1.67}\n"
          ]
        },
        {
          "name": "stderr",
          "output_type": "stream",
          "text": [
            " 25%|██▌       | 360/1440 [02:36<06:26,  2.79it/s]\n",
            " 25%|██▌       | 360/1440 [02:37<06:26,  2.79it/s]"
          ]
        },
        {
          "name": "stdout",
          "output_type": "stream",
          "text": [
            "{'eval_loss': 0.3736947178840637, 'eval_f1': 0.8459843187115914, 'eval_accuracy': 0.8544303797468354, 'eval_runtime': 1.174, 'eval_samples_per_second': 134.587, 'eval_steps_per_second': 8.518, 'epoch': 2.0}\n"
          ]
        },
        {
          "name": "stderr",
          "output_type": "stream",
          "text": [
            " 28%|██▊       | 400/1440 [02:55<07:15,  2.39it/s]"
          ]
        },
        {
          "name": "stdout",
          "output_type": "stream",
          "text": [
            "{'loss': 0.2806, 'grad_norm': 13.984070777893066, 'learning_rate': 1.6049382716049385e-05, 'epoch': 2.22}\n"
          ]
        },
        {
          "name": "stderr",
          "output_type": "stream",
          "text": [
            " 35%|███▍      | 500/1440 [03:37<06:32,  2.40it/s]"
          ]
        },
        {
          "name": "stdout",
          "output_type": "stream",
          "text": [
            "{'loss': 0.1938, 'grad_norm': 10.956353187561035, 'learning_rate': 1.4506172839506174e-05, 'epoch': 2.78}\n"
          ]
        },
        {
          "name": "stderr",
          "output_type": "stream",
          "text": [
            " 38%|███▊      | 540/1440 [03:54<05:29,  2.73it/s]\n",
            " 38%|███▊      | 540/1440 [03:55<05:29,  2.73it/s]"
          ]
        },
        {
          "name": "stdout",
          "output_type": "stream",
          "text": [
            "{'eval_loss': 0.6178439259529114, 'eval_f1': 0.8291152930997188, 'eval_accuracy': 0.8417721518987342, 'eval_runtime': 1.1851, 'eval_samples_per_second': 133.322, 'eval_steps_per_second': 8.438, 'epoch': 3.0}\n"
          ]
        },
        {
          "name": "stderr",
          "output_type": "stream",
          "text": [
            " 38%|███▊      | 540/1440 [03:57<06:35,  2.27it/s]\n"
          ]
        },
        {
          "name": "stdout",
          "output_type": "stream",
          "text": [
            "{'train_runtime': 237.4696, 'train_samples_per_second': 96.686, 'train_steps_per_second': 6.064, 'train_loss': 0.3328779953497428, 'epoch': 3.0}\n",
            "Training completed successfully!\n",
            "7. Evaluating on test set...\n"
          ]
        },
        {
          "name": "stderr",
          "output_type": "stream",
          "text": [
            "100%|██████████| 10/10 [00:01<00:00,  9.57it/s]\n"
          ]
        },
        {
          "name": "stdout",
          "output_type": "stream",
          "text": [
            "\n",
            "==================================================\n",
            "Starting training for cardiffnlp/twitter-roberta-base-hate with seed 256\n",
            "==================================================\n",
            "\n",
            "1. Loading tokenizer...\n",
            "2. Preparing datasets...\n"
          ]
        },
        {
          "name": "stderr",
          "output_type": "stream",
          "text": [
            "Map: 100%|██████████| 2870/2870 [00:00<00:00, 23895.33 examples/s]\n",
            "Map: 100%|██████████| 158/158 [00:00<00:00, 18663.40 examples/s]\n",
            "Map: 100%|██████████| 286/286 [00:00<00:00, 21611.17 examples/s]"
          ]
        },
        {
          "name": "stdout",
          "output_type": "stream",
          "text": [
            "3. Loading model...\n"
          ]
        },
        {
          "name": "stderr",
          "output_type": "stream",
          "text": [
            "\n"
          ]
        },
        {
          "name": "stdout",
          "output_type": "stream",
          "text": [
            "4. Setting up training arguments...\n"
          ]
        },
        {
          "name": "stderr",
          "output_type": "stream",
          "text": [
            "/Users/ehsan/Desktop/NLP_assignment/nlp_assignment_1/.venv/lib/python3.11/site-packages/transformers/training_args.py:1575: FutureWarning: `evaluation_strategy` is deprecated and will be removed in version 4.46 of 🤗 Transformers. Use `eval_strategy` instead\n",
            "  warnings.warn(\n",
            "/var/folders/x6/t819xn051hvgc3lldbwgshrr0000gn/T/ipykernel_94472/3224683835.py:58: FutureWarning: `tokenizer` is deprecated and will be removed in version 5.0.0 for `Trainer.__init__`. Use `processing_class` instead.\n",
            "  trainer = Trainer(\n",
            "huggingface/tokenizers: The current process just got forked, after parallelism has already been used. Disabling parallelism to avoid deadlocks...\n",
            "To disable this warning, you can either:\n",
            "\t- Avoid using `tokenizers` before the fork if possible\n",
            "\t- Explicitly set the environment variable TOKENIZERS_PARALLELISM=(true | false)\n"
          ]
        },
        {
          "name": "stdout",
          "output_type": "stream",
          "text": [
            "6. Starting training...\n"
          ]
        },
        {
          "name": "stderr",
          "output_type": "stream",
          "text": [
            "  0%|          | 1/1440 [00:00<10:19,  2.32it/s]"
          ]
        },
        {
          "name": "stdout",
          "output_type": "stream",
          "text": [
            "{'loss': 0.8676, 'grad_norm': 18.197982788085938, 'learning_rate': 1.3888888888888888e-07, 'epoch': 0.01}\n"
          ]
        },
        {
          "name": "stderr",
          "output_type": "stream",
          "text": [
            "  7%|▋         | 100/1440 [00:41<09:19,  2.40it/s]"
          ]
        },
        {
          "name": "stdout",
          "output_type": "stream",
          "text": [
            "{'loss': 0.4826, 'grad_norm': 12.644590377807617, 'learning_rate': 1.388888888888889e-05, 'epoch': 0.56}\n"
          ]
        },
        {
          "name": "stderr",
          "output_type": "stream",
          "text": [
            " 12%|█▎        | 180/1440 [01:15<07:41,  2.73it/s]\n",
            " 12%|█▎        | 180/1440 [01:16<07:41,  2.73it/s]"
          ]
        },
        {
          "name": "stdout",
          "output_type": "stream",
          "text": [
            "{'eval_loss': 0.36971214413642883, 'eval_f1': 0.8562448304383788, 'eval_accuracy': 0.8607594936708861, 'eval_runtime': 1.2156, 'eval_samples_per_second': 129.974, 'eval_steps_per_second': 8.226, 'epoch': 1.0}\n"
          ]
        },
        {
          "name": "stderr",
          "output_type": "stream",
          "text": [
            " 14%|█▍        | 200/1440 [01:26<08:51,  2.33it/s]"
          ]
        },
        {
          "name": "stdout",
          "output_type": "stream",
          "text": [
            "{'loss': 0.413, 'grad_norm': 6.8625569343566895, 'learning_rate': 1.9135802469135804e-05, 'epoch': 1.11}\n"
          ]
        },
        {
          "name": "stderr",
          "output_type": "stream",
          "text": [
            " 21%|██        | 300/1440 [02:09<07:58,  2.38it/s]"
          ]
        },
        {
          "name": "stdout",
          "output_type": "stream",
          "text": [
            "{'loss': 0.3037, 'grad_norm': 24.788671493530273, 'learning_rate': 1.7592592592592595e-05, 'epoch': 1.67}\n"
          ]
        },
        {
          "name": "stderr",
          "output_type": "stream",
          "text": [
            " 25%|██▌       | 360/1440 [02:34<06:28,  2.78it/s]\n",
            " 25%|██▌       | 360/1440 [02:35<06:28,  2.78it/s]"
          ]
        },
        {
          "name": "stdout",
          "output_type": "stream",
          "text": [
            "{'eval_loss': 0.37116679549217224, 'eval_f1': 0.8531350346459354, 'eval_accuracy': 0.8607594936708861, 'eval_runtime': 1.1729, 'eval_samples_per_second': 134.703, 'eval_steps_per_second': 8.526, 'epoch': 2.0}\n"
          ]
        },
        {
          "name": "stderr",
          "output_type": "stream",
          "text": [
            " 28%|██▊       | 400/1440 [02:54<07:23,  2.35it/s]"
          ]
        },
        {
          "name": "stdout",
          "output_type": "stream",
          "text": [
            "{'loss': 0.2776, 'grad_norm': 11.7655611038208, 'learning_rate': 1.6049382716049385e-05, 'epoch': 2.22}\n"
          ]
        },
        {
          "name": "stderr",
          "output_type": "stream",
          "text": [
            " 35%|███▍      | 500/1440 [03:36<06:30,  2.41it/s]"
          ]
        },
        {
          "name": "stdout",
          "output_type": "stream",
          "text": [
            "{'loss': 0.2198, 'grad_norm': 36.57221221923828, 'learning_rate': 1.4506172839506174e-05, 'epoch': 2.78}\n"
          ]
        },
        {
          "name": "stderr",
          "output_type": "stream",
          "text": [
            " 38%|███▊      | 540/1440 [03:52<05:33,  2.70it/s]\n",
            " 38%|███▊      | 540/1440 [03:54<05:33,  2.70it/s]"
          ]
        },
        {
          "name": "stdout",
          "output_type": "stream",
          "text": [
            "{'eval_loss': 0.5354557037353516, 'eval_f1': 0.8522108843537415, 'eval_accuracy': 0.8607594936708861, 'eval_runtime': 1.1871, 'eval_samples_per_second': 133.097, 'eval_steps_per_second': 8.424, 'epoch': 3.0}\n"
          ]
        },
        {
          "name": "stderr",
          "output_type": "stream",
          "text": [
            " 38%|███▊      | 540/1440 [03:56<06:34,  2.28it/s]\n"
          ]
        },
        {
          "name": "stdout",
          "output_type": "stream",
          "text": [
            "{'train_runtime': 236.4412, 'train_samples_per_second': 97.107, 'train_steps_per_second': 6.09, 'train_loss': 0.32692265488483285, 'epoch': 3.0}\n",
            "Training completed successfully!\n",
            "7. Evaluating on test set...\n"
          ]
        },
        {
          "name": "stderr",
          "output_type": "stream",
          "text": [
            "100%|██████████| 10/10 [00:01<00:00,  9.17it/s]\n"
          ]
        },
        {
          "name": "stdout",
          "output_type": "stream",
          "text": [
            "\n",
            "==================================================\n",
            "Starting training for cardiffnlp/twitter-roberta-base-hate with seed 42\n",
            "==================================================\n",
            "\n",
            "1. Loading tokenizer...\n",
            "2. Preparing datasets...\n"
          ]
        },
        {
          "name": "stderr",
          "output_type": "stream",
          "text": [
            "Map: 100%|██████████| 2870/2870 [00:00<00:00, 24288.85 examples/s]\n",
            "Map: 100%|██████████| 158/158 [00:00<00:00, 15679.27 examples/s]\n",
            "Map: 100%|██████████| 286/286 [00:00<00:00, 14717.94 examples/s]"
          ]
        },
        {
          "name": "stdout",
          "output_type": "stream",
          "text": [
            "3. Loading model...\n"
          ]
        },
        {
          "name": "stderr",
          "output_type": "stream",
          "text": [
            "\n",
            "huggingface/tokenizers: The current process just got forked, after parallelism has already been used. Disabling parallelism to avoid deadlocks...\n",
            "To disable this warning, you can either:\n",
            "\t- Avoid using `tokenizers` before the fork if possible\n",
            "\t- Explicitly set the environment variable TOKENIZERS_PARALLELISM=(true | false)\n",
            "/Users/ehsan/Desktop/NLP_assignment/nlp_assignment_1/.venv/lib/python3.11/site-packages/transformers/training_args.py:1575: FutureWarning: `evaluation_strategy` is deprecated and will be removed in version 4.46 of 🤗 Transformers. Use `eval_strategy` instead\n",
            "  warnings.warn(\n",
            "/var/folders/x6/t819xn051hvgc3lldbwgshrr0000gn/T/ipykernel_94472/3224683835.py:58: FutureWarning: `tokenizer` is deprecated and will be removed in version 5.0.0 for `Trainer.__init__`. Use `processing_class` instead.\n",
            "  trainer = Trainer(\n"
          ]
        },
        {
          "name": "stdout",
          "output_type": "stream",
          "text": [
            "4. Setting up training arguments...\n",
            "6. Starting training...\n"
          ]
        },
        {
          "name": "stderr",
          "output_type": "stream",
          "text": [
            "  0%|          | 1/1440 [00:00<10:20,  2.32it/s]"
          ]
        },
        {
          "name": "stdout",
          "output_type": "stream",
          "text": [
            "{'loss': 0.4605, 'grad_norm': 15.699357986450195, 'learning_rate': 1.3888888888888888e-07, 'epoch': 0.01}\n"
          ]
        },
        {
          "name": "stderr",
          "output_type": "stream",
          "text": [
            "  7%|▋         | 100/1440 [00:42<09:29,  2.35it/s]"
          ]
        },
        {
          "name": "stdout",
          "output_type": "stream",
          "text": [
            "{'loss': 0.4816, 'grad_norm': 10.504803657531738, 'learning_rate': 1.388888888888889e-05, 'epoch': 0.56}\n"
          ]
        },
        {
          "name": "stderr",
          "output_type": "stream",
          "text": [
            " 12%|█▎        | 180/1440 [01:16<07:37,  2.75it/s]\n",
            " 12%|█▎        | 180/1440 [01:17<07:37,  2.75it/s]"
          ]
        },
        {
          "name": "stdout",
          "output_type": "stream",
          "text": [
            "{'eval_loss': 0.3893112242221832, 'eval_f1': 0.8284043441938178, 'eval_accuracy': 0.8354430379746836, 'eval_runtime': 1.2307, 'eval_samples_per_second': 128.383, 'eval_steps_per_second': 8.126, 'epoch': 1.0}\n"
          ]
        },
        {
          "name": "stderr",
          "output_type": "stream",
          "text": [
            " 14%|█▍        | 200/1440 [01:27<08:37,  2.40it/s]"
          ]
        },
        {
          "name": "stdout",
          "output_type": "stream",
          "text": [
            "{'loss': 0.4224, 'grad_norm': 10.158513069152832, 'learning_rate': 1.9135802469135804e-05, 'epoch': 1.11}\n"
          ]
        },
        {
          "name": "stderr",
          "output_type": "stream",
          "text": [
            " 21%|██        | 300/1440 [02:09<07:51,  2.42it/s]"
          ]
        },
        {
          "name": "stdout",
          "output_type": "stream",
          "text": [
            "{'loss': 0.3353, 'grad_norm': 10.803266525268555, 'learning_rate': 1.7592592592592595e-05, 'epoch': 1.67}\n"
          ]
        },
        {
          "name": "stderr",
          "output_type": "stream",
          "text": [
            " 25%|██▌       | 360/1440 [02:35<06:38,  2.71it/s]\n",
            " 25%|██▌       | 360/1440 [02:36<06:38,  2.71it/s]"
          ]
        },
        {
          "name": "stdout",
          "output_type": "stream",
          "text": [
            "{'eval_loss': 0.33883005380630493, 'eval_f1': 0.8680033416875522, 'eval_accuracy': 0.8734177215189873, 'eval_runtime': 1.1851, 'eval_samples_per_second': 133.319, 'eval_steps_per_second': 8.438, 'epoch': 2.0}\n"
          ]
        },
        {
          "name": "stderr",
          "output_type": "stream",
          "text": [
            " 28%|██▊       | 400/1440 [02:55<07:22,  2.35it/s]"
          ]
        },
        {
          "name": "stdout",
          "output_type": "stream",
          "text": [
            "{'loss': 0.2864, 'grad_norm': 1.5604100227355957, 'learning_rate': 1.6049382716049385e-05, 'epoch': 2.22}\n"
          ]
        },
        {
          "name": "stderr",
          "output_type": "stream",
          "text": [
            " 35%|███▍      | 500/1440 [03:38<06:36,  2.37it/s]"
          ]
        },
        {
          "name": "stdout",
          "output_type": "stream",
          "text": [
            "{'loss': 0.2231, 'grad_norm': 14.002696990966797, 'learning_rate': 1.4506172839506174e-05, 'epoch': 2.78}\n"
          ]
        },
        {
          "name": "stderr",
          "output_type": "stream",
          "text": [
            " 38%|███▊      | 540/1440 [03:54<05:25,  2.76it/s]\n",
            " 38%|███▊      | 540/1440 [03:56<05:25,  2.76it/s]"
          ]
        },
        {
          "name": "stdout",
          "output_type": "stream",
          "text": [
            "{'eval_loss': 0.4200916886329651, 'eval_f1': 0.869313482216708, 'eval_accuracy': 0.8734177215189873, 'eval_runtime': 1.182, 'eval_samples_per_second': 133.674, 'eval_steps_per_second': 8.46, 'epoch': 3.0}\n"
          ]
        },
        {
          "name": "stderr",
          "output_type": "stream",
          "text": [
            " 42%|████▏     | 600/1440 [04:23<05:55,  2.37it/s]"
          ]
        },
        {
          "name": "stdout",
          "output_type": "stream",
          "text": [
            "{'loss': 0.1747, 'grad_norm': 13.311227798461914, 'learning_rate': 1.2962962962962964e-05, 'epoch': 3.33}\n"
          ]
        },
        {
          "name": "stderr",
          "output_type": "stream",
          "text": [
            " 49%|████▊     | 700/1440 [05:05<05:12,  2.37it/s]"
          ]
        },
        {
          "name": "stdout",
          "output_type": "stream",
          "text": [
            "{'loss': 0.1121, 'grad_norm': 4.350480556488037, 'learning_rate': 1.1419753086419753e-05, 'epoch': 3.89}\n"
          ]
        },
        {
          "name": "stderr",
          "output_type": "stream",
          "text": [
            " 50%|█████     | 720/1440 [05:13<04:20,  2.77it/s]\n",
            " 50%|█████     | 720/1440 [05:14<04:20,  2.77it/s]"
          ]
        },
        {
          "name": "stdout",
          "output_type": "stream",
          "text": [
            "{'eval_loss': 0.7836160063743591, 'eval_f1': 0.8548036758563073, 'eval_accuracy': 0.8607594936708861, 'eval_runtime': 1.1665, 'eval_samples_per_second': 135.444, 'eval_steps_per_second': 8.572, 'epoch': 4.0}\n"
          ]
        },
        {
          "name": "stderr",
          "output_type": "stream",
          "text": [
            " 50%|█████     | 720/1440 [05:17<05:17,  2.27it/s]\n"
          ]
        },
        {
          "name": "stdout",
          "output_type": "stream",
          "text": [
            "{'train_runtime': 316.9387, 'train_samples_per_second': 72.443, 'train_steps_per_second': 4.543, 'train_loss': 0.2842117879125807, 'epoch': 4.0}\n",
            "Training completed successfully!\n",
            "7. Evaluating on test set...\n"
          ]
        },
        {
          "name": "stderr",
          "output_type": "stream",
          "text": [
            "100%|██████████| 10/10 [00:01<00:00,  9.63it/s]\n"
          ]
        }
      ],
      "source": [
        "\n",
        "all_results = {}\n",
        "best_models = {}\n",
        "\n",
        "for model_name, tokenizer_name in pretrained_models.items():\n",
        "    all_results[model_name] = {}\n",
        "    for seed in seeds:\n",
        "        print(f\"\\n{'='*50}\")\n",
        "        print(f\"Starting training for {model_name} with seed {seed}\")\n",
        "        print(f\"{'='*50}\\n\")\n",
        "\n",
        "        print(\"1. Loading tokenizer...\")\n",
        "        tokenizer = AutoTokenizer.from_pretrained(tokenizer_name)\n",
        "        \n",
        "        # Modified to use 'tweet' column\n",
        "        def tokenize_function(examples):\n",
        "            return tokenizer(examples['tweet'], truncation=True, padding='max_length', max_length=128)\n",
        "        \n",
        "        print(\"2. Preparing datasets...\")\n",
        "        tokenized_train = train_data.map(tokenize_function, batched=True)\n",
        "        tokenized_val = validation_data.map(tokenize_function, batched=True)\n",
        "        tokenized_test = test_data.map(tokenize_function, batched=True)\n",
        "        data_collator = DataCollatorWithPadding(tokenizer=tokenizer)\n",
        "        print(\"3. Loading model...\")\n",
        "        model = AutoModelForSequenceClassification.from_pretrained(\n",
        "            model_name,\n",
        "            num_labels=2,\n",
        "            id2label={0: 'NO', 1: 'YES'},\n",
        "            label2id={'NO': 0, 'YES': 1}\n",
        "        )\n",
        "\n",
        "        print(\"4. Setting up training arguments...\")\n",
        "        training_args = TrainingArguments(\n",
        "            output_dir=f\"./trained_model/{model_name.replace('/', '_')}_seed_{seed}\",\n",
        "            learning_rate=2e-05,\n",
        "            per_device_train_batch_size=16,\n",
        "            per_device_eval_batch_size=16,\n",
        "            num_train_epochs=8,\n",
        "            weight_decay=0.01,\n",
        "            evaluation_strategy=\"epoch\",\n",
        "            save_strategy=\"epoch\",\n",
        "            lr_scheduler_type='linear',\n",
        "            load_best_model_at_end=True,\n",
        "            save_total_limit=1,\n",
        "            metric_for_best_model=\"f1\",\n",
        "            greater_is_better=True,\n",
        "            report_to=\"none\",\n",
        "            seed=seed,\n",
        "            warmup_ratio=0.1,\n",
        "            logging_steps=100,\n",
        "            logging_first_step=True\n",
        "        )\n",
        "\n",
        "        early_stopping_callback = EarlyStoppingCallback(\n",
        "            early_stopping_patience=2,\n",
        "            early_stopping_threshold=0.01\n",
        "        )\n",
        "\n",
        "        trainer = Trainer(\n",
        "            model=model,\n",
        "            args=training_args,\n",
        "            train_dataset=tokenized_train,\n",
        "            eval_dataset=tokenized_val,\n",
        "            tokenizer=tokenizer,\n",
        "            data_collator=data_collator,\n",
        "            compute_metrics=compute_metrics,\n",
        "            callbacks=[early_stopping_callback]\n",
        "        )\n",
        "\n",
        "        print(\"6. Starting training...\")\n",
        "        try:\n",
        "            train_output = trainer.train()\n",
        "            print(\"Training completed successfully!\")\n",
        "            best_models[(model_name, seed)] = training_args.output_dir\n",
        "            \n",
        "            # Evaluate on test set\n",
        "            print(\"7. Evaluating on test set...\")\n",
        "            test_results = trainer.evaluate(tokenized_val)\n",
        "            all_results[model_name][seed] = test_results\n",
        "            \n",
        "            \n",
        "        except Exception as e:\n",
        "            print(f\"Error during training: {str(e)}\")\n",
        "            continue"
      ]
    },
    {
      "cell_type": "code",
      "execution_count": 89,
      "metadata": {
        "id": "58m8mop8Ll2D"
      },
      "outputs": [
        {
          "name": "stdout",
          "output_type": "stream",
          "text": [
            "\n",
            "--- Detailed Evaluation Results ---\n",
            "\n",
            "Model: cardiffnlp/twitter-roberta-base-hate\n",
            "  Seed 144: F1 Score = 0.8642\n",
            "  Seed 256: F1 Score = 0.8562\n",
            "  Seed 42: F1 Score = 0.8693\n",
            "  Average F1 Score (across seeds): 0.8633\n",
            "  Standard Deviation of F1 Scores: 0.0054\n",
            "\n",
            "--- Paths to the Best Models ---\n",
            "Best model for cardiffnlp/twitter-roberta-base-hate with seed 144: ./trained_model/cardiffnlp_twitter-roberta-base-hate_seed_144\n",
            "Best model for cardiffnlp/twitter-roberta-base-hate with seed 256: ./trained_model/cardiffnlp_twitter-roberta-base-hate_seed_256\n",
            "Best model for cardiffnlp/twitter-roberta-base-hate with seed 42: ./trained_model/cardiffnlp_twitter-roberta-base-hate_seed_42\n"
          ]
        }
      ],
      "source": [
        "\n",
        "\n",
        "print(\"\\n--- Detailed Evaluation Results ---\")\n",
        "for model_name, seed_results in all_results.items():\n",
        "    print(f\"\\nModel: {model_name}\")\n",
        "    f1_scores = []\n",
        "    for seed, results in seed_results.items():\n",
        "        f1 = results['eval_f1']\n",
        "        f1_scores.append(f1)\n",
        "        print(f\"  Seed {seed}: F1 Score = {f1:.4f}\")\n",
        "\n",
        "    if f1_scores: # Check if there are any successful evaluations\n",
        "        avg_f1 = np.mean(f1_scores)\n",
        "        std_f1 = np.std(f1_scores)\n",
        "        print(f\"  Average F1 Score (across seeds): {avg_f1:.4f}\")\n",
        "        print(f\"  Standard Deviation of F1 Scores: {std_f1:.4f}\")\n",
        "        # print(\"  Analysis:\")\n",
        "        # if std_f1 > 0.01:\n",
        "        #     print(\"    Significant variation in performance across different seeds.\")\n",
        "        # else:\n",
        "        #     print(\"    Consistent performance across different seeds, suggesting a more robust training process for this model.\")\n",
        "\n",
        "    else:\n",
        "        print(\"  No successful evaluations for this model.\")\n",
        "\n",
        "print(\"\\n--- Paths to the Best Models ---\")\n",
        "for (model_name, seed), path in best_models.items():\n",
        "    print(f\"Best model for {model_name} with seed {seed}: {path}\")"
      ]
    },
    {
      "cell_type": "code",
      "execution_count": 95,
      "metadata": {},
      "outputs": [
        {
          "name": "stdout",
          "output_type": "stream",
          "text": [
            "Processing model: cardiffnlp_twitter-roberta-base-hate_seed_42 using checkpoint: ./trained_model/cardiffnlp_twitter-roberta-base-hate_seed_42/checkpoint-540\n"
          ]
        },
        {
          "name": "stderr",
          "output_type": "stream",
          "text": [
            "/var/folders/x6/t819xn051hvgc3lldbwgshrr0000gn/T/ipykernel_94472/4223451030.py:39: FutureWarning: `tokenizer` is deprecated and will be removed in version 5.0.0 for `Trainer.__init__`. Use `processing_class` instead.\n",
            "  trainer = Trainer(\n",
            "100%|██████████| 10/10 [00:01<00:00,  9.59it/s]\n"
          ]
        },
        {
          "data": {
            "image/png": "[encoded data removed]",
            "text/plain": [
              "<Figure size 640x480 with 2 Axes>"
            ]
          },
          "metadata": {},
          "output_type": "display_data"
        },
        {
          "name": "stderr",
          "output_type": "stream",
          "text": [
            "/var/folders/x6/t819xn051hvgc3lldbwgshrr0000gn/T/ipykernel_94472/4223451030.py:39: FutureWarning: `tokenizer` is deprecated and will be removed in version 5.0.0 for `Trainer.__init__`. Use `processing_class` instead.\n",
            "  trainer = Trainer(\n"
          ]
        },
        {
          "name": "stdout",
          "output_type": "stream",
          "text": [
            "\n",
            "False Positive rows for cardiffnlp_twitter-roberta-base-hate_seed_42:\n",
            "                                                 tweet  label  predicted_label\n",
            "13   yo radical republicansamp member of the patria...      0                1\n",
            "22              wish all of you a very happy women day      0                1\n",
            "27       this world would not last a day without woman      0                1\n",
            "32   gynocentrism and androcentrism if you want to ...      0                1\n",
            "53   bitch a maker mark bottle you have see a docto...      0                1\n",
            "111  I mean the pitcher netflix be ass and not beca...      0                1\n",
            "156  this be your reminder that you can be child wo...      0                1\n",
            "\n",
            "False Negative rows for cardiffnlp_twitter-roberta-base-hate_seed_42:\n",
            "                                                 tweet  label  predicted_label\n",
            "7                    get twitter harass for pro choice      1                0\n",
            "24                             raise taxis and control      1                0\n",
            "25   freedom convoy toronto wave provide flagtheyre...      1                0\n",
            "37   at first I be scared of he but after some stal...      1                0\n",
            "38   singer the play as good as a man bullshit get ...      1                0\n",
            "56               you should take a getting pitch class      1                0\n",
            "57   talkie centricidehe scream french person raise...      1                0\n",
            "93   just go cook for your husband and shut everyon...      1                0\n",
            "98   what be difference feminism never hear of this...      1                0\n",
            "123  join we tomorrow at 2 pm for our is office ban...      1                0\n",
            "132  18yearly female kill in brooklyn home boyfrien...      1                0\n",
            "139  be be an acronym standing for sex workerexclus...      1                0\n",
            "149  I m debate do a feminization clip series for a...      1                0\n",
            "Processing model: cardiffnlp_twitter-roberta-base-hate_seed_144 using checkpoint: ./trained_model/cardiffnlp_twitter-roberta-base-hate_seed_144/checkpoint-180\n"
          ]
        },
        {
          "name": "stderr",
          "output_type": "stream",
          "text": [
            "100%|██████████| 10/10 [00:01<00:00,  9.68it/s]\n"
          ]
        },
        {
          "data": {
            "image/png": "[encoded data removed]",
            "text/plain": [
              "<Figure size 640x480 with 2 Axes>"
            ]
          },
          "metadata": {},
          "output_type": "display_data"
        },
        {
          "name": "stderr",
          "output_type": "stream",
          "text": [
            "/var/folders/x6/t819xn051hvgc3lldbwgshrr0000gn/T/ipykernel_94472/4223451030.py:39: FutureWarning: `tokenizer` is deprecated and will be removed in version 5.0.0 for `Trainer.__init__`. Use `processing_class` instead.\n",
            "  trainer = Trainer(\n"
          ]
        },
        {
          "name": "stdout",
          "output_type": "stream",
          "text": [
            "\n",
            "False Positive rows for cardiffnlp_twitter-roberta-base-hate_seed_144:\n",
            "                                                 tweet  label  predicted_label\n",
            "6    show off the man spend his money help the econ...      0                1\n",
            "13   yo radical republicansamp member of the patria...      0                1\n",
            "22              wish all of you a very happy women day      0                1\n",
            "27       this world would not last a day without woman      0                1\n",
            "33   an androgynous mind be not a male mind it be a...      0                1\n",
            "53   bitch a maker mark bottle you have see a docto...      0                1\n",
            "66   also this may make people call I sexist but I ...      0                1\n",
            "96   the reason she say its mindless be because it ...      0                1\n",
            "111  I mean the pitcher netflix be ass and not beca...      0                1\n",
            "156  this be your reminder that you can be child wo...      0                1\n",
            "\n",
            "False Negative rows for cardiffnlp_twitter-roberta-base-hate_seed_144:\n",
            "                                                 tweet  label  predicted_label\n",
            "7                    get twitter harass for pro choice      1                0\n",
            "24                             raise taxis and control      1                0\n",
            "25   freedom convoy toronto wave provide flagtheyre...      1                0\n",
            "29   nearly 10 of student will encounter sexual mis...      1                0\n",
            "37   at first I be scared of he but after some stal...      1                0\n",
            "38   singer the play as good as a man bullshit get ...      1                0\n",
            "44   its call identity politic and subversive cultu...      1                0\n",
            "56               you should take a getting pitch class      1                0\n",
            "57   talkie centricidehe scream french person raise...      1                0\n",
            "93   just go cook for your husband and shut everyon...      1                0\n",
            "149  I m debate do a feminization clip series for a...      1                0\n",
            "Processing model: cardiffnlp_twitter-roberta-base-hate_seed_256 using checkpoint: ./trained_model/cardiffnlp_twitter-roberta-base-hate_seed_256/checkpoint-180\n"
          ]
        },
        {
          "name": "stderr",
          "output_type": "stream",
          "text": [
            "100%|██████████| 10/10 [00:01<00:00,  9.72it/s]\n"
          ]
        },
        {
          "data": {
            "image/png": "[encoded data removed]",
            "text/plain": [
              "<Figure size 640x480 with 2 Axes>"
            ]
          },
          "metadata": {},
          "output_type": "display_data"
        },
        {
          "name": "stdout",
          "output_type": "stream",
          "text": [
            "\n",
            "False Positive rows for cardiffnlp_twitter-roberta-base-hate_seed_256:\n",
            "                                                 tweet  label  predicted_label\n",
            "6    show off the man spend his money help the econ...      0                1\n",
            "13   yo radical republicansamp member of the patria...      0                1\n",
            "22              wish all of you a very happy women day      0                1\n",
            "27       this world would not last a day without woman      0                1\n",
            "53   bitch a maker mark bottle you have see a docto...      0                1\n",
            "96   the reason she say its mindless be because it ...      0                1\n",
            "111  I mean the pitcher netflix be ass and not beca...      0                1\n",
            "156  this be your reminder that you can be child wo...      0                1\n",
            "\n",
            "False Negative rows for cardiffnlp_twitter-roberta-base-hate_seed_256:\n",
            "                                                 tweet  label  predicted_label\n",
            "7                    get twitter harass for pro choice      1                0\n",
            "24                             raise taxis and control      1                0\n",
            "25   freedom convoy toronto wave provide flagtheyre...      1                0\n",
            "29   nearly 10 of student will encounter sexual mis...      1                0\n",
            "37   at first I be scared of he but after some stal...      1                0\n",
            "38   singer the play as good as a man bullshit get ...      1                0\n",
            "44   its call identity politic and subversive cultu...      1                0\n",
            "56               you should take a getting pitch class      1                0\n",
            "57   talkie centricidehe scream french person raise...      1                0\n",
            "93   just go cook for your husband and shut everyon...      1                0\n",
            "123  join we tomorrow at 2 pm for our is office ban...      1                0\n",
            "128  yellow fever be not a compliment and it be not...      1                0\n",
            "132  18yearly female kill in brooklyn home boyfrien...      1                0\n",
            "149  I m debate do a feminization clip series for a...      1                0\n",
            "Final DataFrame saved at ./trained_model/final_predictions_1.pkl\n"
          ]
        }
      ],
      "source": [
        "from transformers import AutoTokenizer, AutoModelForSequenceClassification, Trainer, TrainingArguments, DataCollatorWithPadding\n",
        "from sklearn.metrics import confusion_matrix, ConfusionMatrixDisplay, f1_score, accuracy_score\n",
        "import numpy as np\n",
        "import matplotlib.pyplot as plt\n",
        "import pandas as pd\n",
        "import os\n",
        "\n",
        "# Define the base directory and model names\n",
        "base_dir = './trained_model'\n",
        "models = [\n",
        "    \"cardiffnlp_twitter-roberta-base-hate_seed_42\",\n",
        "    \"cardiffnlp_twitter-roberta-base-hate_seed_144\",\n",
        "    \"cardiffnlp_twitter-roberta-base-hate_seed_256\"\n",
        "]\n",
        "\n",
        "# Initialize the final DataFrame\n",
        "df_columns = [\"tweet\", \"label\"] + [f\"{model}_pred\" for model in models] \n",
        "final_df = pd.DataFrame(columns=df_columns)\n",
        "\n",
        "# Function to find the latest checkpoint in a directory\n",
        "def find_latest_checkpoint(model_path):\n",
        "    checkpoints = [d for d in os.listdir(model_path) if d.startswith(\"checkpoint-\")]\n",
        "    latest_checkpoint = sorted(checkpoints, key=lambda x: int(x.split(\"-\")[1]))[-1]\n",
        "    return os.path.join(model_path, latest_checkpoint)\n",
        "\n",
        "# Iterate over models and checkpoints\n",
        "predictions_dict = {}\n",
        "for model_name in models:\n",
        "    model_path = os.path.join(base_dir, model_name)\n",
        "    checkpoint_path = find_latest_checkpoint(model_path)\n",
        "    print(f\"Processing model: {model_name} using checkpoint: {checkpoint_path}\")\n",
        "\n",
        "    # Load tokenizer and model\n",
        "    tokenizer = AutoTokenizer.from_pretrained(checkpoint_path)\n",
        "    model = AutoModelForSequenceClassification.from_pretrained(checkpoint_path, trust_remote_code=True)\n",
        "\n",
        "    # Initialize Trainer\n",
        "    data_collator = DataCollatorWithPadding(tokenizer=tokenizer)\n",
        "    trainer = Trainer(\n",
        "        model=model,\n",
        "        args=TrainingArguments(\n",
        "            output_dir=checkpoint_path,\n",
        "            per_device_eval_batch_size=16,\n",
        "            report_to=\"none\"\n",
        "        ),\n",
        "        tokenizer=tokenizer,\n",
        "        data_collator=data_collator\n",
        "    )\n",
        "\n",
        "    # Generate predictions\n",
        "    predictions = trainer.predict(tokenized_val)\n",
        "    preds = np.argmax(predictions.predictions, axis=-1)\n",
        "    predictions_dict[model_name] = preds\n",
        "\n",
        "    # Compute confusion matrix\n",
        "    cm = confusion_matrix(tokenized_val['label'], preds)\n",
        "    disp = ConfusionMatrixDisplay(confusion_matrix=cm, display_labels=['NO', 'YES'])\n",
        "    disp.plot(cmap=plt.cm.Blues)\n",
        "    plt.title(f'Confusion Matrix for {model_name}')\n",
        "    plt.show()\n",
        "\n",
        "    # Print False Positives and False Negatives\n",
        "    tokenized_val_df = pd.DataFrame({\n",
        "        \"tweet\": tokenized_val[\"tweet\"],\n",
        "        \"label\": tokenized_val[\"label\"]\n",
        "    })\n",
        "\n",
        "    # Print False Positives and False Negatives\n",
        "    fp_rows = tokenized_val_df[(tokenized_val_df[\"label\"] == 0) & (preds == 1)]\n",
        "    fn_rows = tokenized_val_df[(tokenized_val_df[\"label\"] == 1) & (preds == 0)]\n",
        "\n",
        "    print(f\"\\nFalse Positive rows for {model_name}:\")\n",
        "    print(fp_rows.assign(predicted_label=1)[[\"tweet\", \"label\", \"predicted_label\"]])\n",
        "\n",
        "    print(f\"\\nFalse Negative rows for {model_name}:\")\n",
        "    print(fn_rows.assign(predicted_label=0)[[\"tweet\", \"label\", \"predicted_label\"]])\n",
        "\n",
        "# Populate the DataFrame\n",
        "final_df[\"tweet\"] = tokenized_val[\"tweet\"]\n",
        "final_df[\"label\"] = tokenized_val[\"label\"]\n",
        "for model_name in models:\n",
        "    final_df[f\"{model_name}_pred\"] = predictions_dict[model_name]\n",
        "\n",
        "# Compute major voting\n",
        "preds_array = np.array([predictions_dict[model] for model in models])\n",
        "major_vote = np.apply_along_axis(lambda x: np.bincount(x).argmax(), axis=0, arr=preds_array)\n",
        "final_df[\"major_vote_cardiffnlp_twitter-roberta-base-hate\"] = major_vote\n",
        "\n",
        "# Save the final DataFrame\n",
        "output_path = os.path.join(base_dir, \"final_predictions_1.pkl\")\n",
        "final_df.to_pickle(output_path)\n",
        "print(f\"Final DataFrame saved at {output_path}\")\n"
      ]
    },
    {
      "cell_type": "code",
      "execution_count": 96,
      "metadata": {},
      "outputs": [
        {
          "name": "stdout",
          "output_type": "stream",
          "text": [
            "                                               tweet  label  \\\n",
            "0  you should smile more love just pretend you re...      0   \n",
            "1  she be right but the push be all in the opposi...      1   \n",
            "2  some man move my suitcase in the overhead lugg...      1   \n",
            "3  lol gamergate the go to boogieman maybe if the...      0   \n",
            "4  to I this have the same negativity as gamergat...      0   \n",
            "\n",
            "   cardiffnlp_twitter-roberta-base-hate_seed_42_pred  \\\n",
            "0                                                  0   \n",
            "1                                                  1   \n",
            "2                                                  1   \n",
            "3                                                  0   \n",
            "4                                                  0   \n",
            "\n",
            "   cardiffnlp_twitter-roberta-base-hate_seed_144_pred  \\\n",
            "0                                                  0    \n",
            "1                                                  1    \n",
            "2                                                  1    \n",
            "3                                                  0    \n",
            "4                                                  0    \n",
            "\n",
            "   cardiffnlp_twitter-roberta-base-hate_seed_256_pred  \\\n",
            "0                                                  0    \n",
            "1                                                  1    \n",
            "2                                                  1    \n",
            "3                                                  0    \n",
            "4                                                  0    \n",
            "\n",
            "   major_vote_cardiffnlp_twitter-roberta-base-hate  \n",
            "0                                                0  \n",
            "1                                                1  \n",
            "2                                                1  \n",
            "3                                                0  \n",
            "4                                                0  \n"
          ]
        }
      ],
      "source": [
        "print(final_df.head())"
      ]
    },
    {
      "cell_type": "markdown",
      "metadata": {
        "id": "3gtiG2mAL3HM"
      },
      "source": [
        "# [Task 7 - 0.5 points] Error Analysis\n",
        "\n",
        "### Instructions\n",
        "\n",
        "After evaluating the model, perform a brief error analysis:\n",
        "\n",
        " - Review the results and identify common errors.\n",
        "\n",
        " - Summarize your findings regarding the errors and their impact on performance (e.g. but not limited to Out-of-Vocabulary (OOV) words, data imbalance, and performance differences between the custom model and the transformer...)\n",
        " - Suggest possible solutions to address the identified errors.\n",
        "\n"
      ]
    },
    {
      "cell_type": "markdown",
      "metadata": {
        "id": "P42XYjb6K3k5"
      },
      "source": [
        "# [Task 8 - 0.5 points] Report\n",
        "\n",
        "Wrap up your experiment in a short report (up to 2 pages)."
      ]
    },
    {
      "cell_type": "markdown",
      "metadata": {
        "id": "N9oXSaW1K5S7"
      },
      "source": [
        "### Instructions\n",
        "\n",
        "* Use the NLP course report template.\n",
        "* Summarize each task in the report following the provided template."
      ]
    },
    {
      "cell_type": "markdown",
      "metadata": {
        "id": "MHw2L6PlLDyE"
      },
      "source": [
        "### Recommendations\n",
        "\n",
        "The report is not a copy-paste of graphs, tables, and command outputs.\n",
        "\n",
        "* Summarize classification performance in Table format.\n",
        "* **Do not** report command outputs or screenshots.\n",
        "* Report learning curves in Figure format.\n",
        "* The error analysis section should summarize your findings.\n"
      ]
    },
    {
      "cell_type": "markdown",
      "metadata": {
        "id": "bMUqh1utLflM"
      },
      "source": [
        "# Submission\n",
        "\n",
        "* **Submit** your report in PDF format.\n",
        "* **Submit** your python notebook.\n",
        "* Make sure your notebook is **well organized**, with no temporary code, commented sections, tests, etc...\n",
        "* You can upload **model weights** in a cloud repository and report the link in the report."
      ]
    },
    {
      "cell_type": "markdown",
      "metadata": {
        "id": "ypagJed7LheY"
      },
      "source": [
        "# FAQ\n",
        "\n",
        "Please check this frequently asked questions before contacting us"
      ]
    },
    {
      "cell_type": "markdown",
      "metadata": {
        "id": "bgtFwKXMLjww"
      },
      "source": [
        "### Execution Order\n",
        "\n",
        "You are **free** to address tasks in any order (if multiple orderings are available)."
      ]
    },
    {
      "cell_type": "markdown",
      "metadata": {
        "id": "_BjMk5e_M4n7"
      },
      "source": [
        "### Trainable Embeddings\n",
        "\n",
        "You are **free** to define a trainable or non-trainable Embedding layer to load the GloVe embeddings."
      ]
    },
    {
      "cell_type": "markdown",
      "metadata": {
        "id": "e8TVgpYlM6s5"
      },
      "source": [
        "### Model architecture\n",
        "\n",
        "You **should not** change the architecture of a model (i.e., its layers).\n",
        "However, you are **free** to play with their hyper-parameters.\n"
      ]
    },
    {
      "cell_type": "markdown",
      "metadata": {
        "id": "Ia6IapI1M_A7"
      },
      "source": [
        "### Neural Libraries\n",
        "\n",
        "You are **free** to use any library of your choice to implement the networks (e.g., Keras, Tensorflow, PyTorch, JAX, etc...)"
      ]
    },
    {
      "cell_type": "markdown",
      "metadata": {
        "id": "bWDaW8DyNBu5"
      },
      "source": [
        "### Keras TimeDistributed Dense layer\n",
        "\n",
        "If you are using Keras, we recommend wrapping the final Dense layer with `TimeDistributed`."
      ]
    },
    {
      "cell_type": "markdown",
      "metadata": {
        "id": "R1WcrpemNEQm"
      },
      "source": [
        "### Robust Evaluation\n",
        "\n",
        "Each model is trained with at least 3 random seeds.\n",
        "\n",
        "Task 4 requires you to compute the average performance over the 3 seeds and its corresponding standard deviation."
      ]
    },
    {
      "cell_type": "markdown",
      "metadata": {
        "id": "_mVe5dqzNI_u"
      },
      "source": [
        "### Model Selection for Analysis\n",
        "\n",
        "To carry out the error analysis you are **free** to either\n",
        "\n",
        "* Pick examples or perform comparisons with an individual seed run model (e.g., Baseline seed 1337)\n",
        "* Perform ensembling via, for instance, majority voting to obtain a single model."
      ]
    },
    {
      "cell_type": "markdown",
      "metadata": {
        "id": "L8a4pDKSNKzI"
      },
      "source": [
        "### Error Analysis\n",
        "\n",
        "Some topics for discussion include:\n",
        "   * Precision/Recall curves.\n",
        "   * Confusion matrices.\n",
        "   * Specific misclassified samples."
      ]
    },
    {
      "cell_type": "markdown",
      "metadata": {
        "collapsed": false,
        "id": "WJo0weILLl2I"
      },
      "source": [
        "### Bonus Points\n",
        "Bonus points are arbitrarily assigned based on significant contributions such as:\n",
        "- Outstanding error analysis\n",
        "- Masterclass code organization\n",
        "- Suitable extensions\n",
        "Note that bonus points are only assigned if all task points are attributed (i.e., 6/6).\n",
        "\n",
        "**Possible Extensions/Explorations for Bonus Points:**\n",
        "- **Try other preprocessing strategies**: e.g., but not limited to, explore techniques tailored specifically for tweets or  methods that are common in social media text.\n",
        "- **Experiment with other custom architectures or models from HuggingFace**\n",
        "- **Explore Spanish tweets**: e.g., but not limited to, leverage multilingual models to process Spanish tweets and assess their performance compared to monolingual models.\n",
        "\n"
      ]
    },
    {
      "cell_type": "markdown",
      "metadata": {
        "id": "8xmMKE7vLu-y"
      },
      "source": [
        "\n",
        "\n",
        "\n",
        "\n",
        "# The End"
      ]
    }
  ],
  "metadata": {
    "accelerator": "GPU",
    "colab": {
      "gpuType": "T4",
      "provenance": []
    },
    "kernelspec": {
      "display_name": ".venv",
      "language": "python",
      "name": "python3"
    },
    "language_info": {
      "codemirror_mode": {
        "name": "ipython",
        "version": 3
      },
      "file_extension": ".py",
      "mimetype": "text/x-python",
      "name": "python",
      "nbconvert_exporter": "python",
      "pygments_lexer": "ipython3",
      "version": "3.11.6"
    }
  },
  "nbformat": 4,
  "nbformat_minor": 0
}
