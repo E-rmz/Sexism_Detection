{
 "cells": [
  {
   "cell_type": "markdown",
   "metadata": {
    "id": "qE4WC2_4wygJ"
   },
   "source": [
    "# Assignment 1\n",
    "**Credits**: Federico Ruggeri, Eleonora Mancini, Paolo Torroni\n",
    "\n",
    "**Keywords**: Sexism Detection, Multi-class Classification, RNNs, Transformers, Huggingface\n",
    "\n"
   ]
  },
  {
   "cell_type": "markdown",
   "metadata": {
    "id": "fL69zGpmx01k"
   },
   "source": [
    "# Contact\n",
    "For any doubt, question, issue or help, you can always contact us at the following email addresses:\n",
    "\n",
    "Teaching Assistants:\n",
    "\n",
    "- Federico Ruggeri -> federico.ruggeri6@unibo.it\n",
    "- Eleonora Mancini -> e.mancini@unibo.it\n",
    "\n",
    "Professor:\n",
    "- Paolo Torroni -> p.torroni@unibo.it"
   ]
  },
  {
   "cell_type": "markdown",
   "metadata": {
    "id": "55jnW-xKxi-2"
   },
   "source": [
    "# Introduction\n",
    "You are asked to address the [EXIST 2023 Task 1](https://clef2023.clef-initiative.eu/index.php?page=Pages/labs.html#EXIST) on sexism detection."
   ]
  },
  {
   "cell_type": "markdown",
   "metadata": {
    "id": "9HWp5bGwySsb"
   },
   "source": [
    "## Problem Definition\n",
    "The systems have to decide whether or not a given tweet contains or describes sexist expressions or behaviors (i.e., it is sexist itself, describes a sexist situation or criticizes a sexist behavior).\n",
    "\n",
    "### Examples:\n",
    "\n",
    "**Text**: *Can’t go a day without women womening*\n",
    "\n",
    "**Label**: Sexist\n",
    "\n",
    "**Text**: *''Society's set norms! Happy men's day though!#weareequal''*\n",
    "\n",
    "**Label**: Not sexist"
   ]
  },
  {
   "cell_type": "markdown",
   "metadata": {
    "id": "2iu1X4I98M8B"
   },
   "source": [
    "#[Task 1 - 1.0 points] Corpus\n",
    "\n",
    "We have preparared a small version of EXIST dataset in our dedicated [Github repository](https://github.com/lt-nlp-lab-unibo/nlp-course-material/tree/main/2024-2025/Assignment%201/data).\n",
    "\n",
    "Check the `A1/data` folder. It contains 3 `.json` files representing `training`, `validation` and `test` sets.\n",
    "\n",
    "The three sets are slightly unbalanced, with a bias toward the `Non-sexist` class.\n",
    "\n"
   ]
  },
  {
   "cell_type": "markdown",
   "metadata": {
    "id": "AASoMV9XN5l6"
   },
   "source": [
    "### Dataset Description\n",
    "- The dataset contains tweets in both English and Spanish.\n",
    "- There are labels for multiple tasks, but we are focusing on **Task 1**.\n",
    "- For Task 1, soft labels are assigned by six annotators.\n",
    "- The labels for Task 1 represent whether the tweet is sexist (\"YES\") or not (\"NO\").\n",
    "\n",
    "\n",
    "\n",
    "\n"
   ]
  },
  {
   "cell_type": "markdown",
   "metadata": {
    "id": "OFjwB_lCOQKj"
   },
   "source": [
    "\n",
    "### Example\n",
    "\n",
    "\n",
    "    \"203260\": {\n",
    "        \"id_EXIST\": \"203260\",\n",
    "        \"lang\": \"en\",\n",
    "        \"tweet\": \"ik when mandy says “you look like a whore” i look cute as FUCK\",\n",
    "        \"number_annotators\": 6,\n",
    "        \"annotators\": [\"Annotator_473\", \"Annotator_474\", \"Annotator_475\", \"Annotator_476\", \"Annotator_477\", \"Annotator_27\"],\n",
    "        \"gender_annotators\": [\"F\", \"F\", \"M\", \"M\", \"M\", \"F\"],\n",
    "        \"age_annotators\": [\"18-22\", \"23-45\", \"18-22\", \"23-45\", \"46+\", \"46+\"],\n",
    "        \"labels_task1\": [\"YES\", \"YES\", \"YES\", \"NO\", \"YES\", \"YES\"],\n",
    "        \"labels_task2\": [\"DIRECT\", \"DIRECT\", \"REPORTED\", \"-\", \"JUDGEMENTAL\", \"REPORTED\"],\n",
    "        \"labels_task3\": [\n",
    "          [\"STEREOTYPING-DOMINANCE\"],\n",
    "          [\"OBJECTIFICATION\"],\n",
    "          [\"SEXUAL-VIOLENCE\"],\n",
    "          [\"-\"],\n",
    "          [\"STEREOTYPING-DOMINANCE\", \"OBJECTIFICATION\"],\n",
    "          [\"OBJECTIFICATION\"]\n",
    "        ],\n",
    "        \"split\": \"TRAIN_EN\"\n",
    "      }\n",
    "    }"
   ]
  },
  {
   "cell_type": "markdown",
   "metadata": {
    "id": "BJ45bvuOOJ7I"
   },
   "source": [
    "### Instructions\n",
    "1. **Download** the `A1/data` folder.\n",
    "2. **Load** the three JSON files and encode them as pandas dataframes.\n",
    "3. **Generate hard labels** for Task 1 using majority voting and store them in a new dataframe column called `hard_label_task1`. Items without a clear majority will be removed from the dataset.\n",
    "4. **Filter the DataFrame** to keep only rows where the `lang` column is `'en'`.\n",
    "5. **Remove unwanted columns**: Keep only `id_EXIST`, `lang`, `tweet`, and `hard_label_task1`.\n",
    "6. **Encode the `hard_label_task1` column**: Use 1 to represent \"YES\" and 0 to represent \"NO\"."
   ]
  },
  {
   "cell_type": "code",
   "execution_count": 68,
   "metadata": {},
   "outputs": [],
   "source": [
    "import pandas as pd \n",
    "import json \n",
    "from collections import Counter\n",
    "import string \n",
    "import re \n",
    "import numpy as np\n",
    "import spacy\n",
    "# from spellchecker import SpellChecker\n",
    "from autocorrect import Speller\n",
    "from pathlib import Path\n",
    "import os\n",
    "\n",
    "# Also install the following packages\n",
    "# pip install pyarrow\n",
    "# pip install torch\n",
    "# pip install scikit-learn\n"
   ]
  },
  {
   "cell_type": "code",
   "execution_count": 69,
   "metadata": {},
   "outputs": [],
   "source": [
    "from IPython.core.magic import register_cell_magic\n",
    "\n",
    "# Custom magic command to skip the cell\n",
    "@register_cell_magic\n",
    "def skip(line, cell):\n",
    "    return\n"
   ]
  },
  {
   "cell_type": "code",
   "execution_count": 70,
   "metadata": {},
   "outputs": [],
   "source": [
    "def mojority_of_votes(votes:list):\n",
    "    \"\"\" given an array of votes, return the mode or None if there is no mode \"\"\"\n",
    "    count = Counter(votes)\n",
    "    most_common = count.most_common(2)\n",
    "    if len(most_common) > 1 and most_common[0][1] == most_common[1][1]:\n",
    "        return None\n",
    "    if most_common:\n",
    "        return most_common[0][0]"
   ]
  },
  {
   "cell_type": "code",
   "execution_count": 71,
   "metadata": {},
   "outputs": [],
   "source": [
    "def preprocess(data:pd.DataFrame):\n",
    "    # method for all the preprocessing steps\n",
    "    data = data.T # make the attributes as columns and data points as rows\n",
    "    data['hard_label_task1'] = data['labels_task1'].apply(mojority_of_votes) #generate hard labels \n",
    "    data = data[data['hard_label_task1'].notna()] # drop rows without a majority label\n",
    "    data = data[data['lang'] == 'en'] # drop rows where lang is not 'en'\n",
    "    data = data[['id_EXIST', 'lang', 'tweet', 'hard_label_task1']] # keeping only necessary columns\n",
    "    data['hard_label_task1'] = data['hard_label_task1'].map({'YES': 1, 'NO': 0}) # encoding 'hard_label_task1' column\n",
    "    return data"
   ]
  },
  {
   "cell_type": "code",
   "execution_count": 72,
   "metadata": {},
   "outputs": [
    {
     "data": {
      "text/html": [
       "<div>\n",
       "<style scoped>\n",
       "    .dataframe tbody tr th:only-of-type {\n",
       "        vertical-align: middle;\n",
       "    }\n",
       "\n",
       "    .dataframe tbody tr th {\n",
       "        vertical-align: top;\n",
       "    }\n",
       "\n",
       "    .dataframe thead th {\n",
       "        text-align: right;\n",
       "    }\n",
       "</style>\n",
       "<table border=\"1\" class=\"dataframe\">\n",
       "  <thead>\n",
       "    <tr style=\"text-align: right;\">\n",
       "      <th></th>\n",
       "      <th>id_EXIST</th>\n",
       "      <th>lang</th>\n",
       "      <th>tweet</th>\n",
       "      <th>hard_label_task1</th>\n",
       "    </tr>\n",
       "  </thead>\n",
       "  <tbody>\n",
       "    <tr>\n",
       "      <th>200002</th>\n",
       "      <td>200002</td>\n",
       "      <td>en</td>\n",
       "      <td>Writing a uni essay in my local pub with a cof...</td>\n",
       "      <td>1</td>\n",
       "    </tr>\n",
       "    <tr>\n",
       "      <th>200003</th>\n",
       "      <td>200003</td>\n",
       "      <td>en</td>\n",
       "      <td>@UniversalORL it is 2021 not 1921. I dont appr...</td>\n",
       "      <td>1</td>\n",
       "    </tr>\n",
       "    <tr>\n",
       "      <th>200006</th>\n",
       "      <td>200006</td>\n",
       "      <td>en</td>\n",
       "      <td>According to a customer I have plenty of time ...</td>\n",
       "      <td>1</td>\n",
       "    </tr>\n",
       "    <tr>\n",
       "      <th>200007</th>\n",
       "      <td>200007</td>\n",
       "      <td>en</td>\n",
       "      <td>So only 'blokes' drink beer? Sorry, but if you...</td>\n",
       "      <td>1</td>\n",
       "    </tr>\n",
       "    <tr>\n",
       "      <th>200008</th>\n",
       "      <td>200008</td>\n",
       "      <td>en</td>\n",
       "      <td>New to the shelves this week - looking forward...</td>\n",
       "      <td>0</td>\n",
       "    </tr>\n",
       "  </tbody>\n",
       "</table>\n",
       "</div>"
      ],
      "text/plain": [
       "       id_EXIST lang                                              tweet  \\\n",
       "200002   200002   en  Writing a uni essay in my local pub with a cof...   \n",
       "200003   200003   en  @UniversalORL it is 2021 not 1921. I dont appr...   \n",
       "200006   200006   en  According to a customer I have plenty of time ...   \n",
       "200007   200007   en  So only 'blokes' drink beer? Sorry, but if you...   \n",
       "200008   200008   en  New to the shelves this week - looking forward...   \n",
       "\n",
       "        hard_label_task1  \n",
       "200002                 1  \n",
       "200003                 1  \n",
       "200006                 1  \n",
       "200007                 1  \n",
       "200008                 0  "
      ]
     },
     "execution_count": 72,
     "metadata": {},
     "output_type": "execute_result"
    }
   ],
   "source": [
    "data_training = pd.read_json(Path('data', 'training.json'))\n",
    "data_test = pd.read_json(Path('data', 'test.json'))\n",
    "data_validation = pd.read_json(Path('data', 'validation.json'))\n",
    "\n",
    "data_training = preprocess(data_training)\n",
    "data_test = preprocess(data_test)\n",
    "data_validation = preprocess(data_validation)\n",
    "\n",
    "data_training.head()\n"
   ]
  },
  {
   "cell_type": "markdown",
   "metadata": {
    "collapsed": false
   },
   "source": [
    "# [Task2 - 0.5 points] Data Cleaning\n",
    "In the context of tweets, we have noisy and informal data that often includes unnecessary elements like emojis, hashtags, mentions, and URLs. These elements may interfere with the text analysis.\n"
   ]
  },
  {
   "cell_type": "markdown",
   "metadata": {
    "collapsed": false
   },
   "source": [
    "\n",
    "### Instructions\n",
    "- **Remove emojis** from the tweets.\n",
    "- **Remove hashtags** (e.g., `#example`).\n",
    "- **Remove mentions** such as `@user`.\n",
    "- **Remove URLs** from the tweets.\n",
    "- **Remove special characters and symbols**.\n",
    "- **Remove specific quote characters** (e.g., curly quotes).\n",
    "- **Perform lemmatization** to reduce words to their base form."
   ]
  },
  {
   "cell_type": "code",
   "execution_count": 73,
   "metadata": {},
   "outputs": [
    {
     "name": "stdout",
     "output_type": "stream",
     "text": [
      "/home/habib/Projects/NLP/Unibo/Course_Project/nlp_assignment_1/venv/lib/python3.10/site-packages/torch/cuda/__init__.py:129: UserWarning: CUDA initialization: The NVIDIA driver on your system is too old (found version 11040). Please update your GPU driver by downloading and installing a new version from the URL: http://www.nvidia.com/Download/index.aspx Alternatively, go to: https://pytorch.org to install a PyTorch version that has been compiled with your version of the CUDA driver. (Triggered internally at ../c10/cuda/CUDAFunctions.cpp:108.)\n",
      "  return torch._C._cuda_getDeviceCount() > 0\n",
      "\u001b[38;5;3m⚠ As of spaCy v3.0, shortcuts like 'en' are deprecated. Please use the\n",
      "full pipeline package name 'en_core_web_sm' instead.\u001b[0m\n",
      "Collecting en-core-web-sm==3.8.0\n",
      "  Downloading https://github.com/explosion/spacy-models/releases/download/en_core_web_sm-3.8.0/en_core_web_sm-3.8.0-py3-none-any.whl (12.8 MB)\n",
      "\u001b[2K     \u001b[38;2;114;156;31m━━━━━━━━━━━━━━━━━━━━━━━━━━━━━━━━━━━━━━━━\u001b[0m \u001b[32m12.8/12.8 MB\u001b[0m \u001b[31m1.3 MB/s\u001b[0m eta \u001b[36m0:00:00\u001b[0mm eta \u001b[36m0:00:01\u001b[0m[36m0:00:01\u001b[0mm\n",
      "\u001b[?25h\u001b[38;5;2m✔ Download and installation successful\u001b[0m\n",
      "You can now load the package via spacy.load('en_core_web_sm')\n"
     ]
    }
   ],
   "source": [
    "!python -m spacy download en"
   ]
  },
  {
   "cell_type": "code",
   "execution_count": 74,
   "metadata": {},
   "outputs": [],
   "source": [
    "# spaCy English model\n",
    "nlp = spacy.load('en_core_web_sm')\n",
    "spell = Speller()"
   ]
  },
  {
   "cell_type": "code",
   "execution_count": 75,
   "metadata": {},
   "outputs": [],
   "source": [
    "\n",
    "def remove_emojis(text):\n",
    "    # removing emojis with regex, including \n",
    "    emoji_pattern = re.compile(\"[\"\n",
    "                           u\"\\U0001F600-\\U0001F64F\"  # emoticons\n",
    "                           u\"\\U0001F300-\\U0001F5FF\"  # symbols & pictographs\n",
    "                           u\"\\U0001F680-\\U0001F6FF\"  # transport & map symbols\n",
    "                           u\"\\U0001F1E0-\\U0001F1FF\"  # flags (iOS)\n",
    "                           u\"\\U00002702-\\U000027B0\"\n",
    "                           u\"\\U000024C2-\\U0001F251\"\n",
    "                           u\"\\U0001F914\"  # 🤔\n",
    "                           \"]+\", flags=re.UNICODE)\n",
    "    return emoji_pattern.sub(r'', text)\n",
    "\n",
    "def remove_hashtags(text):\n",
    "    return re.sub(r'#\\w+', '', text)\n",
    "\n",
    "def remove_mentions(text):\n",
    "    return re.sub(r'@\\w+', '', text)\n",
    "\n",
    "def remove_urls(text):\n",
    "    return re.sub(r'http\\S+|www\\S+|https\\S+', '', text, flags=re.MULTILINE)\n",
    "\n",
    "def remove_special_characters(text):\n",
    "    return text.translate(str.maketrans('', '', string.punctuation))\n",
    "\n",
    "def remove_quotes(text):\n",
    "    return text.replace('“', '').replace('”', '').replace('‘', '').replace('’', '')\n",
    "\n",
    "def lemmatize_text(text):\n",
    "    # performing lemmatization using spacy\n",
    "    doc = nlp(text)\n",
    "    return ' '.join([token.lemma_ for token in doc])\n",
    "\n",
    "# =================== Additional preprocessing techniques =================================\n",
    "# important to reduce the number of unseen vobabs as Glove contains mostly lowercase tokens\n",
    "def lowercase_text(text): \n",
    "    return text.lower()  # convert all text to lowercase\n",
    "\n",
    "def correct_typos(text):\n",
    "    return spell(text)\n",
    "\n",
    "def clean_text(tweet):\n",
    "    tweet = remove_emojis(tweet)\n",
    "    tweet = remove_hashtags(tweet)\n",
    "    tweet = remove_mentions(tweet)\n",
    "    tweet = remove_urls(tweet)\n",
    "    tweet = remove_special_characters(tweet)\n",
    "    tweet = remove_quotes(tweet)\n",
    "    tweet = lowercase_text(tweet)\n",
    "    tweet = correct_typos(tweet)\n",
    "    tweet = lemmatize_text(tweet)\n",
    "    tweet = tweet.strip()\n",
    "    return tweet\n"
   ]
  },
  {
   "cell_type": "code",
   "execution_count": 76,
   "metadata": {},
   "outputs": [
    {
     "data": {
      "text/plain": [
       "'this be awesome bro'"
      ]
     },
     "execution_count": 76,
     "metadata": {},
     "output_type": "execute_result"
    }
   ],
   "source": [
    "# testing if all is fine\n",
    "sample_text = \"this is awsome bro! 😁 @johnsmith #wait www.google.com\"\n",
    "clean_text(sample_text)"
   ]
  },
  {
   "cell_type": "code",
   "execution_count": 77,
   "metadata": {},
   "outputs": [],
   "source": [
    "%%skip\n",
    "# If you want to clean the entire dataset, instead of loading the cleaned dataset,\n",
    "# comment the skip magic command and run the cell\n",
    "def clean_dataset_tweets(data:pd.DataFrame):    \n",
    "    data['tweet'] = data['tweet'].apply(clean_text)\n",
    "    return data \n",
    "\n",
    "data_training_cleaned = clean_dataset_tweets(data_training)\n",
    "data_test_cleaned = clean_dataset_tweets(data_test)\n",
    "data_validation_cleaned = clean_dataset_tweets(data_validation)\n",
    "\n",
    "data_training_cleaned.head()"
   ]
  },
  {
   "cell_type": "code",
   "execution_count": 78,
   "metadata": {},
   "outputs": [],
   "source": [
    "stored_data_dir = \"stored_data\"\n",
    "\n",
    "# Define file paths\n",
    "training_path = os.path.join(stored_data_dir, 'data_training_cleaned.parquet')\n",
    "test_path = os.path.join(stored_data_dir, 'data_test_cleaned.parquet')\n",
    "validation_path = os.path.join(stored_data_dir, 'data_validation_cleaned.parquet')"
   ]
  },
  {
   "cell_type": "code",
   "execution_count": 79,
   "metadata": {},
   "outputs": [],
   "source": [
    "%%skip\n",
    "# If you want to save the cleaned dataset, comment the skip magic command \n",
    "# and run the cell\n",
    "\n",
    "if not os.path.exists(stored_data_dir):\n",
    "    os.makedirs(stored_data_dir)\n",
    "\n",
    "# Save the cleaned datasets to Parquet\n",
    "data_training_cleaned.to_parquet(training_path, index=False)\n",
    "data_test_cleaned.to_parquet(test_path, index=False)\n",
    "data_validation_cleaned.to_parquet(validation_path, index=False)"
   ]
  },
  {
   "cell_type": "code",
   "execution_count": 80,
   "metadata": {},
   "outputs": [],
   "source": [
    "# Load the saved cleaned datasets from disk\n",
    "data_training_cleaned = pd.read_parquet(training_path)\n",
    "data_test_cleaned = pd.read_parquet(test_path)\n",
    "data_validation_cleaned = pd.read_parquet(validation_path)"
   ]
  },
  {
   "cell_type": "markdown",
   "metadata": {
    "id": "s3KylLHNl0bE"
   },
   "source": [
    "# [Task 3 - 0.5 points] Text Encoding\n",
    "To train a neural sexism classifier, you first need to encode text into numerical format.\n",
    "\n",
    "\n"
   ]
  },
  {
   "cell_type": "markdown",
   "metadata": {
    "id": "hr1lTHUVOXff"
   },
   "source": [
    "### Instructions\n",
    "\n",
    "* Embed words using **GloVe embeddings**.\n",
    "* You are **free** to pick any embedding dimension.\n",
    "\n",
    "\n",
    "\n"
   ]
  },
  {
   "cell_type": "markdown",
   "metadata": {
    "id": "r6NNMEjWOZQr"
   },
   "source": [
    "### Note : What about OOV tokens?\n",
    "   * All the tokens in the **training** set that are not in GloVe **must** be added to the vocabulary.\n",
    "   * For the remaining tokens (i.e., OOV in the validation and test sets), you have to assign them a **special token** (e.g., [UNK]) and a **static** embedding.\n",
    "   * You are **free** to define the static embedding using any strategy (e.g., random, neighbourhood, etc...)\n",
    "\n"
   ]
  },
  {
   "cell_type": "markdown",
   "metadata": {
    "id": "90UztlGUObXk"
   },
   "source": [
    "### More about OOV\n",
    "\n",
    "For a given token:\n",
    "\n",
    "* **If in train set**: add to vocabulary and assign an embedding (use GloVe if token in GloVe, custom embedding otherwise).\n",
    "* **If in val/test set**: assign special token if not in vocabulary and assign custom embedding.\n",
    "\n",
    "Your vocabulary **should**:\n",
    "\n",
    "* Contain all tokens in train set; or\n",
    "* Union of tokens in train set and in GloVe $\\rightarrow$ we make use of existing knowledge!"
   ]
  },
  {
   "cell_type": "markdown",
   "metadata": {},
   "source": [
    "## Embedding Strategy\n",
    "\n",
    "For this project, this pretrained word vector is used:\n",
    "\n",
    "`Wikipedia 2014 + Gigaword 5 (6B tokens, 400K vocab, uncased, 300d vectors, 822 MB download)`\n",
    "\n",
    "which can be downlaoded from https://github.com/stanfordnlp/GloVe?tab=readme-ov-file"
   ]
  },
  {
   "cell_type": "code",
   "execution_count": 81,
   "metadata": {},
   "outputs": [],
   "source": [
    "def load_glove_embeddings(glove_file_path, embedding_dim):\n",
    "    embeddings_index = {}\n",
    "    with open(glove_file_path, 'r', encoding='utf-8') as f:\n",
    "        for line in f:\n",
    "            values = line.split()\n",
    "            word = values[0]\n",
    "            coefs = np.asarray(values[1:embedding_dim+1], dtype='float32')\n",
    "            embeddings_index[word] = coefs\n",
    "    return embeddings_index\n",
    "\n",
    "# Example usage\n",
    "glove_file_path = Path('glove.6B', 'glove.6B.50d.txt') #we choose the XYZ dim\n",
    "embedding_dim = 50  # You can choose any dimension\n",
    "\n",
    "glove_embeddings = load_glove_embeddings(glove_file_path, embedding_dim)"
   ]
  },
  {
   "cell_type": "code",
   "execution_count": 82,
   "metadata": {},
   "outputs": [
    {
     "name": "stdout",
     "output_type": "stream",
     "text": [
      "0 tokens from the training set not present in the glove embeddings.\n"
     ]
    }
   ],
   "source": [
    "UNKNOWN_TOKEN = \"[UNK]\"\n",
    "PADDING_TOKEN = \"[PAD]\"\n",
    "def create_vocabulary_and_embeddings(train_tokens, glove_embeddings, embedding_dim):\n",
    "    vocab = {} #to store the training set tokens and their indices\n",
    "    embedding_matrix = [] #to store all the embedding vectors of our vocabulary\n",
    "    new_tokens = 0 # count how many words from the training are not in the glove embedding\n",
    "    new_tokens_list = []\n",
    "\n",
    "    # Dealing with the padding token and assigning a random embedding to it\n",
    "    special_pad_embedding = np.zeros(embedding_dim)  # Zero embedding for padding\n",
    "    vocab[PADDING_TOKEN] = 0\n",
    "    embedding_matrix.append(special_pad_embedding)\n",
    "\n",
    "    # dealing with the unknown token and assigning a random embedding to it\n",
    "    special_embedding = np.random.rand(embedding_dim)\n",
    "    vocab[UNKNOWN_TOKEN] = 1\n",
    "    embedding_matrix.append(special_embedding)\n",
    "\n",
    "    \n",
    "\n",
    "    for token in train_tokens:\n",
    "        if token not in vocab:\n",
    "            if token in glove_embeddings:\n",
    "                vocab[token] = len(vocab)\n",
    "                embedding_matrix.append(glove_embeddings[token])\n",
    "            else:\n",
    "                # if a token is not the glove_embedding we add it to the vocab and create a \n",
    "                # random embedding vector for it\n",
    "                vocab[token] = len(vocab)\n",
    "                custom_embedding = np.random.rand(embedding_dim)\n",
    "                embedding_matrix.append(custom_embedding)\n",
    "                new_tokens += 1\n",
    "                new_tokens_list.append(token)\n",
    "\n",
    "    embedding_matrix = np.array(embedding_matrix, dtype='float32')\n",
    "    print(f\"{new_tokens} tokens from the training set not present in the glove embeddings.\")\n",
    "\n",
    "    return vocab, embedding_matrix, new_tokens_list\n",
    "\n",
    "train_tokens = ['example', 'tokens', 'from', 'train', 'set', 'from']\n",
    "vocab, embedding_matrix, _ = create_vocabulary_and_embeddings(train_tokens, glove_embeddings, embedding_dim)"
   ]
  },
  {
   "cell_type": "code",
   "execution_count": 83,
   "metadata": {},
   "outputs": [
    {
     "name": "stdout",
     "output_type": "stream",
     "text": [
      "the tweets contain a total of 76446 words.\n",
      "First 50 words: ['write', 'a', 'uni', 'essay', 'in', 'my', 'local', 'pub', 'with', 'a', 'coffee', 'random', 'old', 'man', 'keep', 'ask', 'I', 'drunk', 'question', 'when', 'I', 'm', 'try', 'to', 'concentrate', 'amp', 'end', 'with', 'good', 'luck', 'but', 'you', 'just', 'end', 'up', 'get', 'married', 'and', 'not', 'use', 'it', 'anyway', 'be', 'alive', 'and', 'well', 'it', 'be', '2021', 'not']\n"
     ]
    }
   ],
   "source": [
    "training_tweets = data_training_cleaned['tweet'].tolist()\n",
    "training_tweets = ' '.join(training_tweets)\n",
    "words_list = training_tweets.split()\n",
    "print(f\"the tweets contain a total of {len(words_list)} words.\\nFirst 50 words: {words_list[:50]}\")"
   ]
  },
  {
   "cell_type": "code",
   "execution_count": 84,
   "metadata": {},
   "outputs": [
    {
     "name": "stdout",
     "output_type": "stream",
     "text": [
      "1224 tokens from the training set not present in the glove embeddings.\n",
      "total vocabulary size: 8602\n",
      "embedding_matrix shape: (8602, 50)\n"
     ]
    }
   ],
   "source": [
    "vocab, embedding_matrix, unknown_words = create_vocabulary_and_embeddings(words_list, glove_embeddings, embedding_dim)\n",
    "print(f\"total vocabulary size: {len(vocab)}\\nembedding_matrix shape: {embedding_matrix.shape}\")"
   ]
  },
  {
   "cell_type": "code",
   "execution_count": 85,
   "metadata": {},
   "outputs": [
    {
     "name": "stdout",
     "output_type": "stream",
     "text": [
      "some examples of unknown tokens in the tweets that are not present in the glove embedding: \n",
      "I, earlyinlife, godcolette, anywheregood, voyeuristically, comic_strip, gamergate, breadtube, releasethu, comicsgate, shitstorm, peachfuzz, futanari, 2014i, theythis, angeryou, bitchesid, downvote, 30somethe, allegationsjudge, mramgtowincel, womanhating, angriesbecause, catastrophizing, outbigg, redpill, blackpilado, ironicamente, earlierwhy, notallman, 🤣, vaginanot, notallmen, laylamoran, soulsmixed, thisthat, retweetsnintendo, switchsportsnotallmenwow, decentish, ndor, consentjust, transwoman, heathensno, family27, transphobe, violencesthey, discourseinto, weeksboth, nosetonose, allyship, harrisharb, catcall, itsnotacomplimentmelbournecom, pedophiliajust, weekshow, code5kp5qw1, societyeducation, djín, nonethelesscome, slimzosrecording, normshappy, makhulu, ahhhhhh, don´t, ¨some, marriage¨, productsinclude, internet‍‍, shivaami, onlineregister, 2022time, placewoman, nollaigh, 🧋, womensday, 2021be, allvotebluein2022, policyboth, gruevskis, alçın, wardbusuça, ortakolma, needn, mentionnah, sympathybiden, rackexclusive, selffunde, taxpayersschool, androcentrism, spip, kabikabila, 🤷, societynature, 1935the, perspectivethe, marginalian, nonbinary, undivide, mindmainexlazada, 1111supershow\n"
     ]
    }
   ],
   "source": [
    "print(\"some examples of unknown tokens in the tweets that are not present in the glove embedding: \")\n",
    "print(', '.join(unknown_words[:100]))"
   ]
  },
  {
   "cell_type": "markdown",
   "metadata": {},
   "source": [
    "## Preprocessing Strategy for Cleaning the Text\n",
    "for the preprocessing (text cleaning) strategy with propose two additional methods to decrease the number of tweet tokens that are not present in the Glove Embedding. This means we assign less random embeddings and the token embeddings become more meaningful overal. \n",
    "\n",
    "1. `lowercase_text`: most of the Glove tokens are lowercase. So we lowercase all tokens.\n",
    "2. `correct_typos`: tweets contain many typos. By correcting the typos we can find the correct token embeddings of a faulty word. This requires more preprocessing time as we need to check all the tokens. By it pays off well in the end.\n",
    "\n",
    "![image.png](preprocessing_strategies.png)"
   ]
  },
  {
   "cell_type": "markdown",
   "metadata": {},
   "source": [
    "## How to use the embedding:"
   ]
  },
  {
   "cell_type": "code",
   "execution_count": 86,
   "metadata": {},
   "outputs": [],
   "source": [
    "def get_text_embedding_matrix(text, vocab, embedding_matrix):\n",
    "    # given a text, return the matrix of its embeddings\n",
    "    tokens = text.split()\n",
    "    text_embeddings = np.zeros((len(tokens), embedding_matrix.shape[1]), dtype='float32') \n",
    "    for i, token in enumerate(tokens):\n",
    "        token_index = vocab.get(token, vocab[\"[UNK]\"]) #get index of token if present in vocab, otherwise [UNK]\n",
    "        text_embeddings[i] = embedding_matrix[token_index]\n",
    "\n",
    "    return text_embeddings"
   ]
  },
  {
   "cell_type": "code",
   "execution_count": 87,
   "metadata": {},
   "outputs": [
    {
     "name": "stdout",
     "output_type": "stream",
     "text": [
      "embed matrix with a shape (4, 50)\n"
     ]
    }
   ],
   "source": [
    "example_text = \"example text to embed\"\n",
    "embedding_matrix_for_text = get_text_embedding_matrix(example_text, vocab, embedding_matrix)\n",
    "print(f\"embed matrix with a shape {embedding_matrix_for_text.shape}\")"
   ]
  },
  {
   "cell_type": "markdown",
   "metadata": {
    "id": "6JLnuLGHGAUT"
   },
   "source": [
    "# [Task 4 - 1.0 points] Model definition\n",
    "\n",
    "You are now tasked to define your sexism classifier.\n",
    "\n",
    "\n"
   ]
  },
  {
   "cell_type": "markdown",
   "metadata": {
    "id": "iQFI9J-JOfXD"
   },
   "source": [
    "### Instructions\n",
    "\n",
    "* **Baseline**: implement a Bidirectional LSTM with a Dense layer on top.\n",
    "* You are **free** to experiment with hyper-parameters to define the baseline model.\n",
    "\n",
    "* **Model 1**: add an additional LSTM layer to the Baseline model."
   ]
  },
  {
   "cell_type": "markdown",
   "metadata": {
    "id": "4jALc_qYGS2E"
   },
   "source": [
    "### Token to embedding mapping\n",
    "\n",
    "You can follow two approaches for encoding tokens in your classifier.\n",
    "\n",
    "### Work directly with embeddings\n",
    "\n",
    "- Compute the embedding of each input token\n",
    "- Feed the mini-batches of shape (batch_size, # tokens, embedding_dim) to your model\n",
    "\n",
    "### Work with Embedding layer\n",
    "\n",
    "- Encode input tokens to token ids\n",
    "- Define a Embedding layer as the first layer of your model\n",
    "- Compute the embedding matrix of all known tokens (i.e., tokens in your vocabulary)\n",
    "- Initialize the Embedding layer with the computed embedding matrix\n",
    "- You are **free** to set the Embedding layer trainable or not"
   ]
  },
  {
   "cell_type": "code",
   "execution_count": 88,
   "metadata": {
    "id": "Z44PckrNGfTv"
   },
   "outputs": [],
   "source": [
    "# embedding = tf.keras.layers.Embedding(input_dim=vocab_size,\n",
    "#                                       output_dim=embedding_dimension,\n",
    "#                                       weights=[embedding_matrix],\n",
    "#                                       mask_zero=True,                   # automatically masks padding tokens\n",
    "#                                       name='encoder_embedding')"
   ]
  },
  {
   "cell_type": "markdown",
   "metadata": {
    "id": "GEQTPu6eGgGv"
   },
   "source": [
    "### Padding\n",
    "\n",
    "Pay attention to padding tokens!\n",
    "\n",
    "Your model **should not** be penalized on those tokens.\n",
    "\n",
    "#### How to?\n",
    "\n",
    "There are two main ways.\n",
    "\n",
    "However, their implementation depends on the neural library you are using.\n",
    "\n",
    "- Embedding layer\n",
    "- Custom loss to compute average cross-entropy on non-padding tokens only\n",
    "\n",
    "**Note**: This is a **recommendation**, but we **do not penalize** for missing workarounds."
   ]
  },
  {
   "cell_type": "code",
   "execution_count": 148,
   "metadata": {},
   "outputs": [],
   "source": [
    "import torch\n",
    "import torch.nn as nn\n",
    "import torch.nn.functional as F\n",
    "import torch.nn.utils.rnn as rnn_utils\n",
    "\n",
    "class BaselineModel(nn.Module):\n",
    "    \"\"\"\n",
    "    Baseline Model: A Bidirectional LSTM with a Dense layer on top.\n",
    "    \"\"\"\n",
    "    def __init__(self, vocab_size, embedding_dim, embedding_matrix, hidden_dim, output_dim, pad_idx):\n",
    "        super(BaselineModel, self).__init__()\n",
    "        self.embedding = nn.Embedding.from_pretrained(\n",
    "            torch.tensor(embedding_matrix, dtype=torch.float32),\n",
    "            freeze=True,  # Pre-trained embeddings, not trainable\n",
    "            padding_idx=pad_idx\n",
    "        )\n",
    "        self.lstm = nn.LSTM(\n",
    "            embedding_dim,\n",
    "            hidden_dim,\n",
    "            bidirectional=True,\n",
    "            batch_first=True\n",
    "        )\n",
    "        self.fc = nn.Linear(hidden_dim * 2, output_dim)\n",
    "        self.dropout = nn.Dropout(0.5)\n",
    "\n",
    "    def forward(self, text, lengths):\n",
    "        # Step 1: Embed the input\n",
    "        embedded = self.embedding(text)\n",
    "\n",
    "        # Step 2: Pack the embedded sequence\n",
    "        packed_embedded = rnn_utils.pack_padded_sequence(embedded, lengths, batch_first=True, enforce_sorted=False)\n",
    "\n",
    "        # Step 3: Pass the packed sequence to the LSTM\n",
    "        packed_output, (hidden, cell) = self.lstm(packed_embedded)\n",
    "\n",
    "        # Step 4: Use the last hidden state (concatenate forward and backward states)\n",
    "        hidden = torch.cat((hidden[-2, :, :], hidden[-1, :, :]), dim=1)\n",
    "\n",
    "        # Step 5: Apply dropout and the final dense layer\n",
    "        output = self.fc(self.dropout(hidden))\n",
    "        # output = self.fc(hidden)\n",
    "\n",
    "        return torch.sigmoid(output)\n"
   ]
  },
  {
   "cell_type": "code",
   "execution_count": 149,
   "metadata": {},
   "outputs": [],
   "source": [
    "device = torch.device('cuda' if torch.cuda.is_available() else 'cpu')"
   ]
  },
  {
   "cell_type": "code",
   "execution_count": null,
   "metadata": {},
   "outputs": [
    {
     "name": "stdout",
     "output_type": "stream",
     "text": [
      "BaselineModel(\n",
      "  (embedding): Embedding(8602, 50, padding_idx=1)\n",
      "  (lstm): LSTM(50, 128, batch_first=True, bidirectional=True)\n",
      "  (fc): Linear(in_features=256, out_features=1, bias=True)\n",
      "  (dropout): Dropout(p=0.5, inplace=False)\n",
      ")\n",
      "Model1(\n",
      "  (embedding): Embedding(8602, 50, padding_idx=1)\n",
      "  (lstm1): LSTM(50, 128, batch_first=True, bidirectional=True)\n",
      "  (lstm2): LSTM(256, 128, batch_first=True, bidirectional=True)\n",
      "  (fc): Linear(in_features=256, out_features=1, bias=True)\n",
      "  (dropout): Dropout(p=0.5, inplace=False)\n",
      ")\n"
     ]
    }
   ],
   "source": [
    "%%skip\n",
    "# Example parameters\n",
    "model_params = {\n",
    "    'vocab_size' : len(vocab),\n",
    "    'embedding_dim' : embedding_matrix.shape[1],\n",
    "    'hidden_dim' : 128,\n",
    "    'output_dim' : 1,\n",
    "    'pad_idx' : vocab[\"[UNK]\"],\n",
    "    'embedding_matrix' : embedding_matrix\n",
    "}\n",
    "\n",
    "# Create models\n",
    "baseline_model = BaselineModel(**model_params)\n",
    "model_1 = Model1(**model_params)\n",
    "\n",
    "# Print model architectures\n",
    "print(baseline_model)\n",
    "print(model_1)\n"
   ]
  },
  {
   "cell_type": "code",
   "execution_count": 151,
   "metadata": {},
   "outputs": [],
   "source": [
    "def train(model, iterator, optimizer, criterion, device):\n",
    "    \"\"\"\n",
    "    Train the model for one epoch.\n",
    "\n",
    "    Args:\n",
    "        model: The PyTorch model to train.\n",
    "        iterator: DataLoader providing batches of (padded_sequences, lengths, labels).\n",
    "        optimizer: Optimizer for updating model parameters.\n",
    "        criterion: Loss function (e.g., BCELoss for binary classification).\n",
    "        device: Device to run the training on (e.g., 'cuda' or 'cpu').\n",
    "\n",
    "    Returns:\n",
    "        Average loss over the epoch.\n",
    "    \"\"\"\n",
    "    model.train()\n",
    "    epoch_loss = 0\n",
    "\n",
    "    for padded_sequences, lengths, labels in iterator:\n",
    "        # Move data to the specified device\n",
    "        padded_sequences = padded_sequences.to(device)\n",
    "        lengths = lengths.to(device)\n",
    "        labels = labels.to(device)\n",
    "\n",
    "        # Reset gradients\n",
    "        optimizer.zero_grad()\n",
    "\n",
    "        # Forward pass with packed sequences\n",
    "        predictions = model(padded_sequences, lengths).squeeze(1)\n",
    "\n",
    "        # Compute loss\n",
    "        loss = criterion(predictions, labels.float())\n",
    "\n",
    "        # Backpropagation\n",
    "        loss.backward()\n",
    "        optimizer.step()\n",
    "\n",
    "        # Accumulate loss\n",
    "        epoch_loss += loss.item()\n",
    "\n",
    "    return epoch_loss / len(iterator)\n"
   ]
  },
  {
   "cell_type": "code",
   "execution_count": 152,
   "metadata": {},
   "outputs": [],
   "source": [
    "\n",
    "from sklearn.metrics import accuracy_score\n",
    "\n",
    "def evaluate(model, iterator, criterion, device):\n",
    "    model.eval()\n",
    "    epoch_loss = 0\n",
    "    all_preds = []\n",
    "    all_labels = []\n",
    "\n",
    "    with torch.no_grad():\n",
    "        for padded_sequences, lengths, labels in iterator:\n",
    "            padded_sequences = padded_sequences.to(device)\n",
    "            lengths = lengths.to(device)\n",
    "            labels = labels.to(device)\n",
    "\n",
    "            predictions = model(padded_sequences, lengths).squeeze(1)\n",
    "            loss = criterion(predictions, labels)\n",
    "\n",
    "            epoch_loss += loss.item()\n",
    "            preds = (predictions >= 0.5).long()\n",
    "            all_preds.extend(preds.cpu().numpy())\n",
    "            all_labels.extend(labels.cpu().numpy())\n",
    "\n",
    "    accuracy = accuracy_score(all_labels, all_preds)\n",
    "    return epoch_loss / len(iterator), accuracy"
   ]
  },
  {
   "cell_type": "code",
   "execution_count": 153,
   "metadata": {},
   "outputs": [],
   "source": [
    "from torch.utils.data import DataLoader, Dataset\n",
    "from torch.nn.utils.rnn import pad_sequence\n",
    "import torch\n",
    "\n",
    "class TweetDataset(Dataset):\n",
    "    def __init__(self, texts, labels, vocab):\n",
    "        self.texts = texts\n",
    "        self.labels = labels\n",
    "        self.vocab = vocab\n",
    "\n",
    "    def __len__(self):\n",
    "        return len(self.texts)\n",
    "\n",
    "    def __getitem__(self, idx):\n",
    "        text = self.texts[idx]\n",
    "        label = self.labels[idx]\n",
    "\n",
    "        # Tokenize text into indices based on vocab\n",
    "        token_ids = [self.vocab.get(token, self.vocab[UNKNOWN_TOKEN]) for token in text.split()]\n",
    "        return torch.tensor(token_ids), torch.tensor(label, dtype=torch.float)\n",
    "\n",
    "# Collate function to pad sequences dynamically\n",
    "def collate_fn(batch):\n",
    "    texts, labels = zip(*batch)\n",
    "\n",
    "    # Pad sequences\n",
    "    padded_texts = pad_sequence(texts, batch_first=True, padding_value=vocab[PADDING_TOKEN])\n",
    "\n",
    "    # Get sequence lengths\n",
    "    lengths = torch.tensor([len(seq) for seq in texts])\n",
    "\n",
    "    # Convert labels to tensor\n",
    "    labels = torch.tensor(labels, dtype=torch.float)\n",
    "\n",
    "    return padded_texts, lengths, labels\n",
    "\n",
    "# Create dataset and DataLoader\n",
    "train_dataset = TweetDataset(\n",
    "    texts=data_training_cleaned['tweet'].tolist(),\n",
    "    labels=data_training_cleaned['hard_label_task1'].tolist(),\n",
    "    vocab=vocab\n",
    ")\n",
    "\n",
    "val_dataset = TweetDataset(\n",
    "    texts=data_validation_cleaned['tweet'].tolist(),\n",
    "    labels=data_validation_cleaned['hard_label_task1'].tolist(),\n",
    "    vocab=vocab\n",
    ")\n",
    "\n",
    "train_loader = DataLoader(\n",
    "    train_dataset,\n",
    "    batch_size=32,\n",
    "    shuffle=True,\n",
    "    collate_fn=collate_fn\n",
    ")\n",
    "\n",
    "val_loader = DataLoader(\n",
    "    val_dataset,\n",
    "    batch_size=32,\n",
    "    shuffle=False,\n",
    "    collate_fn=collate_fn\n",
    ")\n"
   ]
  },
  {
   "cell_type": "code",
   "execution_count": 154,
   "metadata": {},
   "outputs": [],
   "source": [
    "%%skip\n",
    "# Let's start with a small dataset\n",
    "import torch\n",
    "from torch.utils.data import DataLoader\n",
    "\n",
    "# Set a random seed for reproducibility\n",
    "random_seed = 42\n",
    "# Randomly sample a subset of the data\n",
    "small_data_training = data_training.sample(n=64, random_state=random_seed)\n",
    "small_data_validation = data_validation.sample(n=20, random_state=random_seed)\n",
    "\n",
    "# Assuming TweetDataset is your custom dataset class\n",
    "small_train_dataset = TweetDataset(\n",
    "    texts=small_data_training['tweet'].tolist(),\n",
    "    labels=small_data_training['hard_label_task1'].tolist(),\n",
    "    vocab=vocab\n",
    ")\n",
    "small_train_loader = DataLoader(\n",
    "    small_train_dataset,\n",
    "    batch_size=32,\n",
    "    shuffle=True,\n",
    "    collate_fn=collate_fn\n",
    ")\n",
    "\n",
    "small_val_dataset = TweetDataset(\n",
    "    texts=small_data_validation['tweet'].tolist(),\n",
    "    labels=small_data_validation['hard_label_task1'].tolist(),\n",
    "    vocab=vocab\n",
    ")\n",
    "small_val_loader = DataLoader(\n",
    "    small_val_dataset,\n",
    "    batch_size=32,\n",
    "    shuffle=False,\n",
    "    collate_fn=collate_fn\n",
    ")"
   ]
  },
  {
   "cell_type": "code",
   "execution_count": 155,
   "metadata": {},
   "outputs": [],
   "source": [
    "import torch.optim as optim\n",
    "# Model parameters\n",
    "vocab_size = len(vocab)\n",
    "embedding_dim = embedding_matrix.shape[1]\n",
    "hidden_dim = 128\n",
    "output_dim = 1\n",
    "pad_idx = vocab[PADDING_TOKEN]\n",
    "\n",
    "# Initialize model\n",
    "baseline_model = BaselineModel(vocab_size, embedding_dim, embedding_matrix, hidden_dim, output_dim, pad_idx)\n",
    "\n",
    "# Optimizer and loss function\n",
    "optimizer = optim.Adam(baseline_model.parameters(), lr=0.001, weight_decay=1e-4)\n",
    "criterion = nn.BCELoss()\n",
    "\n",
    "# Move model to device\n",
    "device = torch.device('cuda' if torch.cuda.is_available() else 'cpu')\n",
    "baseline_model = baseline_model.to(device)\n",
    "criterion = criterion.to(device)\n"
   ]
  },
  {
   "cell_type": "code",
   "execution_count": 156,
   "metadata": {},
   "outputs": [],
   "source": [
    "%%skip\n",
    "# === TRAINING LOOP SMALL DATA ===\n",
    "num_epochs = 100\n",
    "for epoch in range(num_epochs):\n",
    "    # Train on small dataset for overfitting\n",
    "    train_loss = train(baseline_model, small_train_loader, optimizer, criterion, device)\n",
    "    val_loss, val_accuracy = evaluate(baseline_model, small_val_loader, criterion, device)\n",
    "\n",
    "    print(f\"Epoch {epoch+1}/{num_epochs}\")\n",
    "    print(f\"Train Loss: {train_loss:.4f}\")\n",
    "    print(f\"Validation Loss: {val_loss:.4f}, Validation Accuracy: {val_accuracy:.4f}\")\n"
   ]
  },
  {
   "cell_type": "code",
   "execution_count": 157,
   "metadata": {},
   "outputs": [],
   "source": [
    "epochs_so_far = 0\n",
    "\n",
    "# Initialize lists to store metrics\n",
    "train_losses = []\n",
    "val_losses = []\n",
    "val_accuracies = []\n"
   ]
  },
  {
   "cell_type": "code",
   "execution_count": null,
   "metadata": {},
   "outputs": [],
   "source": [
    "# === TRAINING LOOP FULL DATA ===\n",
    "num_epochs = 10\n",
    "total_epochs = epochs_so_far + num_epochs\n",
    "for epoch in range(epochs_so_far, total_epochs):\n",
    "    # Train on small dataset for overfitting\n",
    "    train_loss = train(baseline_model, train_loader, optimizer, criterion, device)\n",
    "    val_loss, val_accuracy = evaluate(baseline_model, val_loader, criterion, device)\n",
    "\n",
    "    epochs_so_far = epoch\n",
    "\n",
    "    # Append metrics to lists\n",
    "    train_losses.append(train_loss)\n",
    "    val_losses.append(val_loss)\n",
    "    val_accuracies.append(val_accuracy)\n",
    "    \n",
    "    print(f\"Epoch {epoch+1}/{total_epochs}\")\n",
    "    print(f\"Train Loss: {train_loss:.4f}\")\n",
    "    print(f\"Validation Loss: {val_loss:.4f}, Validation Accuracy: {val_accuracy:.4f}\")"
   ]
  },
  {
   "cell_type": "code",
   "execution_count": null,
   "metadata": {},
   "outputs": [
    {
     "name": "stdout",
     "output_type": "stream",
     "text": [
      "Epoch 10/20\n",
      "Train Loss: 0.4535\n",
      "Validation Loss: 0.5573, Validation Accuracy: 0.7152\n",
      "Epoch 11/20\n",
      "Train Loss: 0.4390\n",
      "Validation Loss: 0.5266, Validation Accuracy: 0.7278\n",
      "Epoch 12/20\n",
      "Train Loss: 0.4198\n",
      "Validation Loss: 0.4712, Validation Accuracy: 0.7722\n",
      "Epoch 13/20\n",
      "Train Loss: 0.4087\n",
      "Validation Loss: 0.4827, Validation Accuracy: 0.7658\n",
      "Epoch 14/20\n",
      "Train Loss: 0.3833\n",
      "Validation Loss: 0.4781, Validation Accuracy: 0.8228\n",
      "Epoch 15/20\n",
      "Train Loss: 0.3711\n",
      "Validation Loss: 0.4779, Validation Accuracy: 0.7848\n",
      "Epoch 16/20\n",
      "Train Loss: 0.3354\n",
      "Validation Loss: 0.4964, Validation Accuracy: 0.7848\n",
      "Epoch 17/20\n",
      "Train Loss: 0.3100\n",
      "Validation Loss: 0.4528, Validation Accuracy: 0.8228\n",
      "Epoch 18/20\n",
      "Train Loss: 0.2914\n",
      "Validation Loss: 0.4816, Validation Accuracy: 0.7911\n",
      "Epoch 19/20\n",
      "Train Loss: 0.2610\n",
      "Validation Loss: 0.5017, Validation Accuracy: 0.7975\n",
      "Epoch 20/20\n",
      "Train Loss: 0.2285\n",
      "Validation Loss: 0.5000, Validation Accuracy: 0.8038\n",
      "Epoch 21/20\n",
      "Train Loss: 0.2222\n",
      "Validation Loss: 0.5694, Validation Accuracy: 0.8165\n",
      "Epoch 22/20\n",
      "Train Loss: 0.1849\n",
      "Validation Loss: 0.5486, Validation Accuracy: 0.7975\n",
      "Epoch 23/20\n",
      "Train Loss: 0.1713\n",
      "Validation Loss: 0.6240, Validation Accuracy: 0.7658\n",
      "Epoch 24/20\n",
      "Train Loss: 0.2243\n",
      "Validation Loss: 0.5291, Validation Accuracy: 0.7975\n",
      "Epoch 25/20\n",
      "Train Loss: 0.1933\n",
      "Validation Loss: 0.6230, Validation Accuracy: 0.7785\n",
      "Epoch 26/20\n",
      "Train Loss: 0.1418\n",
      "Validation Loss: 0.7025, Validation Accuracy: 0.7975\n",
      "Epoch 27/20\n",
      "Train Loss: 0.1041\n",
      "Validation Loss: 0.7788, Validation Accuracy: 0.7658\n",
      "Epoch 28/20\n",
      "Train Loss: 0.0847\n",
      "Validation Loss: 0.7800, Validation Accuracy: 0.7722\n",
      "Epoch 29/20\n",
      "Train Loss: 0.0828\n",
      "Validation Loss: 0.7948, Validation Accuracy: 0.8038\n"
     ]
    }
   ],
   "source": [
    "# === TRAINING LOOP FULL DATA ===\n",
    "num_epochs = 20\n",
    "total_epochs = num_epochs + epochs_so_far\n",
    "for epoch in range(epochs_so_far, total_epochs):\n",
    "    # Train on small dataset for overfitting\n",
    "    train_loss = train(baseline_model, train_loader, optimizer, criterion, device)\n",
    "    val_loss, val_accuracy = evaluate(baseline_model, val_loader, criterion, device)\n",
    "    epochs_so_far = epoch\n",
    "\n",
    "    # Append metrics to lists\n",
    "    train_losses.append(train_loss)\n",
    "    val_losses.append(val_loss)\n",
    "    val_accuracies.append(val_accuracy)\n",
    "\n",
    "    print(f\"Epoch {epoch+1}/{total_epochs}\")\n",
    "    print(f\"Train Loss: {train_loss:.4f}\")\n",
    "    print(f\"Validation Loss: {val_loss:.4f}, Validation Accuracy: {val_accuracy:.4f}\")"
   ]
  },
  {
   "cell_type": "code",
   "execution_count": null,
   "metadata": {},
   "outputs": [
    {
     "data": {
      "image/png": "[encoded data removed]",
      "text/plain": [
       "<Figure size 1000x600 with 1 Axes>"
      ]
     },
     "metadata": {},
     "output_type": "display_data"
    },
    {
     "data": {
      "image/png": "[encoded data removed]",
      "text/plain": [
       "<Figure size 1000x600 with 1 Axes>"
      ]
     },
     "metadata": {},
     "output_type": "display_data"
    }
   ],
   "source": [
    "import matplotlib.pyplot as plt\n",
    "\n",
    "# Plot Training and Validation Loss\n",
    "plt.figure(figsize=(10, 6))\n",
    "plt.plot(range(1, len(train_losses) + 1), train_losses, label='Train Loss')\n",
    "plt.plot(range(1, len(val_losses) + 1), val_losses, label='Validation Loss')\n",
    "plt.xlabel('Epochs')\n",
    "plt.ylabel('Loss')\n",
    "plt.title('Training and Validation Loss')\n",
    "plt.legend()\n",
    "plt.grid(True)\n",
    "plt.show()\n",
    "\n",
    "# Plot Validation Accuracy\n",
    "plt.figure(figsize=(10, 6))\n",
    "plt.plot(range(1, len(val_accuracies) + 1), val_accuracies, label='Validation Accuracy')\n",
    "plt.xlabel('Epochs')\n",
    "plt.ylabel('Accuracy')\n",
    "plt.title('Validation Accuracy')\n",
    "plt.legend()\n",
    "plt.grid(True)\n",
    "plt.show()\n"
   ]
  },
  {
   "cell_type": "code",
   "execution_count": null,
   "metadata": {},
   "outputs": [
    {
     "name": "stdout",
     "output_type": "stream",
     "text": [
      "Epoch 1/30\n",
      "Train Loss: 0.0027\n",
      "Validation Loss: 1.1844, Validation Accuracy: 0.7532\n",
      "Epoch 2/30\n",
      "Train Loss: 0.0025\n",
      "Validation Loss: 1.2569, Validation Accuracy: 0.7468\n",
      "Epoch 3/30\n",
      "Train Loss: 0.0020\n",
      "Validation Loss: 1.2328, Validation Accuracy: 0.7468\n",
      "Epoch 4/30\n",
      "Train Loss: 0.0054\n",
      "Validation Loss: 1.4751, Validation Accuracy: 0.7785\n",
      "Epoch 5/30\n",
      "Train Loss: 0.1293\n",
      "Validation Loss: 0.9682, Validation Accuracy: 0.7468\n",
      "Epoch 6/30\n",
      "Train Loss: 0.0603\n",
      "Validation Loss: 0.9457, Validation Accuracy: 0.7595\n",
      "Epoch 7/30\n",
      "Train Loss: 0.0190\n",
      "Validation Loss: 1.0536, Validation Accuracy: 0.7405\n",
      "Epoch 8/30\n",
      "Train Loss: 0.0120\n",
      "Validation Loss: 1.1686, Validation Accuracy: 0.7595\n",
      "Epoch 9/30\n",
      "Train Loss: 0.0419\n",
      "Validation Loss: 1.0319, Validation Accuracy: 0.7532\n",
      "Epoch 10/30\n",
      "Train Loss: 0.0262\n",
      "Validation Loss: 1.1071, Validation Accuracy: 0.7532\n",
      "Epoch 11/30\n",
      "Train Loss: 0.0076\n",
      "Validation Loss: 1.0959, Validation Accuracy: 0.7848\n",
      "Epoch 12/30\n",
      "Train Loss: 0.0035\n",
      "Validation Loss: 1.1762, Validation Accuracy: 0.7785\n",
      "Epoch 13/30\n",
      "Train Loss: 0.0021\n",
      "Validation Loss: 1.2096, Validation Accuracy: 0.7722\n",
      "Epoch 14/30\n",
      "Train Loss: 0.0016\n",
      "Validation Loss: 1.2445, Validation Accuracy: 0.7785\n",
      "Epoch 15/30\n",
      "Train Loss: 0.0014\n",
      "Validation Loss: 1.2825, Validation Accuracy: 0.7911\n",
      "Epoch 16/30\n",
      "Train Loss: 0.0012\n",
      "Validation Loss: 1.3057, Validation Accuracy: 0.7722\n",
      "Epoch 17/30\n",
      "Train Loss: 0.0011\n",
      "Validation Loss: 1.3657, Validation Accuracy: 0.7468\n",
      "Epoch 18/30\n",
      "Train Loss: 0.0010\n",
      "Validation Loss: 1.3930, Validation Accuracy: 0.7468\n",
      "Epoch 19/30\n",
      "Train Loss: 0.0009\n",
      "Validation Loss: 1.3746, Validation Accuracy: 0.7532\n",
      "Epoch 20/30\n",
      "Train Loss: 0.0007\n",
      "Validation Loss: 1.3964, Validation Accuracy: 0.7532\n",
      "Epoch 21/30\n",
      "Train Loss: 0.0008\n",
      "Validation Loss: 1.4110, Validation Accuracy: 0.7532\n",
      "Epoch 22/30\n",
      "Train Loss: 0.0006\n",
      "Validation Loss: 1.4410, Validation Accuracy: 0.7658\n",
      "Epoch 23/30\n",
      "Train Loss: 0.0006\n",
      "Validation Loss: 1.4578, Validation Accuracy: 0.7595\n",
      "Epoch 24/30\n",
      "Train Loss: 0.0005\n",
      "Validation Loss: 1.4584, Validation Accuracy: 0.7468\n",
      "Epoch 25/30\n",
      "Train Loss: 0.0005\n",
      "Validation Loss: 1.4805, Validation Accuracy: 0.7405\n",
      "Epoch 26/30\n",
      "Train Loss: 0.0004\n",
      "Validation Loss: 1.5012, Validation Accuracy: 0.7532\n",
      "Epoch 27/30\n",
      "Train Loss: 0.0004\n",
      "Validation Loss: 1.5028, Validation Accuracy: 0.7532\n",
      "Epoch 28/30\n",
      "Train Loss: 0.0004\n",
      "Validation Loss: 1.5189, Validation Accuracy: 0.7595\n",
      "Epoch 29/30\n",
      "Train Loss: 0.0003\n",
      "Validation Loss: 1.5287, Validation Accuracy: 0.7405\n",
      "Epoch 30/30\n",
      "Train Loss: 0.0003\n",
      "Validation Loss: 1.5485, Validation Accuracy: 0.7532\n"
     ]
    }
   ],
   "source": [
    "# === TRAINING LOOP FULL DATA ===\n",
    "num_epochs = 30\n",
    "for epoch in range(epochs_so_far, epochs_so_far + num_epochs):\n",
    "    # Train on small dataset for overfitting\n",
    "    train_loss = train(baseline_model, train_loader, optimizer, criterion, device)\n",
    "    val_loss, val_accuracy = evaluate(baseline_model, val_loader, criterion, device)\n",
    "\n",
    "    print(f\"Epoch {epoch+1}/{num_epochs}\")\n",
    "    print(f\"Train Loss: {train_loss:.4f}\")\n",
    "    print(f\"Validation Loss: {val_loss:.4f}, Validation Accuracy: {val_accuracy:.4f}\")"
   ]
  },
  {
   "cell_type": "code",
   "execution_count": null,
   "metadata": {
    "vscode": {
     "languageId": "ruby"
    }
   },
   "outputs": [
    {
     "name": "stdout",
     "output_type": "stream",
     "text": [
      "              precision    recall  f1-score   support\n",
      "\n",
      "           0       0.58      0.48      0.52        90\n",
      "           1       0.44      0.54      0.49        68\n",
      "\n",
      "    accuracy                           0.51       158\n",
      "   macro avg       0.51      0.51      0.51       158\n",
      "weighted avg       0.52      0.51      0.51       158\n",
      "\n"
     ]
    }
   ],
   "source": [
    "from sklearn.dummy import DummyClassifier\n",
    "from sklearn.metrics import classification_report\n",
    "\n",
    "# Prepare the training and validation data\n",
    "X_train = data_training_cleaned['tweet']\n",
    "y_train = data_training_cleaned['hard_label_task1']\n",
    "X_val = data_validation_cleaned['tweet']\n",
    "y_val = data_validation_cleaned['hard_label_task1']\n",
    "\n",
    "# Initialize the DummyClassifier with the 'uniform' strategy to make random predictions\n",
    "random_clf = DummyClassifier(strategy='uniform', random_state=random_seed)\n",
    "\n",
    "# Train the classifier\n",
    "random_clf.fit(X_train, y_train)\n",
    "\n",
    "# Make predictions on the validation set\n",
    "y_pred = random_clf.predict(X_val)\n",
    "\n",
    "# Evaluate the classifier\n",
    "print(classification_report(y_val, y_pred))"
   ]
  },
  {
   "cell_type": "code",
   "execution_count": null,
   "metadata": {},
   "outputs": [],
   "source": []
  },
  {
   "cell_type": "markdown",
   "metadata": {
    "id": "EFjBgdiRG3wD"
   },
   "source": [
    "# [Task 5 - 1.0 points] Training and Evaluation\n",
    "\n",
    "You are now tasked to train and evaluate the Baseline and Model 1.\n"
   ]
  },
  {
   "cell_type": "markdown",
   "metadata": {
    "id": "TWPK4umGOjtT"
   },
   "source": [
    "\n",
    "### Instructions\n",
    "\n",
    "* Train **all** models on the train set.\n",
    "* Evaluate **all** models on the validation set.\n",
    "* Compute metrics on the validation set.\n",
    "* Pick **at least** three seeds for robust estimation.\n",
    "* Pick the **best** performing model according to the observed validation set performance.\n",
    "* Evaluate your models using macro F1-score."
   ]
  },
  {
   "cell_type": "markdown",
   "metadata": {
    "id": "CSy9sPwYHUoD"
   },
   "source": [
    "# [Task 6 - 1.0 points] Transformers\n",
    "\n",
    "In this section, you will use a transformer model specifically trained for hate speech detection, namely [Twitter-roBERTa-base for Hate Speech Detection](https://huggingface.co/cardiffnlp/twitter-roberta-base-hate).\n",
    "\n",
    "\n"
   ]
  },
  {
   "cell_type": "markdown",
   "metadata": {
    "collapsed": false
   },
   "source": [
    "### Relevant Material\n",
    "- Tutorial 3"
   ]
  },
  {
   "cell_type": "markdown",
   "metadata": {
    "collapsed": false
   },
   "source": [
    "### Instructions\n",
    "1. **Load the Tokenizer and Model**\n",
    "\n",
    "2. **Preprocess the Dataset**:\n",
    "   You will need to preprocess your dataset to prepare it for input into the model. Tokenize your text data using the appropriate tokenizer and ensure it is formatted correctly.\n",
    "\n",
    "   **Note**: You have to use the plain text of the dataset and not the version that you tokenized before, as you need to tokenize the cleaned text obtained after the initial cleaning process.\n",
    "\n",
    "3. **Train the Model**:\n",
    "   Use the `Trainer` to train the model on your training data.\n",
    "\n",
    "4. **Evaluate the Model on the Test Set** using F1-macro."
   ]
  },
  {
   "cell_type": "markdown",
   "metadata": {
    "id": "3gtiG2mAL3HM"
   },
   "source": [
    "# [Task 7 - 0.5 points] Error Analysis\n",
    "\n",
    "### Instructions\n",
    "\n",
    "After evaluating the model, perform a brief error analysis:\n",
    "\n",
    " - Review the results and identify common errors.\n",
    "\n",
    " - Summarize your findings regarding the errors and their impact on performance (e.g. but not limited to Out-of-Vocabulary (OOV) words, data imbalance, and performance differences between the custom model and the transformer...)\n",
    " - Suggest possible solutions to address the identified errors.\n",
    "\n"
   ]
  },
  {
   "cell_type": "markdown",
   "metadata": {
    "id": "P42XYjb6K3k5"
   },
   "source": [
    "# [Task 8 - 0.5 points] Report\n",
    "\n",
    "Wrap up your experiment in a short report (up to 2 pages)."
   ]
  },
  {
   "cell_type": "markdown",
   "metadata": {
    "id": "N9oXSaW1K5S7"
   },
   "source": [
    "### Instructions\n",
    "\n",
    "* Use the NLP course report template.\n",
    "* Summarize each task in the report following the provided template."
   ]
  },
  {
   "cell_type": "markdown",
   "metadata": {
    "id": "MHw2L6PlLDyE"
   },
   "source": [
    "### Recommendations\n",
    "\n",
    "The report is not a copy-paste of graphs, tables, and command outputs.\n",
    "\n",
    "* Summarize classification performance in Table format.\n",
    "* **Do not** report command outputs or screenshots.\n",
    "* Report learning curves in Figure format.\n",
    "* The error analysis section should summarize your findings.\n"
   ]
  },
  {
   "cell_type": "markdown",
   "metadata": {
    "id": "bMUqh1utLflM"
   },
   "source": [
    "# Submission\n",
    "\n",
    "* **Submit** your report in PDF format.\n",
    "* **Submit** your python notebook.\n",
    "* Make sure your notebook is **well organized**, with no temporary code, commented sections, tests, etc...\n",
    "* You can upload **model weights** in a cloud repository and report the link in the report."
   ]
  },
  {
   "cell_type": "markdown",
   "metadata": {
    "id": "ypagJed7LheY"
   },
   "source": [
    "# FAQ\n",
    "\n",
    "Please check this frequently asked questions before contacting us"
   ]
  },
  {
   "cell_type": "markdown",
   "metadata": {
    "id": "bgtFwKXMLjww"
   },
   "source": [
    "### Execution Order\n",
    "\n",
    "You are **free** to address tasks in any order (if multiple orderings are available)."
   ]
  },
  {
   "cell_type": "markdown",
   "metadata": {
    "id": "_BjMk5e_M4n7"
   },
   "source": [
    "### Trainable Embeddings\n",
    "\n",
    "You are **free** to define a trainable or non-trainable Embedding layer to load the GloVe embeddings."
   ]
  },
  {
   "cell_type": "markdown",
   "metadata": {
    "id": "e8TVgpYlM6s5"
   },
   "source": [
    "### Model architecture\n",
    "\n",
    "You **should not** change the architecture of a model (i.e., its layers).\n",
    "However, you are **free** to play with their hyper-parameters.\n"
   ]
  },
  {
   "cell_type": "markdown",
   "metadata": {
    "id": "Ia6IapI1M_A7"
   },
   "source": [
    "### Neural Libraries\n",
    "\n",
    "You are **free** to use any library of your choice to implement the networks (e.g., Keras, Tensorflow, PyTorch, JAX, etc...)"
   ]
  },
  {
   "cell_type": "markdown",
   "metadata": {
    "id": "bWDaW8DyNBu5"
   },
   "source": [
    "### Keras TimeDistributed Dense layer\n",
    "\n",
    "If you are using Keras, we recommend wrapping the final Dense layer with `TimeDistributed`."
   ]
  },
  {
   "cell_type": "markdown",
   "metadata": {
    "id": "R1WcrpemNEQm"
   },
   "source": [
    "### Robust Evaluation\n",
    "\n",
    "Each model is trained with at least 3 random seeds.\n",
    "\n",
    "Task 4 requires you to compute the average performance over the 3 seeds and its corresponding standard deviation."
   ]
  },
  {
   "cell_type": "markdown",
   "metadata": {
    "id": "_mVe5dqzNI_u"
   },
   "source": [
    "### Model Selection for Analysis\n",
    "\n",
    "To carry out the error analysis you are **free** to either\n",
    "\n",
    "* Pick examples or perform comparisons with an individual seed run model (e.g., Baseline seed 1337)\n",
    "* Perform ensembling via, for instance, majority voting to obtain a single model."
   ]
  },
  {
   "cell_type": "markdown",
   "metadata": {
    "id": "L8a4pDKSNKzI"
   },
   "source": [
    "### Error Analysis\n",
    "\n",
    "Some topics for discussion include:\n",
    "   * Precision/Recall curves.\n",
    "   * Confusion matrices.\n",
    "   * Specific misclassified samples."
   ]
  },
  {
   "cell_type": "markdown",
   "metadata": {
    "collapsed": false
   },
   "source": [
    "### Bonus Points\n",
    "Bonus points are arbitrarily assigned based on significant contributions such as:\n",
    "- Outstanding error analysis\n",
    "- Masterclass code organization\n",
    "- Suitable extensions\n",
    "Note that bonus points are only assigned if all task points are attributed (i.e., 6/6).\n",
    "\n",
    "**Possible Extensions/Explorations for Bonus Points:**\n",
    "- **Try other preprocessing strategies**: e.g., but not limited to, explore techniques tailored specifically for tweets or  methods that are common in social media text.\n",
    "- **Experiment with other custom architectures or models from HuggingFace**\n",
    "- **Explore Spanish tweets**: e.g., but not limited to, leverage multilingual models to process Spanish tweets and assess their performance compared to monolingual models.\n",
    "\n"
   ]
  },
  {
   "cell_type": "markdown",
   "metadata": {
    "id": "8xmMKE7vLu-y"
   },
   "source": [
    "\n",
    "\n",
    "\n",
    "\n",
    "# The End"
   ]
  }
 ],
 "metadata": {
  "accelerator": "GPU",
  "colab": {
   "authorship_tag": "ABX9TyOrxI+uaofLerXT9gw1DmbE",
   "gpuType": "T4",
   "provenance": [],
   "toc_visible": true
  },
  "kernelspec": {
   "display_name": "venv",
   "language": "python",
   "name": "python3"
  },
  "language_info": {
   "codemirror_mode": {
    "name": "ipython",
    "version": 3
   },
   "file_extension": ".py",
   "mimetype": "text/x-python",
   "name": "python",
   "nbconvert_exporter": "python",
   "pygments_lexer": "ipython3",
   "version": "3.10.12"
  }
 },
 "nbformat": 4,
 "nbformat_minor": 0
}
